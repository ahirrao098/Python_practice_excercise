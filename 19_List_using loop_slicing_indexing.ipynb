{
 "cells": [
  {
   "cell_type": "markdown",
   "id": "53f20553",
   "metadata": {},
   "source": [
    "# List"
   ]
  },
  {
   "cell_type": "code",
   "execution_count": null,
   "id": "07b342b3",
   "metadata": {},
   "outputs": [],
   "source": [
    "It is collection of items\n",
    "Used to store sequence of various data types(int, float, list, tuple, set, dict, dataframe)\n",
    "\n",
    "duplicates are allowed\n",
    "ordered data type\n",
    "Mutable data type(changable)\n",
    "It is enclosed by square brackets >> []\n",
    "Comma seperated values"
   ]
  },
  {
   "cell_type": "code",
   "execution_count": 2,
   "id": "85b0a42f",
   "metadata": {},
   "outputs": [
    {
     "name": "stdout",
     "output_type": "stream",
     "text": [
      "<class 'list'>\n"
     ]
    },
    {
     "data": {
      "text/plain": [
       "[1, 2, 3, 4, 5, 2, 3]"
      ]
     },
     "execution_count": 2,
     "metadata": {},
     "output_type": "execute_result"
    }
   ],
   "source": [
    "a=[1,2,3,4,5,2,3]\n",
    "print(type(a))\n",
    "a"
   ]
  },
  {
   "cell_type": "code",
   "execution_count": 3,
   "id": "2458c763",
   "metadata": {},
   "outputs": [
    {
     "data": {
      "text/plain": [
       "3"
      ]
     },
     "execution_count": 3,
     "metadata": {},
     "output_type": "execute_result"
    }
   ],
   "source": [
    "list1=[2,3,4,10,23.5,\"a\"]\n",
    "list1[1]  #index"
   ]
  },
  {
   "cell_type": "code",
   "execution_count": 4,
   "id": "41d37536",
   "metadata": {},
   "outputs": [
    {
     "data": {
      "text/plain": [
       "23.5"
      ]
     },
     "execution_count": 4,
     "metadata": {},
     "output_type": "execute_result"
    }
   ],
   "source": [
    "list1[4]"
   ]
  },
  {
   "cell_type": "code",
   "execution_count": 5,
   "id": "9b03d51d",
   "metadata": {},
   "outputs": [
    {
     "data": {
      "text/plain": [
       "[2, 3, 4, 34, 23.5, 'a']"
      ]
     },
     "execution_count": 5,
     "metadata": {},
     "output_type": "execute_result"
    }
   ],
   "source": [
    "list1[3]=34\n",
    "list1"
   ]
  },
  {
   "cell_type": "code",
   "execution_count": 6,
   "id": "cec1e0ce",
   "metadata": {},
   "outputs": [
    {
     "name": "stdout",
     "output_type": "stream",
     "text": [
      "[2, 3, 56.76, 12, 'Ram']\n",
      "[2, 3, 300, 12, 'Ram']\n"
     ]
    }
   ],
   "source": [
    "list1=[2,3,56.76,12,'Ram']\n",
    "print(list1)\n",
    "list1[2]=300\n",
    "print(list1)"
   ]
  },
  {
   "cell_type": "code",
   "execution_count": 7,
   "id": "a26e438a",
   "metadata": {},
   "outputs": [
    {
     "name": "stdout",
     "output_type": "stream",
     "text": [
      "[2, 3, 300, 12, 'Ram', 2000]\n"
     ]
    }
   ],
   "source": [
    "list1.append(2000)  #add a perticular character\n",
    "print(list1)"
   ]
  },
  {
   "cell_type": "code",
   "execution_count": 8,
   "id": "9edd67b5",
   "metadata": {},
   "outputs": [
    {
     "data": {
      "text/plain": [
       "[2, 3, 300, 12, 'Ram', 2000, 234]"
      ]
     },
     "execution_count": 8,
     "metadata": {},
     "output_type": "execute_result"
    }
   ],
   "source": [
    "list1.append(234)\n",
    "list1"
   ]
  },
  {
   "cell_type": "code",
   "execution_count": 9,
   "id": "13225d45",
   "metadata": {},
   "outputs": [
    {
     "name": "stdout",
     "output_type": "stream",
     "text": [
      "[3, 4, 6, 7, 2, 1, 2] >> 7\n"
     ]
    }
   ],
   "source": [
    "l1=[3,4,6,7,2,1,2]\n",
    "print(l1,'>>',len(l1))#right shift>>"
   ]
  },
  {
   "cell_type": "code",
   "execution_count": 12,
   "id": "b9bed521",
   "metadata": {},
   "outputs": [
    {
     "name": "stdout",
     "output_type": "stream",
     "text": [
      "{2, 3, 5, 6, 7, 8} >> 6\n"
     ]
    }
   ],
   "source": [
    "set1={3,2,3,5,6,7,8}\n",
    "print(set1,'>>',len(set1))"
   ]
  },
  {
   "cell_type": "code",
   "execution_count": 13,
   "id": "99fd55f0",
   "metadata": {},
   "outputs": [],
   "source": [
    "data=[2,3,24,34,[100,200,300],\"Data\",10.34,3+4j,{\"a\":100,\"b\":34},(2,3,6,7)]"
   ]
  },
  {
   "cell_type": "code",
   "execution_count": 17,
   "id": "cc74da15",
   "metadata": {},
   "outputs": [
    {
     "name": "stdout",
     "output_type": "stream",
     "text": [
      "[2, 3, 24, 34, [100, 200, 300], 'Data', 10.34, (3+4j), {'a': 100, 'b': 34}, (2, 3, 6, 7)] >> 10\n"
     ]
    }
   ],
   "source": [
    "print(data,\">>\",len(data))"
   ]
  },
  {
   "cell_type": "code",
   "execution_count": 22,
   "id": "475ac460",
   "metadata": {},
   "outputs": [
    {
     "data": {
      "text/plain": [
       "[100, 200, 300]"
      ]
     },
     "execution_count": 22,
     "metadata": {},
     "output_type": "execute_result"
    }
   ],
   "source": [
    "data[4]"
   ]
  },
  {
   "cell_type": "code",
   "execution_count": 23,
   "id": "aca31fe5",
   "metadata": {},
   "outputs": [
    {
     "data": {
      "text/plain": [
       "300"
      ]
     },
     "execution_count": 23,
     "metadata": {},
     "output_type": "execute_result"
    }
   ],
   "source": [
    "data[4][2]"
   ]
  },
  {
   "cell_type": "markdown",
   "id": "e773f616",
   "metadata": {},
   "source": [
    "# Indexing"
   ]
  },
  {
   "cell_type": "code",
   "execution_count": null,
   "id": "32184e4e",
   "metadata": {},
   "outputs": [],
   "source": [
    "index will starts from 0 to len -1"
   ]
  },
  {
   "cell_type": "code",
   "execution_count": 25,
   "id": "4cba3675",
   "metadata": {},
   "outputs": [
    {
     "data": {
      "text/plain": [
       "[10, 20, 30, 25, 15, 'python', 'Data Science']"
      ]
     },
     "execution_count": 25,
     "metadata": {},
     "output_type": "execute_result"
    }
   ],
   "source": [
    "list1=[10,20,30,25,15,'python','Data Science']\n",
    "list1\n"
   ]
  },
  {
   "cell_type": "code",
   "execution_count": 27,
   "id": "855da4b3",
   "metadata": {
    "run_control": {
     "marked": false
    }
   },
   "outputs": [
    {
     "data": {
      "text/plain": [
       "'python'"
      ]
     },
     "execution_count": 27,
     "metadata": {},
     "output_type": "execute_result"
    }
   ],
   "source": [
    "list1[3]\n",
    "list1[-1]\n",
    "list1[5]"
   ]
  },
  {
   "cell_type": "code",
   "execution_count": 28,
   "id": "eda22100",
   "metadata": {},
   "outputs": [
    {
     "name": "stdout",
     "output_type": "stream",
     "text": [
      "25\n",
      "Data Science\n",
      "python\n"
     ]
    }
   ],
   "source": [
    "print(list1[3])\n",
    "print(list1[-1])\n",
    "print(list1[5])"
   ]
  },
  {
   "cell_type": "code",
   "execution_count": 29,
   "id": "6b106372",
   "metadata": {},
   "outputs": [
    {
     "data": {
      "text/plain": [
       "'Data Science'"
      ]
     },
     "execution_count": 29,
     "metadata": {},
     "output_type": "execute_result"
    }
   ],
   "source": [
    "list1[len(list1)-1]"
   ]
  },
  {
   "cell_type": "markdown",
   "id": "bc32f2d2",
   "metadata": {},
   "source": [
    "# Slicing"
   ]
  },
  {
   "cell_type": "code",
   "execution_count": 44,
   "id": "2dbc8fa5",
   "metadata": {},
   "outputs": [
    {
     "data": {
      "text/plain": [
       "[23, 45]"
      ]
     },
     "execution_count": 44,
     "metadata": {},
     "output_type": "execute_result"
    }
   ],
   "source": [
    "list1=[10,20,23,45,78,87,\"python\",'Data Science',\"Machine\"]\n",
    "list1[2:4]# 2 include,4 exclude"
   ]
  },
  {
   "cell_type": "code",
   "execution_count": 41,
   "id": "da044438",
   "metadata": {},
   "outputs": [
    {
     "data": {
      "text/plain": [
       "[10, 20, 23]"
      ]
     },
     "execution_count": 41,
     "metadata": {},
     "output_type": "execute_result"
    }
   ],
   "source": [
    "list1[:3]"
   ]
  },
  {
   "cell_type": "code",
   "execution_count": 42,
   "id": "9571e7af",
   "metadata": {},
   "outputs": [
    {
     "data": {
      "text/plain": [
       "['python', 'Data Science', 'Machine']"
      ]
     },
     "execution_count": 42,
     "metadata": {},
     "output_type": "execute_result"
    }
   ],
   "source": [
    "list1[3:]"
   ]
  },
  {
   "cell_type": "code",
   "execution_count": 45,
   "id": "2302e753",
   "metadata": {},
   "outputs": [
    {
     "data": {
      "text/plain": [
       "[23, 45, 78, 87, 'python', 'Data Science', 'Machine']"
      ]
     },
     "execution_count": 45,
     "metadata": {},
     "output_type": "execute_result"
    }
   ],
   "source": [
    "list1[-7:len(list1)]"
   ]
  },
  {
   "cell_type": "code",
   "execution_count": 46,
   "id": "c7ed7689",
   "metadata": {},
   "outputs": [
    {
     "data": {
      "text/plain": [
       "9"
      ]
     },
     "execution_count": 46,
     "metadata": {},
     "output_type": "execute_result"
    }
   ],
   "source": [
    "len(list1)"
   ]
  },
  {
   "cell_type": "code",
   "execution_count": 47,
   "id": "4b084b79",
   "metadata": {},
   "outputs": [
    {
     "data": {
      "text/plain": [
       "[78, 87, 'python', 'Data Science', 'Machine']"
      ]
     },
     "execution_count": 47,
     "metadata": {},
     "output_type": "execute_result"
    }
   ],
   "source": [
    "list1[-5:]"
   ]
  },
  {
   "cell_type": "code",
   "execution_count": 48,
   "id": "328206af",
   "metadata": {},
   "outputs": [
    {
     "data": {
      "text/plain": [
       "[10, 23, 78, 'python', 'Machine']"
      ]
     },
     "execution_count": 48,
     "metadata": {},
     "output_type": "execute_result"
    }
   ],
   "source": [
    "list1[::2]#step"
   ]
  },
  {
   "cell_type": "code",
   "execution_count": 49,
   "id": "dcaa87d1",
   "metadata": {},
   "outputs": [
    {
     "data": {
      "text/plain": [
       "[10, 20, 23, 45, 78, 87, 'python', 'Data Science', 'Machine']"
      ]
     },
     "execution_count": 49,
     "metadata": {},
     "output_type": "execute_result"
    }
   ],
   "source": [
    "list1[::1]"
   ]
  },
  {
   "cell_type": "markdown",
   "id": "b1f05dff",
   "metadata": {},
   "source": [
    "# Check items in list"
   ]
  },
  {
   "cell_type": "code",
   "execution_count": 50,
   "id": "35b64d8e",
   "metadata": {},
   "outputs": [
    {
     "data": {
      "text/plain": [
       "True"
      ]
     },
     "execution_count": 50,
     "metadata": {},
     "output_type": "execute_result"
    }
   ],
   "source": [
    "city_name=[\"Pune\",\"Nagpur\",\"Mumbai\",\"Nashik\"]\n",
    "\"Mumbai\" in city_name"
   ]
  },
  {
   "cell_type": "code",
   "execution_count": 51,
   "id": "f12785e2",
   "metadata": {},
   "outputs": [
    {
     "data": {
      "text/plain": [
       "'Mumbai'"
      ]
     },
     "execution_count": 51,
     "metadata": {},
     "output_type": "execute_result"
    }
   ],
   "source": [
    "city_name[2]"
   ]
  },
  {
   "cell_type": "code",
   "execution_count": 53,
   "id": "4e27fed0",
   "metadata": {},
   "outputs": [
    {
     "name": "stdout",
     "output_type": "stream",
     "text": [
      "Dhule is in city name list\n"
     ]
    }
   ],
   "source": [
    "city_name=[\"Pune\",\"Nagpur\",\"Mumbai\",\"Nashik\",\"Dhule\"]\n",
    "if \"Dhule\" in city_name:\n",
    "    print(\"Dhule is in city name list\")\n",
    "else:\n",
    "    print(\"Dhule is not in city list\")"
   ]
  },
  {
   "cell_type": "code",
   "execution_count": 54,
   "id": "8d24a3dc",
   "metadata": {},
   "outputs": [
    {
     "name": "stdout",
     "output_type": "stream",
     "text": [
      "Dhule not in city list\n"
     ]
    }
   ],
   "source": [
    "city_name=[\"Pune\",\"Nagpur\",\"Mumbai\",\"Nashik\",\"Dhule\"]\n",
    "if \"dhule\" in city_name:\n",
    "    print(\"Dhule is in city list\")\n",
    "else:\n",
    "    print(\"Dhule not in city list\")"
   ]
  },
  {
   "cell_type": "code",
   "execution_count": 58,
   "id": "f7c9078b",
   "metadata": {},
   "outputs": [
    {
     "name": "stdout",
     "output_type": "stream",
     "text": [
      "pune <class 'str'>\n",
      "nagpur <class 'str'>\n",
      "Mumbai <class 'str'>\n",
      "18 <class 'int'>\n",
      "18.1 <class 'float'>\n",
      "Nashik <class 'str'>\n",
      "Dhule <class 'str'>\n"
     ]
    }
   ],
   "source": [
    "city_name=[\"pune\",\"nagpur\",\"Mumbai\",18,18.1,\"Nashik\",\"Dhule\"]\n",
    "\n",
    "for i in city_name:\n",
    "    print(i,type(i))"
   ]
  },
  {
   "cell_type": "markdown",
   "id": "c79dfada",
   "metadata": {},
   "source": [
    "## Access items of list using for loop"
   ]
  },
  {
   "cell_type": "code",
   "execution_count": 59,
   "id": "cb2fc570",
   "metadata": {},
   "outputs": [
    {
     "name": "stdout",
     "output_type": "stream",
     "text": [
      "Pune\n",
      "Nashik\n",
      "Nagar\n",
      "Dhule\n"
     ]
    }
   ],
   "source": [
    "city_name=[\"Pune\",\"Nashik\",\"Nagar\",\"Dhule\"]\n",
    "for city in city_name:\n",
    "    print(city)"
   ]
  },
  {
   "cell_type": "code",
   "execution_count": 60,
   "id": "338302ca",
   "metadata": {},
   "outputs": [
    {
     "name": "stdout",
     "output_type": "stream",
     "text": [
      "pune\n",
      "nagpur\n",
      "beed\n",
      "Parbhani\n",
      "Bhandara\n"
     ]
    }
   ],
   "source": [
    "city_name=[\"pune\",\"nagpur\",\"beed\",\"Bhandara\"]\n",
    "\n",
    "for city in city_name:\n",
    "    print(city)\n",
    "    if city==\"beed\":\n",
    "        print(\"Parbhani\")"
   ]
  },
  {
   "cell_type": "code",
   "execution_count": 61,
   "id": "c0ab75ad",
   "metadata": {},
   "outputs": [
    {
     "name": "stdout",
     "output_type": "stream",
     "text": [
      "item in index 0 is pune\n",
      "item in index 0 is nagpur\n",
      "item in index 0 is beed\n",
      "item in index 0 is Bhandara\n"
     ]
    }
   ],
   "source": [
    "city_name=[\"pune\",\"nagpur\",\"beed\",\"Bhandara\"]\n",
    "count=0\n",
    "\n",
    "for city in city_name:\n",
    "    print(f'item in index {count} is {city}')"
   ]
  },
  {
   "cell_type": "code",
   "execution_count": 62,
   "id": "f7326d4f",
   "metadata": {},
   "outputs": [
    {
     "name": "stdout",
     "output_type": "stream",
     "text": [
      " item in index 0 is Pune\n",
      " item in index 1 is nagpur\n",
      " item in index 2 is beed\n",
      " item in index 3 is Bhandara\n"
     ]
    }
   ],
   "source": [
    "city_name=[\"Pune\",\"nagpur\",\"beed\",\"Bhandara\"]\n",
    "count=0\n",
    "for city in city_name:\n",
    "    print(f' item in index {count} is {city}')\n",
    "    count=count+1"
   ]
  },
  {
   "cell_type": "code",
   "execution_count": 66,
   "id": "66a443ac",
   "metadata": {},
   "outputs": [
    {
     "name": "stdout",
     "output_type": "stream",
     "text": [
      "0 is Pune\n",
      "1 is nagpur\n",
      "2 is beed\n",
      "3 is Bhandara\n"
     ]
    }
   ],
   "source": [
    "city_name=[\"Pune\",\"nagpur\",\"beed\",\"Bhandara\"]\n",
    "count=0\n",
    "for i in city_name:\n",
    "    print(f'{count} is {i}')\n",
    "    count+=1"
   ]
  },
  {
   "cell_type": "code",
   "execution_count": 68,
   "id": "60df7a7c",
   "metadata": {},
   "outputs": [
    {
     "name": "stdout",
     "output_type": "stream",
     "text": [
      "Item in Index 0 is Pune\n",
      "Item in Index 1 is nagpur\n",
      "Item in Index 2 is beed\n",
      "Item in Index 3 is Bhandara\n"
     ]
    }
   ],
   "source": [
    "city_name=[\"Pune\",\"nagpur\",\"beed\",\"Bhandara\"]\n",
    "for index,city in enumerate(city_name):\n",
    "    print(f'Item in Index {index} is {city}')"
   ]
  },
  {
   "cell_type": "code",
   "execution_count": 1,
   "id": "aeea5b4f",
   "metadata": {},
   "outputs": [
    {
     "name": "stdout",
     "output_type": "stream",
     "text": [
      "word #0:<Pune> has 4 letters\n",
      "word #1:<Nagpur> has 6 letters\n",
      "word #2:<SambhajiNagar> has 13 letters\n",
      "word #3:<Nashik> has 6 letters\n",
      "word #4:<Sangli> has 6 letters\n"
     ]
    }
   ],
   "source": [
    "city_names=['Pune',\"Nagpur\",'SambhajiNagar','Nashik','Sangli']\n",
    "\n",
    "for index, city in enumerate(city_names):\n",
    "    print(f'word #{index}:<{city}> has {len(city)} letters')"
   ]
  },
  {
   "cell_type": "code",
   "execution_count": 69,
   "id": "6b0a2876",
   "metadata": {},
   "outputs": [
    {
     "data": {
      "text/plain": [
       "range(0, 5)"
      ]
     },
     "execution_count": 69,
     "metadata": {},
     "output_type": "execute_result"
    }
   ],
   "source": [
    "range(0,5)"
   ]
  },
  {
   "cell_type": "code",
   "execution_count": 70,
   "id": "5756190c",
   "metadata": {},
   "outputs": [
    {
     "data": {
      "text/plain": [
       "[0, 1, 2, 3, 4]"
      ]
     },
     "execution_count": 70,
     "metadata": {},
     "output_type": "execute_result"
    }
   ],
   "source": [
    "list(range(0,5))"
   ]
  },
  {
   "cell_type": "code",
   "execution_count": 71,
   "id": "7940f82f",
   "metadata": {},
   "outputs": [
    {
     "data": {
      "text/plain": [
       "[1, 2, 3, 4]"
      ]
     },
     "execution_count": 71,
     "metadata": {},
     "output_type": "execute_result"
    }
   ],
   "source": [
    "list(range(1,5))"
   ]
  },
  {
   "cell_type": "code",
   "execution_count": 72,
   "id": "b4254185",
   "metadata": {},
   "outputs": [
    {
     "data": {
      "text/plain": [
       "[11, 12, 13, 14, 15, 16, 17, 18, 19, 20, 21, 22, 23, 24]"
      ]
     },
     "execution_count": 72,
     "metadata": {},
     "output_type": "execute_result"
    }
   ],
   "source": [
    "list(range(11,25))"
   ]
  },
  {
   "cell_type": "code",
   "execution_count": 74,
   "id": "f106e1a4",
   "metadata": {},
   "outputs": [
    {
     "data": {
      "text/plain": [
       "[2, 4, 6, 8, 10, 12, 14, 16, 18, 20]"
      ]
     },
     "execution_count": 74,
     "metadata": {},
     "output_type": "execute_result"
    }
   ],
   "source": [
    "list(range(2,22,2))"
   ]
  },
  {
   "cell_type": "code",
   "execution_count": 76,
   "id": "0e11ce3a",
   "metadata": {},
   "outputs": [
    {
     "data": {
      "text/plain": [
       "[3, 6, 9, 12, 15, 18, 21, 24, 27, 30]"
      ]
     },
     "execution_count": 76,
     "metadata": {},
     "output_type": "execute_result"
    }
   ],
   "source": [
    "list(range(3,33,3))"
   ]
  },
  {
   "cell_type": "code",
   "execution_count": 86,
   "id": "f43d766e",
   "metadata": {},
   "outputs": [
    {
     "name": "stdout",
     "output_type": "stream",
     "text": [
      "1\n",
      "2\n",
      "3\n",
      "4\n",
      "5\n",
      "6\n",
      "7\n",
      "8\n",
      "9\n"
     ]
    }
   ],
   "source": [
    "for i in range(1,10):\n",
    "    count+=1\n",
    "    print(f'{i}')"
   ]
  },
  {
   "cell_type": "code",
   "execution_count": 81,
   "id": "f937123e",
   "metadata": {},
   "outputs": [
    {
     "name": "stdout",
     "output_type": "stream",
     "text": [
      "1\n",
      "2\n",
      "3\n",
      "4\n",
      "5\n",
      "6\n",
      "7\n",
      "8\n",
      "9\n"
     ]
    }
   ],
   "source": [
    "for i in range(1,10):\n",
    "#     count+=1\n",
    "    print(f'{i}')"
   ]
  },
  {
   "cell_type": "code",
   "execution_count": 87,
   "id": "d1a66a0d",
   "metadata": {},
   "outputs": [
    {
     "data": {
      "text/plain": [
       "list"
      ]
     },
     "execution_count": 87,
     "metadata": {},
     "output_type": "execute_result"
    }
   ],
   "source": [
    "list1=[]\n",
    "type(list1)"
   ]
  },
  {
   "cell_type": "code",
   "execution_count": 91,
   "id": "d84cac50",
   "metadata": {},
   "outputs": [
    {
     "name": "stdout",
     "output_type": "stream",
     "text": [
      "item in index 0 is Pune\n",
      "item in index 1 is nagpur\n",
      "item in index 2 is beed\n",
      "item in index 3 is Bhandara\n"
     ]
    }
   ],
   "source": [
    "city_names=['Pune',\"Nagpur\",'Mumbai','Nashik']\n",
    "\n",
    "for i in range(len(city_name)):\n",
    "    print(f'item in index {i} is {city_name[i]}')"
   ]
  },
  {
   "cell_type": "code",
   "execution_count": 92,
   "id": "f1991472",
   "metadata": {},
   "outputs": [
    {
     "name": "stdout",
     "output_type": "stream",
     "text": [
      "0\n",
      "1\n",
      "2\n",
      "3\n",
      "4\n",
      "5\n",
      "6\n",
      "7\n",
      "8\n",
      "9\n"
     ]
    }
   ],
   "source": [
    "for i in range(10):\n",
    "    print(i)"
   ]
  },
  {
   "cell_type": "code",
   "execution_count": null,
   "id": "64c875b9",
   "metadata": {},
   "outputs": [],
   "source": []
  },
  {
   "cell_type": "code",
   "execution_count": null,
   "id": "db6e3999",
   "metadata": {},
   "outputs": [],
   "source": []
  },
  {
   "cell_type": "code",
   "execution_count": null,
   "id": "f5db993e",
   "metadata": {},
   "outputs": [],
   "source": []
  },
  {
   "cell_type": "code",
   "execution_count": null,
   "id": "d811e15e",
   "metadata": {},
   "outputs": [],
   "source": []
  },
  {
   "cell_type": "code",
   "execution_count": null,
   "id": "259a3b40",
   "metadata": {},
   "outputs": [],
   "source": []
  },
  {
   "cell_type": "code",
   "execution_count": null,
   "id": "ff8bd1c0",
   "metadata": {},
   "outputs": [],
   "source": []
  }
 ],
 "metadata": {
  "kernelspec": {
   "display_name": "Python 3 (ipykernel)",
   "language": "python",
   "name": "python3"
  },
  "language_info": {
   "codemirror_mode": {
    "name": "ipython",
    "version": 3
   },
   "file_extension": ".py",
   "mimetype": "text/x-python",
   "name": "python",
   "nbconvert_exporter": "python",
   "pygments_lexer": "ipython3",
   "version": "3.9.12"
  }
 },
 "nbformat": 4,
 "nbformat_minor": 5
}
