{
 "cells": [
  {
   "cell_type": "markdown",
   "id": "2b8859b8",
   "metadata": {},
   "source": [
    "### Functions"
   ]
  },
  {
   "cell_type": "code",
   "execution_count": null,
   "id": "ae396ec4",
   "metadata": {},
   "outputs": [],
   "source": [
    "1. Built in functions:\n",
    "    id()\n",
    "    type()\n",
    "    max()\n",
    "    min()"
   ]
  },
  {
   "cell_type": "code",
   "execution_count": null,
   "id": "b12e465c",
   "metadata": {},
   "outputs": [],
   "source": [
    "2. User defined function:\n",
    "functions are orgaanized block of reusable code\n",
    "\n",
    "it will executes only when it is been called explicitly"
   ]
  },
  {
   "cell_type": "code",
   "execution_count": null,
   "id": "41b23861",
   "metadata": {},
   "outputs": [],
   "source": [
    "def >> definition\n",
    "\n",
    "def my_function_name(parameter1,parameter2):\n",
    "    statement1\n",
    "    statement2\n",
    "    return # optional\n",
    "my_function_name()\n",
    "my_function_name()"
   ]
  },
  {
   "cell_type": "code",
   "execution_count": 1,
   "id": "59eb83d4",
   "metadata": {},
   "outputs": [],
   "source": [
    "def my_fun():\n",
    "    print(\"Hello\")"
   ]
  },
  {
   "cell_type": "code",
   "execution_count": 3,
   "id": "e6691fdc",
   "metadata": {},
   "outputs": [
    {
     "name": "stdout",
     "output_type": "stream",
     "text": [
      "Hello\n"
     ]
    }
   ],
   "source": [
    "my_fun()"
   ]
  },
  {
   "cell_type": "code",
   "execution_count": null,
   "id": "efcfd1dd",
   "metadata": {},
   "outputs": [],
   "source": [
    "Line 10 : avg of 10 num,sum, mul\n",
    "    \n",
    "Line 50 : avg of 10 num,sum, mul\n",
    "    \n",
    "Line 100 : avg of 10 num,sum, mul"
   ]
  },
  {
   "cell_type": "code",
   "execution_count": 5,
   "id": "13473a5b",
   "metadata": {},
   "outputs": [
    {
     "name": "stdout",
     "output_type": "stream",
     "text": [
      "We are testing Function\n",
      "Hello Python\n"
     ]
    }
   ],
   "source": [
    "def function_name():\n",
    "    print(\"We are testing Function\")\n",
    "    print(\"Hello Python\")\n",
    "    \n",
    "function_name()"
   ]
  },
  {
   "cell_type": "code",
   "execution_count": 6,
   "id": "d9eee786",
   "metadata": {},
   "outputs": [
    {
     "name": "stdout",
     "output_type": "stream",
     "text": [
      "We are testing Function\n",
      "Hello Python\n",
      "Function is printing here : None\n",
      "We are testing Function\n",
      "Hello Python\n",
      "Function is printing here : None\n",
      "We are testing Function\n",
      "Hello Python\n",
      "Function is printing here : None\n",
      "We are testing Function\n",
      "Hello Python\n",
      "Function is printing here : None\n",
      "We are testing Function\n",
      "Hello Python\n",
      "Function is printing here : None\n"
     ]
    }
   ],
   "source": [
    "for i in range(5):\n",
    "    print(\"Function is printing here :\",function_name())"
   ]
  },
  {
   "cell_type": "code",
   "execution_count": 9,
   "id": "3351f082",
   "metadata": {},
   "outputs": [
    {
     "name": "stdout",
     "output_type": "stream",
     "text": [
      "We are testing\n",
      "Hello python\n",
      "Python is programming language\n",
      "Python is programming language\n",
      "Python is programming language\n",
      "Python is programming language\n",
      "Python is programming language\n",
      "\n",
      "We are testing\n",
      "Hello python\n",
      "Python is programming language\n",
      "Python is programming language\n",
      "Python is programming language\n",
      "Python is programming language\n",
      "Python is programming language\n"
     ]
    }
   ],
   "source": [
    "def function_name():\n",
    "    print(\"We are testing\")\n",
    "    print(\"Hello python\")\n",
    "    for i in range(5):\n",
    "        print(\"Python is programming language\")\n",
    "function_name()\n",
    "print()\n",
    "function_name()"
   ]
  },
  {
   "cell_type": "code",
   "execution_count": 12,
   "id": "c53bd60a",
   "metadata": {},
   "outputs": [
    {
     "data": {
      "text/plain": [
       "6"
      ]
     },
     "execution_count": 12,
     "metadata": {},
     "output_type": "execute_result"
    }
   ],
   "source": [
    "list1=[2,3,4,5,6,5,6]\n",
    "max(list1)"
   ]
  },
  {
   "cell_type": "code",
   "execution_count": 13,
   "id": "caadb804",
   "metadata": {},
   "outputs": [
    {
     "data": {
      "text/plain": [
       "31"
      ]
     },
     "execution_count": 13,
     "metadata": {},
     "output_type": "execute_result"
    }
   ],
   "source": [
    "sum(list1)"
   ]
  },
  {
   "cell_type": "code",
   "execution_count": 15,
   "id": "fa0747a3",
   "metadata": {},
   "outputs": [
    {
     "name": "stdout",
     "output_type": "stream",
     "text": [
      "Avg of number is : 15.0\n",
      "Avg of number is : 30.0\n",
      "Average of numbers is :  300.0\n"
     ]
    }
   ],
   "source": [
    "# avg of 3 numbers\n",
    "a =10\n",
    "b =20\n",
    "c =15\n",
    "avg=(a+b+c)/3\n",
    "print(\"Avg of number is :\", avg)\n",
    "\n",
    "\n",
    "a,b,c=20,30,40\n",
    "avg=(a+b+c)/3\n",
    "print(\"Avg of number is :\", avg)\n",
    "\n",
    "a,b,c = 200,300,400\n",
    "avg =(a+b+c)/3\n",
    "print('Average of numbers is : ',avg)\n"
   ]
  },
  {
   "cell_type": "code",
   "execution_count": 2,
   "id": "fca186c4",
   "metadata": {},
   "outputs": [
    {
     "name": "stdout",
     "output_type": "stream",
     "text": [
      "addition of no is:  70\n",
      "avg of number is: 23.333333333333332\n"
     ]
    }
   ],
   "source": [
    "def average (a,b,c):\n",
    "    addition=a+b+c\n",
    "    print(\"addition of no is: \", addition)\n",
    "    \n",
    "    avg=addition/3\n",
    "    print(\"avg of number is:\",avg)\n",
    "    \n",
    "a,b,c=10,20,40\n",
    "average(a,b,c)"
   ]
  },
  {
   "cell_type": "code",
   "execution_count": 3,
   "id": "ba855f8b",
   "metadata": {},
   "outputs": [
    {
     "name": "stdout",
     "output_type": "stream",
     "text": [
      "addition of no is:  64\n",
      "avg of number is: 21.333333333333332\n"
     ]
    }
   ],
   "source": [
    "x,y,z=10,20,34\n",
    "average(x,y,z)"
   ]
  },
  {
   "cell_type": "code",
   "execution_count": null,
   "id": "ac6bd840",
   "metadata": {},
   "outputs": [],
   "source": []
  },
  {
   "cell_type": "code",
   "execution_count": null,
   "id": "841221bd",
   "metadata": {},
   "outputs": [],
   "source": []
  },
  {
   "cell_type": "code",
   "execution_count": null,
   "id": "c4a81f0b",
   "metadata": {},
   "outputs": [],
   "source": []
  },
  {
   "cell_type": "code",
   "execution_count": null,
   "id": "f34b8d58",
   "metadata": {},
   "outputs": [],
   "source": []
  },
  {
   "cell_type": "code",
   "execution_count": null,
   "id": "05d6b8f8",
   "metadata": {},
   "outputs": [],
   "source": []
  },
  {
   "cell_type": "code",
   "execution_count": null,
   "id": "85961abe",
   "metadata": {},
   "outputs": [],
   "source": []
  },
  {
   "cell_type": "code",
   "execution_count": null,
   "id": "3aa7aa8f",
   "metadata": {},
   "outputs": [],
   "source": []
  },
  {
   "cell_type": "code",
   "execution_count": null,
   "id": "35a86a60",
   "metadata": {},
   "outputs": [],
   "source": []
  },
  {
   "cell_type": "code",
   "execution_count": null,
   "id": "88684878",
   "metadata": {},
   "outputs": [],
   "source": []
  },
  {
   "cell_type": "code",
   "execution_count": null,
   "id": "18027016",
   "metadata": {},
   "outputs": [],
   "source": []
  },
  {
   "cell_type": "code",
   "execution_count": null,
   "id": "b5e22089",
   "metadata": {},
   "outputs": [],
   "source": []
  },
  {
   "cell_type": "code",
   "execution_count": null,
   "id": "91081825",
   "metadata": {},
   "outputs": [],
   "source": []
  },
  {
   "cell_type": "code",
   "execution_count": null,
   "id": "baa737f8",
   "metadata": {},
   "outputs": [],
   "source": []
  },
  {
   "cell_type": "code",
   "execution_count": null,
   "id": "763ea7e5",
   "metadata": {},
   "outputs": [],
   "source": []
  },
  {
   "cell_type": "code",
   "execution_count": null,
   "id": "7a97af4a",
   "metadata": {},
   "outputs": [],
   "source": []
  },
  {
   "cell_type": "code",
   "execution_count": null,
   "id": "eea52e42",
   "metadata": {},
   "outputs": [],
   "source": []
  },
  {
   "cell_type": "code",
   "execution_count": null,
   "id": "220bea2f",
   "metadata": {},
   "outputs": [],
   "source": []
  },
  {
   "cell_type": "code",
   "execution_count": null,
   "id": "54fba7b2",
   "metadata": {},
   "outputs": [],
   "source": []
  },
  {
   "cell_type": "code",
   "execution_count": null,
   "id": "53137933",
   "metadata": {},
   "outputs": [],
   "source": []
  },
  {
   "cell_type": "code",
   "execution_count": null,
   "id": "21b8988b",
   "metadata": {},
   "outputs": [],
   "source": []
  },
  {
   "cell_type": "code",
   "execution_count": null,
   "id": "3a04ba71",
   "metadata": {},
   "outputs": [],
   "source": []
  }
 ],
 "metadata": {
  "kernelspec": {
   "display_name": "Python 3 (ipykernel)",
   "language": "python",
   "name": "python3"
  },
  "language_info": {
   "codemirror_mode": {
    "name": "ipython",
    "version": 3
   },
   "file_extension": ".py",
   "mimetype": "text/x-python",
   "name": "python",
   "nbconvert_exporter": "python",
   "pygments_lexer": "ipython3",
   "version": "3.9.12"
  }
 },
 "nbformat": 4,
 "nbformat_minor": 5
}
