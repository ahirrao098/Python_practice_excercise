{
 "cells": [
  {
   "cell_type": "markdown",
   "id": "6c62fe1b",
   "metadata": {},
   "source": [
    "# Logical Operator"
   ]
  },
  {
   "cell_type": "code",
   "execution_count": null,
   "id": "c1a4aaaf",
   "metadata": {},
   "outputs": [],
   "source": [
    "and \n",
    "or\n",
    "not\n",
    "\n",
    "not True >> False\n",
    "not False >> True"
   ]
  },
  {
   "cell_type": "code",
   "execution_count": 5,
   "id": "1b73b33a",
   "metadata": {},
   "outputs": [
    {
     "name": "stdout",
     "output_type": "stream",
     "text": [
      "Hello\n"
     ]
    }
   ],
   "source": [
    "if 5>2:print(\"Hello\")\n",
    "    "
   ]
  },
  {
   "cell_type": "code",
   "execution_count": 6,
   "id": "bd697599",
   "metadata": {},
   "outputs": [],
   "source": [
    "if not 5>2: print(\"Hello\")"
   ]
  },
  {
   "cell_type": "markdown",
   "id": "b5abbe00",
   "metadata": {},
   "source": [
    "# Operators"
   ]
  },
  {
   "cell_type": "markdown",
   "id": "764687f8",
   "metadata": {},
   "source": [
    "# 1. Arithmetic Opeartor"
   ]
  },
  {
   "cell_type": "code",
   "execution_count": null,
   "id": "bbd3b1f3",
   "metadata": {},
   "outputs": [],
   "source": [
    "+\n",
    "-\n",
    "/\n",
    "//\n",
    "%\n",
    "**\n",
    "*"
   ]
  },
  {
   "cell_type": "markdown",
   "id": "443b4307",
   "metadata": {},
   "source": [
    "## 2. Assignment Operator"
   ]
  },
  {
   "cell_type": "code",
   "execution_count": null,
   "id": "6859917e",
   "metadata": {},
   "outputs": [],
   "source": [
    "=\n",
    "+=\n",
    "-=\n",
    "*=\n",
    "/=\n",
    "//=\n",
    "**="
   ]
  },
  {
   "cell_type": "markdown",
   "id": "a73efd06",
   "metadata": {},
   "source": [
    "### 3. Comparison Operator"
   ]
  },
  {
   "cell_type": "code",
   "execution_count": null,
   "id": "c66110ec",
   "metadata": {},
   "outputs": [],
   "source": [
    "==\n",
    "!=\n",
    "<=\n",
    ">=\n",
    "<\n",
    ">"
   ]
  },
  {
   "cell_type": "markdown",
   "id": "5ac09090",
   "metadata": {},
   "source": [
    "### 4. Membership Operator"
   ]
  },
  {
   "cell_type": "code",
   "execution_count": null,
   "id": "35f6f8ad",
   "metadata": {},
   "outputs": [],
   "source": [
    "in >> True/False\n",
    "not in"
   ]
  },
  {
   "cell_type": "markdown",
   "id": "1d8acd95",
   "metadata": {
    "run_control": {
     "marked": false
    }
   },
   "source": [
    "### 5. Logical Operator"
   ]
  },
  {
   "cell_type": "code",
   "execution_count": null,
   "id": "c1cc2cd5",
   "metadata": {},
   "outputs": [],
   "source": [
    "and \n",
    "or \n",
    "not"
   ]
  },
  {
   "cell_type": "code",
   "execution_count": 9,
   "id": "ea330a4d",
   "metadata": {},
   "outputs": [
    {
     "name": "stdout",
     "output_type": "stream",
     "text": [
      "Hello\n"
     ]
    }
   ],
   "source": [
    "a=5\n",
    "b=10\n",
    "c=15\n",
    "if not a>b and not c<b:\n",
    "    print('Hello')"
   ]
  },
  {
   "cell_type": "code",
   "execution_count": 10,
   "id": "187e6daa",
   "metadata": {},
   "outputs": [
    {
     "name": "stdout",
     "output_type": "stream",
     "text": [
      "Rohit\n"
     ]
    }
   ],
   "source": [
    "a=7\n",
    "b=90\n",
    "c=190\n",
    "if not a>b and not c<a:\n",
    "    print(\"Rohit\")"
   ]
  },
  {
   "cell_type": "markdown",
   "id": "d5f79b53",
   "metadata": {},
   "source": [
    "### 6. Bitwise Operator"
   ]
  },
  {
   "cell_type": "code",
   "execution_count": null,
   "id": "2a3c5728",
   "metadata": {},
   "outputs": [],
   "source": [
    "& == Bitwise AND\n",
    "| == Bitwise OR\n",
    "^ == Bitwise XOR\n",
    ">>== Right shift\n",
    "<<== Left shift\n",
    "~ == Bitwise NOT(Complement/TILDE)"
   ]
  },
  {
   "cell_type": "markdown",
   "id": "b4c4a4ae",
   "metadata": {},
   "source": [
    "### 7. Identity Operator"
   ]
  },
  {
   "cell_type": "code",
   "execution_count": null,
   "id": "ee936089",
   "metadata": {},
   "outputs": [],
   "source": [
    "is\n",
    "is not"
   ]
  },
  {
   "cell_type": "code",
   "execution_count": 11,
   "id": "1b11f43d",
   "metadata": {},
   "outputs": [
    {
     "data": {
      "text/plain": [
       "True"
      ]
     },
     "execution_count": 11,
     "metadata": {},
     "output_type": "execute_result"
    }
   ],
   "source": [
    "a=\"python\"\n",
    "b=\"python\"\n",
    "a is b"
   ]
  },
  {
   "cell_type": "code",
   "execution_count": 12,
   "id": "58917ceb",
   "metadata": {},
   "outputs": [
    {
     "data": {
      "text/plain": [
       "False"
      ]
     },
     "execution_count": 12,
     "metadata": {},
     "output_type": "execute_result"
    }
   ],
   "source": [
    "a=\"python\"\n",
    "b=\"Python\"\n",
    "a is b"
   ]
  },
  {
   "cell_type": "code",
   "execution_count": 13,
   "id": "ca20bbf9",
   "metadata": {},
   "outputs": [
    {
     "data": {
      "text/plain": [
       "True"
      ]
     },
     "execution_count": 13,
     "metadata": {},
     "output_type": "execute_result"
    }
   ],
   "source": [
    "a=\"python\"\n",
    "b=\"Python\"\n",
    "a is not b"
   ]
  },
  {
   "cell_type": "code",
   "execution_count": null,
   "id": "283f73f5",
   "metadata": {},
   "outputs": [],
   "source": []
  },
  {
   "cell_type": "code",
   "execution_count": null,
   "id": "4c83f015",
   "metadata": {},
   "outputs": [],
   "source": []
  },
  {
   "cell_type": "code",
   "execution_count": null,
   "id": "f2c3b230",
   "metadata": {},
   "outputs": [],
   "source": []
  },
  {
   "cell_type": "code",
   "execution_count": null,
   "id": "e1a0b154",
   "metadata": {},
   "outputs": [],
   "source": []
  },
  {
   "cell_type": "code",
   "execution_count": null,
   "id": "a2dfce06",
   "metadata": {},
   "outputs": [],
   "source": []
  },
  {
   "cell_type": "code",
   "execution_count": null,
   "id": "597eda61",
   "metadata": {},
   "outputs": [],
   "source": []
  },
  {
   "cell_type": "code",
   "execution_count": null,
   "id": "24539a73",
   "metadata": {},
   "outputs": [],
   "source": []
  },
  {
   "cell_type": "code",
   "execution_count": null,
   "id": "873affc3",
   "metadata": {},
   "outputs": [],
   "source": []
  },
  {
   "cell_type": "code",
   "execution_count": null,
   "id": "e9841dec",
   "metadata": {},
   "outputs": [],
   "source": []
  },
  {
   "cell_type": "code",
   "execution_count": null,
   "id": "d9e5756f",
   "metadata": {},
   "outputs": [],
   "source": []
  },
  {
   "cell_type": "code",
   "execution_count": null,
   "id": "989d331a",
   "metadata": {},
   "outputs": [],
   "source": []
  },
  {
   "cell_type": "code",
   "execution_count": null,
   "id": "2a057c0b",
   "metadata": {},
   "outputs": [],
   "source": []
  }
 ],
 "metadata": {
  "kernelspec": {
   "display_name": "Python 3 (ipykernel)",
   "language": "python",
   "name": "python3"
  },
  "language_info": {
   "codemirror_mode": {
    "name": "ipython",
    "version": 3
   },
   "file_extension": ".py",
   "mimetype": "text/x-python",
   "name": "python",
   "nbconvert_exporter": "python",
   "pygments_lexer": "ipython3",
   "version": "3.9.12"
  }
 },
 "nbformat": 4,
 "nbformat_minor": 5
}
