{
 "cells": [
  {
   "cell_type": "markdown",
   "id": "4f2f3107",
   "metadata": {},
   "source": [
    "To find lagest number"
   ]
  },
  {
   "cell_type": "code",
   "execution_count": 26,
   "id": "064c6b00",
   "metadata": {},
   "outputs": [],
   "source": [
    "a=5\n",
    "b=10\n",
    "c=20\n",
    "\n",
    "if c>a and c<b:   # True and False >> False\n",
    "    print('c is the largest number')"
   ]
  },
  {
   "cell_type": "code",
   "execution_count": 27,
   "id": "69795726",
   "metadata": {},
   "outputs": [
    {
     "name": "stdout",
     "output_type": "stream",
     "text": [
      "c is the largest number\n"
     ]
    }
   ],
   "source": [
    "a=5\n",
    "b=10\n",
    "c=20\n",
    "\n",
    "if a<c and b<c : # True and True >> True--->and gate\n",
    "    print(\"c is the largest number\")"
   ]
  },
  {
   "cell_type": "code",
   "execution_count": 28,
   "id": "1144e8b8",
   "metadata": {},
   "outputs": [
    {
     "name": "stdout",
     "output_type": "stream",
     "text": [
      "c is greatest number\n"
     ]
    }
   ],
   "source": [
    "a=10\n",
    "b=20\n",
    "c=30\n",
    "\n",
    "if a<c or c<a :# True and False >> True --->or gate\n",
    "    print(\"c is greatest number\")"
   ]
  },
  {
   "cell_type": "code",
   "execution_count": 29,
   "id": "b4915ab3",
   "metadata": {},
   "outputs": [
    {
     "name": "stdout",
     "output_type": "stream",
     "text": [
      "b is largest number\n"
     ]
    }
   ],
   "source": [
    "a=50 \n",
    "b=100\n",
    "c=20\n",
    "\n",
    "if a>c and a>b:# False and True >> False\n",
    "    print(\"a is largest number\")\n",
    "    \n",
    "if a<b and c<b: # True and True >> True\n",
    "    print(\"b is largest number\")\n",
    "    \n",
    "else:\n",
    "    print(\"c is the largest number\")"
   ]
  },
  {
   "cell_type": "code",
   "execution_count": 30,
   "id": "27922e2b",
   "metadata": {},
   "outputs": [
    {
     "name": "stdout",
     "output_type": "stream",
     "text": [
      "c is the largest number\n"
     ]
    }
   ],
   "source": [
    "a=50 \n",
    "b=100\n",
    "c=200\n",
    " \n",
    "if a>b and a<b :# False and True >> False\n",
    "    print(\"a is the largest number\")\n",
    "    \n",
    "if b<c and b < a: # True and False >> False\n",
    "    print(\"b is the largest number\")\n",
    "    \n",
    "else:\n",
    "    print(\"c is the largest number\")"
   ]
  },
  {
   "cell_type": "code",
   "execution_count": 31,
   "id": "c8a6fc47",
   "metadata": {},
   "outputs": [
    {
     "name": "stdout",
     "output_type": "stream",
     "text": [
      "c is the largest number\n"
     ]
    }
   ],
   "source": [
    "a=50\n",
    "b=100\n",
    "c=200\n",
    "\n",
    "if a>b & a>c:# False and False >> False\n",
    "    print(\"a is the largest number\")\n",
    "if b>c & b<a: # True and False >> False\n",
    "    print(\"b is the largest number\")\n",
    "    \n",
    "else:\n",
    "    print(\"c is the largest number\")"
   ]
  },
  {
   "cell_type": "code",
   "execution_count": 32,
   "id": "8b19ef8f",
   "metadata": {},
   "outputs": [
    {
     "name": "stdout",
     "output_type": "stream",
     "text": [
      "Enter a value of a : 10\n",
      "Enter a value of b : 50\n",
      "Enter a value of c : 65\n",
      "c is the largest number\n"
     ]
    }
   ],
   "source": [
    "a=int(input(\"Enter a value of a : \"))\n",
    "b=int(input(\"Enter a value of b : \"))\n",
    "c=int(input(\"Enter a value of c : \"))\n",
    "\n",
    "if a > b and a >c :\n",
    "    print(\"a is the largest number\")\n",
    "    \n",
    "elif b>a and b>c :\n",
    "    print(\"b is the largest number\")\n",
    "    \n",
    "elif c>a and c>b:\n",
    "    print(\"c is the largest number\")\n",
    "    \n",
    "else:\n",
    "    print(\"two number are having same value\")\n",
    "    "
   ]
  },
  {
   "cell_type": "code",
   "execution_count": 33,
   "id": "17553359",
   "metadata": {},
   "outputs": [
    {
     "name": "stdout",
     "output_type": "stream",
     "text": [
      "both strings are equal\n"
     ]
    }
   ],
   "source": [
    "str1=\"python\"\n",
    "str2=\"python\"\n",
    "\n",
    "if str1 == str2:\n",
    "    print(\"both strings are equal\")\n",
    "    \n",
    "else:\n",
    "    print(\"strings are not equal\")"
   ]
  },
  {
   "cell_type": "code",
   "execution_count": 34,
   "id": "59cec877",
   "metadata": {},
   "outputs": [
    {
     "name": "stdout",
     "output_type": "stream",
     "text": [
      "not equal\n"
     ]
    }
   ],
   "source": [
    "str1=\"data science\"\n",
    "str2=\"python\"\n",
    "if str1==str2:\n",
    "    print(\"both are equal \")\n",
    "    \n",
    "else:\n",
    "    print(\"not equal\")"
   ]
  },
  {
   "cell_type": "code",
   "execution_count": 35,
   "id": "9b7b707f",
   "metadata": {},
   "outputs": [
    {
     "name": "stdout",
     "output_type": "stream",
     "text": [
      "bothe are equal\n"
     ]
    }
   ],
   "source": [
    "str1=\"Data science\"\n",
    "str2=\"DATA SCIENCE\"\n",
    "if str1.lower() == str2.lower():\n",
    "    print(\"bothe are equal\")\n",
    "    \n",
    "else:\n",
    "    print(\"not equal\")"
   ]
  },
  {
   "cell_type": "code",
   "execution_count": 36,
   "id": "ffa7fcde",
   "metadata": {},
   "outputs": [
    {
     "name": "stdout",
     "output_type": "stream",
     "text": [
      "science word found\n"
     ]
    }
   ],
   "source": [
    "str1=\"Data science and Machine learning\"\n",
    "substring=\"science\"\n",
    "\n",
    "if substring in str1:\n",
    "    print(f'{substring} word found')\n",
    "    \n",
    "else:\n",
    "    print(f'{substring} word not found')"
   ]
  },
  {
   "cell_type": "code",
   "execution_count": 37,
   "id": "9056c814",
   "metadata": {},
   "outputs": [
    {
     "name": "stdout",
     "output_type": "stream",
     "text": [
      "science word not found\n"
     ]
    }
   ],
   "source": [
    "str1=\"Data science and machine learning\"\n",
    "substring='science'\n",
    "\n",
    "if substring.title() in str1:\n",
    "    print(f'{substring} word found')\n",
    "    \n",
    "else:\n",
    "    print(f'{substring} word not found')"
   ]
  },
  {
   "cell_type": "code",
   "execution_count": 38,
   "id": "3c5024fc",
   "metadata": {},
   "outputs": [
    {
     "name": "stdout",
     "output_type": "stream",
     "text": [
      "Science or MACHINE word found in string\n"
     ]
    }
   ],
   "source": [
    "string1=\"Data Science and Machine Learning\"\n",
    "substring1=\"Science\"\n",
    "substring2=\"MACHINE\"\n",
    "\n",
    "if substring1 in string1 or substring2 in string1: # True or False >> True-->or gate\n",
    "    print(f'{substring1} or {substring2} word found in string')\n",
    "\n",
    "else:\n",
    "    print(f'{substring1} or {substring2} word not found')"
   ]
  },
  {
   "cell_type": "code",
   "execution_count": 39,
   "id": "09beb226",
   "metadata": {},
   "outputs": [
    {
     "name": "stdout",
     "output_type": "stream",
     "text": [
      "science or MACHINE word not found\n"
     ]
    }
   ],
   "source": [
    "string1=\"Data Science and Machine learning\"\n",
    "substring1=\"science\"\n",
    "substring2=\"MACHINE\"\n",
    "\n",
    "if substring1 in string1 or substring2 in string1:# False or False >> False\n",
    "    print(f'{substring1}or {substring2} word found in string')\n",
    "    \n",
    "else:\n",
    "    print(f'{substring1} or {substring2} word not found')"
   ]
  },
  {
   "cell_type": "code",
   "execution_count": 40,
   "id": "2f2046fe",
   "metadata": {},
   "outputs": [
    {
     "name": "stdout",
     "output_type": "stream",
     "text": [
      "Science or MACHINE word not found\n"
     ]
    }
   ],
   "source": [
    "string1=\"Data Science and Machine Learning\"\n",
    "substring1=\"Science\"\n",
    "substring2=\"MACHINE\"\n",
    "\n",
    "if substring1 in string1 and substring2 in string1: # True or False >> False-->and gate\n",
    "    print(f'{substring1} or {substring2} word found in string')\n",
    "    \n",
    "else:\n",
    "    print(f'{substring1} or {substring2} word not found')"
   ]
  },
  {
   "cell_type": "code",
   "execution_count": 41,
   "id": "d9a5ddca",
   "metadata": {},
   "outputs": [
    {
     "name": "stdout",
     "output_type": "stream",
     "text": [
      "science and MACHINE word found in string\n"
     ]
    }
   ],
   "source": [
    "string1=\"Data Science and Machine Learning\"\n",
    "substring1=\"science\"\n",
    "substring2=\"MACHINE\"\n",
    "\n",
    "if substring1.capitalize() in string1 and substring2.capitalize() in string1:# True or True >> True\n",
    "    print(f'{substring1} and {substring2} word found in string')\n",
    "    \n",
    "else:\n",
    "    print(f'{substring1} and {substring2} word not found in string')"
   ]
  },
  {
   "cell_type": "markdown",
   "id": "74fd84a6",
   "metadata": {},
   "source": [
    "# If-elif-else statement"
   ]
  },
  {
   "cell_type": "code",
   "execution_count": 42,
   "id": "f1840adb",
   "metadata": {},
   "outputs": [
    {
     "ename": "SyntaxError",
     "evalue": "invalid syntax (2261443295.py, line 1)",
     "output_type": "error",
     "traceback": [
      "\u001b[1;36m  Input \u001b[1;32mIn [42]\u001b[1;36m\u001b[0m\n\u001b[1;33m    if\u001b[0m\n\u001b[1;37m      ^\u001b[0m\n\u001b[1;31mSyntaxError\u001b[0m\u001b[1;31m:\u001b[0m invalid syntax\n"
     ]
    }
   ],
   "source": [
    "if\n",
    "if >> elif\n",
    "if >> elif >> else\n",
    "if >> else\n",
    "if >> elif.... >> elif >> else\n",
    "if >> else >> else ## Invalid\n",
    "if >> else >> elif ## Invalid\n",
    "elif >> else ## Invalid"
   ]
  },
  {
   "cell_type": "code",
   "execution_count": 43,
   "id": "aa6df413",
   "metadata": {},
   "outputs": [
    {
     "ename": "SyntaxError",
     "evalue": "invalid syntax (2449081094.py, line 1)",
     "output_type": "error",
     "traceback": [
      "\u001b[1;36m  Input \u001b[1;32mIn [43]\u001b[1;36m\u001b[0m\n\u001b[1;33m    sed to avoid error\u001b[0m\n\u001b[1;37m        ^\u001b[0m\n\u001b[1;31mSyntaxError\u001b[0m\u001b[1;31m:\u001b[0m invalid syntax\n"
     ]
    }
   ],
   "source": [
    "sed to avoid error\n",
    "if there is no statement in if/elif/else block. Then we can use pass statement"
   ]
  },
  {
   "cell_type": "code",
   "execution_count": 44,
   "id": "5cc6968e",
   "metadata": {},
   "outputs": [
    {
     "name": "stdout",
     "output_type": "stream",
     "text": [
      "yes\n"
     ]
    }
   ],
   "source": [
    "if 10>2:\n",
    "    print(\"yes\")\n",
    "else:\n",
    "    pass"
   ]
  },
  {
   "cell_type": "code",
   "execution_count": 45,
   "id": "39db68cc",
   "metadata": {},
   "outputs": [
    {
     "name": "stdout",
     "output_type": "stream",
     "text": [
      "yes\n"
     ]
    }
   ],
   "source": [
    "if 10>2:\n",
    "    print(\"yes\")\n",
    "    if 10>15:\n",
    "        print(\"yes2\")\n",
    "    else:\n",
    "        pass\n",
    "    \n",
    "else:\n",
    "    pass"
   ]
  },
  {
   "cell_type": "code",
   "execution_count": 46,
   "id": "ffcdd568",
   "metadata": {},
   "outputs": [
    {
     "name": "stdout",
     "output_type": "stream",
     "text": [
      "b is greater than a\n"
     ]
    }
   ],
   "source": [
    "a=10\n",
    "b=29\n",
    "\n",
    "if b>a:    # True\n",
    "    print(\"b is greater than a\")\n",
    "    \n",
    "else :\n",
    "    print(\"b is less than a\")"
   ]
  },
  {
   "cell_type": "code",
   "execution_count": 47,
   "id": "3b5433a7",
   "metadata": {},
   "outputs": [],
   "source": [
    "a=10\n",
    "b=20\n",
    "\n",
    "if b>a:  #true\n",
    "    pass\n",
    "\n",
    "else:\n",
    "    print(\"b is less than a\")"
   ]
  },
  {
   "cell_type": "code",
   "execution_count": 48,
   "id": "a8c30485",
   "metadata": {},
   "outputs": [],
   "source": [
    "a = 100\n",
    "b = 20\n",
    "if b>a: # False\n",
    "    print('b is greater than a')\n",
    "\n",
    "else:\n",
    "    pass"
   ]
  },
  {
   "cell_type": "markdown",
   "id": "7d81c69a",
   "metadata": {},
   "source": [
    "# Nested If Statements"
   ]
  },
  {
   "cell_type": "code",
   "execution_count": 49,
   "id": "b105eac3",
   "metadata": {},
   "outputs": [
    {
     "ename": "SyntaxError",
     "evalue": "invalid syntax (959484176.py, line 1)",
     "output_type": "error",
     "traceback": [
      "\u001b[1;36m  Input \u001b[1;32mIn [49]\u001b[1;36m\u001b[0m\n\u001b[1;33m    if statement inside if statement, called nested if statement\u001b[0m\n\u001b[1;37m                 ^\u001b[0m\n\u001b[1;31mSyntaxError\u001b[0m\u001b[1;31m:\u001b[0m invalid syntax\n"
     ]
    }
   ],
   "source": [
    "if statement inside if statement, called nested if statement"
   ]
  },
  {
   "cell_type": "code",
   "execution_count": 50,
   "id": "aeccdcbb",
   "metadata": {},
   "outputs": [
    {
     "name": "stdout",
     "output_type": "stream",
     "text": [
      "x is greater than 80\n",
      "x is greater than 90\n"
     ]
    }
   ],
   "source": [
    "x=100\n",
    "\n",
    "if x>80:\n",
    "    print(\"x is greater than 80\")\n",
    "    if x > 90:\n",
    "        print(\"x is greater than 90\")\n",
    "    else:\n",
    "        print(\"x is less than 90\")\n",
    "else:\n",
    "    print(\"x is less than 80\")"
   ]
  },
  {
   "cell_type": "code",
   "execution_count": 51,
   "id": "c2632b9a",
   "metadata": {},
   "outputs": [
    {
     "name": "stdout",
     "output_type": "stream",
     "text": [
      "x is greater than 80\n",
      "x is less than 90\n"
     ]
    }
   ],
   "source": [
    "x=85\n",
    "\n",
    "if x>80 :\n",
    "    print(\"x is greater than 80\")\n",
    "    if x>90:\n",
    "        print(\"x is greater than 90\")\n",
    "    else:\n",
    "        print(\"x is less than 90\")\n",
    "else:\n",
    "    print(\"x is less than 80\")"
   ]
  },
  {
   "cell_type": "code",
   "execution_count": 52,
   "id": "55bd2fc4",
   "metadata": {},
   "outputs": [
    {
     "name": "stdout",
     "output_type": "stream",
     "text": [
      "x is greater than 80\n"
     ]
    }
   ],
   "source": [
    "x=85\n",
    "\n",
    "if x>80 :\n",
    "    print(\"x is greater than 80\")\n",
    "    if x>90:\n",
    "        print(\"x is greater than 90\")\n",
    "    else:\n",
    "        pass\n",
    "else:\n",
    "    print(\"x is less than 80\")"
   ]
  },
  {
   "cell_type": "code",
   "execution_count": 53,
   "id": "07fc384f",
   "metadata": {},
   "outputs": [],
   "source": [
    "# Age, Salary, Cibil_score\n",
    "# Loan_prediction >> Approved>> Declined"
   ]
  },
  {
   "cell_type": "code",
   "execution_count": 54,
   "id": "18e31269",
   "metadata": {},
   "outputs": [
    {
     "name": "stdout",
     "output_type": "stream",
     "text": [
      "Age is greater than 20\n",
      "salary is greater than 40k\n",
      "cibil score is greater than 700\n",
      "loan is approved\n"
     ]
    }
   ],
   "source": [
    "age=25\n",
    "salary=50000\n",
    "cibil_score=750\n",
    "\n",
    "if age >20:\n",
    "    print(\"Age is greater than 20\")\n",
    "    if salary >40000:\n",
    "        print(\"salary is greater than 40k\")\n",
    "        if cibil_score >700:\n",
    "            print(\"cibil score is greater than 700\")\n",
    "            print(\"loan is approved\")\n",
    "        else:\n",
    "            print(\"decline due to civil score\")\n",
    "    else:\n",
    "        print(\"decline due to salary\")\n",
    "        \n",
    "else:\n",
    "    print(\"decline due to age is not matched\")"
   ]
  },
  {
   "cell_type": "code",
   "execution_count": 55,
   "id": "5baadf0c",
   "metadata": {},
   "outputs": [
    {
     "name": "stdout",
     "output_type": "stream",
     "text": [
      "age52\n",
      "salary56\n",
      "civil_score800\n",
      "Age is greater than 20\n",
      "decline due to salary\n"
     ]
    }
   ],
   "source": [
    "age=int(input(\"age\"))\n",
    "salary=int(input(\"salary\"))\n",
    "civil_score=int(input(\"civil_score\"))\n",
    "if age >20:\n",
    "    print(\"Age is greater than 20\")\n",
    "    if salary >40000:\n",
    "        print(\"salary is greater than 40k\")\n",
    "        if cibil_score >700:\n",
    "            print(\"cibil score is greater than 700\")\n",
    "            print(\"loan is approved\")\n",
    "        else:\n",
    "            print(\"decline due to civil score\")\n",
    "    else:\n",
    "        print(\"decline due to salary\")\n",
    "        \n",
    "else:\n",
    "    print(\"decline due to age is not matched\")"
   ]
  },
  {
   "cell_type": "code",
   "execution_count": null,
   "id": "02b58497",
   "metadata": {},
   "outputs": [],
   "source": []
  },
  {
   "cell_type": "code",
   "execution_count": null,
   "id": "8277ad4f",
   "metadata": {},
   "outputs": [],
   "source": []
  },
  {
   "cell_type": "code",
   "execution_count": null,
   "id": "2f900942",
   "metadata": {},
   "outputs": [],
   "source": []
  },
  {
   "cell_type": "code",
   "execution_count": null,
   "id": "47e8b414",
   "metadata": {},
   "outputs": [],
   "source": []
  },
  {
   "cell_type": "code",
   "execution_count": null,
   "id": "443cffe5",
   "metadata": {},
   "outputs": [],
   "source": []
  },
  {
   "cell_type": "code",
   "execution_count": null,
   "id": "7f266e8b",
   "metadata": {},
   "outputs": [],
   "source": []
  },
  {
   "cell_type": "code",
   "execution_count": null,
   "id": "757be30c",
   "metadata": {},
   "outputs": [],
   "source": []
  },
  {
   "cell_type": "code",
   "execution_count": null,
   "id": "b6a4cf06",
   "metadata": {},
   "outputs": [],
   "source": []
  },
  {
   "cell_type": "code",
   "execution_count": null,
   "id": "77307836",
   "metadata": {},
   "outputs": [],
   "source": []
  },
  {
   "cell_type": "code",
   "execution_count": null,
   "id": "04825290",
   "metadata": {},
   "outputs": [],
   "source": []
  },
  {
   "cell_type": "code",
   "execution_count": null,
   "id": "f7a03f58",
   "metadata": {},
   "outputs": [],
   "source": []
  },
  {
   "cell_type": "code",
   "execution_count": null,
   "id": "59295ef5",
   "metadata": {},
   "outputs": [],
   "source": []
  },
  {
   "cell_type": "code",
   "execution_count": null,
   "id": "fd028e00",
   "metadata": {},
   "outputs": [],
   "source": []
  }
 ],
 "metadata": {
  "kernelspec": {
   "display_name": "Python 3 (ipykernel)",
   "language": "python",
   "name": "python3"
  },
  "language_info": {
   "codemirror_mode": {
    "name": "ipython",
    "version": 3
   },
   "file_extension": ".py",
   "mimetype": "text/x-python",
   "name": "python",
   "nbconvert_exporter": "python",
   "pygments_lexer": "ipython3",
   "version": "3.9.12"
  }
 },
 "nbformat": 4,
 "nbformat_minor": 5
}
