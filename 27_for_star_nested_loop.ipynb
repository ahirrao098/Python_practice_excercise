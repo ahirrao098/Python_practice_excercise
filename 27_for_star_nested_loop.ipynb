{
 "cells": [
  {
   "cell_type": "code",
   "execution_count": 1,
   "id": "cd1661f1",
   "metadata": {},
   "outputs": [
    {
     "name": "stdout",
     "output_type": "stream",
     "text": [
      "Number is :  1\n",
      "***\n",
      "***\n",
      "Number is :  2\n",
      "***\n",
      "***\n",
      "Number is :  3\n",
      "***\n",
      "***\n",
      "Number is :  4\n",
      "***\n",
      "***\n"
     ]
    }
   ],
   "source": [
    "for i in range(1,5):\n",
    "    print(\"Number is : \", i)\n",
    "    for i in range (1,3):\n",
    "        print(\"***\")"
   ]
  },
  {
   "cell_type": "code",
   "execution_count": 2,
   "id": "3548ffcc",
   "metadata": {},
   "outputs": [
    {
     "name": "stdout",
     "output_type": "stream",
     "text": [
      "Number is :  1\n",
      "Number is :  2\n",
      "Number is :  3\n",
      "Number is :  4\n"
     ]
    }
   ],
   "source": [
    "for i in range(1,5):\n",
    "    print(\"Number is : \", i)"
   ]
  },
  {
   "cell_type": "code",
   "execution_count": 4,
   "id": "e15714b0",
   "metadata": {},
   "outputs": [
    {
     "name": "stdout",
     "output_type": "stream",
     "text": [
      "***\n",
      "***\n",
      "***\n"
     ]
    }
   ],
   "source": [
    "for i in range (1,4):\n",
    "    print(\"***\")"
   ]
  },
  {
   "cell_type": "code",
   "execution_count": 5,
   "id": "3962c55b",
   "metadata": {},
   "outputs": [
    {
     "name": "stdout",
     "output_type": "stream",
     "text": [
      "*****\n",
      "*****\n",
      "*****\n",
      "*****\n",
      "*****\n"
     ]
    }
   ],
   "source": [
    "for i in range (1,6):\n",
    "    print(\"*****\")"
   ]
  },
  {
   "cell_type": "code",
   "execution_count": 26,
   "id": "99a6fc0b",
   "metadata": {},
   "outputs": [
    {
     "name": "stdout",
     "output_type": "stream",
     "text": [
      "* * * * * \n",
      "* * * * * \n",
      "* * * * * \n",
      "* * * * * \n",
      "* * * * * \n"
     ]
    }
   ],
   "source": [
    "for i in range (1,6):\n",
    "    for j in range (1,6):\n",
    "  \n",
    "       print(\"*\",end=\" \")\n",
    "    print() "
   ]
  },
  {
   "cell_type": "code",
   "execution_count": 32,
   "id": "10918ff5",
   "metadata": {},
   "outputs": [
    {
     "name": "stdout",
     "output_type": "stream",
     "text": [
      "iteration no:  1\n",
      "*\n",
      "*\n",
      "exicuted\n",
      "iteration no:  2\n",
      "*\n",
      "*\n",
      "exicuted\n",
      "iteration no:  3\n",
      "*\n",
      "*\n",
      "exicuted\n",
      "iteration no:  4\n",
      "*\n",
      "*\n",
      "exicuted\n"
     ]
    }
   ],
   "source": [
    "for i in range(1,5):\n",
    "    print(f'iteration no: ',i)\n",
    "    for j in range (1,3):\n",
    "        print(\"*\")\n",
    "    print(\"exicuted\")"
   ]
  },
  {
   "cell_type": "code",
   "execution_count": 33,
   "id": "f86eb83b",
   "metadata": {},
   "outputs": [
    {
     "name": "stdout",
     "output_type": "stream",
     "text": [
      "iteration no:  1\n",
      "*\n",
      "exicuted\n",
      "*\n",
      "exicuted\n",
      "iteration no:  2\n",
      "*\n",
      "exicuted\n",
      "*\n",
      "exicuted\n",
      "iteration no:  3\n",
      "*\n",
      "exicuted\n",
      "*\n",
      "exicuted\n",
      "iteration no:  4\n",
      "*\n",
      "exicuted\n",
      "*\n",
      "exicuted\n"
     ]
    }
   ],
   "source": [
    "for i in range(1,5):\n",
    "    print(f'iteration no: ',i)\n",
    "    for j in range (1,3):\n",
    "        print(\"*\")\n",
    "        print(\"exicuted\")"
   ]
  },
  {
   "cell_type": "code",
   "execution_count": 5,
   "id": "4f8001ae",
   "metadata": {},
   "outputs": [
    {
     "name": "stdout",
     "output_type": "stream",
     "text": [
      "***\n",
      "***\n",
      "***\n",
      "***\n",
      "***\n",
      "\n",
      "***\n",
      "***\n",
      "***\n",
      "***\n",
      "***\n",
      "\n",
      "***\n",
      "***\n",
      "***\n",
      "***\n",
      "***\n",
      "\n",
      "***\n",
      "***\n",
      "***\n",
      "***\n",
      "***\n",
      "\n",
      "***\n",
      "***\n",
      "***\n",
      "***\n",
      "***\n",
      "\n"
     ]
    }
   ],
   "source": [
    "for i in range (1,6):\n",
    "    for i in range (1,6):\n",
    "  \n",
    "       print(\"***\")\n",
    "    print() "
   ]
  },
  {
   "cell_type": "code",
   "execution_count": 37,
   "id": "af4a4cda",
   "metadata": {},
   "outputs": [
    {
     "name": "stdout",
     "output_type": "stream",
     "text": [
      "*** *** *** *** *** \n",
      "*** *** *** *** *** \n",
      "*** *** *** *** *** \n",
      "*** *** *** *** *** \n",
      "*** *** *** *** *** \n"
     ]
    }
   ],
   "source": [
    "for i in range (1,6):\n",
    "    for i in range (1,6):\n",
    "  \n",
    "       print(\"***\",end=\" \")\n",
    "    print() "
   ]
  },
  {
   "cell_type": "code",
   "execution_count": 39,
   "id": "94033207",
   "metadata": {},
   "outputs": [
    {
     "name": "stdout",
     "output_type": "stream",
     "text": [
      "x x x x \n",
      "x x x x \n",
      "x x x x \n",
      "x x x x \n"
     ]
    }
   ],
   "source": [
    "for i in range (1,5):\n",
    "    for i in range (1,5):\n",
    "        print(\"x\",end=\" \")\n",
    "    print()"
   ]
  },
  {
   "cell_type": "code",
   "execution_count": 40,
   "id": "4a48f951",
   "metadata": {},
   "outputs": [
    {
     "name": "stdout",
     "output_type": "stream",
     "text": [
      "x\n",
      "x\n",
      "x\n",
      "x\n",
      "\n",
      "x\n",
      "x\n",
      "x\n",
      "x\n",
      "\n",
      "x\n",
      "x\n",
      "x\n",
      "x\n",
      "\n",
      "x\n",
      "x\n",
      "x\n",
      "x\n",
      "\n"
     ]
    }
   ],
   "source": [
    "for i in range (1,5):\n",
    "    for i in range (1,5):\n",
    "        print(\"x\")\n",
    "    print()"
   ]
  },
  {
   "cell_type": "code",
   "execution_count": 42,
   "id": "65bb9c52",
   "metadata": {},
   "outputs": [
    {
     "name": "stdout",
     "output_type": "stream",
     "text": [
      "*\n",
      "*\n",
      "*\n",
      "*\n",
      "\n",
      "*\n",
      "*\n",
      "*\n",
      "*\n",
      "\n",
      "*\n",
      "*\n",
      "*\n",
      "*\n",
      "\n",
      "*\n",
      "*\n",
      "*\n",
      "*\n",
      "\n"
     ]
    }
   ],
   "source": [
    "for i in range (1,5):\n",
    "    for i in range (1,5):\n",
    "        print(\"*\",end=\"\\n\")\n",
    "    print()"
   ]
  },
  {
   "cell_type": "code",
   "execution_count": 46,
   "id": "83a89b94",
   "metadata": {},
   "outputs": [
    {
     "name": "stdout",
     "output_type": "stream",
     "text": [
      "* * * * * * \n",
      "* * * * * * \n",
      "* * * * * * \n",
      "* * * * * * \n",
      "* * * * * * \n"
     ]
    }
   ],
   "source": [
    "for i in range(5):\n",
    "    for i in range(6):\n",
    "        print(\"*\",end=\" \")  \n",
    "    print()"
   ]
  },
  {
   "cell_type": "code",
   "execution_count": 47,
   "id": "ff4833f0",
   "metadata": {},
   "outputs": [
    {
     "name": "stdout",
     "output_type": "stream",
     "text": [
      "enter a number: 6\n",
      "* \n",
      "* * \n",
      "* * * \n",
      "* * * * \n",
      "* * * * * \n",
      "* * * * * * \n"
     ]
    }
   ],
   "source": [
    "n=int(input(\"enter a number: \"))\n",
    "for i in range(1,n+1):\n",
    "    for j in range(i):\n",
    "        print('*',end=\" \")\n",
    "    print()"
   ]
  },
  {
   "cell_type": "code",
   "execution_count": 10,
   "id": "58c37a41",
   "metadata": {},
   "outputs": [
    {
     "name": "stdout",
     "output_type": "stream",
     "text": [
      "enter a number : 5\n",
      "* \n",
      "* \n",
      "* \n",
      "* \n",
      "* \n",
      "* \n",
      "* \n",
      "* \n",
      "* \n",
      "* \n"
     ]
    }
   ],
   "source": [
    "n=int(input(\"enter a number : \"))\n",
    "for i in range(n):\n",
    "    for j in range(i):\n",
    "        print('*',end=\" \")\n",
    "        print()\n",
    "    "
   ]
  },
  {
   "cell_type": "code",
   "execution_count": 11,
   "id": "d997da0d",
   "metadata": {},
   "outputs": [
    {
     "name": "stdout",
     "output_type": "stream",
     "text": [
      "enter a number : 5\n",
      "\n",
      "* \n",
      "* * \n",
      "* * * \n",
      "* * * * \n"
     ]
    }
   ],
   "source": [
    "n=int(input(\"enter a number : \"))\n",
    "for i in range(n):\n",
    "    for j in range(i):\n",
    "        print('*',end=\" \")\n",
    "    print()"
   ]
  },
  {
   "cell_type": "code",
   "execution_count": 12,
   "id": "70543f04",
   "metadata": {},
   "outputs": [
    {
     "data": {
      "text/plain": [
       "[8, 7, 6, 5, 4, 3, 2, 1]"
      ]
     },
     "execution_count": 12,
     "metadata": {},
     "output_type": "execute_result"
    }
   ],
   "source": [
    "list(range(8,0,-1))"
   ]
  },
  {
   "cell_type": "code",
   "execution_count": 14,
   "id": "ed57c73c",
   "metadata": {},
   "outputs": [
    {
     "data": {
      "text/plain": [
       "[15, 13, 11, 9, 7, 5, 3, 1]"
      ]
     },
     "execution_count": 14,
     "metadata": {},
     "output_type": "execute_result"
    }
   ],
   "source": [
    "list(range(15,0,-2))"
   ]
  },
  {
   "cell_type": "code",
   "execution_count": 15,
   "id": "e4b24ad3",
   "metadata": {},
   "outputs": [
    {
     "name": "stdout",
     "output_type": "stream",
     "text": [
      "* * * * * \n",
      "* * * * \n",
      "* * * \n",
      "* * \n",
      "* \n"
     ]
    }
   ],
   "source": [
    "n=5\n",
    "for i in range(n,0,-1):\n",
    "    for j in range(i):\n",
    "        print('*', end=\" \")\n",
    "    print()"
   ]
  },
  {
   "cell_type": "code",
   "execution_count": 16,
   "id": "22020349",
   "metadata": {},
   "outputs": [
    {
     "name": "stdout",
     "output_type": "stream",
     "text": [
      "\n",
      "* \n",
      "* * \n",
      "* * * \n",
      "* * * * \n"
     ]
    }
   ],
   "source": [
    "n=5\n",
    "for i in range(n):\n",
    "    for j in range(i):\n",
    "        print('*',end=\" \")\n",
    "    print()"
   ]
  },
  {
   "cell_type": "code",
   "execution_count": 20,
   "id": "2fd92990",
   "metadata": {},
   "outputs": [
    {
     "name": "stdout",
     "output_type": "stream",
     "text": [
      "1 1 1 1 \n",
      "1 1 1 1 \n",
      "1 1 1 1 \n",
      "1 1 1 1 \n"
     ]
    }
   ],
   "source": [
    "for i in range(1,5):\n",
    "    for j in range(1,5):\n",
    "        print('1',end=\" \")\n",
    "    print()"
   ]
  },
  {
   "cell_type": "code",
   "execution_count": 27,
   "id": "e4b7a8e4",
   "metadata": {},
   "outputs": [
    {
     "name": "stdout",
     "output_type": "stream",
     "text": [
      "0 1 2 3 4 \n",
      "0 1 2 3 4 \n",
      "0 1 2 3 4 \n",
      "0 1 2 3 4 \n",
      "0 1 2 3 4 \n"
     ]
    }
   ],
   "source": [
    "for i in range(0,5):\n",
    "    for j in range(0,5):\n",
    "        print(j,end=\" \")\n",
    "    print()"
   ]
  },
  {
   "cell_type": "code",
   "execution_count": 28,
   "id": "8241f70e",
   "metadata": {},
   "outputs": [
    {
     "name": "stdout",
     "output_type": "stream",
     "text": [
      "Enter a number : 6\n",
      "0 0 0 0 0 0 \n",
      "1 1 1 1 1 1 \n",
      "2 2 2 2 2 2 \n",
      "3 3 3 3 3 3 \n",
      "4 4 4 4 4 4 \n",
      "5 5 5 5 5 5 \n"
     ]
    }
   ],
   "source": [
    "n=int(input(\"Enter a number : \"))\n",
    "for i in range(n):\n",
    "    for j in range(n):\n",
    "        print(i, end=\" \")\n",
    "    print()"
   ]
  },
  {
   "cell_type": "code",
   "execution_count": 29,
   "id": "d0d78518",
   "metadata": {},
   "outputs": [
    {
     "name": "stdout",
     "output_type": "stream",
     "text": [
      "A A A A A \n",
      "A A A A A \n",
      "A A A A A \n",
      "A A A A A \n",
      "A A A A A \n",
      "A A A A A \n"
     ]
    }
   ],
   "source": [
    "for i in range(6):\n",
    "    for j in range(5):\n",
    "        print('A', end=\" \")\n",
    "    print()"
   ]
  },
  {
   "cell_type": "code",
   "execution_count": 30,
   "id": "bd5eff12",
   "metadata": {},
   "outputs": [
    {
     "name": "stdout",
     "output_type": "stream",
     "text": [
      "\n",
      "A \n",
      "A A \n",
      "A A A \n",
      "A A A A \n",
      "A A A A A \n"
     ]
    }
   ],
   "source": [
    "for i in range(6):\n",
    "    for j in range(i):\n",
    "        print(\"A\", end=\" \")\n",
    "    print()"
   ]
  },
  {
   "cell_type": "code",
   "execution_count": 35,
   "id": "996eedb3",
   "metadata": {},
   "outputs": [
    {
     "name": "stdout",
     "output_type": "stream",
     "text": [
      "\n",
      "1 \n",
      "2 2 \n",
      "3 3 3 \n",
      "4 4 4 4 \n",
      "5 5 5 5 5 \n",
      "6 6 6 6 6 6 \n"
     ]
    }
   ],
   "source": [
    "n=7\n",
    "for i in range(n):\n",
    "    for j in range(i):\n",
    "        print(i, end=\" \")\n",
    "    print()"
   ]
  },
  {
   "cell_type": "code",
   "execution_count": 42,
   "id": "11e2e2ce",
   "metadata": {},
   "outputs": [
    {
     "name": "stdout",
     "output_type": "stream",
     "text": [
      "\n",
      "0 \n",
      "0 1 \n",
      "0 1 2 \n",
      "0 1 2 3 \n",
      "0 1 2 3 4 \n"
     ]
    }
   ],
   "source": [
    "for i in range(0,6):\n",
    "    for j in range(i):\n",
    "        print(j,end=\" \")\n",
    "    print()"
   ]
  },
  {
   "cell_type": "code",
   "execution_count": 44,
   "id": "c4eee9d9",
   "metadata": {},
   "outputs": [
    {
     "name": "stdout",
     "output_type": "stream",
     "text": [
      "1 \n",
      "1 2 \n",
      "1 2 3 \n",
      "1 2 3 4 \n",
      "1 2 3 4 5 \n"
     ]
    }
   ],
   "source": [
    "for i in range(1,6):\n",
    "    for j in range(i):\n",
    "        print(j+1,end=\" \")\n",
    "    print()"
   ]
  },
  {
   "cell_type": "code",
   "execution_count": 45,
   "id": "136e5985",
   "metadata": {},
   "outputs": [
    {
     "data": {
      "text/plain": [
       "'A'"
      ]
     },
     "execution_count": 45,
     "metadata": {},
     "output_type": "execute_result"
    }
   ],
   "source": [
    "chr(65)"
   ]
  },
  {
   "cell_type": "code",
   "execution_count": 46,
   "id": "5e4dc6ae",
   "metadata": {},
   "outputs": [
    {
     "data": {
      "text/plain": [
       "':'"
      ]
     },
     "execution_count": 46,
     "metadata": {},
     "output_type": "execute_result"
    }
   ],
   "source": [
    "chr(58)"
   ]
  },
  {
   "cell_type": "code",
   "execution_count": 47,
   "id": "0a5ffa62",
   "metadata": {},
   "outputs": [
    {
     "data": {
      "text/plain": [
       "'D'"
      ]
     },
     "execution_count": 47,
     "metadata": {},
     "output_type": "execute_result"
    }
   ],
   "source": [
    "chr(68)"
   ]
  },
  {
   "cell_type": "code",
   "execution_count": 49,
   "id": "6456c149",
   "metadata": {},
   "outputs": [
    {
     "data": {
      "text/plain": [
       "'N'"
      ]
     },
     "execution_count": 49,
     "metadata": {},
     "output_type": "execute_result"
    }
   ],
   "source": [
    "chr(78)"
   ]
  },
  {
   "cell_type": "code",
   "execution_count": 50,
   "id": "a46e6f56",
   "metadata": {},
   "outputs": [
    {
     "data": {
      "text/plain": [
       "77"
      ]
     },
     "execution_count": 50,
     "metadata": {},
     "output_type": "execute_result"
    }
   ],
   "source": [
    "ord(\"M\")"
   ]
  },
  {
   "cell_type": "code",
   "execution_count": 51,
   "id": "4d9f662a",
   "metadata": {},
   "outputs": [
    {
     "data": {
      "text/plain": [
       "90"
      ]
     },
     "execution_count": 51,
     "metadata": {},
     "output_type": "execute_result"
    }
   ],
   "source": [
    "ord(\"Z\")"
   ]
  },
  {
   "cell_type": "code",
   "execution_count": 52,
   "id": "ecf3f760",
   "metadata": {},
   "outputs": [
    {
     "data": {
      "text/plain": [
       "122"
      ]
     },
     "execution_count": 52,
     "metadata": {},
     "output_type": "execute_result"
    }
   ],
   "source": [
    "ord(\"z\")"
   ]
  },
  {
   "cell_type": "code",
   "execution_count": 53,
   "id": "26dd9dda",
   "metadata": {},
   "outputs": [
    {
     "data": {
      "text/plain": [
       "97"
      ]
     },
     "execution_count": 53,
     "metadata": {},
     "output_type": "execute_result"
    }
   ],
   "source": [
    "ord(\"a\")"
   ]
  },
  {
   "cell_type": "code",
   "execution_count": 54,
   "id": "1a13a105",
   "metadata": {},
   "outputs": [
    {
     "data": {
      "text/plain": [
       "'`'"
      ]
     },
     "execution_count": 54,
     "metadata": {},
     "output_type": "execute_result"
    }
   ],
   "source": [
    "chr(96)"
   ]
  },
  {
   "cell_type": "code",
   "execution_count": 59,
   "id": "16e31554",
   "metadata": {},
   "outputs": [
    {
     "name": "stdout",
     "output_type": "stream",
     "text": [
      "K K K K K \n",
      "K K K K K \n",
      "K K K K K \n",
      "K K K K K \n",
      "K K K K K \n"
     ]
    }
   ],
   "source": [
    "n=5\n",
    "for i in range(n):\n",
    "    for j in range(n):\n",
    "        print(chr(75),end=' ')\n",
    "    print()"
   ]
  },
  {
   "cell_type": "code",
   "execution_count": 60,
   "id": "fe2b87bd",
   "metadata": {},
   "outputs": [
    {
     "name": "stdout",
     "output_type": "stream",
     "text": [
      "K K K K K 0\n",
      "K K K K K 1\n",
      "K K K K K 2\n",
      "K K K K K 3\n",
      "K K K K K 4\n"
     ]
    }
   ],
   "source": [
    "n=5\n",
    "for i in range(n):\n",
    "    for j in range(n):\n",
    "        print(chr(75),end=' ')\n",
    "    print(i)"
   ]
  },
  {
   "cell_type": "code",
   "execution_count": 61,
   "id": "da3e3234",
   "metadata": {},
   "outputs": [
    {
     "name": "stdout",
     "output_type": "stream",
     "text": [
      "a a a a a \n",
      "a a a a a \n",
      "a a a a a \n",
      "a a a a a \n",
      "a a a a a \n"
     ]
    }
   ],
   "source": [
    "n=5\n",
    "num=97\n",
    "for i in range(n):\n",
    "    for j in range(n):\n",
    "        print(chr(num),end=\" \")\n",
    "    print()"
   ]
  },
  {
   "cell_type": "code",
   "execution_count": 68,
   "id": "129b3a6c",
   "metadata": {},
   "outputs": [
    {
     "name": "stdout",
     "output_type": "stream",
     "text": [
      "a b c d e \n",
      "f g h i j \n",
      "k l m n o \n",
      "p q r s t \n",
      "u v w x y \n"
     ]
    }
   ],
   "source": [
    "n=5\n",
    "num=97\n",
    "for i in range(n):\n",
    "    for j in range(n):\n",
    "        print(chr(num), end=\" \")\n",
    "        num=num+1\n",
    "    print()"
   ]
  },
  {
   "cell_type": "code",
   "execution_count": 71,
   "id": "ab33ac14",
   "metadata": {},
   "outputs": [
    {
     "name": "stdout",
     "output_type": "stream",
     "text": [
      "z y x w v \n",
      "u t s r q \n",
      "p o n m l \n",
      "k j i h g \n",
      "f e d c b \n"
     ]
    }
   ],
   "source": [
    "n=5\n",
    "num=122\n",
    "for i in range(n):\n",
    "    for j in range(n):\n",
    "        print(chr(num), end= \" \")\n",
    "        num=num-1\n",
    "    print()"
   ]
  },
  {
   "cell_type": "code",
   "execution_count": 79,
   "id": "5976d1ee",
   "metadata": {},
   "outputs": [
    {
     "name": "stdout",
     "output_type": "stream",
     "text": [
      "a a a a a \n",
      "b b b b b \n",
      "c c c c c \n",
      "d d d d d \n",
      "e e e e e \n"
     ]
    }
   ],
   "source": [
    "n=5\n",
    "num=97\n",
    "for i in range(n):\n",
    "    for j in range(n):\n",
    "        print(chr(num), end=\" \")\n",
    "    num=num+1\n",
    "    print()"
   ]
  },
  {
   "cell_type": "code",
   "execution_count": 81,
   "id": "b19b6869",
   "metadata": {},
   "outputs": [
    {
     "name": "stdout",
     "output_type": "stream",
     "text": [
      "a b c d e 0\n",
      "f g h i j 1\n",
      "k l m n o 2\n",
      "p q r s t 3\n",
      "u v w x y 4\n"
     ]
    }
   ],
   "source": [
    "n=5\n",
    "num=97\n",
    "for i in range(n):\n",
    "    for j in range(n):\n",
    "        print(chr(num),end=\" \")\n",
    "        num=num+1\n",
    "    print(i)"
   ]
  },
  {
   "cell_type": "code",
   "execution_count": 84,
   "id": "5394ed73",
   "metadata": {},
   "outputs": [
    {
     "name": "stdout",
     "output_type": "stream",
     "text": [
      "a b c d e 102\n",
      "\n",
      "f g h i j 107\n",
      "\n",
      "k l m n o 112\n",
      "\n",
      "p q r s t 117\n",
      "\n",
      "u v w x y 122\n",
      "\n"
     ]
    }
   ],
   "source": [
    "n=5\n",
    "num=97\n",
    "for i in range(n):\n",
    "    for j in range(n):\n",
    "        print(chr(num),end=\" \")\n",
    "        num=num+1\n",
    "    print(num)\n",
    "    print()"
   ]
  },
  {
   "cell_type": "code",
   "execution_count": 93,
   "id": "502acd6f",
   "metadata": {},
   "outputs": [
    {
     "name": "stdout",
     "output_type": "stream",
     "text": [
      "a b c d e \n",
      "a b c d e \n",
      "a b c d e \n",
      "a b c d e \n",
      "a b c d e \n"
     ]
    }
   ],
   "source": [
    "n=5\n",
    "# num=97\n",
    "for i in range(n):\n",
    "    num=97\n",
    "    for j in range(n):\n",
    "        print(chr(num),end=\" \")\n",
    "        num=num+1\n",
    "    print()\n",
    "    \n",
    "    \n"
   ]
  },
  {
   "cell_type": "code",
   "execution_count": 96,
   "id": "6925df31",
   "metadata": {},
   "outputs": [
    {
     "name": "stdout",
     "output_type": "stream",
     "text": [
      "a b c d e 102\n",
      "\n",
      "a b c d e 102\n",
      "\n",
      "a b c d e 102\n",
      "\n",
      "a b c d e 102\n",
      "\n",
      "a b c d e 102\n",
      "\n"
     ]
    }
   ],
   "source": [
    "n=5\n",
    "# num=97\n",
    "for i in range(n):\n",
    "    num=97\n",
    "    for j in range(n):\n",
    "        print(chr(num),end=\" \")\n",
    "        num=num+1\n",
    "    print(num)\n",
    "    print()"
   ]
  },
  {
   "cell_type": "code",
   "execution_count": 98,
   "id": "4151955c",
   "metadata": {},
   "outputs": [
    {
     "name": "stdout",
     "output_type": "stream",
     "text": [
      "\n",
      "A \n",
      "A A \n",
      "A A A \n",
      "A A A A \n"
     ]
    }
   ],
   "source": [
    "n=5\n",
    "num=65\n",
    "for i in range(n):\n",
    "    for j in range(i):\n",
    "        print(chr(num),end=\" \")\n",
    "    print()"
   ]
  },
  {
   "cell_type": "code",
   "execution_count": 104,
   "id": "cd2ffd1c",
   "metadata": {},
   "outputs": [
    {
     "name": "stdout",
     "output_type": "stream",
     "text": [
      "\n",
      "A \n",
      "B C \n",
      "D E F \n",
      "G H I J \n",
      "K L M N O \n"
     ]
    }
   ],
   "source": [
    "n=6\n",
    "num=65\n",
    "for i in range(n):\n",
    "    for j in range(i):\n",
    "        print(chr(num), end=\" \")\n",
    "        num=num+1\n",
    "    print()"
   ]
  },
  {
   "cell_type": "code",
   "execution_count": 105,
   "id": "f160c76a",
   "metadata": {},
   "outputs": [
    {
     "name": "stdout",
     "output_type": "stream",
     "text": [
      "enter the number :15\n",
      "\n",
      "1 \n",
      "2 3 \n",
      "3 4 5 \n",
      "4 5 6 7 \n",
      "5 6 7 8 9 \n",
      "6 7 8 9 10 11 \n",
      "7 8 9 10 11 12 13 \n",
      "8 9 10 11 12 13 14 15 \n",
      "9 10 11 12 13 14 15 16 17 \n",
      "10 11 12 13 14 15 16 17 18 19 \n",
      "11 12 13 14 15 16 17 18 19 20 21 \n",
      "12 13 14 15 16 17 18 19 20 21 22 23 \n",
      "13 14 15 16 17 18 19 20 21 22 23 24 25 \n",
      "14 15 16 17 18 19 20 21 22 23 24 25 26 27 \n"
     ]
    }
   ],
   "source": [
    "n=int(input(\"enter the number :\"))\n",
    "for i in range(n):\n",
    "    for j in range(i):\n",
    "        print(i, end=\" \")\n",
    "        i=i+1\n",
    "    print()"
   ]
  },
  {
   "cell_type": "code",
   "execution_count": 107,
   "id": "a61bc1e4",
   "metadata": {},
   "outputs": [
    {
     "name": "stdout",
     "output_type": "stream",
     "text": [
      "enter the number :6\n",
      "\n",
      "1 \n",
      "2 3 \n",
      "4 5 6 \n",
      "7 8 9 10 \n",
      "11 12 13 14 15 \n"
     ]
    }
   ],
   "source": [
    "n=int(input(\"enter the number :\"))\n",
    "num=1\n",
    "for i in range(n):\n",
    "    for j in range(i):\n",
    "        print(num, end=\" \")\n",
    "        num=num+1\n",
    "    print()"
   ]
  },
  {
   "cell_type": "code",
   "execution_count": 108,
   "id": "69e50c84",
   "metadata": {},
   "outputs": [
    {
     "name": "stdout",
     "output_type": "stream",
     "text": [
      "enter the number :5\n",
      "\n",
      "1 \n",
      "4 9 \n",
      "16 25 36 \n",
      "49 64 81 100 \n"
     ]
    }
   ],
   "source": [
    "n=int(input(\"enter the number :\"))\n",
    "num=1\n",
    "for i in range(n):\n",
    "    for j in range(i):\n",
    "        print(num**2, end=\" \")\n",
    "        num=num+1\n",
    "    print()"
   ]
  }
 ],
 "metadata": {
  "kernelspec": {
   "display_name": "Python 3 (ipykernel)",
   "language": "python",
   "name": "python3"
  },
  "language_info": {
   "codemirror_mode": {
    "name": "ipython",
    "version": 3
   },
   "file_extension": ".py",
   "mimetype": "text/x-python",
   "name": "python",
   "nbconvert_exporter": "python",
   "pygments_lexer": "ipython3",
   "version": "3.9.12"
  }
 },
 "nbformat": 4,
 "nbformat_minor": 5
}
