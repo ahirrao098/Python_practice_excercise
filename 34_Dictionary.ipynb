{
 "cells": [
  {
   "cell_type": "code",
   "execution_count": null,
   "id": "5b98a5d4",
   "metadata": {},
   "outputs": [],
   "source": [
    "sub_names= ['Phy','Che','Math','Eng','Bio']\n",
    "sub_marks= [93,94,91,95,90]"
   ]
  },
  {
   "cell_type": "code",
   "execution_count": 1,
   "id": "9c0b3f4c",
   "metadata": {},
   "outputs": [
    {
     "name": "stdout",
     "output_type": "stream",
     "text": [
      "{'Phy': 90, 'Che': 90, 'Math': 90, 'Eng': 90, 'Bio': 90}\n"
     ]
    }
   ],
   "source": [
    "sub_names= ['Phy','Che','Math','Eng','Bio']\n",
    "sub_marks= [93,94,91,95,90]\n",
    "d1={}\n",
    "for i in sub_names:\n",
    "    for j in sub_marks:\n",
    "        d1[i]=j\n",
    "        \n",
    "print(d1)"
   ]
  },
  {
   "cell_type": "code",
   "execution_count": 2,
   "id": "599e0efc",
   "metadata": {},
   "outputs": [
    {
     "name": "stdout",
     "output_type": "stream",
     "text": [
      "{'Phy': 93, 'Che': 94, 'Math': 91, 'Eng': 95, 'Bio': 90}\n"
     ]
    }
   ],
   "source": [
    "sub_names= ['Phy','Che','Math','Eng','Bio']\n",
    "sub_marks= [93,94,91,95,90]\n",
    "d1={}\n",
    "for i in range(len(sub_names)):\n",
    "    d1[sub_names[i]]=sub_marks[i]\n",
    "print(d1)"
   ]
  },
  {
   "cell_type": "code",
   "execution_count": null,
   "id": "0f2487ee",
   "metadata": {},
   "outputs": [],
   "source": [
    "dict.fromkeys(seq,value)"
   ]
  },
  {
   "cell_type": "code",
   "execution_count": 3,
   "id": "69a63f16",
   "metadata": {},
   "outputs": [
    {
     "data": {
      "text/plain": [
       "{'Phy': None, 'Che': None, 'Math': None, 'Eng': None, 'Bio': None}"
      ]
     },
     "execution_count": 3,
     "metadata": {},
     "output_type": "execute_result"
    }
   ],
   "source": [
    "sub_names= ['Phy','Che','Math','Eng','Bio']\n",
    "sub_marks= [93,94,91,95,90]\n",
    "dict.fromkeys(sub_names)"
   ]
  },
  {
   "cell_type": "code",
   "execution_count": 4,
   "id": "10476390",
   "metadata": {},
   "outputs": [
    {
     "data": {
      "text/plain": [
       "{'Phy': [93, 94, 91, 95, 90],\n",
       " 'Che': [93, 94, 91, 95, 90],\n",
       " 'Math': [93, 94, 91, 95, 90],\n",
       " 'Eng': [93, 94, 91, 95, 90],\n",
       " 'Bio': [93, 94, 91, 95, 90]}"
      ]
     },
     "execution_count": 4,
     "metadata": {},
     "output_type": "execute_result"
    }
   ],
   "source": [
    "sub_names= ['Phy','Che','Math','Eng','Bio']\n",
    "sub_marks= [93,94,91,95,90]\n",
    "dict.fromkeys(sub_names,sub_marks)"
   ]
  },
  {
   "cell_type": "code",
   "execution_count": 7,
   "id": "9592fd5e",
   "metadata": {},
   "outputs": [
    {
     "data": {
      "text/plain": [
       "{'Phy': 87, 'Che': 87, 'Math': 87, 'Eng': 87, 'Bio': 87}"
      ]
     },
     "execution_count": 7,
     "metadata": {},
     "output_type": "execute_result"
    }
   ],
   "source": [
    "sub_names= ['Phy','Che','Math','Eng','Bio']\n",
    "sub_marks= [93,94,91,95,90]\n",
    "value=87\n",
    "dict.fromkeys(sub_names,value)"
   ]
  },
  {
   "cell_type": "code",
   "execution_count": 9,
   "id": "b437525d",
   "metadata": {},
   "outputs": [
    {
     "data": {
      "text/plain": [
       "{'Phy': 93, 'Che': 94, 'Math': 91, 'Eng': 95, 'Bio': 90}"
      ]
     },
     "execution_count": 9,
     "metadata": {},
     "output_type": "execute_result"
    }
   ],
   "source": [
    "sub_names= ['Phy','Che','Math','Eng','Bio']\n",
    "sub_marks= [93,94,91,95,90]\n",
    "dict(zip(sub_names,sub_marks))"
   ]
  },
  {
   "cell_type": "markdown",
   "id": "a73b33d7",
   "metadata": {
    "run_control": {
     "marked": false
    }
   },
   "source": [
    "### square of 11 to 20 numbers"
   ]
  },
  {
   "cell_type": "code",
   "execution_count": null,
   "id": "547067a1",
   "metadata": {},
   "outputs": [],
   "source": [
    "{11:121,12:144}"
   ]
  },
  {
   "cell_type": "code",
   "execution_count": 10,
   "id": "6306f0ff",
   "metadata": {},
   "outputs": [
    {
     "name": "stdout",
     "output_type": "stream",
     "text": [
      "{11: 121, 12: 144, 13: 169, 14: 196, 15: 225, 16: 256, 17: 289, 18: 324, 19: 361, 20: 400}\n"
     ]
    }
   ],
   "source": [
    "squares={}\n",
    "for i in range(11,21):\n",
    "    squares[i]=i**2\n",
    "print(squares)"
   ]
  },
  {
   "cell_type": "code",
   "execution_count": 13,
   "id": "8a39d3ee",
   "metadata": {},
   "outputs": [
    {
     "name": "stdout",
     "output_type": "stream",
     "text": [
      "{'data': 3, 'science': 1, 'is': 3, 'an': 7, 'interdisciplinary': 1, 'field': 1, 'that': 1, 'uses': 1, 'scientific': 1, 'methods,': 1, 'processes,': 1, 'algorithms': 1, 'and': 5, 'systems': 1, 'to': 1, 'extract': 1, 'knowledge': 2, 'insights': 2, 'from': 2, 'noisy,': 1, 'structured': 2, 'unstructured': 1, 'data,': 1, 'apply': 1, 'actionable': 1, 'across': 1, 'a': 26, 'broad': 1, 'range': 1, 'of': 1, 'application': 1, 'domains.': 1}\n"
     ]
    }
   ],
   "source": [
    "string='''Data science is an interdisciplinary field that uses scientific methods,\n",
    "processes, algorithms and systems to extract knowledge and insights from noisy, structured\n",
    "and unstructured data, and apply knowledge and actionable insights from data across a broad\n",
    "range of application domains.'''\n",
    "\n",
    "string=string.lower()\n",
    "result={}\n",
    "for word in string.split():\n",
    "    result[word]=string.count(word)\n",
    "    \n",
    "print(result)"
   ]
  },
  {
   "cell_type": "markdown",
   "id": "b72b3edf",
   "metadata": {},
   "source": [
    "### ASCII Values for alphabets"
   ]
  },
  {
   "cell_type": "code",
   "execution_count": 15,
   "id": "41b8badc",
   "metadata": {},
   "outputs": [
    {
     "name": "stdout",
     "output_type": "stream",
     "text": [
      "{'a': 97, 'b': 98, 'c': 99, 'd': 100, 'e': 101, 'f': 102, 'g': 103, 'h': 104, 'i': 105, 'j': 106, 'k': 107, 'l': 108, 'm': 109, 'n': 110, 'o': 111, 'p': 112, 'q': 113, 'r': 114, 's': 115, 't': 116, 'u': 117, 'v': 118, 'w': 119, 'x': 120, 'y': 121, 'z': 122}\n"
     ]
    }
   ],
   "source": [
    "lower_case={}\n",
    "for i in range(97,123):\n",
    "    lower_case.update({chr(i):i})\n",
    "print(lower_case)"
   ]
  },
  {
   "cell_type": "code",
   "execution_count": 18,
   "id": "934476cb",
   "metadata": {},
   "outputs": [
    {
     "name": "stdout",
     "output_type": "stream",
     "text": [
      "{'A': 65, 'B': 66, 'C': 67, 'D': 68, 'E': 69, 'F': 70, 'G': 71, 'H': 72, 'I': 73, 'J': 74, 'K': 75, 'L': 76, 'M': 77, 'N': 78, 'O': 79, 'P': 80, 'Q': 81, 'R': 82, 'S': 83, 'T': 84, 'U': 85, 'V': 86, 'W': 87, 'X': 88, 'Y': 89, 'Z': 90, '[': 91, '\\\\': 92, ']': 93, '^': 94, '_': 95, '`': 96, 'a': 97, 'b': 98, 'c': 99, 'd': 100, 'e': 101, 'f': 102, 'g': 103, 'h': 104, 'i': 105, 'j': 106, 'k': 107, 'l': 108, 'm': 109, 'n': 110, 'o': 111, 'p': 112, 'q': 113, 'r': 114, 's': 115, 't': 116, 'u': 117, 'v': 118, 'w': 119, 'x': 120, 'y': 121, 'z': 122}\n"
     ]
    }
   ],
   "source": [
    "upper_case={}\n",
    "for i in range(65,123):\n",
    "    upper_case.update({chr(i):(i)})\n",
    "\n",
    "print(upper_case)"
   ]
  },
  {
   "cell_type": "code",
   "execution_count": 20,
   "id": "4a66b225",
   "metadata": {},
   "outputs": [
    {
     "name": "stdout",
     "output_type": "stream",
     "text": [
      "[('Bio', 90), ('Che', 94), ('Eng', 95), ('Math', 91), ('Phy', 93)]\n"
     ]
    }
   ],
   "source": [
    "sub_marks={'Phy': 93, 'Che': 94, 'Math': 91, 'Eng': 95, 'Bio': 90}\n",
    "sorted_items=sorted(sub_marks.items())\n",
    "print(sorted_items)"
   ]
  },
  {
   "cell_type": "code",
   "execution_count": 21,
   "id": "2a7453f6",
   "metadata": {},
   "outputs": [
    {
     "data": {
      "text/plain": [
       "{'Bio': 90, 'Math': 91, 'Phy': 93, 'Che': 94, 'Eng': 95}"
      ]
     },
     "execution_count": 21,
     "metadata": {},
     "output_type": "execute_result"
    }
   ],
   "source": [
    "sub_marks={'Phy': 93, 'Che': 94, 'Math': 91, 'Eng': 95, 'Bio': 90}\n",
    "new_dict={}\n",
    "for val in sorted(sub_marks.values()):\n",
    "    for key in sub_marks:\n",
    "        if sub_marks[key]==val:\n",
    "            new_dict[key]=val\n",
    "\n",
    "new_dict"
   ]
  },
  {
   "cell_type": "markdown",
   "id": "6fa0716c",
   "metadata": {},
   "source": [
    "### fromkeys"
   ]
  },
  {
   "cell_type": "code",
   "execution_count": 23,
   "id": "46f9249a",
   "metadata": {},
   "outputs": [
    {
     "data": {
      "text/plain": [
       "{'A': None, 'B': None, 'C': None, 'D': None}"
      ]
     },
     "execution_count": 23,
     "metadata": {},
     "output_type": "execute_result"
    }
   ],
   "source": [
    "dict.fromkeys([\"A\",\"B\",\"C\",\"D\"])"
   ]
  },
  {
   "cell_type": "code",
   "execution_count": 24,
   "id": "93a438ab",
   "metadata": {},
   "outputs": [
    {
     "data": {
      "text/plain": [
       "{'A': 100, 'B': 100, 'C': 100, 'D': 100}"
      ]
     },
     "execution_count": 24,
     "metadata": {},
     "output_type": "execute_result"
    }
   ],
   "source": [
    "dict.fromkeys([\"A\",\"B\",\"C\",\"D\"],100)"
   ]
  },
  {
   "cell_type": "code",
   "execution_count": 25,
   "id": "e09e9f08",
   "metadata": {},
   "outputs": [
    {
     "data": {
      "text/plain": [
       "{'A': [100, 200, 300, 400],\n",
       " 'B': [100, 200, 300, 400],\n",
       " 'C': [100, 200, 300, 400],\n",
       " 'D': [100, 200, 300, 400]}"
      ]
     },
     "execution_count": 25,
     "metadata": {},
     "output_type": "execute_result"
    }
   ],
   "source": [
    "dict.fromkeys([\"A\",\"B\",\"C\",\"D\"],[100,200,300,400])"
   ]
  },
  {
   "cell_type": "code",
   "execution_count": 26,
   "id": "80241545",
   "metadata": {},
   "outputs": [
    {
     "data": {
      "text/plain": [
       "{'A': 100, 'B': 200, 'C': 300, 'D': 400}"
      ]
     },
     "execution_count": 26,
     "metadata": {},
     "output_type": "execute_result"
    }
   ],
   "source": [
    "alpha=[\"A\",\"B\",\"C\",\"D\"]\n",
    "num=[100,200,300,400]\n",
    "dict(zip(alpha,num))"
   ]
  },
  {
   "cell_type": "markdown",
   "id": "3f5d74e3",
   "metadata": {},
   "source": [
    "### setdefault()"
   ]
  },
  {
   "cell_type": "code",
   "execution_count": null,
   "id": "69f0ed0a",
   "metadata": {},
   "outputs": [],
   "source": [
    "dict.setdefault()\n",
    "if key is present it returns corresponding value\n",
    "if key is not present a key:value pair is added in dict"
   ]
  },
  {
   "cell_type": "code",
   "execution_count": 28,
   "id": "8f79c38c",
   "metadata": {},
   "outputs": [
    {
     "data": {
      "text/plain": [
       "80"
      ]
     },
     "execution_count": 28,
     "metadata": {},
     "output_type": "execute_result"
    }
   ],
   "source": [
    "sub_marks={\"Phy\":93,\"Che\":94,\"Math\":80,\"Eng\":75,\"Bio\":65}\n",
    "sub_marks.setdefault(\"Math\")"
   ]
  },
  {
   "cell_type": "code",
   "execution_count": 29,
   "id": "c84dd8f6",
   "metadata": {},
   "outputs": [
    {
     "data": {
      "text/plain": [
       "94"
      ]
     },
     "execution_count": 29,
     "metadata": {},
     "output_type": "execute_result"
    }
   ],
   "source": [
    "sub_marks={\"Phy\":93,\"Che\":94,\"Math\":80,\"Eng\":75,\"Bio\":65}\n",
    "sub_marks.setdefault(\"Che\")"
   ]
  },
  {
   "cell_type": "code",
   "execution_count": 30,
   "id": "07931a8f",
   "metadata": {},
   "outputs": [],
   "source": [
    "sub_marks={\"Phy\":93,\"Che\":94,\"Math\":80,\"Eng\":75,\"Bio\":65}\n",
    "sub_marks.setdefault(\"Sci\")"
   ]
  },
  {
   "cell_type": "code",
   "execution_count": 31,
   "id": "6d745a6f",
   "metadata": {},
   "outputs": [
    {
     "data": {
      "text/plain": [
       "{'Phy': 93, 'Che': 94, 'Math': 80, 'Eng': 75, 'Bio': 65, 'Sci': None}"
      ]
     },
     "execution_count": 31,
     "metadata": {},
     "output_type": "execute_result"
    }
   ],
   "source": [
    "sub_marks"
   ]
  },
  {
   "cell_type": "code",
   "execution_count": 34,
   "id": "fb16ff48",
   "metadata": {},
   "outputs": [
    {
     "data": {
      "text/plain": [
       "67"
      ]
     },
     "execution_count": 34,
     "metadata": {},
     "output_type": "execute_result"
    }
   ],
   "source": [
    "sub_marks={'Phy': 93, 'Che': 94, 'Math': 91, 'Eng': 95, 'Bio': 90}\n",
    "sub_marks.setdefault(\"Sci\",67)"
   ]
  },
  {
   "cell_type": "code",
   "execution_count": 35,
   "id": "c29e8c76",
   "metadata": {},
   "outputs": [
    {
     "data": {
      "text/plain": [
       "{'Phy': 93, 'Che': 94, 'Math': 91, 'Eng': 95, 'Bio': 90, 'Sci': 67}"
      ]
     },
     "execution_count": 35,
     "metadata": {},
     "output_type": "execute_result"
    }
   ],
   "source": [
    "sub_marks"
   ]
  },
  {
   "cell_type": "markdown",
   "id": "d29b5bb4",
   "metadata": {},
   "source": [
    "#### Dictionary Functions\n",
    "get()\n",
    "keys()\n",
    "values()\n",
    "items()\n",
    "update()\n",
    "fromkeys()\n",
    "dict(zip())\n",
    "pop()\n",
    "popitem()\n",
    "clear()\n",
    "del\n",
    "setdefault()"
   ]
  },
  {
   "cell_type": "code",
   "execution_count": null,
   "id": "1c301ac4",
   "metadata": {},
   "outputs": [],
   "source": []
  }
 ],
 "metadata": {
  "kernelspec": {
   "display_name": "Python 3 (ipykernel)",
   "language": "python",
   "name": "python3"
  },
  "language_info": {
   "codemirror_mode": {
    "name": "ipython",
    "version": 3
   },
   "file_extension": ".py",
   "mimetype": "text/x-python",
   "name": "python",
   "nbconvert_exporter": "python",
   "pygments_lexer": "ipython3",
   "version": "3.9.12"
  }
 },
 "nbformat": 4,
 "nbformat_minor": 5
}
