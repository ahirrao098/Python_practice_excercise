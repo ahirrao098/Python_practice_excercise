{
 "cells": [
  {
   "cell_type": "markdown",
   "id": "37a2cd8a",
   "metadata": {},
   "source": [
    "Decision Making Statement if statement can not be empty elif(else if) statement contains a condition else will be empty"
   ]
  },
  {
   "cell_type": "code",
   "execution_count": null,
   "id": "01d281f1",
   "metadata": {},
   "outputs": [],
   "source": [
    "if condition: # True or False\n",
    "    code\n",
    "    statement\n",
    "elif condition: "
   ]
  },
  {
   "cell_type": "code",
   "execution_count": null,
   "id": "93dde2d8",
   "metadata": {},
   "outputs": [],
   "source": [
    "if :\n",
    "elif:\n",
    "elif:\n",
    "elif:\n",
    "else:"
   ]
  },
  {
   "cell_type": "code",
   "execution_count": 1,
   "id": "1406f049",
   "metadata": {},
   "outputs": [],
   "source": [
    "string='python'\n",
    "if string.istitle():   #true\n",
    "    print(\"Title case\")"
   ]
  },
  {
   "cell_type": "code",
   "execution_count": 2,
   "id": "2cba4791",
   "metadata": {},
   "outputs": [
    {
     "name": "stdout",
     "output_type": "stream",
     "text": [
      "not a title case\n"
     ]
    }
   ],
   "source": [
    "string='python'\n",
    "if string.istitle():   #true\n",
    "    print(\"Title case\")\n",
    "else:\n",
    "    print(\"not a title case\")"
   ]
  },
  {
   "cell_type": "code",
   "execution_count": 3,
   "id": "7b107c2d",
   "metadata": {},
   "outputs": [
    {
     "name": "stdout",
     "output_type": "stream",
     "text": [
      "Title case\n"
     ]
    }
   ],
   "source": [
    "string='Python'\n",
    "if string.istitle():   #true\n",
    "    print(\"Title case\")\n",
    "else:\n",
    "    print(\"not a title case\")"
   ]
  },
  {
   "cell_type": "code",
   "execution_count": 4,
   "id": "d8bc6ea2",
   "metadata": {},
   "outputs": [
    {
     "name": "stdout",
     "output_type": "stream",
     "text": [
      "string specified\n"
     ]
    }
   ],
   "source": [
    "a=\"class\"\n",
    "if a:\n",
    "    print(\"string specified\")"
   ]
  },
  {
   "cell_type": "code",
   "execution_count": 5,
   "id": "07fc8e02",
   "metadata": {},
   "outputs": [
    {
     "name": "stdout",
     "output_type": "stream",
     "text": [
      "list present\n"
     ]
    }
   ],
   "source": [
    "a=[1,2]\n",
    "if a:\n",
    "    print('list present')\n"
   ]
  },
  {
   "cell_type": "code",
   "execution_count": 6,
   "id": "8da20938",
   "metadata": {},
   "outputs": [
    {
     "ename": "IndentationError",
     "evalue": "expected an indented block (4079801954.py, line 6)",
     "output_type": "error",
     "traceback": [
      "\u001b[1;36m  Input \u001b[1;32mIn [6]\u001b[1;36m\u001b[0m\n\u001b[1;33m    elif a<=c:\u001b[0m\n\u001b[1;37m    ^\u001b[0m\n\u001b[1;31mIndentationError\u001b[0m\u001b[1;31m:\u001b[0m expected an indented block\n"
     ]
    }
   ],
   "source": [
    "if a<b:\n",
    "    if a<c:\n",
    "        if a==b==c:\n",
    "            print()\n",
    "        elif a==b==c:\n",
    "    elif a<=c:\n",
    "elif a<b:"
   ]
  },
  {
   "cell_type": "markdown",
   "id": "cc21ae1a",
   "metadata": {},
   "source": [
    "# Operators"
   ]
  },
  {
   "cell_type": "markdown",
   "id": "12cd789e",
   "metadata": {},
   "source": [
    "### 1.Comparison Operators"
   ]
  },
  {
   "cell_type": "code",
   "execution_count": null,
   "id": "1d1e0bff",
   "metadata": {},
   "outputs": [],
   "source": [
    "a == b # Equal Operator\n",
    "a != b # Not equal\n",
    "a <  b # Less than\n",
    "a > b  # greater than\n",
    "a <= b # less than equal to\n",
    "a >= b # greater than equal to"
   ]
  },
  {
   "cell_type": "code",
   "execution_count": 7,
   "id": "035f5cad",
   "metadata": {},
   "outputs": [
    {
     "data": {
      "text/plain": [
       "True"
      ]
     },
     "execution_count": 7,
     "metadata": {},
     "output_type": "execute_result"
    }
   ],
   "source": [
    "a=100\n",
    "b=100\n",
    "a==b"
   ]
  },
  {
   "cell_type": "code",
   "execution_count": 8,
   "id": "531e1381",
   "metadata": {},
   "outputs": [
    {
     "data": {
      "text/plain": [
       "False"
      ]
     },
     "execution_count": 8,
     "metadata": {},
     "output_type": "execute_result"
    }
   ],
   "source": [
    "a=103\n",
    "b=100\n",
    "a==b"
   ]
  },
  {
   "cell_type": "code",
   "execution_count": 9,
   "id": "cda93bd8",
   "metadata": {},
   "outputs": [
    {
     "data": {
      "text/plain": [
       "True"
      ]
     },
     "execution_count": 9,
     "metadata": {},
     "output_type": "execute_result"
    }
   ],
   "source": [
    "a=12\n",
    "b=25\n",
    "\n",
    "a!=b"
   ]
  },
  {
   "cell_type": "code",
   "execution_count": 10,
   "id": "ad6be4d4",
   "metadata": {},
   "outputs": [
    {
     "data": {
      "text/plain": [
       "False"
      ]
     },
     "execution_count": 10,
     "metadata": {},
     "output_type": "execute_result"
    }
   ],
   "source": [
    "a=13\n",
    "b=23\n",
    "a>b"
   ]
  },
  {
   "cell_type": "code",
   "execution_count": 11,
   "id": "e5218daa",
   "metadata": {},
   "outputs": [
    {
     "data": {
      "text/plain": [
       "True"
      ]
     },
     "execution_count": 11,
     "metadata": {},
     "output_type": "execute_result"
    }
   ],
   "source": [
    "a=10\n",
    "b=9\n",
    "a>=b"
   ]
  },
  {
   "cell_type": "markdown",
   "id": "0f487bfa",
   "metadata": {},
   "source": [
    "# Logical Operators"
   ]
  },
  {
   "cell_type": "code",
   "execution_count": null,
   "id": "1dffdd9d",
   "metadata": {},
   "outputs": [],
   "source": [
    "1. and\n",
    "True and True   >> True\n",
    "True and False  >> False\n",
    "False and True  >> False\n",
    "False and False >> False\n",
    "True and True and True >> True\n",
    "True and False and True >> False\n",
    "\n",
    "2. or\n",
    "True or True    >> True\n",
    "True or False   >> True\n",
    "False or True   >> True\n",
    "False or False  >> False\n",
    "True or True or True >> True\n",
    "True or False or True >> True"
   ]
  },
  {
   "cell_type": "markdown",
   "id": "d8dd646f",
   "metadata": {},
   "source": [
    "# If statement"
   ]
  },
  {
   "cell_type": "code",
   "execution_count": 17,
   "id": "d83451bd",
   "metadata": {},
   "outputs": [
    {
     "name": "stdout",
     "output_type": "stream",
     "text": [
      "a is greater than b\n"
     ]
    }
   ],
   "source": [
    "a=200\n",
    "b=300\n",
    "if a < b:\n",
    "    print(\"a is less than b\")\n",
    "    \n",
    "else:\n",
    "    print(\"b is greater than b\")"
   ]
  },
  {
   "cell_type": "code",
   "execution_count": 18,
   "id": "bfd90589",
   "metadata": {},
   "outputs": [
    {
     "name": "stdout",
     "output_type": "stream",
     "text": [
      "a is less than b\n",
      "we are in if statement\n"
     ]
    }
   ],
   "source": [
    "a=200\n",
    "b=300\n",
    "\n",
    "if a<b:\n",
    "    print(\"a is less than b\")\n",
    "    print(\"we are in if statement\")\n",
    "    \n",
    "else:\n",
    "    print(\"a is greater than b\")\n",
    "    print(\"we are in else statement\")"
   ]
  },
  {
   "cell_type": "code",
   "execution_count": 19,
   "id": "6ccd3b58",
   "metadata": {},
   "outputs": [
    {
     "name": "stdout",
     "output_type": "stream",
     "text": [
      "a is greater than b\n",
      "we are in else statement\n"
     ]
    }
   ],
   "source": [
    "a=400\n",
    "b=300\n",
    "\n",
    "if a<b:\n",
    "    print(\"a is less than b\")\n",
    "    print(\"we are in if statement\")\n",
    "    \n",
    "else:\n",
    "    print(\"a is greater than b\")\n",
    "    print(\"we are in else statement\")"
   ]
  },
  {
   "cell_type": "code",
   "execution_count": 20,
   "id": "c1f01d5e",
   "metadata": {},
   "outputs": [
    {
     "name": "stdout",
     "output_type": "stream",
     "text": [
      "a is equal to b\n",
      "we are in elif statement\n"
     ]
    }
   ],
   "source": [
    "a=300\n",
    "b=300\n",
    "if a<b:\n",
    "    print(\"a is less than b\")\n",
    "    print(\"we are in if statement\")\n",
    "    \n",
    "elif a==b:\n",
    "    print(\"a is equal to b\")\n",
    "    print(\"we are in elif statement\")\n",
    "    \n",
    "else:\n",
    "    print(\"a is greater than b\")\n",
    "    print(\"we are in else statement\")"
   ]
  },
  {
   "cell_type": "code",
   "execution_count": 21,
   "id": "ec839a61",
   "metadata": {},
   "outputs": [
    {
     "name": "stdout",
     "output_type": "stream",
     "text": [
      "a is greater than balaji\n"
     ]
    }
   ],
   "source": [
    "a=300\n",
    "b=50\n",
    "if a<b:\n",
    "    print(\"a is less than b\")\n",
    "\n",
    "elif a==b:\n",
    "    print(\"a is equal to b\")\n",
    "    \n",
    "else:\n",
    "    print(\"a is greater than balaji\")"
   ]
  },
  {
   "cell_type": "code",
   "execution_count": 27,
   "id": "f3d89def",
   "metadata": {},
   "outputs": [
    {
     "name": "stdout",
     "output_type": "stream",
     "text": [
      "a is greater than b\n",
      "a is equal to b\n"
     ]
    }
   ],
   "source": [
    "a=300\n",
    "b=300\n",
    "if a >= b:\n",
    "    print(\"a is greater than b\")\n",
    "if a==b:\n",
    "    print(\"a is equal to b\")\n",
    "else:\n",
    "    print(\"a is less than b\")"
   ]
  },
  {
   "cell_type": "code",
   "execution_count": null,
   "id": "26ece7f7",
   "metadata": {},
   "outputs": [],
   "source": []
  },
  {
   "cell_type": "code",
   "execution_count": null,
   "id": "1347ccf0",
   "metadata": {},
   "outputs": [],
   "source": []
  },
  {
   "cell_type": "code",
   "execution_count": null,
   "id": "dfe24aaa",
   "metadata": {},
   "outputs": [],
   "source": []
  },
  {
   "cell_type": "code",
   "execution_count": null,
   "id": "bf9f04e7",
   "metadata": {},
   "outputs": [],
   "source": []
  },
  {
   "cell_type": "code",
   "execution_count": null,
   "id": "00074c2b",
   "metadata": {},
   "outputs": [],
   "source": []
  },
  {
   "cell_type": "code",
   "execution_count": null,
   "id": "ce306682",
   "metadata": {},
   "outputs": [],
   "source": []
  },
  {
   "cell_type": "code",
   "execution_count": null,
   "id": "07fed53e",
   "metadata": {},
   "outputs": [],
   "source": []
  }
 ],
 "metadata": {
  "kernelspec": {
   "display_name": "Python 3 (ipykernel)",
   "language": "python",
   "name": "python3"
  },
  "language_info": {
   "codemirror_mode": {
    "name": "ipython",
    "version": 3
   },
   "file_extension": ".py",
   "mimetype": "text/x-python",
   "name": "python",
   "nbconvert_exporter": "python",
   "pygments_lexer": "ipython3",
   "version": "3.9.12"
  }
 },
 "nbformat": 4,
 "nbformat_minor": 5
}
