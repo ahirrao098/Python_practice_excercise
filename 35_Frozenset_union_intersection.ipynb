{
 "cells": [
  {
   "cell_type": "markdown",
   "id": "91f4c909",
   "metadata": {},
   "source": [
    "### Set\n",
    "#### Unordered Mutable Duplicates not allowed\n",
    "\n",
    "### Frozenset\n",
    "#### Unordered Immutable Duplicates are not allowed"
   ]
  },
  {
   "cell_type": "code",
   "execution_count": 1,
   "id": "a9b8b0e4",
   "metadata": {},
   "outputs": [
    {
     "name": "stdout",
     "output_type": "stream",
     "text": [
      "{2, 3, 4, 5, 6, 7} 6\n"
     ]
    }
   ],
   "source": [
    "s1={2,3,3,4,5,6,6,7,7}\n",
    "print(s1, len(s1))"
   ]
  },
  {
   "cell_type": "code",
   "execution_count": 2,
   "id": "af7ed045",
   "metadata": {},
   "outputs": [
    {
     "name": "stdout",
     "output_type": "stream",
     "text": [
      "frozenset({2, 3, 4, 5, 6, 7})\n"
     ]
    }
   ],
   "source": [
    "s1={2,3,3,4,5,6,6,7,7}\n",
    "fs1=frozenset(s1)\n",
    "print(fs1)"
   ]
  },
  {
   "cell_type": "code",
   "execution_count": 3,
   "id": "e7e3fc2d",
   "metadata": {},
   "outputs": [
    {
     "data": {
      "text/plain": [
       "frozenset({2, 3, 4, 5, 6, 7})"
      ]
     },
     "execution_count": 3,
     "metadata": {},
     "output_type": "execute_result"
    }
   ],
   "source": [
    "fs1"
   ]
  },
  {
   "cell_type": "code",
   "execution_count": 4,
   "id": "bc09f69f",
   "metadata": {},
   "outputs": [
    {
     "data": {
      "text/plain": [
       "frozenset"
      ]
     },
     "execution_count": 4,
     "metadata": {},
     "output_type": "execute_result"
    }
   ],
   "source": [
    "fs2=frozenset()\n",
    "type(fs2)"
   ]
  },
  {
   "cell_type": "code",
   "execution_count": 5,
   "id": "8ff07ff3",
   "metadata": {},
   "outputs": [
    {
     "name": "stdout",
     "output_type": "stream",
     "text": [
      "frozenset({40, 10, 20, 30})\n"
     ]
    }
   ],
   "source": [
    "fs3=frozenset({10,20,20,30,10,40})\n",
    "print(fs3)"
   ]
  },
  {
   "cell_type": "code",
   "execution_count": 8,
   "id": "4b6035e8",
   "metadata": {},
   "outputs": [
    {
     "name": "stdout",
     "output_type": "stream",
     "text": [
      "{3, 4, 5, 6, 7, 20, 30}\n",
      "{3, 4, 5, 6, 7, 40, 10, 20, 30}\n"
     ]
    }
   ],
   "source": [
    "s1 = {20,3,30,4,5,6,6,7,7}\n",
    "s2 = {10,20,20,30,10,40}\n",
    "s2.update(s1)\n",
    "print(s1)\n",
    "print(s2)"
   ]
  },
  {
   "cell_type": "code",
   "execution_count": 9,
   "id": "a65a6822",
   "metadata": {},
   "outputs": [
    {
     "name": "stdout",
     "output_type": "stream",
     "text": [
      "{2, 3, 4, 5, 6, 7}\n",
      "{40, 10, 20, 30}\n",
      "{2, 3, 4, 5, 6, 7, 40, 10, 20, 30}\n"
     ]
    }
   ],
   "source": [
    "s1 = {2,3,3,4,5,6,6,7,7}\n",
    "s2 = {10,20,20,30,10,40}\n",
    "s3=s1.union(s2)\n",
    "print(s1)\n",
    "print(s2)\n",
    "print(s3)"
   ]
  },
  {
   "cell_type": "code",
   "execution_count": 10,
   "id": "77609c80",
   "metadata": {},
   "outputs": [
    {
     "name": "stdout",
     "output_type": "stream",
     "text": [
      "frozenset({2, 3, 4, 5, 6, 7})\n",
      "frozenset({40, 10, 20, 30})\n"
     ]
    },
    {
     "ename": "AttributeError",
     "evalue": "'frozenset' object has no attribute 'update'",
     "output_type": "error",
     "traceback": [
      "\u001b[1;31m---------------------------------------------------------------------------\u001b[0m",
      "\u001b[1;31mAttributeError\u001b[0m                            Traceback (most recent call last)",
      "Input \u001b[1;32mIn [10]\u001b[0m, in \u001b[0;36m<cell line: 7>\u001b[1;34m()\u001b[0m\n\u001b[0;32m      5\u001b[0m fs2\u001b[38;5;241m=\u001b[39m\u001b[38;5;28mfrozenset\u001b[39m({\u001b[38;5;241m10\u001b[39m,\u001b[38;5;241m20\u001b[39m,\u001b[38;5;241m20\u001b[39m,\u001b[38;5;241m30\u001b[39m,\u001b[38;5;241m10\u001b[39m,\u001b[38;5;241m40\u001b[39m})\n\u001b[0;32m      6\u001b[0m \u001b[38;5;28mprint\u001b[39m(fs2)\n\u001b[1;32m----> 7\u001b[0m \u001b[43mfs1\u001b[49m\u001b[38;5;241;43m.\u001b[39;49m\u001b[43mupdate\u001b[49m(fs2)\n",
      "\u001b[1;31mAttributeError\u001b[0m: 'frozenset' object has no attribute 'update'"
     ]
    }
   ],
   "source": [
    "s1 = {2,3,3,4,5,6,6,7,7}\n",
    "fs1=frozenset(s1)\n",
    "print(fs1)\n",
    "\n",
    "fs2=frozenset({10,20,20,30,10,40})\n",
    "print(fs2)\n",
    "fs1.update(fs2)"
   ]
  },
  {
   "cell_type": "code",
   "execution_count": 11,
   "id": "d730c669",
   "metadata": {},
   "outputs": [
    {
     "name": "stdout",
     "output_type": "stream",
     "text": [
      "frozenset({2, 3, 4, 5, 6, 7})\n",
      "frozenset({40, 10, 20, 30})\n",
      "frozenset({2, 3, 4, 5, 6, 7, 40, 10, 20, 30})\n"
     ]
    }
   ],
   "source": [
    "s1 = {2,3,3,4,5,6,6,7,7}\n",
    "fs1=frozenset(s1)\n",
    "print(fs1)\n",
    "\n",
    "fs2=frozenset({10,20,20,30,10,40})\n",
    "print(fs2)\n",
    "fs3 = fs1.union(fs2)\n",
    "print(fs3)"
   ]
  },
  {
   "cell_type": "code",
   "execution_count": null,
   "id": "f64d9faf",
   "metadata": {},
   "outputs": [],
   "source": [
    "Frozenset function:\n",
    "    1. union\n",
    "    2. intersetion\n",
    "    3. difference\n",
    "    4. symmetric_difference"
   ]
  },
  {
   "cell_type": "code",
   "execution_count": 12,
   "id": "a3f21f61",
   "metadata": {},
   "outputs": [
    {
     "name": "stdout",
     "output_type": "stream",
     "text": [
      "frozenset({2, 3, 4, 5, 6, 7})\n",
      "frozenset({2, 3, 4, 5, 7, 8, 9})\n"
     ]
    },
    {
     "data": {
      "text/plain": [
       "frozenset({6, 8, 9})"
      ]
     },
     "execution_count": 12,
     "metadata": {},
     "output_type": "execute_result"
    }
   ],
   "source": [
    "s1 = {2,3,3,4,5,6,6,7,7}\n",
    "fs1 = frozenset(s1)\n",
    "print(fs1)\n",
    "\n",
    "fs2 = frozenset({2,8,9,3,2,4,5,7})\n",
    "print(fs2)\n",
    "fs1.intersection(fs2)\n",
    "fs1.difference(fs2)\n",
    "fs1.symmetric_difference(fs2)"
   ]
  },
  {
   "cell_type": "code",
   "execution_count": 13,
   "id": "be0729de",
   "metadata": {},
   "outputs": [
    {
     "name": "stdout",
     "output_type": "stream",
     "text": [
      "the frozenset is :  frozenset({'Math', 'Che', 'Phy'})\n"
     ]
    }
   ],
   "source": [
    "dict1={\"Phy\":100,\"Che\":98,\"Math\":98}\n",
    "keys=frozenset(dict1)\n",
    "\n",
    "print(\"the frozenset is : \", keys)"
   ]
  },
  {
   "cell_type": "code",
   "execution_count": 14,
   "id": "f6910200",
   "metadata": {},
   "outputs": [
    {
     "data": {
      "text/plain": [
       "['Phy', 'Che', 'Math']"
      ]
     },
     "execution_count": 14,
     "metadata": {},
     "output_type": "execute_result"
    }
   ],
   "source": [
    "list(dict1)"
   ]
  },
  {
   "cell_type": "code",
   "execution_count": 15,
   "id": "f2f2fa61",
   "metadata": {},
   "outputs": [
    {
     "data": {
      "text/plain": [
       "[100, 98, 98]"
      ]
     },
     "execution_count": 15,
     "metadata": {},
     "output_type": "execute_result"
    }
   ],
   "source": [
    "list(dict1.values())"
   ]
  },
  {
   "cell_type": "code",
   "execution_count": null,
   "id": "ece4671b",
   "metadata": {},
   "outputs": [],
   "source": []
  },
  {
   "cell_type": "code",
   "execution_count": null,
   "id": "7f725484",
   "metadata": {},
   "outputs": [],
   "source": []
  },
  {
   "cell_type": "code",
   "execution_count": null,
   "id": "5039150a",
   "metadata": {},
   "outputs": [],
   "source": []
  },
  {
   "cell_type": "code",
   "execution_count": null,
   "id": "f8b4a948",
   "metadata": {},
   "outputs": [],
   "source": []
  },
  {
   "cell_type": "code",
   "execution_count": null,
   "id": "7ab06603",
   "metadata": {},
   "outputs": [],
   "source": []
  },
  {
   "cell_type": "code",
   "execution_count": null,
   "id": "3fd1498c",
   "metadata": {},
   "outputs": [],
   "source": []
  }
 ],
 "metadata": {
  "kernelspec": {
   "display_name": "Python 3 (ipykernel)",
   "language": "python",
   "name": "python3"
  },
  "language_info": {
   "codemirror_mode": {
    "name": "ipython",
    "version": 3
   },
   "file_extension": ".py",
   "mimetype": "text/x-python",
   "name": "python",
   "nbconvert_exporter": "python",
   "pygments_lexer": "ipython3",
   "version": "3.9.12"
  }
 },
 "nbformat": 4,
 "nbformat_minor": 5
}
