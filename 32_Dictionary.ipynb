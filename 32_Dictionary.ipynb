{
 "cells": [
  {
   "cell_type": "markdown",
   "id": "cce00e2e",
   "metadata": {},
   "source": [
    "Dict: Mutable, Insertion order is not preserved, Duplicates not allowed(only key)\n",
    "\n",
    "Python >= 3.6 >> Ordered Python <3.6 >> Unordered\n",
    "\n",
    "dict holds key and value pair comma seperated dict1= {'key':'value'} indexing and slicing are not applicable\n",
    "\n",
    "Duplicates not allowed: key >> Immutable Datatype : (int, float, str, tuple) >> Can not be duplicate value >> Any Datatype : (int, float, str, tuple, list , set, dict, array, dataframe) >> Can be Duplicate"
   ]
  },
  {
   "cell_type": "code",
   "execution_count": 1,
   "id": "9340a1c5",
   "metadata": {},
   "outputs": [
    {
     "data": {
      "text/plain": [
       "set"
      ]
     },
     "execution_count": 1,
     "metadata": {},
     "output_type": "execute_result"
    }
   ],
   "source": [
    "s1=set()\n",
    "type(s1)"
   ]
  },
  {
   "cell_type": "code",
   "execution_count": 2,
   "id": "24fa93eb",
   "metadata": {},
   "outputs": [
    {
     "data": {
      "text/plain": [
       "dict"
      ]
     },
     "execution_count": 2,
     "metadata": {},
     "output_type": "execute_result"
    }
   ],
   "source": [
    "d1={}\n",
    "type(d1)"
   ]
  },
  {
   "cell_type": "code",
   "execution_count": 3,
   "id": "d1375ce8",
   "metadata": {},
   "outputs": [
    {
     "data": {
      "text/plain": [
       "dict"
      ]
     },
     "execution_count": 3,
     "metadata": {},
     "output_type": "execute_result"
    }
   ],
   "source": [
    "d1=dict()\n",
    "type(d1)"
   ]
  },
  {
   "cell_type": "code",
   "execution_count": 4,
   "id": "309a50b3",
   "metadata": {},
   "outputs": [
    {
     "data": {
      "text/plain": [
       "1"
      ]
     },
     "execution_count": 4,
     "metadata": {},
     "output_type": "execute_result"
    }
   ],
   "source": [
    "d1={\"Name\":\"Virat\"}\n",
    "len(d1)"
   ]
  },
  {
   "cell_type": "code",
   "execution_count": 5,
   "id": "0df4c0b6",
   "metadata": {},
   "outputs": [
    {
     "data": {
      "text/plain": [
       "{'Name': 'Virat'}"
      ]
     },
     "execution_count": 5,
     "metadata": {},
     "output_type": "execute_result"
    }
   ],
   "source": [
    "d1"
   ]
  },
  {
   "cell_type": "code",
   "execution_count": 10,
   "id": "4febc4cf",
   "metadata": {},
   "outputs": [
    {
     "name": "stdout",
     "output_type": "stream",
     "text": [
      "{'Name': 'Virat', 'Age': 32} 2 <class 'dict'>\n"
     ]
    }
   ],
   "source": [
    "d1={\"Name\":\"Virat\",\"Age\":32}\n",
    "print(d1,len(d1),type(d1))"
   ]
  },
  {
   "cell_type": "code",
   "execution_count": 11,
   "id": "0c9d9e5d",
   "metadata": {},
   "outputs": [
    {
     "name": "stdout",
     "output_type": "stream",
     "text": [
      "{'Name': 'Rohit', 'Score': 200, 'Age': 34} 3 <class 'dict'>\n"
     ]
    }
   ],
   "source": [
    "d1={\"Name\":\"Rohit\",\"Score\":200,\"Age\":34}\n",
    "print(d1,len(d1),type(d1))"
   ]
  },
  {
   "cell_type": "code",
   "execution_count": 12,
   "id": "4621621a",
   "metadata": {},
   "outputs": [
    {
     "name": "stdout",
     "output_type": "stream",
     "text": [
      "{'Name': 'Rohit', 'Score': 200, 'Age': 34, 100: 100}\n"
     ]
    }
   ],
   "source": [
    "d1={\"Name\":\"Rohit\",\"Score\":200,\"Age\":34,100:100}\n",
    "print(d1)"
   ]
  },
  {
   "cell_type": "code",
   "execution_count": 13,
   "id": "c6628aec",
   "metadata": {},
   "outputs": [
    {
     "name": "stdout",
     "output_type": "stream",
     "text": [
      "{'Name': 'Rohit', 'Score': 200, 'Age': 34, 100: 100, 10.5: 200} 5\n"
     ]
    }
   ],
   "source": [
    "d1={\"Name\":\"Rohit\",\"Score\":200,\"Age\":34,100:100,10.5:200}\n",
    "print(d1,len(d1))"
   ]
  },
  {
   "cell_type": "code",
   "execution_count": 15,
   "id": "6d348ec8",
   "metadata": {},
   "outputs": [],
   "source": [
    "d1={\"Name\":[\"Rohit\",\"virat\"],\"Score\":200,\"Age\":34,100:100,10.5:200}"
   ]
  },
  {
   "cell_type": "code",
   "execution_count": 16,
   "id": "2b4d95d1",
   "metadata": {},
   "outputs": [
    {
     "name": "stdout",
     "output_type": "stream",
     "text": [
      "{'Name': ['Rohit', 'virat'], 'Score': 200, 'Age': 34, 100: 100, 10.5: 200}\n"
     ]
    }
   ],
   "source": [
    "print(d1)"
   ]
  },
  {
   "cell_type": "markdown",
   "id": "d39342fb",
   "metadata": {},
   "source": [
    "#### Access Dictionary items"
   ]
  },
  {
   "cell_type": "code",
   "execution_count": 18,
   "id": "18c30480",
   "metadata": {},
   "outputs": [
    {
     "name": "stdout",
     "output_type": "stream",
     "text": [
      "{'Employee Name': 'Sagar', 'Comapany': 'Brose', 'Age': 31, 'Salary': 60000} 4\n"
     ]
    }
   ],
   "source": [
    "employee_data={\"Employee Name\":\"Sagar\",\n",
    "              \"Comapany\":\"Brose\",\n",
    "              \"Age\":31,\n",
    "              \"Salary\":60000}\n",
    "print(employee_data,len(employee_data))"
   ]
  },
  {
   "cell_type": "code",
   "execution_count": 19,
   "id": "fd039696",
   "metadata": {},
   "outputs": [
    {
     "data": {
      "text/plain": [
       "31"
      ]
     },
     "execution_count": 19,
     "metadata": {},
     "output_type": "execute_result"
    }
   ],
   "source": [
    "employee_data[\"Age\"]"
   ]
  },
  {
   "cell_type": "code",
   "execution_count": 20,
   "id": "94433aef",
   "metadata": {},
   "outputs": [
    {
     "data": {
      "text/plain": [
       "'Brose'"
      ]
     },
     "execution_count": 20,
     "metadata": {},
     "output_type": "execute_result"
    }
   ],
   "source": [
    "employee_data[\"Comapany\"]"
   ]
  },
  {
   "cell_type": "markdown",
   "id": "c2f219ed",
   "metadata": {},
   "source": [
    "#### get()"
   ]
  },
  {
   "cell_type": "code",
   "execution_count": 21,
   "id": "9dabbd9a",
   "metadata": {},
   "outputs": [
    {
     "data": {
      "text/plain": [
       "'Sagar'"
      ]
     },
     "execution_count": 21,
     "metadata": {},
     "output_type": "execute_result"
    }
   ],
   "source": [
    "employee_data.get(\"Employee Name\")"
   ]
  },
  {
   "cell_type": "code",
   "execution_count": 22,
   "id": "f874e3ea",
   "metadata": {},
   "outputs": [
    {
     "data": {
      "text/plain": [
       "60000"
      ]
     },
     "execution_count": 22,
     "metadata": {},
     "output_type": "execute_result"
    }
   ],
   "source": [
    "employee_data.get(\"Salary\")"
   ]
  },
  {
   "cell_type": "markdown",
   "id": "43a11a59",
   "metadata": {},
   "source": [
    "#### for loop on dictionary"
   ]
  },
  {
   "cell_type": "code",
   "execution_count": null,
   "id": "b21806c0",
   "metadata": {},
   "outputs": [],
   "source": [
    "employee_data = {'Employee Name': 'Sagar',\n",
    "                'Salary':50000,\n",
    "                'Age':30,\n",
    "                'Company':'Capgemini'}"
   ]
  },
  {
   "cell_type": "markdown",
   "id": "2221a586",
   "metadata": {},
   "source": [
    "#### 1. access keys from dict"
   ]
  },
  {
   "cell_type": "code",
   "execution_count": 23,
   "id": "2a069885",
   "metadata": {},
   "outputs": [
    {
     "name": "stdout",
     "output_type": "stream",
     "text": [
      "key is :  Employee Name\n",
      "key is :  Comapany\n",
      "key is :  Age\n",
      "key is :  Salary\n"
     ]
    }
   ],
   "source": [
    "for key in employee_data:\n",
    "    print(\"key is : \",key)"
   ]
  },
  {
   "cell_type": "code",
   "execution_count": 27,
   "id": "9fd5c2fe",
   "metadata": {},
   "outputs": [
    {
     "name": "stdout",
     "output_type": "stream",
     "text": [
      "key is :  Employee Name\n",
      "key is :  Comapany\n",
      "key is :  Age\n",
      "key is :  Salary\n"
     ]
    }
   ],
   "source": [
    "for i in employee_data:\n",
    "    print(\"key is : \",i)"
   ]
  },
  {
   "cell_type": "code",
   "execution_count": 25,
   "id": "2bcda355",
   "metadata": {},
   "outputs": [
    {
     "data": {
      "text/plain": [
       "dict_keys(['Employee Name', 'Comapany', 'Age', 'Salary'])"
      ]
     },
     "execution_count": 25,
     "metadata": {},
     "output_type": "execute_result"
    }
   ],
   "source": [
    "employee_data.keys()"
   ]
  },
  {
   "cell_type": "code",
   "execution_count": 28,
   "id": "75c05cea",
   "metadata": {},
   "outputs": [
    {
     "name": "stdout",
     "output_type": "stream",
     "text": [
      "key is :  Sagar\n",
      "key is :  Brose\n",
      "key is :  31\n",
      "key is :  60000\n"
     ]
    }
   ],
   "source": [
    "for val in employee_data.values():\n",
    "    print(\"key is : \" , val)"
   ]
  },
  {
   "cell_type": "code",
   "execution_count": 29,
   "id": "2fb2a073",
   "metadata": {},
   "outputs": [
    {
     "data": {
      "text/plain": [
       "dict_values(['Sagar', 'Brose', 31, 60000])"
      ]
     },
     "execution_count": 29,
     "metadata": {},
     "output_type": "execute_result"
    }
   ],
   "source": [
    "employee_data.values()"
   ]
  },
  {
   "cell_type": "code",
   "execution_count": 30,
   "id": "8a81b30a",
   "metadata": {},
   "outputs": [
    {
     "data": {
      "text/plain": [
       "dict_items([('Employee Name', 'Sagar'), ('Comapany', 'Brose'), ('Age', 31), ('Salary', 60000)])"
      ]
     },
     "execution_count": 30,
     "metadata": {},
     "output_type": "execute_result"
    }
   ],
   "source": [
    "employee_data.items()"
   ]
  },
  {
   "cell_type": "code",
   "execution_count": 31,
   "id": "ed599c49",
   "metadata": {},
   "outputs": [
    {
     "name": "stdout",
     "output_type": "stream",
     "text": [
      "key is Employee Name and value is Sagar\n",
      "key is Comapany and value is Brose\n",
      "key is Age and value is 31\n",
      "key is Salary and value is 60000\n"
     ]
    }
   ],
   "source": [
    "for key,val in employee_data.items():\n",
    "    print(f'key is {key} and value is {val}')"
   ]
  },
  {
   "cell_type": "code",
   "execution_count": 32,
   "id": "f8af971e",
   "metadata": {},
   "outputs": [
    {
     "name": "stdout",
     "output_type": "stream",
     "text": [
      "Salary is present\n"
     ]
    }
   ],
   "source": [
    "employee_data = {'Employee Name': 'Sagar',\n",
    "                'Salary':50000,\n",
    "                'Age':30,\n",
    "                'Company':'Capgemini'}\n",
    "if \"Salary\" in employee_data:\n",
    "    print(\"Salary is present\")\n",
    "\n",
    "else:\n",
    "    print(\"not present\")"
   ]
  },
  {
   "cell_type": "code",
   "execution_count": 33,
   "id": "adc137fe",
   "metadata": {},
   "outputs": [
    {
     "data": {
      "text/plain": [
       "{'Employee Name': 'Sagar', 'Salary': 60000, 'Age': 30, 'Company': 'Capgemini'}"
      ]
     },
     "execution_count": 33,
     "metadata": {},
     "output_type": "execute_result"
    }
   ],
   "source": [
    "employee_data = {'Employee Name': 'Sagar',\n",
    "                'Salary':50000,\n",
    "                'Age':30,\n",
    "                'Company':'Capgemini'}\n",
    "\n",
    "employee_data[\"Salary\"]=60000\n",
    "employee_data"
   ]
  },
  {
   "cell_type": "code",
   "execution_count": 34,
   "id": "e0496645",
   "metadata": {},
   "outputs": [
    {
     "data": {
      "text/plain": [
       "{'Employee Name': 'Sagar', 'Salary': 60000, 'Age': 30, 'Company': ['TCS']}"
      ]
     },
     "execution_count": 34,
     "metadata": {},
     "output_type": "execute_result"
    }
   ],
   "source": [
    "employee_data[\"Company\"]=[\"TCS\"]\n",
    "employee_data"
   ]
  },
  {
   "cell_type": "code",
   "execution_count": 35,
   "id": "87a951c3",
   "metadata": {},
   "outputs": [],
   "source": [
    "employee_data[\"Age\"]=45\n",
    "employee_data[\"Employee Name\"]=\"Rohit\""
   ]
  },
  {
   "cell_type": "code",
   "execution_count": 36,
   "id": "5f2b6c2c",
   "metadata": {},
   "outputs": [
    {
     "data": {
      "text/plain": [
       "{'Employee Name': 'Rohit', 'Salary': 60000, 'Age': 45, 'Company': ['TCS']}"
      ]
     },
     "execution_count": 36,
     "metadata": {},
     "output_type": "execute_result"
    }
   ],
   "source": [
    "employee_data"
   ]
  },
  {
   "cell_type": "code",
   "execution_count": 37,
   "id": "e9eab963",
   "metadata": {},
   "outputs": [],
   "source": [
    "employee_data[\"Experience\"]=\"5 year\""
   ]
  },
  {
   "cell_type": "code",
   "execution_count": 38,
   "id": "9755e37e",
   "metadata": {},
   "outputs": [
    {
     "data": {
      "text/plain": [
       "{'Employee Name': 'Rohit',\n",
       " 'Salary': 60000,\n",
       " 'Age': 45,\n",
       " 'Company': ['TCS'],\n",
       " 'Experience': '5 year'}"
      ]
     },
     "execution_count": 38,
     "metadata": {},
     "output_type": "execute_result"
    }
   ],
   "source": [
    "employee_data"
   ]
  },
  {
   "cell_type": "code",
   "execution_count": 39,
   "id": "e15413d4",
   "metadata": {},
   "outputs": [
    {
     "data": {
      "text/plain": [
       "{'Employee Name': 'Rohit',\n",
       " 'Salary': 120000,\n",
       " 'Age': 31,\n",
       " 'Company': ['TCS'],\n",
       " 'Experience': '5 year'}"
      ]
     },
     "execution_count": 39,
     "metadata": {},
     "output_type": "execute_result"
    }
   ],
   "source": [
    "new_dic={\"Salary\" :120000,\n",
    "        \"Age\":31}\n",
    "employee_data.update(new_dic)\n",
    "employee_data"
   ]
  },
  {
   "cell_type": "code",
   "execution_count": 42,
   "id": "c249656e",
   "metadata": {},
   "outputs": [],
   "source": [
    "employee_data.update({\"Company\":\"ISRO\"})"
   ]
  },
  {
   "cell_type": "code",
   "execution_count": 43,
   "id": "91ff1776",
   "metadata": {},
   "outputs": [
    {
     "data": {
      "text/plain": [
       "{'Employee Name': 'Rohit',\n",
       " 'Salary': 120000,\n",
       " 'Age': 31,\n",
       " 'Company': 'ISRO',\n",
       " 'Experience': '5 year',\n",
       " 'company': 'ISRO'}"
      ]
     },
     "execution_count": 43,
     "metadata": {},
     "output_type": "execute_result"
    }
   ],
   "source": [
    "employee_data"
   ]
  },
  {
   "cell_type": "code",
   "execution_count": 44,
   "id": "8b2de7e8",
   "metadata": {},
   "outputs": [],
   "source": [
    "new={\"Location\":\"Pune\"}\n",
    "employee_data.update(new)"
   ]
  },
  {
   "cell_type": "code",
   "execution_count": 45,
   "id": "c6082fee",
   "metadata": {},
   "outputs": [
    {
     "data": {
      "text/plain": [
       "{'Employee Name': 'Rohit',\n",
       " 'Salary': 120000,\n",
       " 'Age': 31,\n",
       " 'Company': 'ISRO',\n",
       " 'Experience': '5 year',\n",
       " 'company': 'ISRO',\n",
       " 'Location': 'Pune'}"
      ]
     },
     "execution_count": 45,
     "metadata": {},
     "output_type": "execute_result"
    }
   ],
   "source": [
    "employee_data"
   ]
  },
  {
   "cell_type": "code",
   "execution_count": 46,
   "id": "6917998b",
   "metadata": {},
   "outputs": [
    {
     "name": "stdout",
     "output_type": "stream",
     "text": [
      "{'Employee Name': 'Rohit', 'Salary': 120000, 'Age': 31, 'Company': 'ISRO', 'Experience': '5 year', 'company': 'ISRO', 'Location': 'Pune'} 7\n"
     ]
    }
   ],
   "source": [
    "print(employee_data,len(employee_data))"
   ]
  },
  {
   "cell_type": "markdown",
   "id": "cdd1444d",
   "metadata": {},
   "source": [
    "### Remove items from dict"
   ]
  },
  {
   "cell_type": "code",
   "execution_count": null,
   "id": "047bccfb",
   "metadata": {},
   "outputs": [],
   "source": [
    "1. pop\n",
    "2. popitem\n",
    "3. clear\n",
    "4. del"
   ]
  },
  {
   "cell_type": "code",
   "execution_count": 47,
   "id": "e548f453",
   "metadata": {},
   "outputs": [
    {
     "data": {
      "text/plain": [
       "{'Employee Name': 'Rohit',\n",
       " 'Salary': 120000,\n",
       " 'Age': 31,\n",
       " 'Company': 'ISRO',\n",
       " 'Experience': '5 year',\n",
       " 'company': 'ISRO',\n",
       " 'Location': 'Pune'}"
      ]
     },
     "execution_count": 47,
     "metadata": {},
     "output_type": "execute_result"
    }
   ],
   "source": [
    "employee_data"
   ]
  },
  {
   "cell_type": "code",
   "execution_count": 56,
   "id": "4c2776a7",
   "metadata": {},
   "outputs": [
    {
     "data": {
      "text/plain": [
       "{'Employee Name': 'Rohit',\n",
       " 'Salary': 120000,\n",
       " 'Age': 31,\n",
       " 'Company': 'ISRO',\n",
       " 'Experience': '5 year',\n",
       " 'Location': 'Pune'}"
      ]
     },
     "execution_count": 56,
     "metadata": {},
     "output_type": "execute_result"
    }
   ],
   "source": [
    "employee_data\n"
   ]
  },
  {
   "cell_type": "code",
   "execution_count": 57,
   "id": "9fe7c5db",
   "metadata": {},
   "outputs": [
    {
     "data": {
      "text/plain": [
       "6"
      ]
     },
     "execution_count": 57,
     "metadata": {},
     "output_type": "execute_result"
    }
   ],
   "source": [
    "len(employee_data)"
   ]
  },
  {
   "cell_type": "code",
   "execution_count": 58,
   "id": "25fb25fb",
   "metadata": {},
   "outputs": [
    {
     "data": {
      "text/plain": [
       "{'Math': 73, 'Sci': 82}"
      ]
     },
     "execution_count": 58,
     "metadata": {},
     "output_type": "execute_result"
    }
   ],
   "source": [
    "marksheet = {'Eng':83, 'Math':73, 'Sci':82}\n",
    "marksheet.pop('Eng')\n",
    "marksheet"
   ]
  },
  {
   "cell_type": "markdown",
   "id": "3401eb15",
   "metadata": {
    "run_control": {
     "marked": false
    }
   },
   "source": [
    "### 2. popitem()"
   ]
  },
  {
   "cell_type": "markdown",
   "id": "b45c611e",
   "metadata": {},
   "source": [
    "Remove last / last inserted item"
   ]
  },
  {
   "cell_type": "code",
   "execution_count": 64,
   "id": "6cec96ec",
   "metadata": {},
   "outputs": [
    {
     "data": {
      "text/plain": [
       "{'Eng': 83, 'MAth': 73, 'Sci': 82}"
      ]
     },
     "execution_count": 64,
     "metadata": {},
     "output_type": "execute_result"
    }
   ],
   "source": [
    "marksheet={\"Eng\":83,\"MAth\":73,\"Sci\":82}\n",
    "\n",
    "marksheet"
   ]
  },
  {
   "cell_type": "code",
   "execution_count": 65,
   "id": "8fbf9429",
   "metadata": {},
   "outputs": [
    {
     "data": {
      "text/plain": [
       "('Sci', 82)"
      ]
     },
     "execution_count": 65,
     "metadata": {},
     "output_type": "execute_result"
    }
   ],
   "source": [
    "marksheet.popitem()\n"
   ]
  },
  {
   "cell_type": "code",
   "execution_count": 66,
   "id": "5dedbf0e",
   "metadata": {},
   "outputs": [
    {
     "data": {
      "text/plain": [
       "('MAth', 73)"
      ]
     },
     "execution_count": 66,
     "metadata": {},
     "output_type": "execute_result"
    }
   ],
   "source": [
    "marksheet.popitem()"
   ]
  },
  {
   "cell_type": "code",
   "execution_count": 67,
   "id": "81a3f773",
   "metadata": {},
   "outputs": [
    {
     "data": {
      "text/plain": [
       "('Eng', 83)"
      ]
     },
     "execution_count": 67,
     "metadata": {},
     "output_type": "execute_result"
    }
   ],
   "source": [
    "marksheet.popitem()"
   ]
  },
  {
   "cell_type": "code",
   "execution_count": 68,
   "id": "bed50560",
   "metadata": {},
   "outputs": [
    {
     "ename": "KeyError",
     "evalue": "'popitem(): dictionary is empty'",
     "output_type": "error",
     "traceback": [
      "\u001b[1;31m---------------------------------------------------------------------------\u001b[0m",
      "\u001b[1;31mKeyError\u001b[0m                                  Traceback (most recent call last)",
      "Input \u001b[1;32mIn [68]\u001b[0m, in \u001b[0;36m<cell line: 1>\u001b[1;34m()\u001b[0m\n\u001b[1;32m----> 1\u001b[0m \u001b[43mmarksheet\u001b[49m\u001b[38;5;241;43m.\u001b[39;49m\u001b[43mpopitem\u001b[49m\u001b[43m(\u001b[49m\u001b[43m)\u001b[49m\n",
      "\u001b[1;31mKeyError\u001b[0m: 'popitem(): dictionary is empty'"
     ]
    }
   ],
   "source": [
    "marksheet.popitem()"
   ]
  },
  {
   "cell_type": "markdown",
   "id": "49d099b0",
   "metadata": {},
   "source": [
    "3. clear()"
   ]
  },
  {
   "cell_type": "code",
   "execution_count": 69,
   "id": "cafe0c2e",
   "metadata": {},
   "outputs": [],
   "source": [
    "marksheet = {'Eng':83, 'Math':73, 'Sci':82}\n",
    "marksheet.clear()"
   ]
  },
  {
   "cell_type": "code",
   "execution_count": 70,
   "id": "0e4d1f44",
   "metadata": {},
   "outputs": [
    {
     "name": "stdout",
     "output_type": "stream",
     "text": [
      "{} 0\n"
     ]
    }
   ],
   "source": [
    "print(marksheet,len(marksheet))"
   ]
  },
  {
   "cell_type": "markdown",
   "id": "53dc97fa",
   "metadata": {},
   "source": [
    "4. del"
   ]
  },
  {
   "cell_type": "code",
   "execution_count": 71,
   "id": "6f9ee182",
   "metadata": {},
   "outputs": [
    {
     "data": {
      "text/plain": [
       "{'Eng': 83, 'Sci': 82}"
      ]
     },
     "execution_count": 71,
     "metadata": {},
     "output_type": "execute_result"
    }
   ],
   "source": [
    "marksheet = {'Eng':83, 'Math':73, 'Sci':82}\n",
    "del marksheet['Math']\n",
    "marksheet"
   ]
  },
  {
   "cell_type": "code",
   "execution_count": 72,
   "id": "3c01bca3",
   "metadata": {},
   "outputs": [
    {
     "data": {
      "text/plain": [
       "{'Eng': 83}"
      ]
     },
     "execution_count": 72,
     "metadata": {},
     "output_type": "execute_result"
    }
   ],
   "source": [
    "del marksheet['Sci']\n",
    "marksheet"
   ]
  },
  {
   "cell_type": "code",
   "execution_count": 73,
   "id": "cac4a922",
   "metadata": {},
   "outputs": [
    {
     "data": {
      "text/plain": [
       "{}"
      ]
     },
     "execution_count": 73,
     "metadata": {},
     "output_type": "execute_result"
    }
   ],
   "source": [
    "del marksheet[\"Eng\"]\n",
    "marksheet"
   ]
  },
  {
   "cell_type": "code",
   "execution_count": 74,
   "id": "3628ad4b",
   "metadata": {},
   "outputs": [],
   "source": [
    "marksheet={\"Eng\":83,\"Math\":73,\"Sci\":82}\n",
    "del marksheet"
   ]
  },
  {
   "cell_type": "code",
   "execution_count": 75,
   "id": "8662584a",
   "metadata": {},
   "outputs": [
    {
     "ename": "NameError",
     "evalue": "name 'marksheet' is not defined",
     "output_type": "error",
     "traceback": [
      "\u001b[1;31m---------------------------------------------------------------------------\u001b[0m",
      "\u001b[1;31mNameError\u001b[0m                                 Traceback (most recent call last)",
      "Input \u001b[1;32mIn [75]\u001b[0m, in \u001b[0;36m<cell line: 1>\u001b[1;34m()\u001b[0m\n\u001b[1;32m----> 1\u001b[0m \u001b[43mmarksheet\u001b[49m\n",
      "\u001b[1;31mNameError\u001b[0m: name 'marksheet' is not defined"
     ]
    }
   ],
   "source": [
    "marksheet"
   ]
  },
  {
   "cell_type": "markdown",
   "id": "a0d66479",
   "metadata": {},
   "source": [
    "Nested Dictionary"
   ]
  },
  {
   "cell_type": "code",
   "execution_count": 76,
   "id": "d1efe071",
   "metadata": {},
   "outputs": [
    {
     "name": "stdout",
     "output_type": "stream",
     "text": [
      "{'Virat': {'Eng': 83, 'MAth': 73, 'Sci': 88}, 'Rohit': {'Eng': 81, 'Math': 83, 'Sci': 88}, 'Rahul': {'Eng': 89, 'Math': 81, 'Sci': 80}}\n",
      "Length of dict is:  3\n"
     ]
    }
   ],
   "source": [
    "class_1={\"Virat\": {\"Eng\":83,\n",
    "                  \"MAth\":73,\n",
    "                  \"Sci\":88},\n",
    "         \n",
    "         'Rohit':{'Eng':81,\n",
    "                   'Math':83,\n",
    "                   'Sci':88},\n",
    "           \n",
    "          'Rahul':{'Eng':89,\n",
    "                   'Math':81,\n",
    "                   'Sci':80}}\n",
    "\n",
    "print(class_1)\n",
    "print(\"Length of dict is: \",len(class_1))\n",
    "         "
   ]
  },
  {
   "cell_type": "code",
   "execution_count": 77,
   "id": "e3eabdf2",
   "metadata": {},
   "outputs": [
    {
     "data": {
      "text/plain": [
       "{'Eng': 89, 'Math': 81, 'Sci': 80}"
      ]
     },
     "execution_count": 77,
     "metadata": {},
     "output_type": "execute_result"
    }
   ],
   "source": [
    "class_1[\"Rahul\"]"
   ]
  },
  {
   "cell_type": "code",
   "execution_count": 78,
   "id": "68cc2c59",
   "metadata": {},
   "outputs": [
    {
     "data": {
      "text/plain": [
       "dict"
      ]
     },
     "execution_count": 78,
     "metadata": {},
     "output_type": "execute_result"
    }
   ],
   "source": [
    "type(class_1[\"Rahul\"])"
   ]
  },
  {
   "cell_type": "code",
   "execution_count": 79,
   "id": "e480fe62",
   "metadata": {},
   "outputs": [
    {
     "data": {
      "text/plain": [
       "89"
      ]
     },
     "execution_count": 79,
     "metadata": {},
     "output_type": "execute_result"
    }
   ],
   "source": [
    "class_1[\"Rahul\"][\"Eng\"]"
   ]
  },
  {
   "cell_type": "code",
   "execution_count": 80,
   "id": "c0e93971",
   "metadata": {},
   "outputs": [
    {
     "data": {
      "text/plain": [
       "88"
      ]
     },
     "execution_count": 80,
     "metadata": {},
     "output_type": "execute_result"
    }
   ],
   "source": [
    "class_1[\"Virat\"][\"Sci\"]"
   ]
  },
  {
   "cell_type": "code",
   "execution_count": 81,
   "id": "a58eabbc",
   "metadata": {},
   "outputs": [
    {
     "data": {
      "text/plain": [
       "{'Name': 'Sagar', 'Loc': 'Pune'}"
      ]
     },
     "execution_count": 81,
     "metadata": {},
     "output_type": "execute_result"
    }
   ],
   "source": [
    "data= {}\n",
    "data['Name']='Sagar'\n",
    "data['Loc']='Pune'\n",
    "data"
   ]
  },
  {
   "cell_type": "code",
   "execution_count": 85,
   "id": "e8b431b8",
   "metadata": {},
   "outputs": [],
   "source": [
    "sub_name=[\"Phy\",\"Che\",\"Math\",\"Eng\"]\n",
    "sub_marks=[93,94,91,95,90]\n"
   ]
  },
  {
   "cell_type": "code",
   "execution_count": 87,
   "id": "150dfa2e",
   "metadata": {},
   "outputs": [
    {
     "name": "stdout",
     "output_type": "stream",
     "text": [
      "{'Phy': 90, 'Che': 90, 'Math': 90, 'Eng': 90}\n"
     ]
    }
   ],
   "source": [
    "sub_name=[\"Phy\",\"Che\",\"Math\",\"Eng\"]\n",
    "sub_marks=[93,94,91,95,90]\n",
    "d1={}\n",
    "for i in sub_name:\n",
    "    for j in sub_marks:\n",
    "        d1[i]=j\n",
    "        \n",
    "print(d1)"
   ]
  },
  {
   "cell_type": "code",
   "execution_count": 88,
   "id": "78a84872",
   "metadata": {},
   "outputs": [
    {
     "ename": "SyntaxError",
     "evalue": "invalid syntax (3439989805.py, line 1)",
     "output_type": "error",
     "traceback": [
      "\u001b[1;36m  Input \u001b[1;32mIn [88]\u001b[1;36m\u001b[0m\n\u001b[1;33m    d1[]\u001b[0m\n\u001b[1;37m       ^\u001b[0m\n\u001b[1;31mSyntaxError\u001b[0m\u001b[1;31m:\u001b[0m invalid syntax\n"
     ]
    }
   ],
   "source": [
    "d1[]"
   ]
  },
  {
   "cell_type": "code",
   "execution_count": 89,
   "id": "2e0bb52d",
   "metadata": {},
   "outputs": [
    {
     "name": "stdout",
     "output_type": "stream",
     "text": [
      "{'Phy': 93, 'Che': 94, 'Math': 91, 'Eng': 95, 'Bio': 90}\n"
     ]
    }
   ],
   "source": [
    "sub_names= ['Phy','Che','Math','Eng','Bio']\n",
    "sub_marks= [93,94,91,95,90]\n",
    "dict1 = {}\n",
    "\n",
    "for i in range(len(sub_names)):\n",
    "    dict1[sub_names[i]]=sub_marks[i]\n",
    "    \n",
    "print(dict1)"
   ]
  },
  {
   "cell_type": "code",
   "execution_count": 90,
   "id": "04b2911c",
   "metadata": {},
   "outputs": [],
   "source": [
    "sub_names= ['Phy','Che','Math','Eng','Bio']\n",
    "sub_marks= [93,94,91,95,90]\n",
    "dict1 = {}"
   ]
  },
  {
   "cell_type": "code",
   "execution_count": null,
   "id": "e609120e",
   "metadata": {},
   "outputs": [],
   "source": []
  }
 ],
 "metadata": {
  "kernelspec": {
   "display_name": "Python 3 (ipykernel)",
   "language": "python",
   "name": "python3"
  },
  "language_info": {
   "codemirror_mode": {
    "name": "ipython",
    "version": 3
   },
   "file_extension": ".py",
   "mimetype": "text/x-python",
   "name": "python",
   "nbconvert_exporter": "python",
   "pygments_lexer": "ipython3",
   "version": "3.9.12"
  }
 },
 "nbformat": 4,
 "nbformat_minor": 5
}
