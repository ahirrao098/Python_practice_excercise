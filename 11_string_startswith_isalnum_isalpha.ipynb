{
 "cells": [
  {
   "cell_type": "code",
   "execution_count": 1,
   "id": "da9825d9",
   "metadata": {},
   "outputs": [
    {
     "data": {
      "text/plain": [
       "False"
      ]
     },
     "execution_count": 1,
     "metadata": {},
     "output_type": "execute_result"
    }
   ],
   "source": [
    "string=\"Data\"\n",
    "string.endswith(\"D\")"
   ]
  },
  {
   "cell_type": "markdown",
   "id": "6c08944e",
   "metadata": {},
   "source": [
    "# 16. startswith()"
   ]
  },
  {
   "cell_type": "code",
   "execution_count": null,
   "id": "ab11a193",
   "metadata": {},
   "outputs": [],
   "source": [
    "# It return boolean values (T/F)\n",
    "# Prefix"
   ]
  },
  {
   "cell_type": "code",
   "execution_count": 1,
   "id": "afcbe7e0",
   "metadata": {},
   "outputs": [
    {
     "data": {
      "text/plain": [
       "False"
      ]
     },
     "execution_count": 1,
     "metadata": {},
     "output_type": "execute_result"
    }
   ],
   "source": [
    "string=\"Machine learning\"\n",
    "string.startswith('a')"
   ]
  },
  {
   "cell_type": "code",
   "execution_count": 2,
   "id": "7f73e527",
   "metadata": {},
   "outputs": [
    {
     "data": {
      "text/plain": [
       "True"
      ]
     },
     "execution_count": 2,
     "metadata": {},
     "output_type": "execute_result"
    }
   ],
   "source": [
    "string=\"Machine learning\"\n",
    "string.startswith('M')"
   ]
  },
  {
   "cell_type": "code",
   "execution_count": 3,
   "id": "94f4220b",
   "metadata": {},
   "outputs": [
    {
     "data": {
      "text/plain": [
       "False"
      ]
     },
     "execution_count": 3,
     "metadata": {},
     "output_type": "execute_result"
    }
   ],
   "source": [
    "string=\"Machine learning\"\n",
    "string.startswith('m')"
   ]
  },
  {
   "cell_type": "code",
   "execution_count": 4,
   "id": "c204c016",
   "metadata": {},
   "outputs": [
    {
     "data": {
      "text/plain": [
       "True"
      ]
     },
     "execution_count": 4,
     "metadata": {},
     "output_type": "execute_result"
    }
   ],
   "source": [
    "string=\"Machine learning\"\n",
    "string.startswith('Machine')"
   ]
  },
  {
   "cell_type": "code",
   "execution_count": 5,
   "id": "d467ba11",
   "metadata": {},
   "outputs": [
    {
     "data": {
      "text/plain": [
       "True"
      ]
     },
     "execution_count": 5,
     "metadata": {},
     "output_type": "execute_result"
    }
   ],
   "source": [
    "string=\"Python is intepreted language\"\n",
    "string.startswith('Python is')"
   ]
  },
  {
   "cell_type": "markdown",
   "id": "8b303ce3",
   "metadata": {},
   "source": [
    "# 17. isalnum()"
   ]
  },
  {
   "cell_type": "code",
   "execution_count": null,
   "id": "ed0cd102",
   "metadata": {},
   "outputs": [],
   "source": [
    "# True or False\n",
    "# True >> if the string is alphanumeric\n",
    "# alphanumeric >> alphabets and numbers\n",
    "# alphanumeric >> [A-Z a-z 0-9]\n",
    "# It does not allow any special char and spaces"
   ]
  },
  {
   "cell_type": "code",
   "execution_count": 6,
   "id": "5bdba48f",
   "metadata": {},
   "outputs": [
    {
     "data": {
      "text/plain": [
       "True"
      ]
     },
     "execution_count": 6,
     "metadata": {},
     "output_type": "execute_result"
    }
   ],
   "source": [
    "string='Python'\n",
    "string.isalnum()"
   ]
  },
  {
   "cell_type": "code",
   "execution_count": 7,
   "id": "fc9cd3c6",
   "metadata": {},
   "outputs": [
    {
     "data": {
      "text/plain": [
       "True"
      ]
     },
     "execution_count": 7,
     "metadata": {},
     "output_type": "execute_result"
    }
   ],
   "source": [
    "string=\"Rohit123\"\n",
    "string.isalnum()"
   ]
  },
  {
   "cell_type": "code",
   "execution_count": 9,
   "id": "20a0edf4",
   "metadata": {},
   "outputs": [
    {
     "data": {
      "text/plain": [
       "True"
      ]
     },
     "execution_count": 9,
     "metadata": {},
     "output_type": "execute_result"
    }
   ],
   "source": [
    "string=\"2345\"\n",
    "string.isalnum()"
   ]
  },
  {
   "cell_type": "code",
   "execution_count": 10,
   "id": "ae81b15d",
   "metadata": {},
   "outputs": [
    {
     "data": {
      "text/plain": [
       "False"
      ]
     },
     "execution_count": 10,
     "metadata": {},
     "output_type": "execute_result"
    }
   ],
   "source": [
    "string=\"Rohit 123\"\n",
    "string.isalnum()"
   ]
  },
  {
   "cell_type": "code",
   "execution_count": 11,
   "id": "cffc139a",
   "metadata": {},
   "outputs": [
    {
     "data": {
      "text/plain": [
       "False"
      ]
     },
     "execution_count": 11,
     "metadata": {},
     "output_type": "execute_result"
    }
   ],
   "source": [
    "string=\"@Rohit5\"\n",
    "string.isalnum()"
   ]
  },
  {
   "cell_type": "code",
   "execution_count": 12,
   "id": "d1dd3c41",
   "metadata": {},
   "outputs": [
    {
     "name": "stdout",
     "output_type": "stream",
     "text": [
      "yes this PAN is alphanumeric\n"
     ]
    }
   ],
   "source": [
    "pan_num=\"  BTNP120919K  \"\n",
    "if pan_num.strip().isalnum():\n",
    "    print(\"yes this PAN is alphanumeric\")\n",
    "else:\n",
    "    print(\"no this PAN is not alphanumeric\")"
   ]
  },
  {
   "cell_type": "markdown",
   "id": "65da43dd",
   "metadata": {},
   "source": [
    "# 18. isalpha()"
   ]
  },
  {
   "cell_type": "code",
   "execution_count": null,
   "id": "82df0056",
   "metadata": {},
   "outputs": [],
   "source": [
    "# Returns True or False\n",
    "# True >> if string contains only alphabets\n",
    "# alphabets >> [A-Z a-z]\n",
    "# It does not allowed special char and spaces and numbers "
   ]
  },
  {
   "cell_type": "code",
   "execution_count": 13,
   "id": "2ba8bc73",
   "metadata": {},
   "outputs": [
    {
     "data": {
      "text/plain": [
       "True"
      ]
     },
     "execution_count": 13,
     "metadata": {},
     "output_type": "execute_result"
    }
   ],
   "source": [
    "string=\"Datascience\"\n",
    "string.isalpha()"
   ]
  },
  {
   "cell_type": "code",
   "execution_count": 14,
   "id": "5eecb376",
   "metadata": {},
   "outputs": [
    {
     "data": {
      "text/plain": [
       "False"
      ]
     },
     "execution_count": 14,
     "metadata": {},
     "output_type": "execute_result"
    }
   ],
   "source": [
    "string=\"Data science\"\n",
    "string.isalpha()"
   ]
  },
  {
   "cell_type": "code",
   "execution_count": 16,
   "id": "32c5042b",
   "metadata": {},
   "outputs": [
    {
     "data": {
      "text/plain": [
       "False"
      ]
     },
     "execution_count": 16,
     "metadata": {},
     "output_type": "execute_result"
    }
   ],
   "source": [
    "string=\"Datascience123\"\n",
    "string.isalpha()"
   ]
  },
  {
   "cell_type": "code",
   "execution_count": 17,
   "id": "32a862dd",
   "metadata": {},
   "outputs": [
    {
     "data": {
      "text/plain": [
       "False"
      ]
     },
     "execution_count": 17,
     "metadata": {},
     "output_type": "execute_result"
    }
   ],
   "source": [
    "string=\"123\"\n",
    "string.isalpha()"
   ]
  },
  {
   "cell_type": "code",
   "execution_count": 18,
   "id": "c6cb4709",
   "metadata": {},
   "outputs": [
    {
     "data": {
      "text/plain": [
       "True"
      ]
     },
     "execution_count": 18,
     "metadata": {},
     "output_type": "execute_result"
    }
   ],
   "source": [
    "string=\"RohIt ShaRMa\"\n",
    "string.replace(\" \",\"\").isalpha()"
   ]
  },
  {
   "cell_type": "code",
   "execution_count": 19,
   "id": "95b7fdd6",
   "metadata": {},
   "outputs": [
    {
     "data": {
      "text/plain": [
       "'R o h I t   S h a R M a'"
      ]
     },
     "execution_count": 19,
     "metadata": {},
     "output_type": "execute_result"
    }
   ],
   "source": [
    "\" \".join(string)"
   ]
  },
  {
   "cell_type": "code",
   "execution_count": null,
   "id": "93de21c8",
   "metadata": {},
   "outputs": [],
   "source": []
  },
  {
   "cell_type": "code",
   "execution_count": null,
   "id": "76058ce1",
   "metadata": {},
   "outputs": [],
   "source": []
  },
  {
   "cell_type": "code",
   "execution_count": null,
   "id": "befb859f",
   "metadata": {},
   "outputs": [],
   "source": []
  },
  {
   "cell_type": "code",
   "execution_count": null,
   "id": "d00cfd74",
   "metadata": {},
   "outputs": [],
   "source": []
  }
 ],
 "metadata": {
  "kernelspec": {
   "display_name": "Python 3 (ipykernel)",
   "language": "python",
   "name": "python3"
  },
  "language_info": {
   "codemirror_mode": {
    "name": "ipython",
    "version": 3
   },
   "file_extension": ".py",
   "mimetype": "text/x-python",
   "name": "python",
   "nbconvert_exporter": "python",
   "pygments_lexer": "ipython3",
   "version": "3.9.12"
  }
 },
 "nbformat": 4,
 "nbformat_minor": 5
}
