{
 "cells": [
  {
   "cell_type": "markdown",
   "id": "195cfa11",
   "metadata": {},
   "source": [
    "# Add items in list"
   ]
  },
  {
   "cell_type": "markdown",
   "id": "57d3f751",
   "metadata": {},
   "source": [
    "#### 1. append()"
   ]
  },
  {
   "cell_type": "code",
   "execution_count": 3,
   "id": "bdac9edf",
   "metadata": {},
   "outputs": [
    {
     "name": "stdout",
     "output_type": "stream",
     "text": [
      "['Pune', 'Dhule', 'Beed', 'Nashik']\n",
      "['Pune', 'Dhule', 'Beed', 'Nashik', 'Mumbai']\n",
      "['Pune', 'Dhule', 'Beed', 'Nashik', 'Mumbai', 1000]\n"
     ]
    }
   ],
   "source": [
    "city_name=[\"Pune\",\"Dhule\",\"Beed\",\"Nashik\"]\n",
    "print(city_name)\n",
    "city_name.append(\"Mumbai\")\n",
    "print(city_name)\n",
    "city_name.append(1000)\n",
    "print(city_name)"
   ]
  },
  {
   "cell_type": "code",
   "execution_count": 5,
   "id": "7baa9541",
   "metadata": {},
   "outputs": [
    {
     "name": "stdout",
     "output_type": "stream",
     "text": [
      "['Pune', 'Dhule', 'Beed', 'Nashik'] 4\n",
      "['Pune', 'Dhule', 'Beed', 'Nashik', 'Nandurbar'] >> 5\n"
     ]
    }
   ],
   "source": [
    "city_name=[\"Pune\",\"Dhule\",\"Beed\",\"Nashik\"]\n",
    "print(city_name,len(city_name))\n",
    "city_name.append(\"Nandurbar\")\n",
    "print(city_name,\">>\",len(city_name))\n"
   ]
  },
  {
   "cell_type": "code",
   "execution_count": 7,
   "id": "d28bb779",
   "metadata": {},
   "outputs": [
    {
     "name": "stdout",
     "output_type": "stream",
     "text": [
      "['Pune', 'Dhule', 'Beed', 'Nashik'] 4\n",
      "['Pune', 'Dhule', 'Beed', 'Nashik', 'Jalgaon'] 5\n",
      "['Pune', 'Dhule', 'Beed', 'Nashik', 'Jalgaon', ['Sangli', 'Hingoli']] 6\n"
     ]
    }
   ],
   "source": [
    "city_name=[\"Pune\",\"Dhule\",\"Beed\",\"Nashik\"]\n",
    "print(city_name,len(city_name))\n",
    "city_name.append(\"Jalgaon\")\n",
    "print(city_name,len(city_name))\n",
    "city_name.append([\"Sangli\",\"Hingoli\"])\n",
    "print(city_name,len(city_name))"
   ]
  },
  {
   "cell_type": "markdown",
   "id": "8fc8844e",
   "metadata": {},
   "source": [
    "### 2. extend()"
   ]
  },
  {
   "cell_type": "code",
   "execution_count": 10,
   "id": "e698a065",
   "metadata": {},
   "outputs": [
    {
     "name": "stdout",
     "output_type": "stream",
     "text": [
      "['Pune', 'Dhule', 'Beed', 'Nashik', 'Nagar', ['Kolhapur', 'Akola']] 6\n"
     ]
    }
   ],
   "source": [
    "city_name=[\"Pune\",\"Dhule\",\"Beed\",\"Nashik\",\"Nagar\"]\n",
    "new_city_list=[\"Kolhapur\",\"Akola\"]\n",
    "city_name.append(new_city_list)\n",
    "print(city_name,len(city_name))"
   ]
  },
  {
   "cell_type": "code",
   "execution_count": 11,
   "id": "4b45f6e4",
   "metadata": {},
   "outputs": [
    {
     "name": "stdout",
     "output_type": "stream",
     "text": [
      "['Pune', 'Dhule', 'Beed', 'Nashik', 'Nagar', 'Kolhapur', 'Akola'] 7\n"
     ]
    }
   ],
   "source": [
    "city_name=[\"Pune\",\"Dhule\",\"Beed\",\"Nashik\",\"Nagar\"]\n",
    "new_city_list=[\"Kolhapur\",\"Akola\"]\n",
    "city_name.extend(new_city_list)\n",
    "print(city_name,len(city_name))"
   ]
  },
  {
   "cell_type": "code",
   "execution_count": 13,
   "id": "efa170b6",
   "metadata": {},
   "outputs": [
    {
     "name": "stdout",
     "output_type": "stream",
     "text": [
      "[1, 2, 3, 4, 5, 6, 7, 8, 9, 4, 5, 6, 7]\n"
     ]
    }
   ],
   "source": [
    "l1=[1,2,3,4,5,6]\n",
    "l2=[7,8,9,4,5,6,7]\n",
    "l1.extend(l2)\n",
    "print(l1)"
   ]
  },
  {
   "cell_type": "code",
   "execution_count": 14,
   "id": "5e06adc2",
   "metadata": {},
   "outputs": [
    {
     "name": "stdout",
     "output_type": "stream",
     "text": [
      "[1, 2, 3, 4, 5, 6]\n",
      "[7, 8, 9, 4, 5, 6, 7, 1, 2, 3, 4, 5, 6]\n"
     ]
    }
   ],
   "source": [
    "l1=[1,2,3,4,5,6]\n",
    "l2=[7,8,9,4,5,6,7]\n",
    "l2.extend(l1)\n",
    "print(l1)\n",
    "print(l2)"
   ]
  },
  {
   "cell_type": "code",
   "execution_count": 15,
   "id": "c54b3a2b",
   "metadata": {},
   "outputs": [
    {
     "data": {
      "text/plain": [
       "{1, 2, 3, 4, 5, 6, 7, 8, 9}"
      ]
     },
     "execution_count": 15,
     "metadata": {},
     "output_type": "execute_result"
    }
   ],
   "source": [
    "set(l2)"
   ]
  },
  {
   "cell_type": "code",
   "execution_count": 16,
   "id": "d162a7cf",
   "metadata": {},
   "outputs": [
    {
     "name": "stdout",
     "output_type": "stream",
     "text": [
      "[1, 2, 3, 4, 5, 7]\n",
      "[3, 4, 5, 7, 5]\n",
      "[1, 2, 3, 4, 5, 7, 3, 4, 5, 7, 5]\n"
     ]
    }
   ],
   "source": [
    "l1=[1,2,3,4,5,7]\n",
    "l2=[3,4,5,7,5]\n",
    "l3=l1+l2\n",
    "print(l1)\n",
    "print(l2)\n",
    "print(l3)"
   ]
  },
  {
   "cell_type": "markdown",
   "id": "72fa3da2",
   "metadata": {},
   "source": [
    "#### 3. insert()"
   ]
  },
  {
   "cell_type": "code",
   "execution_count": null,
   "id": "00cf69e7",
   "metadata": {},
   "outputs": [],
   "source": [
    "insert(index, value)"
   ]
  },
  {
   "cell_type": "code",
   "execution_count": 18,
   "id": "8102bf8e",
   "metadata": {},
   "outputs": [
    {
     "data": {
      "text/plain": [
       "[4, 5, 6, 6, 7, 100]"
      ]
     },
     "execution_count": 18,
     "metadata": {},
     "output_type": "execute_result"
    }
   ],
   "source": [
    "l1=[4,5,6,6,7]\n",
    "l1.append(100)\n",
    "l1"
   ]
  },
  {
   "cell_type": "code",
   "execution_count": 19,
   "id": "366828d3",
   "metadata": {},
   "outputs": [
    {
     "data": {
      "text/plain": [
       "[3, 4, 5, 56, 6, 7]"
      ]
     },
     "execution_count": 19,
     "metadata": {},
     "output_type": "execute_result"
    }
   ],
   "source": [
    "l1=[3,4,5,6,7]\n",
    "l1.insert(3,56)#insert(index, value)\n",
    "l1"
   ]
  },
  {
   "cell_type": "code",
   "execution_count": 20,
   "id": "6aa122cf",
   "metadata": {},
   "outputs": [
    {
     "data": {
      "text/plain": [
       "[3, 4, 5, 6, 90, 7]"
      ]
     },
     "execution_count": 20,
     "metadata": {},
     "output_type": "execute_result"
    }
   ],
   "source": [
    "l1=[3,4,5,6,7]\n",
    "l1.insert(-1,90)\n",
    "l1"
   ]
  },
  {
   "cell_type": "code",
   "execution_count": 21,
   "id": "84f09957",
   "metadata": {},
   "outputs": [
    {
     "data": {
      "text/plain": [
       "7"
      ]
     },
     "execution_count": 21,
     "metadata": {},
     "output_type": "execute_result"
    }
   ],
   "source": [
    "l1[-1]"
   ]
  },
  {
   "cell_type": "code",
   "execution_count": 24,
   "id": "86840062",
   "metadata": {},
   "outputs": [
    {
     "data": {
      "text/plain": [
       "[3, 4, 5, 300, 6, 7]"
      ]
     },
     "execution_count": 24,
     "metadata": {},
     "output_type": "execute_result"
    }
   ],
   "source": [
    "l1=[3,4,5,6,7]\n",
    "l1.insert(-2,300)\n",
    "l1"
   ]
  },
  {
   "cell_type": "markdown",
   "id": "4157a201",
   "metadata": {},
   "source": [
    "### Delete Items"
   ]
  },
  {
   "cell_type": "code",
   "execution_count": null,
   "id": "416d2a07",
   "metadata": {},
   "outputs": [],
   "source": [
    "1. remove\n",
    "2. pop\n",
    "3. clear\n",
    "4. del"
   ]
  },
  {
   "cell_type": "markdown",
   "id": "cba623ad",
   "metadata": {},
   "source": [
    "#### 1. remove()"
   ]
  },
  {
   "cell_type": "code",
   "execution_count": null,
   "id": "ae1e4cb3",
   "metadata": {},
   "outputs": [],
   "source": [
    "list1.remove(item)\n",
    "It removes only first occurence of element in list"
   ]
  },
  {
   "cell_type": "code",
   "execution_count": 25,
   "id": "b5a83f66",
   "metadata": {},
   "outputs": [
    {
     "data": {
      "text/plain": [
       "[1, 2, 3, 4, 5, 5, 6, 7, 8, 9, 54, 12, 90]"
      ]
     },
     "execution_count": 25,
     "metadata": {},
     "output_type": "execute_result"
    }
   ],
   "source": [
    "l1=[1,2,3,4,5,5,6,7,8,9,34,54,12,90]\n",
    "l1.remove(34)\n",
    "l1"
   ]
  },
  {
   "cell_type": "code",
   "execution_count": 26,
   "id": "86733a54",
   "metadata": {},
   "outputs": [
    {
     "data": {
      "text/plain": [
       "[1, 2, 3, 4, 5, 6, 7, 8, 9, 54, 12, 90]"
      ]
     },
     "execution_count": 26,
     "metadata": {},
     "output_type": "execute_result"
    }
   ],
   "source": [
    "l1.remove(5) #first occurence of element removing\n",
    "l1"
   ]
  },
  {
   "cell_type": "code",
   "execution_count": 28,
   "id": "01e09f4f",
   "metadata": {},
   "outputs": [
    {
     "data": {
      "text/plain": [
       "['Pune', 'Nagpur', 'Dhule', 'Nagar']"
      ]
     },
     "execution_count": 28,
     "metadata": {},
     "output_type": "execute_result"
    }
   ],
   "source": [
    "cities=[\"Pune\",\"Nagpur\",\"Dhule\",\"Mumbai\",\"Nagar\"]\n",
    "cities.remove(\"Mumbai\")\n",
    "cities"
   ]
  },
  {
   "cell_type": "code",
   "execution_count": 30,
   "id": "3a6f2b9e",
   "metadata": {},
   "outputs": [
    {
     "name": "stdout",
     "output_type": "stream",
     "text": [
      "['Pune', 'Nagpur', 'Dhule', 'Mumbai', 'Nagar', 'Dhule']\n",
      "['Nagar', 'Nagpur', 'Mumbai', 'Pune', 'Dhule']\n"
     ]
    },
    {
     "data": {
      "text/plain": [
       "['Nagar', 'Nagpur', 'Mumbai', 'Pune']"
      ]
     },
     "execution_count": 30,
     "metadata": {},
     "output_type": "execute_result"
    }
   ],
   "source": [
    "cities=[\"Pune\",\"Nagpur\",\"Dhule\",\"Mumbai\",\"Nagar\",\"Dhule\"]\n",
    "print(cities)\n",
    "l1=list(set(cities))\n",
    "print(l1)\n",
    "l1.remove(\"Dhule\")\n",
    "l1"
   ]
  },
  {
   "cell_type": "code",
   "execution_count": 31,
   "id": "cb88646e",
   "metadata": {},
   "outputs": [
    {
     "name": "stdout",
     "output_type": "stream",
     "text": [
      "[1, 2, 4, 3, 5, 6, 7, 3, 4, 2, 3] 11\n"
     ]
    }
   ],
   "source": [
    "l1=[1,2,4,3,5,6,7,3,4,2,3]\n",
    "if 8 in l1:\n",
    "    l1.remove(8)\n",
    "print(l1,len(l1))"
   ]
  },
  {
   "cell_type": "code",
   "execution_count": 32,
   "id": "8508b086",
   "metadata": {},
   "outputs": [
    {
     "name": "stdout",
     "output_type": "stream",
     "text": [
      "[1, 2, 3, 5, 6, 7, 3, 4, 2, 3] 10\n"
     ]
    }
   ],
   "source": [
    "l1=[1,2,4,3,5,6,7,3,4,2,3]\n",
    "if 4 in l1:\n",
    "    l1.remove(4)\n",
    "print(l1,len(l1))"
   ]
  },
  {
   "cell_type": "code",
   "execution_count": 33,
   "id": "52c9e5c4",
   "metadata": {},
   "outputs": [
    {
     "name": "stdout",
     "output_type": "stream",
     "text": [
      "['Pune', 'Dhule', 'Mumbai', 'Nagar'] 4\n"
     ]
    }
   ],
   "source": [
    "cities=[\"Pune\",\"Nagpur\",\"Dhule\",\"Mumbai\",\"Nagar\"]\n",
    "if \"Nagpur\" in cities:\n",
    "    cities.remove(\"Nagpur\")\n",
    "print(cities,len(cities))"
   ]
  },
  {
   "cell_type": "code",
   "execution_count": null,
   "id": "e195a0bb",
   "metadata": {},
   "outputs": [],
   "source": []
  },
  {
   "cell_type": "code",
   "execution_count": null,
   "id": "48b42159",
   "metadata": {},
   "outputs": [],
   "source": []
  },
  {
   "cell_type": "code",
   "execution_count": null,
   "id": "89f9daf6",
   "metadata": {},
   "outputs": [],
   "source": []
  },
  {
   "cell_type": "code",
   "execution_count": null,
   "id": "c673e652",
   "metadata": {},
   "outputs": [],
   "source": []
  },
  {
   "cell_type": "code",
   "execution_count": null,
   "id": "4ea704eb",
   "metadata": {},
   "outputs": [],
   "source": []
  },
  {
   "cell_type": "code",
   "execution_count": null,
   "id": "769dcb60",
   "metadata": {},
   "outputs": [],
   "source": []
  },
  {
   "cell_type": "code",
   "execution_count": null,
   "id": "f4c870f0",
   "metadata": {},
   "outputs": [],
   "source": []
  },
  {
   "cell_type": "code",
   "execution_count": null,
   "id": "8190c49e",
   "metadata": {},
   "outputs": [],
   "source": []
  },
  {
   "cell_type": "code",
   "execution_count": null,
   "id": "c07e1499",
   "metadata": {},
   "outputs": [],
   "source": []
  },
  {
   "cell_type": "code",
   "execution_count": null,
   "id": "3c93b8c3",
   "metadata": {},
   "outputs": [],
   "source": []
  },
  {
   "cell_type": "code",
   "execution_count": null,
   "id": "91765757",
   "metadata": {},
   "outputs": [],
   "source": []
  },
  {
   "cell_type": "code",
   "execution_count": null,
   "id": "88936ddb",
   "metadata": {},
   "outputs": [],
   "source": []
  },
  {
   "cell_type": "code",
   "execution_count": null,
   "id": "1234b2a9",
   "metadata": {},
   "outputs": [],
   "source": []
  },
  {
   "cell_type": "code",
   "execution_count": null,
   "id": "112dfae5",
   "metadata": {},
   "outputs": [],
   "source": []
  },
  {
   "cell_type": "code",
   "execution_count": null,
   "id": "09a71d1d",
   "metadata": {},
   "outputs": [],
   "source": []
  },
  {
   "cell_type": "code",
   "execution_count": null,
   "id": "a05723b3",
   "metadata": {},
   "outputs": [],
   "source": []
  },
  {
   "cell_type": "code",
   "execution_count": null,
   "id": "4ac6d411",
   "metadata": {},
   "outputs": [],
   "source": []
  },
  {
   "cell_type": "code",
   "execution_count": null,
   "id": "d7993bae",
   "metadata": {},
   "outputs": [],
   "source": []
  },
  {
   "cell_type": "code",
   "execution_count": null,
   "id": "03d39ae1",
   "metadata": {},
   "outputs": [],
   "source": []
  }
 ],
 "metadata": {
  "kernelspec": {
   "display_name": "Python 3 (ipykernel)",
   "language": "python",
   "name": "python3"
  },
  "language_info": {
   "codemirror_mode": {
    "name": "ipython",
    "version": 3
   },
   "file_extension": ".py",
   "mimetype": "text/x-python",
   "name": "python",
   "nbconvert_exporter": "python",
   "pygments_lexer": "ipython3",
   "version": "3.9.12"
  }
 },
 "nbformat": 4,
 "nbformat_minor": 5
}
