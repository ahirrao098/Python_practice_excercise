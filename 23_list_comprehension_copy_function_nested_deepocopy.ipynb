{
 "cells": [
  {
   "cell_type": "code",
   "execution_count": 2,
   "id": "9fb237e8",
   "metadata": {},
   "outputs": [
    {
     "name": "stdout",
     "output_type": "stream",
     "text": [
      "[4]\n",
      "[4, 9]\n",
      "[4, 9, 16]\n",
      "[4, 9, 16, 25]\n",
      "[4, 9, 16, 25, 36]\n"
     ]
    }
   ],
   "source": [
    "num=[2,3,4,5,6]\n",
    "sqlist=[]\n",
    "\n",
    "for i in num:\n",
    "    sqr=i**2\n",
    "    sqlist.append(sqr)\n",
    "    print(sqlist)"
   ]
  },
  {
   "cell_type": "code",
   "execution_count": 3,
   "id": "08cd309b",
   "metadata": {},
   "outputs": [
    {
     "name": "stdout",
     "output_type": "stream",
     "text": [
      "[1]\n",
      "[1, 8]\n",
      "[1, 8, 27]\n",
      "[1, 8, 27, 64]\n",
      "[1, 8, 27, 64, 125]\n"
     ]
    }
   ],
   "source": [
    "num=[1,2,3,4,5]\n",
    "list=[]\n",
    "for i in num:\n",
    "    cube=i**3\n",
    "    list.append(cube)\n",
    "    print(list)\n",
    "    "
   ]
  },
  {
   "cell_type": "code",
   "execution_count": 4,
   "id": "c9824f56",
   "metadata": {},
   "outputs": [
    {
     "name": "stdout",
     "output_type": "stream",
     "text": [
      "[36]\n",
      "[36, 36]\n",
      "[36, 36, 36]\n",
      "[36, 36, 36, 36]\n",
      "[36, 36, 36, 36, 36]\n"
     ]
    }
   ],
   "source": [
    "num=[2,3,4,5,6]\n",
    "sqlist=[]\n",
    "\n",
    "for i in num:\n",
    "#     sqr=i**2\n",
    "    sqlist.append(sqr)\n",
    "    print(sqlist)"
   ]
  },
  {
   "cell_type": "code",
   "execution_count": 5,
   "id": "8ff68e06",
   "metadata": {},
   "outputs": [
    {
     "name": "stdout",
     "output_type": "stream",
     "text": [
      "[4]\n",
      "[4, 9]\n",
      "[4, 9, 16]\n",
      "[4, 9, 16, 25]\n",
      "[4, 9, 16, 25, 36]\n"
     ]
    }
   ],
   "source": [
    "num=[2,3,4,5,6]\n",
    "sqlist=[]\n",
    "\n",
    "for i in num:\n",
    "#     sqr=i**2\n",
    "    sqlist.append(i**2)\n",
    "    print(sqlist)"
   ]
  },
  {
   "cell_type": "code",
   "execution_count": 14,
   "id": "de0d8c0d",
   "metadata": {},
   "outputs": [
    {
     "name": "stdout",
     "output_type": "stream",
     "text": [
      "['PHY']\n",
      "['PHY', 'CHEM']\n",
      "['PHY', 'CHEM', 'MATH']\n",
      "['PHY', 'CHEM', 'MATH', 'BIO']\n",
      "['PHY', 'CHEM', 'MATH', 'BIO', 'HINDI']\n",
      "['PHY', 'CHEM', 'MATH', 'BIO', 'HINDI', 'ENG']\n"
     ]
    }
   ],
   "source": [
    "sub_names=[\"Phy\",\"chem\",\"Math\",\"Bio\",\"Hindi\",\"Eng\"]\n",
    "sub_upper=[]\n",
    "for i in sub_names:\n",
    "#     upper=sub_names.upper()\n",
    "    sub_upper.append(i.upper())\n",
    "    print(sub_upper)"
   ]
  },
  {
   "cell_type": "code",
   "execution_count": 15,
   "id": "2f48644d",
   "metadata": {},
   "outputs": [
    {
     "name": "stdout",
     "output_type": "stream",
     "text": [
      "[1]\n",
      "[1, 8]\n",
      "[1, 8, 27]\n",
      "[1, 8, 27, 64]\n",
      "[1, 8, 27, 64, 125]\n",
      "[1, 8, 27, 64, 125, 216]\n",
      "[1, 8, 27, 64, 125, 216, 343]\n",
      "[1, 8, 27, 64, 125, 216, 343, 512]\n",
      "[1, 8, 27, 64, 125, 216, 343, 512, 729]\n",
      "[1, 8, 27, 64, 125, 216, 343, 512, 729, 1000]\n"
     ]
    }
   ],
   "source": [
    "cube_list=[]# Cube of 1 to 10\n",
    "for i in range(1,11):\n",
    "    cube=i**3\n",
    "    cube_list.append(cube)\n",
    "    print(cube_list)"
   ]
  },
  {
   "cell_type": "code",
   "execution_count": 16,
   "id": "23c37942",
   "metadata": {},
   "outputs": [
    {
     "name": "stdout",
     "output_type": "stream",
     "text": [
      "[441]\n",
      "[441, 484]\n",
      "[441, 484, 529]\n",
      "[441, 484, 529, 576]\n",
      "[441, 484, 529, 576, 625]\n",
      "[441, 484, 529, 576, 625, 676]\n",
      "[441, 484, 529, 576, 625, 676, 729]\n",
      "[441, 484, 529, 576, 625, 676, 729, 784]\n",
      "[441, 484, 529, 576, 625, 676, 729, 784, 841]\n",
      "[441, 484, 529, 576, 625, 676, 729, 784, 841, 900]\n"
     ]
    }
   ],
   "source": [
    "# square of 21 to 30\n",
    "sqr=[]\n",
    "for i in range(21,31):\n",
    "    squar=i**2\n",
    "    sqr.append(squar)\n",
    "    print(sqr)"
   ]
  },
  {
   "cell_type": "code",
   "execution_count": 17,
   "id": "bdc38a9d",
   "metadata": {},
   "outputs": [
    {
     "name": "stdout",
     "output_type": "stream",
     "text": [
      "[121]\n",
      "[121, 144]\n",
      "[121, 144, 169]\n",
      "[121, 144, 169, 196]\n",
      "[121, 144, 169, 196, 225]\n",
      "[121, 144, 169, 196, 225, 256]\n",
      "[121, 144, 169, 196, 225, 256, 289]\n",
      "[121, 144, 169, 196, 225, 256, 289, 324]\n",
      "[121, 144, 169, 196, 225, 256, 289, 324, 361]\n",
      "[121, 144, 169, 196, 225, 256, 289, 324, 361, 400]\n"
     ]
    }
   ],
   "source": [
    "# square of 11 to 20\n",
    "sqr_list=[]\n",
    "for i in range(11,21):\n",
    "    square=i**2\n",
    "    sqr_list.append(square)\n",
    "    print(sqr_list)"
   ]
  },
  {
   "cell_type": "code",
   "execution_count": 20,
   "id": "111f863d",
   "metadata": {},
   "outputs": [
    {
     "name": "stdout",
     "output_type": "stream",
     "text": [
      "[144]\n",
      "[144, 196]\n",
      "[144, 196, 256]\n",
      "[144, 196, 256, 324]\n",
      "[144, 196, 256, 324, 400]\n"
     ]
    }
   ],
   "source": [
    "# square of 11 to 20\n",
    "sqr_list=[]\n",
    "for i in range(11,21):\n",
    "    if i%2==0:\n",
    "        square=i**2\n",
    "        sqr_list.append(square)\n",
    "        print(sqr_list)"
   ]
  },
  {
   "cell_type": "code",
   "execution_count": 23,
   "id": "d2b84069",
   "metadata": {},
   "outputs": [
    {
     "name": "stdout",
     "output_type": "stream",
     "text": [
      "[144, 196, 256, 324, 400]\n",
      "[121, 169, 225, 289, 361]\n"
     ]
    }
   ],
   "source": [
    "# square of 11 to 20\n",
    "even_list=[]\n",
    "odd_list=[]\n",
    "\n",
    "for i in range(11,21):\n",
    "    if i%2==0:\n",
    "        even_list.append(i**2)\n",
    "    else:\n",
    "        odd_list.append(i**2)\n",
    "print(even_list)\n",
    "print(odd_list)\n",
    "    "
   ]
  },
  {
   "cell_type": "code",
   "execution_count": null,
   "id": "66588dc6",
   "metadata": {},
   "outputs": [],
   "source": [
    "updated_list= [expression for i in list1 if condtion== True]"
   ]
  },
  {
   "cell_type": "code",
   "execution_count": 25,
   "id": "c5a0e352",
   "metadata": {},
   "outputs": [
    {
     "data": {
      "text/plain": [
       "[1, 4, 9, 16, 25, 36, 49, 64, 81, 100]"
      ]
     },
     "execution_count": 25,
     "metadata": {},
     "output_type": "execute_result"
    }
   ],
   "source": [
    "num=[1,2,3,4,5,6,7,8,9,10]\n",
    "sqr_list=[i**2 for i in num]\n",
    "sqr_list"
   ]
  },
  {
   "cell_type": "code",
   "execution_count": 26,
   "id": "a15e008c",
   "metadata": {},
   "outputs": [
    {
     "data": {
      "text/plain": [
       "[1, 8, 27, 64, 125, 216, 343, 512, 729, 1000]"
      ]
     },
     "execution_count": 26,
     "metadata": {},
     "output_type": "execute_result"
    }
   ],
   "source": [
    "num=[1,2,3,4,5,6,7,8,9,10]\n",
    "sqr_list=[i**3 for i in num]\n",
    "sqr_list"
   ]
  },
  {
   "cell_type": "code",
   "execution_count": 27,
   "id": "a9163e77",
   "metadata": {},
   "outputs": [
    {
     "data": {
      "text/plain": [
       "[4, 16, 36, 64, 100]"
      ]
     },
     "execution_count": 27,
     "metadata": {},
     "output_type": "execute_result"
    }
   ],
   "source": [
    "num=[1,2,3,4,5,6,7,8,9,10]\n",
    "sqr_list=[i**2 for i in num if i%2==0]\n",
    "sqr_list"
   ]
  },
  {
   "cell_type": "code",
   "execution_count": 28,
   "id": "90b678f0",
   "metadata": {},
   "outputs": [
    {
     "name": "stdout",
     "output_type": "stream",
     "text": [
      "['PHY']\n",
      "['PHY', 'CHE']\n",
      "['PHY', 'CHE', 'MATH']\n",
      "['PHY', 'CHE', 'MATH', 'BIO']\n",
      "['PHY', 'CHE', 'MATH', 'BIO', 'ENG']\n"
     ]
    }
   ],
   "source": [
    "sub_names = ['Phy' ,'Che','Math','Bio','Eng']\n",
    "sub_upper=[]\n",
    "for sub in sub_names:\n",
    "    sub_upper.append(sub.upper())\n",
    "    print(sub_upper)"
   ]
  },
  {
   "cell_type": "code",
   "execution_count": 30,
   "id": "e055b892",
   "metadata": {},
   "outputs": [
    {
     "data": {
      "text/plain": [
       "['PHY', 'CHE', 'MATH', 'BIO', 'ENG']"
      ]
     },
     "execution_count": 30,
     "metadata": {},
     "output_type": "execute_result"
    }
   ],
   "source": [
    "sub_names = ['Phy' ,'Che','Math','Bio','Eng']\n",
    "sub_upper=[sub.upper() for sub in sub_names]\n",
    "sub_upper"
   ]
  },
  {
   "cell_type": "code",
   "execution_count": 32,
   "id": "fae8453f",
   "metadata": {},
   "outputs": [
    {
     "data": {
      "text/plain": [
       "[1, 9, 25, 49, 81]"
      ]
     },
     "execution_count": 32,
     "metadata": {},
     "output_type": "execute_result"
    }
   ],
   "source": [
    "num=[1,2,3,4,5,6,7,8,9,10]\n",
    "num_list=[i**2 for i in num if i%2 != 0]\n",
    "num_list"
   ]
  },
  {
   "cell_type": "markdown",
   "id": "2658a67e",
   "metadata": {},
   "source": [
    "# copy function"
   ]
  },
  {
   "cell_type": "code",
   "execution_count": 33,
   "id": "434dcea7",
   "metadata": {},
   "outputs": [
    {
     "name": "stdout",
     "output_type": "stream",
     "text": [
      "[2, 3, 4, 5, 6, 7, 100]\n",
      "[2, 3, 4, 5, 6, 7, 100]\n"
     ]
    }
   ],
   "source": [
    "list1=[2,3,4,5,6,7]\n",
    "list2=list1\n",
    "list2.append(100)\n",
    "\n",
    "print(list1)\n",
    "print(list2)"
   ]
  },
  {
   "cell_type": "code",
   "execution_count": 37,
   "id": "4c77c765",
   "metadata": {},
   "outputs": [
    {
     "name": "stdout",
     "output_type": "stream",
     "text": [
      "[2, 3, 4, 5, 6, 7]\n",
      "[2, 3, 4, 5, 6, 7, 100]\n"
     ]
    }
   ],
   "source": [
    "list1=[2,3,4,5,6,7]\n",
    "\n",
    "list2=list1.copy()\n",
    "list2.append(100)\n",
    "\n",
    "print(list1)\n",
    "print(list2)"
   ]
  },
  {
   "cell_type": "code",
   "execution_count": 40,
   "id": "d4c5a5bc",
   "metadata": {},
   "outputs": [
    {
     "name": "stdout",
     "output_type": "stream",
     "text": [
      "[2, 3, 100, 5, 6, 7]\n",
      "[2, 3, 100, 5, 6, 7]\n"
     ]
    }
   ],
   "source": [
    "list1=[2,3,4,5,6,7]\n",
    "list2=list1\n",
    "\n",
    "list2[2]=100\n",
    "print(list1)\n",
    "print(list2)"
   ]
  },
  {
   "cell_type": "code",
   "execution_count": 41,
   "id": "c9f90e8e",
   "metadata": {},
   "outputs": [
    {
     "name": "stdout",
     "output_type": "stream",
     "text": [
      "[2, 3, 4, 5, 6, 7]\n",
      "[2, 3, 100, 5, 6, 7]\n"
     ]
    }
   ],
   "source": [
    "list1=[2,3,4,5,6,7]\n",
    "list2=list1.copy()# shallow copy\n",
    "\n",
    "list2[2]=100\n",
    "print(list1)\n",
    "print(list2)"
   ]
  },
  {
   "cell_type": "markdown",
   "id": "408c0ae0",
   "metadata": {},
   "source": [
    "# Nested List¶"
   ]
  },
  {
   "cell_type": "code",
   "execution_count": 44,
   "id": "9f5b31c1",
   "metadata": {},
   "outputs": [
    {
     "data": {
      "text/plain": [
       "5"
      ]
     },
     "execution_count": 44,
     "metadata": {},
     "output_type": "execute_result"
    }
   ],
   "source": [
    "list1=[[2,3],[4,5],[6,7],[8,9]]\n",
    "list1[1][1]"
   ]
  },
  {
   "cell_type": "code",
   "execution_count": 45,
   "id": "7b58c586",
   "metadata": {},
   "outputs": [
    {
     "name": "stdout",
     "output_type": "stream",
     "text": [
      "[2, 3]\n",
      "[4, 5]\n",
      "[6, 7]\n",
      "[8, 9]\n"
     ]
    }
   ],
   "source": [
    "list1=[[2,3],[4,5],[6,7],[8,9]]\n",
    "\n",
    "for i in list1:\n",
    "    print(i)"
   ]
  },
  {
   "cell_type": "code",
   "execution_count": 46,
   "id": "1aeb3b2b",
   "metadata": {},
   "outputs": [
    {
     "name": "stdout",
     "output_type": "stream",
     "text": [
      "[[2, 3], [4, 'Python'], [6, 7], [8, 9]]\n"
     ]
    }
   ],
   "source": [
    "list1=[[2,3],[4,5],[6,7],[8,9]]\n",
    "list1[1][1]=\"Python\"\n",
    "print(list1)"
   ]
  },
  {
   "cell_type": "code",
   "execution_count": 50,
   "id": "f783f966",
   "metadata": {},
   "outputs": [
    {
     "name": "stdout",
     "output_type": "stream",
     "text": [
      "[[2, 3], [4, 'Data'], [6, 7], [8, 9]]\n",
      "[[2, 3], [4, 'Data'], [6, 7], [8, 9]]\n"
     ]
    }
   ],
   "source": [
    "list1=[[2,3],[4,5],[6,7],[8,9]]\n",
    "list2=list1.copy()\n",
    "\n",
    "list1[1][1]=\"Data\"\n",
    "print(list1)\n",
    "print(list2)"
   ]
  },
  {
   "cell_type": "markdown",
   "id": "cf85823e",
   "metadata": {},
   "source": [
    "# deepcopy()"
   ]
  },
  {
   "cell_type": "code",
   "execution_count": 54,
   "id": "3b7e6c17",
   "metadata": {},
   "outputs": [
    {
     "name": "stdout",
     "output_type": "stream",
     "text": [
      "[[2, 3], [4, 5], [6, 7], [8, 9]]\n",
      "[[2, 3], [4, 5], [6, 7], [8, 9]]\n",
      "\n",
      "[[2, 3], [4, 'python'], [6, 7], [8, 9]]\n",
      "[[2, 3], [4, 5], [6, 'Data Science'], [8, 9]]\n"
     ]
    }
   ],
   "source": [
    "import copy\n",
    "\n",
    "list1=[[2,3],[4,5],[6,7],[8,9]]\n",
    "list2=copy.deepcopy(list1)\n",
    "print(list1)\n",
    "print(list2)\n",
    "print()\n",
    "list1[1][1]=\"python\"\n",
    "list2[2][1]=\"Data Science\"\n",
    "\n",
    "print(list1)\n",
    "print(list2)"
   ]
  },
  {
   "cell_type": "code",
   "execution_count": null,
   "id": "6db58903",
   "metadata": {},
   "outputs": [],
   "source": []
  },
  {
   "cell_type": "code",
   "execution_count": null,
   "id": "308bdb5f",
   "metadata": {},
   "outputs": [],
   "source": []
  }
 ],
 "metadata": {
  "kernelspec": {
   "display_name": "Python 3 (ipykernel)",
   "language": "python",
   "name": "python3"
  },
  "language_info": {
   "codemirror_mode": {
    "name": "ipython",
    "version": 3
   },
   "file_extension": ".py",
   "mimetype": "text/x-python",
   "name": "python",
   "nbconvert_exporter": "python",
   "pygments_lexer": "ipython3",
   "version": "3.9.12"
  }
 },
 "nbformat": 4,
 "nbformat_minor": 5
}
