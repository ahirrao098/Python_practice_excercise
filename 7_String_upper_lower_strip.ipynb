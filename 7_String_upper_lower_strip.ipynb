{
 "cells": [
  {
   "cell_type": "markdown",
   "id": "a6359ee3",
   "metadata": {},
   "source": [
    "1. Capitalize()"
   ]
  },
  {
   "cell_type": "markdown",
   "id": "6abaec95",
   "metadata": {},
   "source": [
    "It only capitalize first character\n",
    "zero index item"
   ]
  },
  {
   "cell_type": "code",
   "execution_count": 2,
   "id": "d09ebfff",
   "metadata": {},
   "outputs": [
    {
     "data": {
      "text/plain": [
       "'India'"
      ]
     },
     "execution_count": 2,
     "metadata": {},
     "output_type": "execute_result"
    }
   ],
   "source": [
    "country = 'india'\n",
    "country=country.capitalize()\n",
    "country"
   ]
  },
  {
   "cell_type": "code",
   "execution_count": 3,
   "id": "9f77c9c2",
   "metadata": {},
   "outputs": [
    {
     "data": {
      "text/plain": [
       "'India'"
      ]
     },
     "execution_count": 3,
     "metadata": {},
     "output_type": "execute_result"
    }
   ],
   "source": [
    "country"
   ]
  },
  {
   "cell_type": "code",
   "execution_count": 4,
   "id": "6563ed8d",
   "metadata": {},
   "outputs": [
    {
     "data": {
      "text/plain": [
       "'Machine learning engineer'"
      ]
     },
     "execution_count": 4,
     "metadata": {},
     "output_type": "execute_result"
    }
   ],
   "source": [
    "a = 'machine learning engineer'\n",
    "a.capitalize()"
   ]
  },
  {
   "cell_type": "markdown",
   "id": "252d10c7",
   "metadata": {},
   "source": [
    "2. upper()"
   ]
  },
  {
   "cell_type": "code",
   "execution_count": 5,
   "id": "30c5d656",
   "metadata": {},
   "outputs": [
    {
     "data": {
      "text/plain": [
       "'INDIA'"
      ]
     },
     "execution_count": 5,
     "metadata": {},
     "output_type": "execute_result"
    }
   ],
   "source": [
    "country='india' # lower case\n",
    "country.upper()"
   ]
  },
  {
   "cell_type": "code",
   "execution_count": 6,
   "id": "6eaee044",
   "metadata": {},
   "outputs": [
    {
     "data": {
      "text/plain": [
       "'MACHINE LEARNING ENGINEER'"
      ]
     },
     "execution_count": 6,
     "metadata": {},
     "output_type": "execute_result"
    }
   ],
   "source": [
    "a = 'machine learning engineer'\n",
    "a.upper()"
   ]
  },
  {
   "cell_type": "code",
   "execution_count": 7,
   "id": "54299d31",
   "metadata": {},
   "outputs": [
    {
     "data": {
      "text/plain": [
       "'INDIA'"
      ]
     },
     "execution_count": 7,
     "metadata": {},
     "output_type": "execute_result"
    }
   ],
   "source": [
    "b= 'InDiA'\n",
    "b.upper()"
   ]
  },
  {
   "cell_type": "code",
   "execution_count": 8,
   "id": "05fd6d80",
   "metadata": {},
   "outputs": [
    {
     "data": {
      "text/plain": [
       "'SBIN00001234'"
      ]
     },
     "execution_count": 8,
     "metadata": {},
     "output_type": "execute_result"
    }
   ],
   "source": [
    "ifsc_code ='sbin00001234'\n",
    "ifsc_code.upper()"
   ]
  },
  {
   "cell_type": "markdown",
   "id": "d49c1b81",
   "metadata": {},
   "source": [
    "3. lower()"
   ]
  },
  {
   "cell_type": "code",
   "execution_count": 9,
   "id": "73fb7e57",
   "metadata": {},
   "outputs": [
    {
     "data": {
      "text/plain": [
       "'maharashtra'"
      ]
     },
     "execution_count": 9,
     "metadata": {},
     "output_type": "execute_result"
    }
   ],
   "source": [
    "state= 'MAHARASHTRA'\n",
    "state.lower()"
   ]
  },
  {
   "cell_type": "code",
   "execution_count": 10,
   "id": "3d2b40b2",
   "metadata": {},
   "outputs": [
    {
     "name": "stdout",
     "output_type": "stream",
     "text": [
      "we\n",
      "are\n",
      "in a class\n"
     ]
    }
   ],
   "source": [
    "data= '''We\n",
    "Are\n",
    "in a Class'''\n",
    "print(data.lower())"
   ]
  },
  {
   "cell_type": "code",
   "execution_count": 11,
   "id": "c2e20bf6",
   "metadata": {},
   "outputs": [
    {
     "name": "stdout",
     "output_type": "stream",
     "text": [
      "WE\n",
      "ARE\n",
      "IN A CLASS\n"
     ]
    }
   ],
   "source": [
    "data= '''We\n",
    "Are\n",
    "in a Class'''\n",
    "print(data.upper())"
   ]
  },
  {
   "cell_type": "markdown",
   "id": "aef2bb67",
   "metadata": {},
   "source": [
    "# 4. title()"
   ]
  },
  {
   "cell_type": "markdown",
   "id": "0c7d5760",
   "metadata": {},
   "source": [
    "Convert string into title case\n",
    "Capitalize first char of every word in string"
   ]
  },
  {
   "cell_type": "code",
   "execution_count": 14,
   "id": "44aac826",
   "metadata": {},
   "outputs": [
    {
     "data": {
      "text/plain": [
       "'Machine Learning Engineer'"
      ]
     },
     "execution_count": 14,
     "metadata": {},
     "output_type": "execute_result"
    }
   ],
   "source": [
    "design='machine learning engineer'\n",
    "design.title()"
   ]
  },
  {
   "cell_type": "code",
   "execution_count": 15,
   "id": "1ca0e83c",
   "metadata": {},
   "outputs": [
    {
     "data": {
      "text/plain": [
       "'Machine learning engineer'"
      ]
     },
     "execution_count": 15,
     "metadata": {},
     "output_type": "execute_result"
    }
   ],
   "source": [
    "design.capitalize()"
   ]
  },
  {
   "cell_type": "code",
   "execution_count": 16,
   "id": "126cf128",
   "metadata": {},
   "outputs": [
    {
     "data": {
      "text/plain": [
       "'Machine learning is the study of computer algorithms that can improve automatically through experience and by the use of data. it is seen as a part of artificial intelligence.'"
      ]
     },
     "execution_count": 16,
     "metadata": {},
     "output_type": "execute_result"
    }
   ],
   "source": [
    "ml='Machine learning is the study of computer algorithms that can improve automatically through experience and by the use of data. It is seen as a part of artificial intelligence.'\n",
    "ml.capitalize()"
   ]
  },
  {
   "cell_type": "code",
   "execution_count": 17,
   "id": "e3555cda",
   "metadata": {},
   "outputs": [
    {
     "data": {
      "text/plain": [
       "'Machine Learning Is The Study Of Computer Algorithms That Can Improve Automatically Through Experience And By The Use Of Data. It Is Seen As A Part Of Artificial Intelligence.'"
      ]
     },
     "execution_count": 17,
     "metadata": {},
     "output_type": "execute_result"
    }
   ],
   "source": [
    "ml.title()"
   ]
  },
  {
   "cell_type": "code",
   "execution_count": 18,
   "id": "8e006382",
   "metadata": {},
   "outputs": [
    {
     "data": {
      "text/plain": [
       "'MACHINE LEARNING IS THE STUDY OF COMPUTER ALGORITHMS THAT CAN IMPROVE AUTOMATICALLY THROUGH EXPERIENCE AND BY THE USE OF DATA. IT IS SEEN AS A PART OF ARTIFICIAL INTELLIGENCE.'"
      ]
     },
     "execution_count": 18,
     "metadata": {},
     "output_type": "execute_result"
    }
   ],
   "source": [
    "ml.upper()"
   ]
  },
  {
   "cell_type": "code",
   "execution_count": 19,
   "id": "1091bedf",
   "metadata": {},
   "outputs": [
    {
     "data": {
      "text/plain": [
       "'machine learning is the study of computer algorithms that can improve automatically through experience and by the use of data. it is seen as a part of artificial intelligence.'"
      ]
     },
     "execution_count": 19,
     "metadata": {},
     "output_type": "execute_result"
    }
   ],
   "source": [
    "ml.lower()"
   ]
  },
  {
   "cell_type": "code",
   "execution_count": 20,
   "id": "87da2a03",
   "metadata": {},
   "outputs": [
    {
     "name": "stdout",
     "output_type": "stream",
     "text": [
      "MACHINE LEARNING IS THE STUDY OF COMPUTER ALGORITHMS THAT CAN IMPROVE AUTOMATICALLY THROUGH EXPERIENCE AND BY THE USE OF DATA. IT IS SEEN AS A PART OF ARTIFICIAL INTELLIGENCE.\n"
     ]
    }
   ],
   "source": [
    "if 'learning' in ml:\n",
    "    \n",
    "    print(ml.upper())"
   ]
  },
  {
   "cell_type": "markdown",
   "id": "a4da8c11",
   "metadata": {},
   "source": [
    "### 5. lstrip()"
   ]
  },
  {
   "cell_type": "code",
   "execution_count": null,
   "id": "fa52a8a9",
   "metadata": {},
   "outputs": [],
   "source": [
    "to remove leading white spaces"
   ]
  },
  {
   "cell_type": "code",
   "execution_count": 21,
   "id": "75fd5d7c",
   "metadata": {},
   "outputs": [
    {
     "data": {
      "text/plain": [
       "'united states'"
      ]
     },
     "execution_count": 21,
     "metadata": {},
     "output_type": "execute_result"
    }
   ],
   "source": [
    "country_name = '    united states'\n",
    "country_name.lstrip()"
   ]
  },
  {
   "cell_type": "code",
   "execution_count": 22,
   "id": "d98a8a10",
   "metadata": {},
   "outputs": [
    {
     "data": {
      "text/plain": [
       "'united states    '"
      ]
     },
     "execution_count": 22,
     "metadata": {},
     "output_type": "execute_result"
    }
   ],
   "source": [
    "country_name = '    united states    '\n",
    "country_name.lstrip()"
   ]
  },
  {
   "cell_type": "code",
   "execution_count": 23,
   "id": "123042b6",
   "metadata": {},
   "outputs": [
    {
     "data": {
      "text/plain": [
       "',  united states    '"
      ]
     },
     "execution_count": 23,
     "metadata": {},
     "output_type": "execute_result"
    }
   ],
   "source": [
    "country_name = '  ,  united states    '\n",
    "country_name.lstrip()"
   ]
  },
  {
   "cell_type": "code",
   "execution_count": 24,
   "id": "cf78bc03",
   "metadata": {},
   "outputs": [
    {
     "data": {
      "text/plain": [
       "'UNITED STATES    '"
      ]
     },
     "execution_count": 24,
     "metadata": {},
     "output_type": "execute_result"
    }
   ],
   "source": [
    "country_name = '    united states    '\n",
    "country_name = country_name.lstrip()\n",
    "country_name.upper()"
   ]
  },
  {
   "cell_type": "markdown",
   "id": "bf337315",
   "metadata": {},
   "source": [
    "### 6. rstrip()"
   ]
  },
  {
   "cell_type": "code",
   "execution_count": null,
   "id": "5317f7c3",
   "metadata": {},
   "outputs": [],
   "source": [
    "it remove trailing white spaces"
   ]
  },
  {
   "cell_type": "code",
   "execution_count": 25,
   "id": "83beac98",
   "metadata": {},
   "outputs": [
    {
     "data": {
      "text/plain": [
       "'    united states'"
      ]
     },
     "execution_count": 25,
     "metadata": {},
     "output_type": "execute_result"
    }
   ],
   "source": [
    "country_name = '    united states    '\n",
    "country_name.rstrip()"
   ]
  },
  {
   "cell_type": "code",
   "execution_count": 26,
   "id": "67560b6d",
   "metadata": {},
   "outputs": [
    {
     "data": {
      "text/plain": [
       "'UNITED STATES'"
      ]
     },
     "execution_count": 26,
     "metadata": {},
     "output_type": "execute_result"
    }
   ],
   "source": [
    "country_name = '    united states    '\n",
    "country_name = country_name.lstrip()\n",
    "country_name=country_name.rstrip()\n",
    "country_name.upper()"
   ]
  },
  {
   "cell_type": "code",
   "execution_count": null,
   "id": "e6ee950a",
   "metadata": {},
   "outputs": [],
   "source": []
  },
  {
   "cell_type": "code",
   "execution_count": null,
   "id": "47579577",
   "metadata": {},
   "outputs": [],
   "source": []
  }
 ],
 "metadata": {
  "kernelspec": {
   "display_name": "Python 3 (ipykernel)",
   "language": "python",
   "name": "python3"
  },
  "language_info": {
   "codemirror_mode": {
    "name": "ipython",
    "version": 3
   },
   "file_extension": ".py",
   "mimetype": "text/x-python",
   "name": "python",
   "nbconvert_exporter": "python",
   "pygments_lexer": "ipython3",
   "version": "3.9.12"
  }
 },
 "nbformat": 4,
 "nbformat_minor": 5
}
