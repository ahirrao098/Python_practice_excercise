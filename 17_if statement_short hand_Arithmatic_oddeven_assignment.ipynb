{
 "cells": [
  {
   "cell_type": "markdown",
   "id": "a238c386",
   "metadata": {},
   "source": [
    "# Short Hand If Statement"
   ]
  },
  {
   "cell_type": "code",
   "execution_count": 1,
   "id": "10eafab3",
   "metadata": {},
   "outputs": [
    {
     "ename": "SyntaxError",
     "evalue": "invalid syntax (1670401928.py, line 1)",
     "output_type": "error",
     "traceback": [
      "\u001b[1;36m  Input \u001b[1;32mIn [1]\u001b[1;36m\u001b[0m\n\u001b[1;33m    if you have only one statement to execute then use short hand if statement\u001b[0m\n\u001b[1;37m           ^\u001b[0m\n\u001b[1;31mSyntaxError\u001b[0m\u001b[1;31m:\u001b[0m invalid syntax\n"
     ]
    }
   ],
   "source": [
    "if you have only one statement to execute then use short hand if statement"
   ]
  },
  {
   "cell_type": "code",
   "execution_count": 2,
   "id": "176423f7",
   "metadata": {},
   "outputs": [
    {
     "name": "stdout",
     "output_type": "stream",
     "text": [
      "salary is greater than 50000\n"
     ]
    }
   ],
   "source": [
    "age=60\n",
    "salary=70000\n",
    "\n",
    "if salary> 50000:\n",
    "    print(\"salary is greater than 50000\")"
   ]
  },
  {
   "cell_type": "code",
   "execution_count": 3,
   "id": "68658326",
   "metadata": {},
   "outputs": [
    {
     "name": "stdout",
     "output_type": "stream",
     "text": [
      "salary is greater than 200000\n"
     ]
    }
   ],
   "source": [
    "age=49\n",
    "salary=300000\n",
    "\n",
    "if salary > 200000: print(\"salary is greater than 200000\")"
   ]
  },
  {
   "cell_type": "code",
   "execution_count": 4,
   "id": "888a4c44",
   "metadata": {},
   "outputs": [
    {
     "name": "stdout",
     "output_type": "stream",
     "text": [
      "salary is greater than 50000\n"
     ]
    }
   ],
   "source": [
    "salary=70000\n",
    "if salary > 50000:\n",
    "    print(\"salary is greater than 50000\")\n",
    "else:\n",
    "    print(\"salary is less than 50000\")"
   ]
  },
  {
   "cell_type": "code",
   "execution_count": 5,
   "id": "8cd81439",
   "metadata": {},
   "outputs": [
    {
     "name": "stdout",
     "output_type": "stream",
     "text": [
      "salary is less than 50000\n"
     ]
    }
   ],
   "source": [
    "salary = 30000\n",
    "print(\"salary is greater than 50000\") if salary > 50000 else print(\"salary is less than 50000\")"
   ]
  },
  {
   "cell_type": "code",
   "execution_count": 6,
   "id": "16cfe190",
   "metadata": {},
   "outputs": [
    {
     "name": "stdout",
     "output_type": "stream",
     "text": [
      "salary is greater than 50000\n"
     ]
    }
   ],
   "source": [
    "salary=60000\n",
    "print(\"salary is greater than 50000\") if salary > 50000 else print(\"salary is less than 50k\")"
   ]
  },
  {
   "cell_type": "markdown",
   "id": "dae264b1",
   "metadata": {},
   "source": [
    "# Arithmatic Operators"
   ]
  },
  {
   "cell_type": "code",
   "execution_count": 7,
   "id": "4d902cf1",
   "metadata": {},
   "outputs": [
    {
     "ename": "SyntaxError",
     "evalue": "invalid syntax (4081781545.py, line 1)",
     "output_type": "error",
     "traceback": [
      "\u001b[1;36m  Input \u001b[1;32mIn [7]\u001b[1;36m\u001b[0m\n\u001b[1;33m    +  >> Addition\u001b[0m\n\u001b[1;37m       ^\u001b[0m\n\u001b[1;31mSyntaxError\u001b[0m\u001b[1;31m:\u001b[0m invalid syntax\n"
     ]
    }
   ],
   "source": [
    "+  >> Addition\n",
    "-  >> Substraction\n",
    "*  >> Multiplication\n",
    "/  >> Division (float)\n",
    "// >> Floar Division(int)\n",
    "%  >> Modulus\n",
    "** >> Exponent"
   ]
  },
  {
   "cell_type": "code",
   "execution_count": 8,
   "id": "eb070b99",
   "metadata": {},
   "outputs": [
    {
     "data": {
      "text/plain": [
       "115"
      ]
     },
     "execution_count": 8,
     "metadata": {},
     "output_type": "execute_result"
    }
   ],
   "source": [
    "110+5"
   ]
  },
  {
   "cell_type": "code",
   "execution_count": 9,
   "id": "ccfca445",
   "metadata": {},
   "outputs": [
    {
     "data": {
      "text/plain": [
       "5"
      ]
     },
     "execution_count": 9,
     "metadata": {},
     "output_type": "execute_result"
    }
   ],
   "source": [
    "10-5"
   ]
  },
  {
   "cell_type": "code",
   "execution_count": 10,
   "id": "177de595",
   "metadata": {},
   "outputs": [
    {
     "data": {
      "text/plain": [
       "50"
      ]
     },
     "execution_count": 10,
     "metadata": {},
     "output_type": "execute_result"
    }
   ],
   "source": [
    "10*5\n"
   ]
  },
  {
   "cell_type": "code",
   "execution_count": 11,
   "id": "2334275a",
   "metadata": {},
   "outputs": [
    {
     "data": {
      "text/plain": [
       "2.8"
      ]
     },
     "execution_count": 11,
     "metadata": {},
     "output_type": "execute_result"
    }
   ],
   "source": [
    "14/5"
   ]
  },
  {
   "cell_type": "code",
   "execution_count": 12,
   "id": "d07f23b3",
   "metadata": {},
   "outputs": [
    {
     "data": {
      "text/plain": [
       "2"
      ]
     },
     "execution_count": 12,
     "metadata": {},
     "output_type": "execute_result"
    }
   ],
   "source": [
    "12//5"
   ]
  },
  {
   "cell_type": "code",
   "execution_count": 13,
   "id": "854f0bab",
   "metadata": {},
   "outputs": [
    {
     "data": {
      "text/plain": [
       "0.8000000000000007"
      ]
     },
     "execution_count": 13,
     "metadata": {},
     "output_type": "execute_result"
    }
   ],
   "source": [
    "10%2.3"
   ]
  },
  {
   "cell_type": "code",
   "execution_count": 14,
   "id": "801731ca",
   "metadata": {},
   "outputs": [
    {
     "data": {
      "text/plain": [
       "2"
      ]
     },
     "execution_count": 14,
     "metadata": {},
     "output_type": "execute_result"
    }
   ],
   "source": [
    "12%5"
   ]
  },
  {
   "cell_type": "code",
   "execution_count": 15,
   "id": "3febb5d5",
   "metadata": {},
   "outputs": [
    {
     "data": {
      "text/plain": [
       "8"
      ]
     },
     "execution_count": 15,
     "metadata": {},
     "output_type": "execute_result"
    }
   ],
   "source": [
    "2**3"
   ]
  },
  {
   "cell_type": "code",
   "execution_count": 16,
   "id": "f6bf8150",
   "metadata": {},
   "outputs": [
    {
     "data": {
      "text/plain": [
       "9"
      ]
     },
     "execution_count": 16,
     "metadata": {},
     "output_type": "execute_result"
    }
   ],
   "source": [
    "3**2"
   ]
  },
  {
   "cell_type": "code",
   "execution_count": 17,
   "id": "9ab722d7",
   "metadata": {},
   "outputs": [
    {
     "data": {
      "text/plain": [
       "'pythonclass'"
      ]
     },
     "execution_count": 17,
     "metadata": {},
     "output_type": "execute_result"
    }
   ],
   "source": [
    "'python' + \"class\""
   ]
  },
  {
   "cell_type": "code",
   "execution_count": 18,
   "id": "72a751c7",
   "metadata": {},
   "outputs": [
    {
     "ename": "TypeError",
     "evalue": "can't multiply sequence by non-int of type 'str'",
     "output_type": "error",
     "traceback": [
      "\u001b[1;31m---------------------------------------------------------------------------\u001b[0m",
      "\u001b[1;31mTypeError\u001b[0m                                 Traceback (most recent call last)",
      "Input \u001b[1;32mIn [18]\u001b[0m, in \u001b[0;36m<cell line: 1>\u001b[1;34m()\u001b[0m\n\u001b[1;32m----> 1\u001b[0m \u001b[38;5;124;43m'\u001b[39;49m\u001b[38;5;124;43mpython\u001b[39;49m\u001b[38;5;124;43m'\u001b[39;49m\u001b[38;5;241;43m*\u001b[39;49m\u001b[38;5;124;43m'\u001b[39;49m\u001b[38;5;124;43mClass\u001b[39;49m\u001b[38;5;124;43m'\u001b[39;49m\n",
      "\u001b[1;31mTypeError\u001b[0m: can't multiply sequence by non-int of type 'str'"
     ]
    }
   ],
   "source": [
    "'python'*'Class'"
   ]
  },
  {
   "cell_type": "code",
   "execution_count": 19,
   "id": "4d863682",
   "metadata": {},
   "outputs": [
    {
     "data": {
      "text/plain": [
       "'Jai Shree Ram Jai Shree Ram Jai Shree Ram Jai Shree Ram Jai Shree Ram Jai Shree Ram Jai Shree Ram Jai Shree Ram Jai Shree Ram Jai Shree Ram Jai Shree Ram Jai Shree Ram Jai Shree Ram Jai Shree Ram Jai Shree Ram Jai Shree Ram Jai Shree Ram Jai Shree Ram Jai Shree Ram Jai Shree Ram Jai Shree Ram Jai Shree Ram Jai Shree Ram Jai Shree Ram Jai Shree Ram Jai Shree Ram Jai Shree Ram Jai Shree Ram Jai Shree Ram Jai Shree Ram Jai Shree Ram Jai Shree Ram Jai Shree Ram Jai Shree Ram Jai Shree Ram Jai Shree Ram Jai Shree Ram Jai Shree Ram Jai Shree Ram Jai Shree Ram Jai Shree Ram Jai Shree Ram Jai Shree Ram Jai Shree Ram Jai Shree Ram Jai Shree Ram Jai Shree Ram Jai Shree Ram Jai Shree Ram Jai Shree Ram Jai Shree Ram '"
      ]
     },
     "execution_count": 19,
     "metadata": {},
     "output_type": "execute_result"
    }
   ],
   "source": [
    "\"Jai Shree Ram \"*51"
   ]
  },
  {
   "cell_type": "markdown",
   "id": "c0cbf2cb",
   "metadata": {},
   "source": [
    "# To Check Even or Odd Numbers"
   ]
  },
  {
   "cell_type": "code",
   "execution_count": 20,
   "id": "4dbeeb32",
   "metadata": {},
   "outputs": [
    {
     "name": "stdout",
     "output_type": "stream",
     "text": [
      "enter any number :10\n",
      "count of even is:  1\n",
      "count of odd is:  1\n"
     ]
    }
   ],
   "source": [
    "a=input(\"enter any number :\")\n",
    "\n",
    "even=0\n",
    "odd=0\n",
    "\n",
    "for i in a :\n",
    "    if int(i) % 2 == 0:\n",
    "        even +=1\n",
    "    else:\n",
    "        odd +=1\n",
    "        \n",
    "print(\"count of even is: \",even)\n",
    "print(\"count of odd is: \",odd)"
   ]
  },
  {
   "cell_type": "code",
   "execution_count": 21,
   "id": "fb3d42fd",
   "metadata": {},
   "outputs": [
    {
     "name": "stdout",
     "output_type": "stream",
     "text": [
      "enter the number12\n",
      "number is even\n"
     ]
    }
   ],
   "source": [
    "x=int(input(\"enter the number\"))\n",
    "if (x%2)==0:\n",
    "    print(\"number is even\")\n",
    "else:\n",
    "    print(\"number is odd\")"
   ]
  },
  {
   "cell_type": "markdown",
   "id": "864c80c5",
   "metadata": {},
   "source": [
    "# Assignment Operators"
   ]
  },
  {
   "cell_type": "code",
   "execution_count": 22,
   "id": "f4168aed",
   "metadata": {},
   "outputs": [
    {
     "ename": "SyntaxError",
     "evalue": "invalid syntax (3868309052.py, line 1)",
     "output_type": "error",
     "traceback": [
      "\u001b[1;36m  Input \u001b[1;32mIn [22]\u001b[1;36m\u001b[0m\n\u001b[1;33m    =\u001b[0m\n\u001b[1;37m    ^\u001b[0m\n\u001b[1;31mSyntaxError\u001b[0m\u001b[1;31m:\u001b[0m invalid syntax\n"
     ]
    }
   ],
   "source": [
    "=\n",
    "+=  >> a+=1 >> a=a+1\n",
    "-=  >> a-=1 >> a=a-1\n",
    "*=  >> a*=2 >> a=a*2\n",
    "/=  >> a/=2 >> a=a/2\n",
    "//= >> a//=2>> a=a//2\n",
    "**= >> a**=2>> a=a**2"
   ]
  },
  {
   "cell_type": "code",
   "execution_count": 23,
   "id": "9c6d6a37",
   "metadata": {},
   "outputs": [],
   "source": [
    "x=10"
   ]
  },
  {
   "cell_type": "code",
   "execution_count": 24,
   "id": "1083d2e7",
   "metadata": {},
   "outputs": [
    {
     "data": {
      "text/plain": [
       "29"
      ]
     },
     "execution_count": 24,
     "metadata": {},
     "output_type": "execute_result"
    }
   ],
   "source": [
    "x+=19# x=x+1\n",
    "x"
   ]
  },
  {
   "cell_type": "code",
   "execution_count": 25,
   "id": "80e990ba",
   "metadata": {},
   "outputs": [
    {
     "data": {
      "text/plain": [
       "6"
      ]
     },
     "execution_count": 25,
     "metadata": {},
     "output_type": "execute_result"
    }
   ],
   "source": [
    "x-=23# x=x-23\n",
    "x"
   ]
  },
  {
   "cell_type": "code",
   "execution_count": 26,
   "id": "ba6d582f",
   "metadata": {},
   "outputs": [
    {
     "data": {
      "text/plain": [
       "138"
      ]
     },
     "execution_count": 26,
     "metadata": {},
     "output_type": "execute_result"
    }
   ],
   "source": [
    "x*=23 #x=x*23\n",
    "x"
   ]
  },
  {
   "cell_type": "code",
   "execution_count": 27,
   "id": "48b29155",
   "metadata": {},
   "outputs": [
    {
     "data": {
      "text/plain": [
       "138"
      ]
     },
     "execution_count": 27,
     "metadata": {},
     "output_type": "execute_result"
    }
   ],
   "source": [
    "23*6"
   ]
  },
  {
   "cell_type": "code",
   "execution_count": 28,
   "id": "f2f60410",
   "metadata": {},
   "outputs": [
    {
     "data": {
      "text/plain": [
       "'0b110111'"
      ]
     },
     "execution_count": 28,
     "metadata": {},
     "output_type": "execute_result"
    }
   ],
   "source": [
    "bin(55)"
   ]
  },
  {
   "cell_type": "code",
   "execution_count": 29,
   "id": "1bdb04b4",
   "metadata": {},
   "outputs": [
    {
     "data": {
      "text/plain": [
       "'0b1010'"
      ]
     },
     "execution_count": 29,
     "metadata": {},
     "output_type": "execute_result"
    }
   ],
   "source": [
    "bin(10)"
   ]
  },
  {
   "cell_type": "code",
   "execution_count": 30,
   "id": "ee24bb29",
   "metadata": {},
   "outputs": [
    {
     "data": {
      "text/plain": [
       "5"
      ]
     },
     "execution_count": 30,
     "metadata": {},
     "output_type": "execute_result"
    }
   ],
   "source": [
    "5 & 7 "
   ]
  },
  {
   "cell_type": "code",
   "execution_count": 31,
   "id": "1aa09e77",
   "metadata": {},
   "outputs": [
    {
     "data": {
      "text/plain": [
       "67"
      ]
     },
     "execution_count": 31,
     "metadata": {},
     "output_type": "execute_result"
    }
   ],
   "source": [
    "5 and 7 and 6 and 67\n",
    " "
   ]
  },
  {
   "cell_type": "code",
   "execution_count": 32,
   "id": "a3c1dec9",
   "metadata": {},
   "outputs": [
    {
     "data": {
      "text/plain": [
       "7"
      ]
     },
     "execution_count": 32,
     "metadata": {},
     "output_type": "execute_result"
    }
   ],
   "source": [
    "5 & 7 | 3"
   ]
  },
  {
   "cell_type": "code",
   "execution_count": 33,
   "id": "0c06d988",
   "metadata": {},
   "outputs": [
    {
     "data": {
      "text/plain": [
       "True"
      ]
     },
     "execution_count": 33,
     "metadata": {},
     "output_type": "execute_result"
    }
   ],
   "source": [
    "5 and True"
   ]
  },
  {
   "cell_type": "code",
   "execution_count": 34,
   "id": "8be66d85",
   "metadata": {},
   "outputs": [
    {
     "data": {
      "text/plain": [
       "67"
      ]
     },
     "execution_count": 34,
     "metadata": {},
     "output_type": "execute_result"
    }
   ],
   "source": [
    "67 or True"
   ]
  },
  {
   "cell_type": "markdown",
   "id": "11e293f3",
   "metadata": {},
   "source": [
    "# Polynomial Equation"
   ]
  },
  {
   "cell_type": "code",
   "execution_count": 35,
   "id": "7e9ece0f",
   "metadata": {},
   "outputs": [],
   "source": [
    "x=6\n",
    "y=(x**3)+(3*(x**2))-(5*x)+7"
   ]
  },
  {
   "cell_type": "code",
   "execution_count": 36,
   "id": "e26f7dcd",
   "metadata": {},
   "outputs": [
    {
     "data": {
      "text/plain": [
       "301"
      ]
     },
     "execution_count": 36,
     "metadata": {},
     "output_type": "execute_result"
    }
   ],
   "source": [
    "y"
   ]
  },
  {
   "cell_type": "code",
   "execution_count": 37,
   "id": "9c9a4405",
   "metadata": {},
   "outputs": [
    {
     "data": {
      "text/plain": [
       "36"
      ]
     },
     "execution_count": 37,
     "metadata": {},
     "output_type": "execute_result"
    }
   ],
   "source": [
    "x**2"
   ]
  },
  {
   "cell_type": "code",
   "execution_count": 38,
   "id": "0d7f37db",
   "metadata": {},
   "outputs": [
    {
     "ename": "SyntaxError",
     "evalue": "invalid syntax (387825140.py, line 1)",
     "output_type": "error",
     "traceback": [
      "\u001b[1;36m  Input \u001b[1;32mIn [38]\u001b[1;36m\u001b[0m\n\u001b[1;33m    Preference of Arithmetic Operator\u001b[0m\n\u001b[1;37m               ^\u001b[0m\n\u001b[1;31mSyntaxError\u001b[0m\u001b[1;31m:\u001b[0m invalid syntax\n"
     ]
    }
   ],
   "source": [
    "Preference of Arithmetic Operator\n",
    "\n",
    "1. () >> Parenthesis\n",
    "2. ** >> Exponent\n",
    "3.  / , // ,*\n",
    "4. + , -"
   ]
  },
  {
   "cell_type": "code",
   "execution_count": 39,
   "id": "9660080e",
   "metadata": {},
   "outputs": [
    {
     "data": {
      "text/plain": [
       "-85"
      ]
     },
     "execution_count": 39,
     "metadata": {},
     "output_type": "execute_result"
    }
   ],
   "source": [
    "(5*(x^4))-(3*(x^3))+(4*(x^2))-(8*(x+6))"
   ]
  },
  {
   "cell_type": "code",
   "execution_count": 40,
   "id": "64d6cbcd",
   "metadata": {},
   "outputs": [
    {
     "ename": "NameError",
     "evalue": "name 'XOR' is not defined",
     "output_type": "error",
     "traceback": [
      "\u001b[1;31m---------------------------------------------------------------------------\u001b[0m",
      "\u001b[1;31mNameError\u001b[0m                                 Traceback (most recent call last)",
      "Input \u001b[1;32mIn [40]\u001b[0m, in \u001b[0;36m<cell line: 1>\u001b[1;34m()\u001b[0m\n\u001b[1;32m----> 1\u001b[0m \u001b[43mXOR\u001b[49m\n",
      "\u001b[1;31mNameError\u001b[0m: name 'XOR' is not defined"
     ]
    }
   ],
   "source": [
    "XOR"
   ]
  },
  {
   "cell_type": "code",
   "execution_count": 41,
   "id": "774dbaa7",
   "metadata": {},
   "outputs": [
    {
     "data": {
      "text/plain": [
       "4"
      ]
     },
     "execution_count": 41,
     "metadata": {},
     "output_type": "execute_result"
    }
   ],
   "source": [
    "6^2"
   ]
  },
  {
   "cell_type": "code",
   "execution_count": 42,
   "id": "9fadf5b0",
   "metadata": {},
   "outputs": [
    {
     "data": {
      "text/plain": [
       "15"
      ]
     },
     "execution_count": 42,
     "metadata": {},
     "output_type": "execute_result"
    }
   ],
   "source": [
    "23^24"
   ]
  },
  {
   "cell_type": "code",
   "execution_count": 43,
   "id": "41e9651a",
   "metadata": {},
   "outputs": [
    {
     "data": {
      "text/plain": [
       "4"
      ]
     },
     "execution_count": 43,
     "metadata": {},
     "output_type": "execute_result"
    }
   ],
   "source": [
    "5 & 6"
   ]
  },
  {
   "cell_type": "code",
   "execution_count": 44,
   "id": "54dc03a8",
   "metadata": {},
   "outputs": [
    {
     "name": "stdout",
     "output_type": "stream",
     "text": [
      "-6\n"
     ]
    }
   ],
   "source": [
    "a=5\n",
    "print(~a) # not bitwise"
   ]
  },
  {
   "cell_type": "markdown",
   "id": "bc3b9212",
   "metadata": {},
   "source": [
    "# Membership Operator"
   ]
  },
  {
   "cell_type": "code",
   "execution_count": null,
   "id": "331aa4fe",
   "metadata": {},
   "outputs": [],
   "source": [
    "in\n",
    "not in"
   ]
  },
  {
   "cell_type": "code",
   "execution_count": 45,
   "id": "cef920b1",
   "metadata": {},
   "outputs": [
    {
     "data": {
      "text/plain": [
       "True"
      ]
     },
     "execution_count": 45,
     "metadata": {},
     "output_type": "execute_result"
    }
   ],
   "source": [
    "string=\"Data Science\"\n",
    "\"Data\" in string"
   ]
  },
  {
   "cell_type": "code",
   "execution_count": 46,
   "id": "5576ea64",
   "metadata": {},
   "outputs": [
    {
     "data": {
      "text/plain": [
       "False"
      ]
     },
     "execution_count": 46,
     "metadata": {},
     "output_type": "execute_result"
    }
   ],
   "source": [
    "string=\"Data Science\"\n",
    "\"data\" in string"
   ]
  },
  {
   "cell_type": "code",
   "execution_count": 47,
   "id": "314e202f",
   "metadata": {},
   "outputs": [
    {
     "data": {
      "text/plain": [
       "True"
      ]
     },
     "execution_count": 47,
     "metadata": {},
     "output_type": "execute_result"
    }
   ],
   "source": [
    "string=\"Data Science\"\n",
    "\"data\" not in string"
   ]
  },
  {
   "cell_type": "code",
   "execution_count": 48,
   "id": "e4faa9a2",
   "metadata": {},
   "outputs": [
    {
     "data": {
      "text/plain": [
       "False"
      ]
     },
     "execution_count": 48,
     "metadata": {},
     "output_type": "execute_result"
    }
   ],
   "source": [
    "string=\"Data Science\"\n",
    "\"Data\" not in string"
   ]
  },
  {
   "cell_type": "code",
   "execution_count": 49,
   "id": "88e0ce86",
   "metadata": {},
   "outputs": [
    {
     "data": {
      "text/plain": [
       "False"
      ]
     },
     "execution_count": 49,
     "metadata": {},
     "output_type": "execute_result"
    }
   ],
   "source": [
    "string=\"To get the train in python\"\n",
    "\"train\" not in string"
   ]
  },
  {
   "cell_type": "code",
   "execution_count": 50,
   "id": "42696fb6",
   "metadata": {},
   "outputs": [
    {
     "data": {
      "text/plain": [
       "True"
      ]
     },
     "execution_count": 50,
     "metadata": {},
     "output_type": "execute_result"
    }
   ],
   "source": [
    "string=\"To get the train in python\"\n",
    "\"get\" in string"
   ]
  },
  {
   "cell_type": "code",
   "execution_count": null,
   "id": "362cc71d",
   "metadata": {},
   "outputs": [],
   "source": []
  },
  {
   "cell_type": "code",
   "execution_count": null,
   "id": "efc7dceb",
   "metadata": {},
   "outputs": [],
   "source": []
  },
  {
   "cell_type": "code",
   "execution_count": null,
   "id": "c31ea2b2",
   "metadata": {},
   "outputs": [],
   "source": []
  },
  {
   "cell_type": "code",
   "execution_count": null,
   "id": "8f39b57e",
   "metadata": {},
   "outputs": [],
   "source": []
  },
  {
   "cell_type": "code",
   "execution_count": null,
   "id": "b5fb1a24",
   "metadata": {},
   "outputs": [],
   "source": []
  },
  {
   "cell_type": "code",
   "execution_count": null,
   "id": "7542617f",
   "metadata": {},
   "outputs": [],
   "source": []
  },
  {
   "cell_type": "code",
   "execution_count": null,
   "id": "dccc6257",
   "metadata": {},
   "outputs": [],
   "source": []
  },
  {
   "cell_type": "code",
   "execution_count": null,
   "id": "99cc6b8e",
   "metadata": {},
   "outputs": [],
   "source": []
  },
  {
   "cell_type": "code",
   "execution_count": null,
   "id": "929d4f50",
   "metadata": {},
   "outputs": [],
   "source": []
  },
  {
   "cell_type": "code",
   "execution_count": null,
   "id": "37adab55",
   "metadata": {},
   "outputs": [],
   "source": []
  },
  {
   "cell_type": "code",
   "execution_count": null,
   "id": "4a188d44",
   "metadata": {},
   "outputs": [],
   "source": []
  },
  {
   "cell_type": "code",
   "execution_count": null,
   "id": "0d52210c",
   "metadata": {},
   "outputs": [],
   "source": []
  }
 ],
 "metadata": {
  "kernelspec": {
   "display_name": "Python 3 (ipykernel)",
   "language": "python",
   "name": "python3"
  },
  "language_info": {
   "codemirror_mode": {
    "name": "ipython",
    "version": 3
   },
   "file_extension": ".py",
   "mimetype": "text/x-python",
   "name": "python",
   "nbconvert_exporter": "python",
   "pygments_lexer": "ipython3",
   "version": "3.9.12"
  }
 },
 "nbformat": 4,
 "nbformat_minor": 5
}
