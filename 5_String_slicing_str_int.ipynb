{
 "cells": [
  {
   "cell_type": "markdown",
   "id": "aa95d777",
   "metadata": {},
   "source": [
    "# String Slicing"
   ]
  },
  {
   "cell_type": "markdown",
   "id": "1be3485a",
   "metadata": {},
   "source": [
    "string[start_index(included) : end_index(exclude) : step_size] \n",
    "#step size is optional Default start_index >> 0 Default end_index>> \n",
    "Length of the string default step_size >> 1 step_size is positive >>\n",
    "left to right step_size is negative >> right to left"
   ]
  },
  {
   "cell_type": "code",
   "execution_count": 1,
   "id": "2e6d10f7",
   "metadata": {},
   "outputs": [
    {
     "data": {
      "text/plain": [
       "'ac'"
      ]
     },
     "execution_count": 1,
     "metadata": {},
     "output_type": "execute_result"
    }
   ],
   "source": [
    "s='machine'\n",
    "s[1:3]# a included , h excluded"
   ]
  },
  {
   "cell_type": "code",
   "execution_count": 2,
   "id": "7e12b6bf",
   "metadata": {},
   "outputs": [
    {
     "data": {
      "text/plain": [
       "'mac'"
      ]
     },
     "execution_count": 2,
     "metadata": {},
     "output_type": "execute_result"
    }
   ],
   "source": [
    "s[:3]"
   ]
  },
  {
   "cell_type": "code",
   "execution_count": 4,
   "id": "c642edc6",
   "metadata": {},
   "outputs": [
    {
     "data": {
      "text/plain": [
       "'h'"
      ]
     },
     "execution_count": 4,
     "metadata": {},
     "output_type": "execute_result"
    }
   ],
   "source": [
    "s[3:4]"
   ]
  },
  {
   "cell_type": "code",
   "execution_count": 15,
   "id": "334e24d1",
   "metadata": {},
   "outputs": [
    {
     "data": {
      "text/plain": [
       "16"
      ]
     },
     "execution_count": 15,
     "metadata": {},
     "output_type": "execute_result"
    }
   ],
   "source": [
    "str1='Machine learning'\n",
    "str1[:7]\n",
    "len(str1)"
   ]
  },
  {
   "cell_type": "code",
   "execution_count": 6,
   "id": "5ef691ff",
   "metadata": {},
   "outputs": [
    {
     "data": {
      "text/plain": [
       "'Machine l'"
      ]
     },
     "execution_count": 6,
     "metadata": {},
     "output_type": "execute_result"
    }
   ],
   "source": [
    "str1[:9]"
   ]
  },
  {
   "cell_type": "code",
   "execution_count": 7,
   "id": "6edbe449",
   "metadata": {},
   "outputs": [
    {
     "data": {
      "text/plain": [
       "'learning'"
      ]
     },
     "execution_count": 7,
     "metadata": {},
     "output_type": "execute_result"
    }
   ],
   "source": [
    "str1[8:]"
   ]
  },
  {
   "cell_type": "code",
   "execution_count": 11,
   "id": "d0fb3483",
   "metadata": {},
   "outputs": [
    {
     "data": {
      "text/plain": [
       "33"
      ]
     },
     "execution_count": 11,
     "metadata": {},
     "output_type": "execute_result"
    }
   ],
   "source": [
    "str2='Data science and machine learning'\n",
    "len(str2)"
   ]
  },
  {
   "cell_type": "code",
   "execution_count": 14,
   "id": "97b93526",
   "metadata": {},
   "outputs": [
    {
     "data": {
      "text/plain": [
       "'ata science and'"
      ]
     },
     "execution_count": 14,
     "metadata": {},
     "output_type": "execute_result"
    }
   ],
   "source": [
    "str2[1:len(str1)]"
   ]
  },
  {
   "cell_type": "code",
   "execution_count": 16,
   "id": "c5a49199",
   "metadata": {},
   "outputs": [
    {
     "data": {
      "text/plain": [
       "'achine learning'"
      ]
     },
     "execution_count": 16,
     "metadata": {},
     "output_type": "execute_result"
    }
   ],
   "source": [
    "str1[1:len(str2)]"
   ]
  },
  {
   "cell_type": "code",
   "execution_count": 17,
   "id": "4de70a8a",
   "metadata": {},
   "outputs": [
    {
     "ename": "IndexError",
     "evalue": "string index out of range",
     "output_type": "error",
     "traceback": [
      "\u001b[1;31m---------------------------------------------------------------------------\u001b[0m",
      "\u001b[1;31mIndexError\u001b[0m                                Traceback (most recent call last)",
      "Input \u001b[1;32mIn [17]\u001b[0m, in \u001b[0;36m<cell line: 2>\u001b[1;34m()\u001b[0m\n\u001b[0;32m      1\u001b[0m a\u001b[38;5;241m=\u001b[39m\u001b[38;5;124m'\u001b[39m\u001b[38;5;124mstring\u001b[39m\u001b[38;5;124m'\u001b[39m \u001b[38;5;66;03m#6\u001b[39;00m\n\u001b[1;32m----> 2\u001b[0m \u001b[43ma\u001b[49m\u001b[43m[\u001b[49m\u001b[38;5;241;43m9\u001b[39;49m\u001b[43m]\u001b[49m\n",
      "\u001b[1;31mIndexError\u001b[0m: string index out of range"
     ]
    }
   ],
   "source": [
    "a='string' #6\n",
    "a[9]"
   ]
  },
  {
   "cell_type": "code",
   "execution_count": 18,
   "id": "15e2713d",
   "metadata": {},
   "outputs": [
    {
     "data": {
      "text/plain": [
       "''"
      ]
     },
     "execution_count": 18,
     "metadata": {},
     "output_type": "execute_result"
    }
   ],
   "source": [
    "str1[len(str2)-5:len(str2)]"
   ]
  },
  {
   "cell_type": "code",
   "execution_count": 19,
   "id": "e03a23ac",
   "metadata": {},
   "outputs": [
    {
     "data": {
      "text/plain": [
       "33"
      ]
     },
     "execution_count": 19,
     "metadata": {},
     "output_type": "execute_result"
    }
   ],
   "source": [
    "len(str2)"
   ]
  },
  {
   "cell_type": "code",
   "execution_count": 20,
   "id": "9cb30a83",
   "metadata": {},
   "outputs": [
    {
     "data": {
      "text/plain": [
       "'Machine learning'"
      ]
     },
     "execution_count": 20,
     "metadata": {},
     "output_type": "execute_result"
    }
   ],
   "source": [
    "str1[:]"
   ]
  },
  {
   "cell_type": "code",
   "execution_count": 21,
   "id": "405075f6",
   "metadata": {},
   "outputs": [
    {
     "data": {
      "text/plain": [
       "'achine '"
      ]
     },
     "execution_count": 21,
     "metadata": {},
     "output_type": "execute_result"
    }
   ],
   "source": [
    "str1[1:8]"
   ]
  },
  {
   "cell_type": "code",
   "execution_count": 28,
   "id": "fe2a4f2d",
   "metadata": {},
   "outputs": [
    {
     "data": {
      "text/plain": [
       "'achine '"
      ]
     },
     "execution_count": 28,
     "metadata": {},
     "output_type": "execute_result"
    }
   ],
   "source": [
    "str1[1:8:1]"
   ]
  },
  {
   "cell_type": "code",
   "execution_count": 33,
   "id": "6f66f926",
   "metadata": {},
   "outputs": [
    {
     "data": {
      "text/plain": [
       "'a i'"
      ]
     },
     "execution_count": 33,
     "metadata": {},
     "output_type": "execute_result"
    }
   ],
   "source": [
    "str2[1:8:3]"
   ]
  },
  {
   "cell_type": "code",
   "execution_count": 30,
   "id": "952c5386",
   "metadata": {},
   "outputs": [
    {
     "data": {
      "text/plain": [
       "'Data science and machine learning'"
      ]
     },
     "execution_count": 30,
     "metadata": {},
     "output_type": "execute_result"
    }
   ],
   "source": [
    "str2"
   ]
  },
  {
   "cell_type": "code",
   "execution_count": 34,
   "id": "4896d66d",
   "metadata": {},
   "outputs": [
    {
     "data": {
      "text/plain": [
       "'Machine learning'"
      ]
     },
     "execution_count": 34,
     "metadata": {},
     "output_type": "execute_result"
    }
   ],
   "source": [
    "str1"
   ]
  },
  {
   "cell_type": "code",
   "execution_count": 39,
   "id": "03b97e65",
   "metadata": {},
   "outputs": [
    {
     "data": {
      "text/plain": [
       "'Machine learning'"
      ]
     },
     "execution_count": 39,
     "metadata": {},
     "output_type": "execute_result"
    }
   ],
   "source": [
    "str1[::1]"
   ]
  },
  {
   "cell_type": "code",
   "execution_count": 40,
   "id": "bdb95b59",
   "metadata": {},
   "outputs": [
    {
     "data": {
      "text/plain": [
       "'Mcielann'"
      ]
     },
     "execution_count": 40,
     "metadata": {},
     "output_type": "execute_result"
    }
   ],
   "source": [
    "str1[::2]"
   ]
  },
  {
   "cell_type": "code",
   "execution_count": 42,
   "id": "598b2a50",
   "metadata": {},
   "outputs": [
    {
     "data": {
      "text/plain": [
       "''"
      ]
     },
     "execution_count": 42,
     "metadata": {},
     "output_type": "execute_result"
    }
   ],
   "source": [
    "str1[2:1]"
   ]
  },
  {
   "cell_type": "markdown",
   "id": "438120c5",
   "metadata": {},
   "source": [
    "# String Slicing with Negative Indexing"
   ]
  },
  {
   "cell_type": "code",
   "execution_count": 43,
   "id": "4dedb592",
   "metadata": {},
   "outputs": [
    {
     "data": {
      "text/plain": [
       "16"
      ]
     },
     "execution_count": 43,
     "metadata": {},
     "output_type": "execute_result"
    }
   ],
   "source": [
    "str1='velocity classes'\n",
    "len(str1)"
   ]
  },
  {
   "cell_type": "code",
   "execution_count": 44,
   "id": "341fe21d",
   "metadata": {},
   "outputs": [
    {
     "data": {
      "text/plain": [
       "'classe'"
      ]
     },
     "execution_count": 44,
     "metadata": {},
     "output_type": "execute_result"
    }
   ],
   "source": [
    "str1[-7:-1]"
   ]
  },
  {
   "cell_type": "code",
   "execution_count": 45,
   "id": "99dee7fd",
   "metadata": {},
   "outputs": [
    {
     "data": {
      "text/plain": [
       "'ity class'"
      ]
     },
     "execution_count": 45,
     "metadata": {},
     "output_type": "execute_result"
    }
   ],
   "source": [
    "str1[-11:-2]"
   ]
  },
  {
   "cell_type": "markdown",
   "id": "3dd5db26",
   "metadata": {},
   "source": [
    "# Reverse the string"
   ]
  },
  {
   "cell_type": "code",
   "execution_count": 46,
   "id": "e50fbc1b",
   "metadata": {},
   "outputs": [
    {
     "data": {
      "text/plain": [
       "''"
      ]
     },
     "execution_count": 46,
     "metadata": {},
     "output_type": "execute_result"
    }
   ],
   "source": [
    "str1[-7:-1:-1]"
   ]
  },
  {
   "cell_type": "code",
   "execution_count": 47,
   "id": "eb41d322",
   "metadata": {},
   "outputs": [
    {
     "data": {
      "text/plain": [
       "'sessalc yticolev'"
      ]
     },
     "execution_count": 47,
     "metadata": {},
     "output_type": "execute_result"
    }
   ],
   "source": [
    "str1[::-1]"
   ]
  },
  {
   "cell_type": "code",
   "execution_count": 48,
   "id": "66e4505b",
   "metadata": {},
   "outputs": [
    {
     "data": {
      "text/plain": [
       "'velocity classes'"
      ]
     },
     "execution_count": 48,
     "metadata": {},
     "output_type": "execute_result"
    }
   ],
   "source": [
    "str1"
   ]
  },
  {
   "cell_type": "code",
   "execution_count": 49,
   "id": "711c2a8a",
   "metadata": {},
   "outputs": [
    {
     "data": {
      "text/plain": [
       "'sessalc'"
      ]
     },
     "execution_count": 49,
     "metadata": {},
     "output_type": "execute_result"
    }
   ],
   "source": [
    "str1[:8:-1]"
   ]
  },
  {
   "cell_type": "code",
   "execution_count": 63,
   "id": "c35cbeb6",
   "metadata": {},
   "outputs": [
    {
     "data": {
      "text/plain": [
       "' yticolev'"
      ]
     },
     "execution_count": 63,
     "metadata": {},
     "output_type": "execute_result"
    }
   ],
   "source": [
    "str1[8::-1]"
   ]
  },
  {
   "cell_type": "code",
   "execution_count": 64,
   "id": "00c23d04",
   "metadata": {},
   "outputs": [
    {
     "data": {
      "text/plain": [
       "' classes'"
      ]
     },
     "execution_count": 64,
     "metadata": {},
     "output_type": "execute_result"
    }
   ],
   "source": [
    "str1[8:]"
   ]
  },
  {
   "cell_type": "markdown",
   "id": "2cbe7ed9",
   "metadata": {},
   "source": [
    "### Adding of String"
   ]
  },
  {
   "cell_type": "code",
   "execution_count": 66,
   "id": "04acca65",
   "metadata": {},
   "outputs": [
    {
     "name": "stdout",
     "output_type": "stream",
     "text": [
      "<class 'str'>\n",
      "<class 'str'>\n"
     ]
    }
   ],
   "source": [
    "s1='python'\n",
    "s2='data science'\n",
    "print(type(s1))\n",
    "print(type(s2))"
   ]
  },
  {
   "cell_type": "code",
   "execution_count": 71,
   "id": "fb172fbb",
   "metadata": {},
   "outputs": [
    {
     "data": {
      "text/plain": [
       "'pythondata science data science data science data science'"
      ]
     },
     "execution_count": 71,
     "metadata": {},
     "output_type": "execute_result"
    }
   ],
   "source": [
    "s1=s1 + ' ' + s2\n",
    "s1"
   ]
  },
  {
   "cell_type": "code",
   "execution_count": 72,
   "id": "7b39d8e3",
   "metadata": {},
   "outputs": [
    {
     "data": {
      "text/plain": [
       "'python ABC'"
      ]
     },
     "execution_count": 72,
     "metadata": {},
     "output_type": "execute_result"
    }
   ],
   "source": [
    "s1='python'\n",
    "s2='Data science'\n",
    "s1=s1 + ' ' +'ABC'\n",
    "s1"
   ]
  },
  {
   "cell_type": "code",
   "execution_count": 73,
   "id": "d4601921",
   "metadata": {},
   "outputs": [
    {
     "data": {
      "text/plain": [
       "'python ABCData science'"
      ]
     },
     "execution_count": 73,
     "metadata": {},
     "output_type": "execute_result"
    }
   ],
   "source": [
    "s3=s1+s2\n",
    "s3"
   ]
  },
  {
   "cell_type": "code",
   "execution_count": 74,
   "id": "624c2aad",
   "metadata": {},
   "outputs": [
    {
     "data": {
      "text/plain": [
       "'python ABCpython ABCpython ABC'"
      ]
     },
     "execution_count": 74,
     "metadata": {},
     "output_type": "execute_result"
    }
   ],
   "source": [
    "s4=s1*3\n",
    "s4"
   ]
  },
  {
   "cell_type": "code",
   "execution_count": 75,
   "id": "bb375141",
   "metadata": {},
   "outputs": [
    {
     "data": {
      "text/plain": [
       "'python ABCData science'"
      ]
     },
     "execution_count": 75,
     "metadata": {},
     "output_type": "execute_result"
    }
   ],
   "source": [
    "s1+s2"
   ]
  },
  {
   "cell_type": "markdown",
   "id": "57280e5c",
   "metadata": {},
   "source": [
    "concatination >> Addition"
   ]
  },
  {
   "cell_type": "code",
   "execution_count": 78,
   "id": "4e4b1297",
   "metadata": {},
   "outputs": [
    {
     "data": {
      "text/plain": [
       "'nythop'"
      ]
     },
     "execution_count": 78,
     "metadata": {},
     "output_type": "execute_result"
    }
   ],
   "source": [
    "s='python'\n",
    "a=s[-1]+s[1:5]+s[0]\n",
    "a"
   ]
  },
  {
   "cell_type": "code",
   "execution_count": 79,
   "id": "51c6b0e8",
   "metadata": {},
   "outputs": [
    {
     "data": {
      "text/plain": [
       "'nythop'"
      ]
     },
     "execution_count": 79,
     "metadata": {},
     "output_type": "execute_result"
    }
   ],
   "source": [
    "s='python'\n",
    "a=s[-1]+s[1:len(s)-1]+s[0]\n",
    "a"
   ]
  },
  {
   "cell_type": "code",
   "execution_count": 80,
   "id": "69466862",
   "metadata": {},
   "outputs": [
    {
     "data": {
      "text/plain": [
       "'ytho'"
      ]
     },
     "execution_count": 80,
     "metadata": {},
     "output_type": "execute_result"
    }
   ],
   "source": [
    "s[1:5]"
   ]
  },
  {
   "cell_type": "code",
   "execution_count": 81,
   "id": "ac163570",
   "metadata": {},
   "outputs": [
    {
     "data": {
      "text/plain": [
       "'ytho'"
      ]
     },
     "execution_count": 81,
     "metadata": {},
     "output_type": "execute_result"
    }
   ],
   "source": [
    "s[1:-1]"
   ]
  },
  {
   "cell_type": "code",
   "execution_count": 82,
   "id": "96aea193",
   "metadata": {},
   "outputs": [
    {
     "data": {
      "text/plain": [
       "'ytho'"
      ]
     },
     "execution_count": 82,
     "metadata": {},
     "output_type": "execute_result"
    }
   ],
   "source": [
    "s[1:len(s)-1]"
   ]
  },
  {
   "cell_type": "markdown",
   "id": "3b750c8a",
   "metadata": {},
   "source": [
    "### String Casting"
   ]
  },
  {
   "cell_type": "code",
   "execution_count": 83,
   "id": "1f246ad1",
   "metadata": {},
   "outputs": [
    {
     "name": "stdout",
     "output_type": "stream",
     "text": [
      "data\n"
     ]
    }
   ],
   "source": [
    "string=input()"
   ]
  },
  {
   "cell_type": "code",
   "execution_count": 84,
   "id": "c10ff9b7",
   "metadata": {},
   "outputs": [
    {
     "name": "stdout",
     "output_type": "stream",
     "text": [
      "Enter a value for str1:ddd\n"
     ]
    },
    {
     "data": {
      "text/plain": [
       "'ddd'"
      ]
     },
     "execution_count": 84,
     "metadata": {},
     "output_type": "execute_result"
    }
   ],
   "source": [
    "str1=input('Enter a value for str1:')\n",
    "str1"
   ]
  },
  {
   "cell_type": "code",
   "execution_count": 85,
   "id": "f226225e",
   "metadata": {},
   "outputs": [
    {
     "data": {
      "text/plain": [
       "str"
      ]
     },
     "execution_count": 85,
     "metadata": {},
     "output_type": "execute_result"
    }
   ],
   "source": [
    "type(str1)"
   ]
  },
  {
   "cell_type": "code",
   "execution_count": 88,
   "id": "68d91706",
   "metadata": {},
   "outputs": [
    {
     "name": "stdout",
     "output_type": "stream",
     "text": [
      "enter a number: 34\n"
     ]
    }
   ],
   "source": [
    "str2=input('enter a number: ')"
   ]
  },
  {
   "cell_type": "code",
   "execution_count": 89,
   "id": "f62e6043",
   "metadata": {},
   "outputs": [
    {
     "data": {
      "text/plain": [
       "str"
      ]
     },
     "execution_count": 89,
     "metadata": {},
     "output_type": "execute_result"
    }
   ],
   "source": [
    "type(str2)"
   ]
  },
  {
   "cell_type": "markdown",
   "id": "2fdf42c4",
   "metadata": {},
   "source": [
    "## str to int"
   ]
  },
  {
   "cell_type": "code",
   "execution_count": 92,
   "id": "0109d22b",
   "metadata": {},
   "outputs": [
    {
     "name": "stdout",
     "output_type": "stream",
     "text": [
      "value of a is 1234 and its datatype is <class 'int'>\n"
     ]
    }
   ],
   "source": [
    "str3='1234'\n",
    "a=int(str3)\n",
    "print(f'value of a is {a} and its datatype is {type(a)}')"
   ]
  },
  {
   "cell_type": "code",
   "execution_count": 93,
   "id": "073e5f5f",
   "metadata": {},
   "outputs": [
    {
     "data": {
      "text/plain": [
       "int"
      ]
     },
     "execution_count": 93,
     "metadata": {},
     "output_type": "execute_result"
    }
   ],
   "source": [
    "type(a)"
   ]
  },
  {
   "cell_type": "code",
   "execution_count": 94,
   "id": "0404fcaa",
   "metadata": {},
   "outputs": [
    {
     "ename": "ValueError",
     "evalue": "invalid literal for int() with base 10: '1234.43'",
     "output_type": "error",
     "traceback": [
      "\u001b[1;31m---------------------------------------------------------------------------\u001b[0m",
      "\u001b[1;31mValueError\u001b[0m                                Traceback (most recent call last)",
      "Input \u001b[1;32mIn [94]\u001b[0m, in \u001b[0;36m<cell line: 2>\u001b[1;34m()\u001b[0m\n\u001b[0;32m      1\u001b[0m str3\u001b[38;5;241m=\u001b[39m\u001b[38;5;124m'\u001b[39m\u001b[38;5;124m1234.43\u001b[39m\u001b[38;5;124m'\u001b[39m\n\u001b[1;32m----> 2\u001b[0m a\u001b[38;5;241m=\u001b[39m\u001b[38;5;28;43mint\u001b[39;49m\u001b[43m(\u001b[49m\u001b[43mstr3\u001b[49m\u001b[43m)\u001b[49m\n\u001b[0;32m      3\u001b[0m \u001b[38;5;28mprint\u001b[39m(\u001b[38;5;124mf\u001b[39m\u001b[38;5;124m'\u001b[39m\u001b[38;5;124mvalue of a is \u001b[39m\u001b[38;5;132;01m{\u001b[39;00ma\u001b[38;5;132;01m}\u001b[39;00m\u001b[38;5;124m and its datatype is \u001b[39m\u001b[38;5;132;01m{\u001b[39;00m\u001b[38;5;28mtype\u001b[39m(a)\u001b[38;5;132;01m}\u001b[39;00m\u001b[38;5;124m'\u001b[39m)\n",
      "\u001b[1;31mValueError\u001b[0m: invalid literal for int() with base 10: '1234.43'"
     ]
    }
   ],
   "source": [
    "str3='1234.43'\n",
    "a=int(str3)\n",
    "print(f'value of a is {a} and its datatype is {type(a)}')"
   ]
  },
  {
   "cell_type": "markdown",
   "id": "67499e84",
   "metadata": {},
   "source": [
    "### str to float"
   ]
  },
  {
   "cell_type": "code",
   "execution_count": 95,
   "id": "dfd9bb53",
   "metadata": {},
   "outputs": [
    {
     "name": "stdout",
     "output_type": "stream",
     "text": [
      "value of a is 1234.43 and its datatype is <class 'float'>\n"
     ]
    }
   ],
   "source": [
    "str3='1234.43'\n",
    "a=float(str3)\n",
    "print(f'value of a is {a} and its datatype is {type(a)}')"
   ]
  },
  {
   "cell_type": "code",
   "execution_count": null,
   "id": "9c942779",
   "metadata": {},
   "outputs": [],
   "source": []
  },
  {
   "cell_type": "code",
   "execution_count": null,
   "id": "1d051a44",
   "metadata": {},
   "outputs": [],
   "source": []
  },
  {
   "cell_type": "code",
   "execution_count": null,
   "id": "d99d0699",
   "metadata": {},
   "outputs": [],
   "source": []
  },
  {
   "cell_type": "code",
   "execution_count": null,
   "id": "cec28958",
   "metadata": {},
   "outputs": [],
   "source": []
  },
  {
   "cell_type": "code",
   "execution_count": null,
   "id": "f0809a80",
   "metadata": {},
   "outputs": [],
   "source": []
  },
  {
   "cell_type": "code",
   "execution_count": null,
   "id": "40091d23",
   "metadata": {},
   "outputs": [],
   "source": []
  },
  {
   "cell_type": "code",
   "execution_count": null,
   "id": "3af307b4",
   "metadata": {},
   "outputs": [],
   "source": []
  },
  {
   "cell_type": "code",
   "execution_count": null,
   "id": "2c55ead9",
   "metadata": {},
   "outputs": [],
   "source": []
  },
  {
   "cell_type": "code",
   "execution_count": null,
   "id": "415b5c65",
   "metadata": {},
   "outputs": [],
   "source": []
  }
 ],
 "metadata": {
  "kernelspec": {
   "display_name": "Python 3 (ipykernel)",
   "language": "python",
   "name": "python3"
  },
  "language_info": {
   "codemirror_mode": {
    "name": "ipython",
    "version": 3
   },
   "file_extension": ".py",
   "mimetype": "text/x-python",
   "name": "python",
   "nbconvert_exporter": "python",
   "pygments_lexer": "ipython3",
   "version": "3.9.12"
  }
 },
 "nbformat": 4,
 "nbformat_minor": 5
}
