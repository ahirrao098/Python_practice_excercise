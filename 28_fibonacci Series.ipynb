{
 "cells": [
  {
   "cell_type": "markdown",
   "id": "04b2983f",
   "metadata": {},
   "source": [
    "### fibonacci Series"
   ]
  },
  {
   "cell_type": "code",
   "execution_count": null,
   "id": "1cab7de1",
   "metadata": {},
   "outputs": [],
   "source": [
    "0 1 1 2 3 5 8 13 21 34 \n",
    "\n",
    "n = 10\n",
    "0 1 1 2 3 5 8 13 21 34\n",
    "\n",
    "n=5 \n",
    "0 1 1 2 3"
   ]
  },
  {
   "cell_type": "code",
   "execution_count": 1,
   "id": "7d86d067",
   "metadata": {},
   "outputs": [
    {
     "name": "stdout",
     "output_type": "stream",
     "text": [
      "0\n",
      "1\n",
      "1\n",
      "2\n",
      "3\n",
      "5\n",
      "8\n",
      "13\n",
      "21\n",
      "34\n"
     ]
    }
   ],
   "source": [
    "n=10\n",
    "n1=0\n",
    "n2=1\n",
    "print(n1)\n",
    "print(n2)\n",
    "for i in range(0, n-2):#8\n",
    "    sum1=n1+n2\n",
    "    n1=n2\n",
    "    n2=sum1\n",
    "    print(sum1)"
   ]
  },
  {
   "cell_type": "code",
   "execution_count": 2,
   "id": "2814aab4",
   "metadata": {},
   "outputs": [
    {
     "name": "stdout",
     "output_type": "stream",
     "text": [
      "0\n",
      "1\n",
      "1\n",
      "2\n",
      "3\n",
      "5\n",
      "8\n",
      "13\n",
      "21\n",
      "34\n",
      "55\n",
      "89\n"
     ]
    }
   ],
   "source": [
    "n=10\n",
    "n1=0\n",
    "n2=1\n",
    "print(n1)\n",
    "print(n2)\n",
    "for i in range(0, n):#10\n",
    "    sum1=n1+n2\n",
    "    n1=n2\n",
    "    n2=sum1\n",
    "    print(sum1)"
   ]
  },
  {
   "cell_type": "code",
   "execution_count": 13,
   "id": "4e3be8ed",
   "metadata": {},
   "outputs": [
    {
     "name": "stdout",
     "output_type": "stream",
     "text": [
      "0\n",
      "1\n",
      "1\n",
      "2\n",
      "3\n",
      "5\n",
      "8\n",
      "13\n",
      "21\n",
      "34\n"
     ]
    }
   ],
   "source": [
    "n=10\n",
    "n1=0\n",
    "n2=1\n",
    "print(n1)\n",
    "print(n2)\n",
    "for i in range(0, n-2):#10\n",
    "    sum1=n1+n2\n",
    "    n1=n2\n",
    "    n2=sum1\n",
    "    print(sum1)"
   ]
  },
  {
   "cell_type": "code",
   "execution_count": null,
   "id": "cb0948e6",
   "metadata": {},
   "outputs": [],
   "source": [
    "n1>>0 n2>>1 sum1\n",
    "      n1>>n2 n2>>sum1 \n",
    "            n1>>n2 n2>>sum1"
   ]
  },
  {
   "cell_type": "code",
   "execution_count": 15,
   "id": "bed31d06",
   "metadata": {},
   "outputs": [
    {
     "name": "stdout",
     "output_type": "stream",
     "text": [
      "Fibonacci series for 10 is\n",
      " 0 1 1 2 3 5 8 13 21 34 "
     ]
    }
   ],
   "source": [
    "n=10\n",
    "first=0\n",
    "second=1\n",
    "print(f'Fibonacci series for {n} is\\n',first,second,end=\" \")\n",
    "for i in range(0,n-2):\n",
    "    new =first+second\n",
    "    first=second\n",
    "    second=new\n",
    "    print(new, end=\" \")"
   ]
  },
  {
   "cell_type": "code",
   "execution_count": null,
   "id": "ca022c58",
   "metadata": {},
   "outputs": [],
   "source": [
    "*\n",
    "**\n",
    "***\n",
    "****"
   ]
  },
  {
   "cell_type": "code",
   "execution_count": null,
   "id": "1acf7925",
   "metadata": {},
   "outputs": [],
   "source": [
    "    *\n",
    "   **\n",
    "  ***\n",
    " ****\n",
    "*****"
   ]
  },
  {
   "cell_type": "code",
   "execution_count": 27,
   "id": "dd142e15",
   "metadata": {},
   "outputs": [
    {
     "name": "stdout",
     "output_type": "stream",
     "text": [
      "        * \n",
      "      * * \n",
      "    * * * \n",
      "  * * * * \n",
      "* * * * * \n"
     ]
    }
   ],
   "source": [
    "n=5\n",
    "for i in range(1,n+1):\n",
    "    print('  '*(n-i)+\"* \"*i)"
   ]
  },
  {
   "cell_type": "code",
   "execution_count": null,
   "id": "f9450cb4",
   "metadata": {},
   "outputs": [],
   "source": []
  },
  {
   "cell_type": "code",
   "execution_count": null,
   "id": "3a6f6d73",
   "metadata": {},
   "outputs": [],
   "source": []
  },
  {
   "cell_type": "code",
   "execution_count": null,
   "id": "2397db85",
   "metadata": {},
   "outputs": [],
   "source": []
  },
  {
   "cell_type": "code",
   "execution_count": null,
   "id": "913812fb",
   "metadata": {},
   "outputs": [],
   "source": []
  },
  {
   "cell_type": "code",
   "execution_count": null,
   "id": "bbf900d3",
   "metadata": {},
   "outputs": [],
   "source": []
  },
  {
   "cell_type": "code",
   "execution_count": null,
   "id": "de956d62",
   "metadata": {},
   "outputs": [],
   "source": []
  },
  {
   "cell_type": "code",
   "execution_count": null,
   "id": "cc132777",
   "metadata": {},
   "outputs": [],
   "source": []
  },
  {
   "cell_type": "code",
   "execution_count": null,
   "id": "bf1ac159",
   "metadata": {},
   "outputs": [],
   "source": []
  }
 ],
 "metadata": {
  "kernelspec": {
   "display_name": "Python 3 (ipykernel)",
   "language": "python",
   "name": "python3"
  },
  "language_info": {
   "codemirror_mode": {
    "name": "ipython",
    "version": 3
   },
   "file_extension": ".py",
   "mimetype": "text/x-python",
   "name": "python",
   "nbconvert_exporter": "python",
   "pygments_lexer": "ipython3",
   "version": "3.9.12"
  }
 },
 "nbformat": 4,
 "nbformat_minor": 5
}
