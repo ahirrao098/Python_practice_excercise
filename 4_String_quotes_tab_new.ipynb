{
 "cells": [
  {
   "cell_type": "markdown",
   "id": "f69b9bce",
   "metadata": {},
   "source": [
    "# String"
   ]
  },
  {
   "cell_type": "markdown",
   "id": "e3e8233d",
   "metadata": {},
   "source": [
    "1. Collection of characters surrounded by single qoutes, double qoutes or triple qoutes \n",
    "2. We can not use single qoute inside single qoute \n",
    "3. We can not use double qoute inside double qoute "
   ]
  },
  {
   "cell_type": "code",
   "execution_count": 1,
   "id": "b3f076a4",
   "metadata": {},
   "outputs": [],
   "source": [
    "single_qoute='python & data science'\n",
    "double_qoute=\"python & data science\""
   ]
  },
  {
   "cell_type": "code",
   "execution_count": 2,
   "id": "78084b63",
   "metadata": {},
   "outputs": [
    {
     "name": "stdout",
     "output_type": "stream",
     "text": [
      "python & data science\n",
      "python & data science\n"
     ]
    }
   ],
   "source": [
    "print(single_qoute)\n",
    "print(double_qoute)"
   ]
  },
  {
   "cell_type": "code",
   "execution_count": 3,
   "id": "a1233c51",
   "metadata": {},
   "outputs": [
    {
     "data": {
      "text/plain": [
       "'python & data science'"
      ]
     },
     "execution_count": 3,
     "metadata": {},
     "output_type": "execute_result"
    }
   ],
   "source": [
    "single_qoute"
   ]
  },
  {
   "cell_type": "code",
   "execution_count": 4,
   "id": "3582a77c",
   "metadata": {},
   "outputs": [
    {
     "data": {
      "text/plain": [
       "'python & data science'"
      ]
     },
     "execution_count": 4,
     "metadata": {},
     "output_type": "execute_result"
    }
   ],
   "source": [
    "double_qoute"
   ]
  },
  {
   "cell_type": "code",
   "execution_count": 5,
   "id": "69a3e8be",
   "metadata": {},
   "outputs": [],
   "source": [
    "str1='python\"s class'"
   ]
  },
  {
   "cell_type": "code",
   "execution_count": 6,
   "id": "d7670ce2",
   "metadata": {},
   "outputs": [
    {
     "name": "stdout",
     "output_type": "stream",
     "text": [
      "python\"s class\n"
     ]
    }
   ],
   "source": [
    "print(str1)"
   ]
  },
  {
   "cell_type": "code",
   "execution_count": 7,
   "id": "4304527c",
   "metadata": {},
   "outputs": [
    {
     "data": {
      "text/plain": [
       "\"python's class\""
      ]
     },
     "execution_count": 7,
     "metadata": {},
     "output_type": "execute_result"
    }
   ],
   "source": [
    "str2=\"python's class\"\n",
    "str2"
   ]
  },
  {
   "cell_type": "code",
   "execution_count": null,
   "id": "a5a78e78",
   "metadata": {},
   "outputs": [],
   "source": [
    "Triple Qoutes >> Multiline String"
   ]
  },
  {
   "cell_type": "code",
   "execution_count": 8,
   "id": "ba8ed442",
   "metadata": {},
   "outputs": [],
   "source": [
    "data_science= '''Data science is an interdisciplinary field that uses scientific methods,\n",
    "processes, algorithms and systems to extract knowledge and insights from noisy, \n",
    "structured and unstructured data, and apply knowledge and actionable insights from \n",
    "data across a broad range of application domains'''"
   ]
  },
  {
   "cell_type": "code",
   "execution_count": 9,
   "id": "49834d67",
   "metadata": {},
   "outputs": [
    {
     "name": "stdout",
     "output_type": "stream",
     "text": [
      "Data science is an interdisciplinary field that uses scientific methods,\n",
      "processes, algorithms and systems to extract knowledge and insights from noisy, \n",
      "structured and unstructured data, and apply knowledge and actionable insights from \n",
      "data across a broad range of application domains\n"
     ]
    }
   ],
   "source": [
    "print(data_science)"
   ]
  },
  {
   "cell_type": "markdown",
   "id": "2525ed64",
   "metadata": {},
   "source": [
    "### Escape Character"
   ]
  },
  {
   "cell_type": "code",
   "execution_count": null,
   "id": "4952a559",
   "metadata": {},
   "outputs": [],
   "source": [
    "backslash (\\) >> Escape char"
   ]
  },
  {
   "cell_type": "code",
   "execution_count": 10,
   "id": "1a892475",
   "metadata": {},
   "outputs": [
    {
     "name": "stdout",
     "output_type": "stream",
     "text": [
      "python's class\n"
     ]
    }
   ],
   "source": [
    "string='python\\'s class'\n",
    "print(string)"
   ]
  },
  {
   "cell_type": "code",
   "execution_count": 11,
   "id": "b08a32a6",
   "metadata": {},
   "outputs": [
    {
     "data": {
      "text/plain": [
       "'we are learnig \"python\" and data science'"
      ]
     },
     "execution_count": 11,
     "metadata": {},
     "output_type": "execute_result"
    }
   ],
   "source": [
    "string1=\"we are learnig \\\"python\\\" and data science\"\n",
    "string1"
   ]
  },
  {
   "cell_type": "code",
   "execution_count": 12,
   "id": "97ae95cd",
   "metadata": {},
   "outputs": [
    {
     "name": "stdout",
     "output_type": "stream",
     "text": [
      "We are learning \"Python\" and Data Science\n"
     ]
    }
   ],
   "source": [
    "string1 = 'We are learning \"Python\" and Data Science'\n",
    "print(string1)"
   ]
  },
  {
   "cell_type": "code",
   "execution_count": 13,
   "id": "4f2506cc",
   "metadata": {},
   "outputs": [
    {
     "name": "stdout",
     "output_type": "stream",
     "text": [
      "We are learning 'Python' and Data Science\n"
     ]
    }
   ],
   "source": [
    "string1 = \"We are learning 'Python' and Data Science\"\n",
    "print(string1)"
   ]
  },
  {
   "cell_type": "markdown",
   "id": "918727cc",
   "metadata": {},
   "source": [
    "## \\n >> New line"
   ]
  },
  {
   "cell_type": "code",
   "execution_count": 14,
   "id": "5f9f89e1",
   "metadata": {
    "run_control": {
     "marked": false
    }
   },
   "outputs": [
    {
     "name": "stdout",
     "output_type": "stream",
     "text": [
      "python\n",
      "class\n"
     ]
    }
   ],
   "source": [
    "a='python'\n",
    "b='class'\n",
    "print(a)\n",
    "print(b)"
   ]
  },
  {
   "cell_type": "code",
   "execution_count": 15,
   "id": "b6c68d7f",
   "metadata": {},
   "outputs": [
    {
     "name": "stdout",
     "output_type": "stream",
     "text": [
      "python\n",
      "\n",
      "\n",
      "\tclass\n"
     ]
    }
   ],
   "source": [
    "a='python'\n",
    "b='class'\n",
    "print(a,end='\\n\\n\\n\\t')\n",
    "print(b)"
   ]
  },
  {
   "cell_type": "code",
   "execution_count": 16,
   "id": "c9611acc",
   "metadata": {},
   "outputs": [
    {
     "name": "stdout",
     "output_type": "stream",
     "text": [
      "python  class\n"
     ]
    }
   ],
   "source": [
    "a='python'\n",
    "b='class'\n",
    "print(a,end='  ')\n",
    "print(b)"
   ]
  },
  {
   "cell_type": "code",
   "execution_count": 17,
   "id": "69c9588d",
   "metadata": {},
   "outputs": [
    {
     "name": "stdout",
     "output_type": "stream",
     "text": [
      "python\t\tclass\n"
     ]
    }
   ],
   "source": [
    "a='python'\n",
    "b='class'\n",
    "print(a,end='\\t\\t')\n",
    "print(b)"
   ]
  },
  {
   "cell_type": "code",
   "execution_count": 18,
   "id": "9b3c6b28",
   "metadata": {},
   "outputs": [
    {
     "name": "stdout",
     "output_type": "stream",
     "text": [
      "python+++class\n"
     ]
    }
   ],
   "source": [
    "a='python'\n",
    "b='class'\n",
    "print(a,end='+++')\n",
    "print(b)"
   ]
  },
  {
   "cell_type": "code",
   "execution_count": 19,
   "id": "15bbccad",
   "metadata": {},
   "outputs": [
    {
     "name": "stdout",
     "output_type": "stream",
     "text": [
      "data science is good field\n"
     ]
    }
   ],
   "source": [
    "data='data science is good field'\n",
    "print(data)"
   ]
  },
  {
   "cell_type": "code",
   "execution_count": 23,
   "id": "d782a919",
   "metadata": {},
   "outputs": [
    {
     "name": "stdout",
     "output_type": "stream",
     "text": [
      "data science is \n",
      "good field\n"
     ]
    }
   ],
   "source": [
    "data='data science is \\ngood field'\n",
    "print(data)"
   ]
  },
  {
   "cell_type": "markdown",
   "id": "d89664ba",
   "metadata": {},
   "source": [
    "### \\t >> tab"
   ]
  },
  {
   "cell_type": "code",
   "execution_count": 24,
   "id": "dc24ef84",
   "metadata": {},
   "outputs": [
    {
     "name": "stdout",
     "output_type": "stream",
     "text": [
      "datascience\n"
     ]
    }
   ],
   "source": [
    "str4='datascience'\n",
    "print(str4)"
   ]
  },
  {
   "cell_type": "code",
   "execution_count": 25,
   "id": "e2570259",
   "metadata": {},
   "outputs": [
    {
     "name": "stdout",
     "output_type": "stream",
     "text": [
      "data\tscience\n"
     ]
    }
   ],
   "source": [
    "str4='data\\tscience'\n",
    "print(str4)"
   ]
  },
  {
   "cell_type": "code",
   "execution_count": 27,
   "id": "c0f980c3",
   "metadata": {},
   "outputs": [
    {
     "name": "stdout",
     "output_type": "stream",
     "text": [
      "datas\t\n",
      "science\n"
     ]
    }
   ],
   "source": [
    "str4='datas\\t\\nscience'\n",
    "print(str4)"
   ]
  },
  {
   "cell_type": "code",
   "execution_count": 29,
   "id": "9f34db84",
   "metadata": {},
   "outputs": [
    {
     "name": "stdout",
     "output_type": "stream",
     "text": [
      "\tdatas\n",
      "\tscience\n"
     ]
    }
   ],
   "source": [
    "str4='\\tdatas\\n\\tscience'\n",
    "print(str4)"
   ]
  },
  {
   "cell_type": "code",
   "execution_count": null,
   "id": "9035b69e",
   "metadata": {},
   "outputs": [],
   "source": []
  }
 ],
 "metadata": {
  "kernelspec": {
   "display_name": "Python 3 (ipykernel)",
   "language": "python",
   "name": "python3"
  },
  "language_info": {
   "codemirror_mode": {
    "name": "ipython",
    "version": 3
   },
   "file_extension": ".py",
   "mimetype": "text/x-python",
   "name": "python",
   "nbconvert_exporter": "python",
   "pygments_lexer": "ipython3",
   "version": "3.9.12"
  }
 },
 "nbformat": 4,
 "nbformat_minor": 5
}
