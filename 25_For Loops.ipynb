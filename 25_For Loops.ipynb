{
 "cells": [
  {
   "cell_type": "markdown",
   "id": "d7f92411",
   "metadata": {},
   "source": [
    "### Loops in Python"
   ]
  },
  {
   "cell_type": "markdown",
   "id": "b4b2dc5a",
   "metadata": {},
   "source": [
    "1.For loop \n",
    "2.while loop Same functionality but different syntax It executes set of statements/code"
   ]
  },
  {
   "cell_type": "markdown",
   "id": "33c4d996",
   "metadata": {},
   "source": [
    "### For loop"
   ]
  },
  {
   "cell_type": "code",
   "execution_count": null,
   "id": "2874acb7",
   "metadata": {},
   "outputs": [],
   "source": [
    "It works like an iterator sequence >> str, list, tuple, set ,range, dict etc.(iterables)\n",
    "Iterables >> any sequence of character which we can iterate through will be iterables.\n",
    "syntax of for loop:\n",
    "for variable_name in sequence/iterables:\n",
    "    print(variable_name)\n",
    "    statement1/code1\n",
    "    statement2/code2"
   ]
  },
  {
   "cell_type": "code",
   "execution_count": 3,
   "id": "01995b69",
   "metadata": {},
   "outputs": [
    {
     "name": "stdout",
     "output_type": "stream",
     "text": [
      "We are learning Python Language\n",
      "We are learning Python Language\n",
      "We are learning Python Language\n"
     ]
    }
   ],
   "source": [
    "string=\"We are learning Python Language\"\n",
    "print(string)\n",
    "print(string)\n",
    "print(string)"
   ]
  },
  {
   "cell_type": "code",
   "execution_count": 14,
   "id": "129eb362",
   "metadata": {},
   "outputs": [
    {
     "name": "stdout",
     "output_type": "stream",
     "text": [
      "1\n",
      "We are learning Python Language\n",
      "hi\n",
      "\n",
      "2\n",
      "We are learning Python Language\n",
      "hi\n",
      "\n",
      "3\n",
      "We are learning Python Language\n",
      "hi\n",
      "\n",
      "4\n",
      "We are learning Python Language\n",
      "hi\n",
      "\n",
      "5\n",
      "We are learning Python Language\n",
      "hi\n",
      "\n",
      "6\n",
      "We are learning Python Language\n",
      "hi\n",
      "\n"
     ]
    }
   ],
   "source": [
    "string=\"We are learning Python Language\"\n",
    "for i in range(1,7):\n",
    "    print(i)\n",
    "    print(string)\n",
    "    print(\"hi\")\n",
    "    print()"
   ]
  },
  {
   "cell_type": "code",
   "execution_count": 15,
   "id": "9adfd509",
   "metadata": {},
   "outputs": [
    {
     "name": "stdout",
     "output_type": "stream",
     "text": [
      "0 We are learning Python Language\n",
      "1 We are learning Python Language\n",
      "2 We are learning Python Language\n",
      "3 We are learning Python Language\n",
      "4 We are learning Python Language\n",
      "5 We are learning Python Language\n",
      "6 We are learning Python Language\n",
      "7 We are learning Python Language\n"
     ]
    }
   ],
   "source": [
    "string=\"We are learning Python Language\"\n",
    "for i in range(8):\n",
    "    print(i,string)"
   ]
  },
  {
   "cell_type": "markdown",
   "id": "9574338f",
   "metadata": {},
   "source": [
    "### 1. for loop using string"
   ]
  },
  {
   "cell_type": "code",
   "execution_count": 18,
   "id": "82f3e7c7",
   "metadata": {},
   "outputs": [
    {
     "name": "stdout",
     "output_type": "stream",
     "text": [
      "0\n",
      "Python Language\n",
      "1\n",
      "Python Language\n",
      "2\n",
      "Python Language\n"
     ]
    }
   ],
   "source": [
    "str1=\"Python Language\" # length >>15\n",
    "for char in range(3):\n",
    "    print(char)\n",
    "    print(str1)"
   ]
  },
  {
   "cell_type": "code",
   "execution_count": 20,
   "id": "bfb2dc97",
   "metadata": {},
   "outputs": [
    {
     "name": "stdout",
     "output_type": "stream",
     "text": [
      "P\n",
      "Python Language\n",
      "y\n",
      "Python Language\n",
      "t\n",
      "Python Language\n",
      "h\n",
      "Python Language\n",
      "o\n",
      "Python Language\n",
      "n\n",
      "Python Language\n",
      " \n",
      "Python Language\n",
      "L\n",
      "Python Language\n",
      "a\n",
      "Python Language\n",
      "n\n",
      "Python Language\n",
      "g\n",
      "Python Language\n",
      "u\n",
      "Python Language\n",
      "a\n",
      "Python Language\n",
      "g\n",
      "Python Language\n",
      "e\n",
      "Python Language\n"
     ]
    }
   ],
   "source": [
    "str1=\"Python Language\" # length >>15\n",
    "for char in str1:\n",
    "    print(char)\n",
    "    print(str1)"
   ]
  },
  {
   "cell_type": "code",
   "execution_count": 23,
   "id": "4baea215",
   "metadata": {},
   "outputs": [
    {
     "name": "stdout",
     "output_type": "stream",
     "text": [
      "P\n",
      "Python is Programming Language\n",
      "\n",
      "y\n",
      "Python is Programming Language\n",
      "\n",
      "t\n",
      "Python is Programming Language\n",
      "\n",
      "h\n",
      "Python is Programming Language\n",
      "\n",
      "o\n",
      "Python is Programming Language\n",
      "\n",
      "n\n",
      "Python is Programming Language\n",
      "\n"
     ]
    }
   ],
   "source": [
    "str1=\"Python\" #length >> 6\n",
    "for char in str1:\n",
    "    print(char)\n",
    "    print(\"Python is Programming Language\")\n",
    "    print()"
   ]
  },
  {
   "cell_type": "code",
   "execution_count": 24,
   "id": "2f890aff",
   "metadata": {},
   "outputs": [
    {
     "name": "stdout",
     "output_type": "stream",
     "text": [
      "Char is  P\n",
      "Python is programming Language\n",
      "\n",
      "Char is  y\n",
      "Python is programming Language\n",
      "\n",
      "Char is  t\n",
      "Python is programming Language\n",
      "\n",
      "Char is  h\n",
      "Python is programming Language\n",
      "\n",
      "Char is  o\n",
      "Python is programming Language\n",
      "\n",
      "Char is  n\n",
      "Python is programming Language\n",
      "\n"
     ]
    }
   ],
   "source": [
    "str1=\"Python\" #length >>6\n",
    "for char in str1:\n",
    "    print(\"Char is \", char)\n",
    "    print(\"Python is programming Language\")\n",
    "    print()"
   ]
  },
  {
   "cell_type": "code",
   "execution_count": 25,
   "id": "879d105c",
   "metadata": {},
   "outputs": [
    {
     "name": "stdout",
     "output_type": "stream",
     "text": [
      "1\n",
      "2\n",
      "3\n",
      "4\n",
      "5\n",
      "6\n"
     ]
    }
   ],
   "source": [
    "list1=[1,2,3,4,5,6]\n",
    "for i in list1:\n",
    "    print(i)"
   ]
  },
  {
   "cell_type": "code",
   "execution_count": 26,
   "id": "9120bd8c",
   "metadata": {},
   "outputs": [
    {
     "name": "stdout",
     "output_type": "stream",
     "text": [
      "1\n",
      "2\n",
      "3\n",
      "4\n",
      "5\n",
      "5\n",
      "6\n",
      "5\n",
      "6\n",
      "7\n"
     ]
    }
   ],
   "source": [
    "list1=[1,2,3,4,5,5,6,5,6,7]\n",
    "for var in list1:\n",
    "    print(var)"
   ]
  },
  {
   "cell_type": "code",
   "execution_count": 1,
   "id": "34dff441",
   "metadata": {},
   "outputs": [
    {
     "name": "stdout",
     "output_type": "stream",
     "text": [
      "2\n",
      "3\n",
      "4.4\n",
      "python\n",
      "5\n",
      "class\n",
      "6\n"
     ]
    }
   ],
   "source": [
    "list1=[2,3,4.4,\"python\",5,\"class\",6]\n",
    "for i in list1:\n",
    "    print(i)"
   ]
  },
  {
   "cell_type": "code",
   "execution_count": 3,
   "id": "3b0ff3b7",
   "metadata": {},
   "outputs": [
    {
     "name": "stdout",
     "output_type": "stream",
     "text": [
      "2\n",
      "3\n",
      "4.4\n",
      "python\n",
      "5\n",
      "class\n",
      "6\n"
     ]
    }
   ],
   "source": [
    "list1=[2,3,4.4,\"python\",5,\"class\",6]\n",
    "for char in list1:\n",
    "    print(char)"
   ]
  },
  {
   "cell_type": "code",
   "execution_count": 5,
   "id": "d8d55130",
   "metadata": {},
   "outputs": [
    {
     "name": "stdout",
     "output_type": "stream",
     "text": [
      "Character is 2\n",
      "Character is 3\n",
      "Character is 5\n",
      "Character is 6\n"
     ]
    }
   ],
   "source": [
    "list1=[2,3,4.4,\"python\",5,\"class\",6]\n",
    "for char in list1:\n",
    "    if type(char) == int:\n",
    "        print('Character is',char)"
   ]
  },
  {
   "cell_type": "code",
   "execution_count": 10,
   "id": "e960a518",
   "metadata": {},
   "outputs": [
    {
     "name": "stdout",
     "output_type": "stream",
     "text": [
      "char is  python\n",
      "char is  class\n"
     ]
    }
   ],
   "source": [
    "list1=[2,3,4.4,\"python\",5,\"class\",6]\n",
    "for char in list1:\n",
    "    if type(char)== str:\n",
    "        print('char is ' ,char)\n",
    "    "
   ]
  },
  {
   "cell_type": "code",
   "execution_count": 11,
   "id": "d3378a76",
   "metadata": {},
   "outputs": [
    {
     "name": "stdout",
     "output_type": "stream",
     "text": [
      "char is  4.4\n"
     ]
    }
   ],
   "source": [
    "list1=[2,3,4.4,\"python\",5,\"class\",6]\n",
    "for char in list1:\n",
    "    if type(char)== float:\n",
    "        print('char is ' ,char)"
   ]
  },
  {
   "cell_type": "code",
   "execution_count": 18,
   "id": "36dfe9be",
   "metadata": {},
   "outputs": [
    {
     "name": "stdout",
     "output_type": "stream",
     "text": [
      "2 is integer\n",
      "\n",
      "3 is integer\n",
      "\n",
      "4.4 is float\n",
      "\n",
      "python is string\n",
      "\n",
      "5 is integer\n",
      "\n",
      "class is string\n",
      "\n",
      "6 is integer\n",
      "\n"
     ]
    }
   ],
   "source": [
    "list1=[2,3,4.4,\"python\",5,\"class\",6]\n",
    "\n",
    "for char in list1:\n",
    "    if type(char)== float:\n",
    "        print(char,\"is float\")\n",
    "        print()\n",
    "    elif type(char)== str:\n",
    "        print(char , \"is string\")\n",
    "        print()\n",
    "#         print(type(char))\n",
    "    elif type(char)== int:\n",
    "        print(char, \"is integer\")\n",
    "        print()"
   ]
  },
  {
   "cell_type": "code",
   "execution_count": 21,
   "id": "f504171d",
   "metadata": {},
   "outputs": [
    {
     "name": "stdout",
     "output_type": "stream",
     "text": [
      "2 is integer\n",
      "\n",
      "3 is integer\n",
      "\n",
      " 4.4 is float\n",
      "\n",
      " pythonis string\n",
      "\n",
      "5 is integer\n",
      "\n",
      " classis string\n",
      "\n",
      "6 is integer\n",
      "\n"
     ]
    }
   ],
   "source": [
    "list1=[2,3,4.4,\"python\",5,\"class\",6]\n",
    "\n",
    "for char in list1:\n",
    "    if type(char)== float:\n",
    "        print(f\" {char} is float\")\n",
    "        print()\n",
    "    elif type(char)== str:\n",
    "        print(f\" {char}is string\")\n",
    "        print()\n",
    "#         print(type(char))\n",
    "    else: \n",
    "        print(f\"{char} is integer\")\n",
    "        print()"
   ]
  },
  {
   "cell_type": "code",
   "execution_count": 28,
   "id": "39bcf4d8",
   "metadata": {},
   "outputs": [
    {
     "name": "stdout",
     "output_type": "stream",
     "text": [
      "[2, 3, 5, 6]\n",
      "[4.4, 7.6, 8.2]\n",
      "['python', 'class']\n"
     ]
    }
   ],
   "source": [
    "list1=[2,3,4.4,\"python\",5,\"class\",6,7.6,8.2]\n",
    "int1=[]\n",
    "float1=[]\n",
    "str1=[]\n",
    "\n",
    "for char in list1:\n",
    "    if type(char) == int:\n",
    "        int1.append(char)\n",
    "    elif type(char) == float:\n",
    "        float1.append(char)\n",
    "    else:\n",
    "        str1.append(char)\n",
    "        \n",
    "print(int1)\n",
    "print(float1)\n",
    "print(str1)"
   ]
  },
  {
   "cell_type": "code",
   "execution_count": 30,
   "id": "d14fa472",
   "metadata": {},
   "outputs": [
    {
     "name": "stdout",
     "output_type": "stream",
     "text": [
      "i == 1\n",
      "i == 2\n",
      "i == 3\n",
      "i == 4\n",
      "i == 5\n",
      "i == 6\n"
     ]
    }
   ],
   "source": [
    "tuple1=1,2,3,4,5,6\n",
    "for i in tuple1:\n",
    "    print(f'i == {i}')"
   ]
  },
  {
   "cell_type": "code",
   "execution_count": 31,
   "id": "a9e09677",
   "metadata": {},
   "outputs": [
    {
     "name": "stdout",
     "output_type": "stream",
     "text": [
      "i == (1, 2, 3, 4, 5, 6)\n",
      "i == (1, 2, 3, 4, 5, 6)\n",
      "i == (1, 2, 3, 4, 5, 6)\n",
      "i == (1, 2, 3, 4, 5, 6)\n",
      "i == (1, 2, 3, 4, 5, 6)\n",
      "i == (1, 2, 3, 4, 5, 6)\n"
     ]
    }
   ],
   "source": [
    "tuple1=1,2,3,4,5,6\n",
    "for i in tuple1:\n",
    "    print(f'i == {tuple1}')"
   ]
  },
  {
   "cell_type": "markdown",
   "id": "4584a4a5",
   "metadata": {},
   "source": [
    "# enumerate function\n",
    "#### for index,value in enumerate(sequence): print(index,value) code1 code2"
   ]
  },
  {
   "cell_type": "code",
   "execution_count": 39,
   "id": "52a8792c",
   "metadata": {},
   "outputs": [
    {
     "name": "stdout",
     "output_type": "stream",
     "text": [
      "0 P\n",
      "1 y\n",
      "2 t\n",
      "3 h\n",
      "4 o\n",
      "5 n\n"
     ]
    }
   ],
   "source": [
    "for index,value in enumerate(\"Python\"):\n",
    "    print(index,value)"
   ]
  },
  {
   "cell_type": "code",
   "execution_count": 35,
   "id": "ff8053d0",
   "metadata": {},
   "outputs": [
    {
     "name": "stdout",
     "output_type": "stream",
     "text": [
      "(0, 'P')\n",
      "(1, 'y')\n",
      "(2, 't')\n",
      "(3, 'h')\n",
      "(4, 'o')\n",
      "(5, 'n')\n"
     ]
    }
   ],
   "source": [
    "for index in enumerate(\"Python\"):\n",
    "    print(index)"
   ]
  },
  {
   "cell_type": "code",
   "execution_count": 36,
   "id": "1c118095",
   "metadata": {},
   "outputs": [
    {
     "name": "stdout",
     "output_type": "stream",
     "text": [
      "(0, 'P')\n",
      "(1, 'y')\n",
      "(2, 't')\n",
      "(3, 'h')\n",
      "(4, 'o')\n",
      "(5, 'n')\n"
     ]
    }
   ],
   "source": [
    "for value in enumerate(\"Python\"):\n",
    "    print(value)"
   ]
  },
  {
   "cell_type": "code",
   "execution_count": 40,
   "id": "e5b3adc5",
   "metadata": {},
   "outputs": [
    {
     "name": "stdout",
     "output_type": "stream",
     "text": [
      "0 >> 10\n",
      "1 >> 20\n",
      "2 >> 30\n",
      "3 >> 40\n"
     ]
    }
   ],
   "source": [
    "l1=[10,20,30,40]\n",
    "for i, v in enumerate(l1):\n",
    "    print(i,\">>\",v)"
   ]
  },
  {
   "cell_type": "code",
   "execution_count": 43,
   "id": "06331931",
   "metadata": {},
   "outputs": [
    {
     "name": "stdout",
     "output_type": "stream",
     "text": [
      "value at index 0 is 10\n",
      "value at index 1 is 20\n",
      "value at index 2 is 30\n",
      "value at index 3 is 40\n"
     ]
    }
   ],
   "source": [
    "l1=[10,20,30,40]\n",
    "for i, v in enumerate(l1):\n",
    "    print(f'value at index {i} is {v}')"
   ]
  },
  {
   "cell_type": "markdown",
   "id": "dc22f3d4",
   "metadata": {},
   "source": [
    "### Range Function in loop"
   ]
  },
  {
   "cell_type": "code",
   "execution_count": 44,
   "id": "a36ca4cb",
   "metadata": {},
   "outputs": [
    {
     "data": {
      "text/plain": [
       "range(1, 10)"
      ]
     },
     "execution_count": 44,
     "metadata": {},
     "output_type": "execute_result"
    }
   ],
   "source": [
    "range(1,10)"
   ]
  },
  {
   "cell_type": "code",
   "execution_count": 45,
   "id": "18ffa5a4",
   "metadata": {},
   "outputs": [
    {
     "name": "stdout",
     "output_type": "stream",
     "text": [
      "0\n",
      "1\n",
      "2\n",
      "3\n",
      "4\n",
      "5\n",
      "6\n"
     ]
    }
   ],
   "source": [
    "for i in range(0,7):\n",
    "    print(i)"
   ]
  },
  {
   "cell_type": "code",
   "execution_count": 46,
   "id": "916c1af7",
   "metadata": {},
   "outputs": [
    {
     "name": "stdout",
     "output_type": "stream",
     "text": [
      "0\n",
      "1\n",
      "2\n",
      "3\n"
     ]
    }
   ],
   "source": [
    "for i in range(4):\n",
    "    print(i)"
   ]
  },
  {
   "cell_type": "code",
   "execution_count": 47,
   "id": "3fca0ff9",
   "metadata": {},
   "outputs": [
    {
     "name": "stdout",
     "output_type": "stream",
     "text": [
      "3\n",
      "4\n",
      "5\n",
      "6\n",
      "7\n",
      "8\n",
      "9\n"
     ]
    }
   ],
   "source": [
    "for i in range(3,10):\n",
    "    print(i)"
   ]
  },
  {
   "cell_type": "code",
   "execution_count": 49,
   "id": "5635a116",
   "metadata": {},
   "outputs": [
    {
     "name": "stdout",
     "output_type": "stream",
     "text": [
      "0\n",
      "1\n",
      "2\n",
      "3\n",
      "4\n",
      "5\n"
     ]
    }
   ],
   "source": [
    "string=\"Python\"\n",
    "for i in range(len(string)):\n",
    "    print(i)"
   ]
  },
  {
   "cell_type": "code",
   "execution_count": 50,
   "id": "e3ae779e",
   "metadata": {},
   "outputs": [
    {
     "ename": "TypeError",
     "evalue": "'int' object is not iterable",
     "output_type": "error",
     "traceback": [
      "\u001b[1;31m---------------------------------------------------------------------------\u001b[0m",
      "\u001b[1;31mTypeError\u001b[0m                                 Traceback (most recent call last)",
      "Input \u001b[1;32mIn [50]\u001b[0m, in \u001b[0;36m<cell line: 2>\u001b[1;34m()\u001b[0m\n\u001b[0;32m      1\u001b[0m string\u001b[38;5;241m=\u001b[39m\u001b[38;5;124m\"\u001b[39m\u001b[38;5;124mPython\u001b[39m\u001b[38;5;124m\"\u001b[39m\n\u001b[1;32m----> 2\u001b[0m \u001b[38;5;28;01mfor\u001b[39;00m i \u001b[38;5;129;01min\u001b[39;00m \u001b[38;5;28mlen\u001b[39m(string):\n\u001b[0;32m      3\u001b[0m     \u001b[38;5;28mprint\u001b[39m(i)\n",
      "\u001b[1;31mTypeError\u001b[0m: 'int' object is not iterable"
     ]
    }
   ],
   "source": [
    "string=\"Python\"\n",
    "for i in len(string):\n",
    "    print(i)"
   ]
  },
  {
   "cell_type": "code",
   "execution_count": 51,
   "id": "5c2eecbe",
   "metadata": {},
   "outputs": [
    {
     "name": "stdout",
     "output_type": "stream",
     "text": [
      "2\n",
      "3\n",
      "4\n",
      "5\n"
     ]
    }
   ],
   "source": [
    "string =\"python\"\n",
    "for i in range(2,len(string)):\n",
    "    print(i)"
   ]
  },
  {
   "cell_type": "code",
   "execution_count": 52,
   "id": "3c58ca74",
   "metadata": {},
   "outputs": [
    {
     "ename": "TypeError",
     "evalue": "'str' object cannot be interpreted as an integer",
     "output_type": "error",
     "traceback": [
      "\u001b[1;31m---------------------------------------------------------------------------\u001b[0m",
      "\u001b[1;31mTypeError\u001b[0m                                 Traceback (most recent call last)",
      "Input \u001b[1;32mIn [52]\u001b[0m, in \u001b[0;36m<cell line: 2>\u001b[1;34m()\u001b[0m\n\u001b[0;32m      1\u001b[0m string \u001b[38;5;241m=\u001b[39m\u001b[38;5;124m\"\u001b[39m\u001b[38;5;124mpython\u001b[39m\u001b[38;5;124m\"\u001b[39m\n\u001b[1;32m----> 2\u001b[0m \u001b[38;5;28;01mfor\u001b[39;00m i \u001b[38;5;129;01min\u001b[39;00m \u001b[38;5;28;43mrange\u001b[39;49m\u001b[43m(\u001b[49m\u001b[43mstring\u001b[49m\u001b[43m)\u001b[49m:\n\u001b[0;32m      3\u001b[0m     \u001b[38;5;28mprint\u001b[39m(i)\n",
      "\u001b[1;31mTypeError\u001b[0m: 'str' object cannot be interpreted as an integer"
     ]
    }
   ],
   "source": [
    "string =\"python\"\n",
    "for i in range(string):\n",
    "    print(i)"
   ]
  },
  {
   "cell_type": "code",
   "execution_count": null,
   "id": "1927eb02",
   "metadata": {},
   "outputs": [],
   "source": []
  },
  {
   "cell_type": "code",
   "execution_count": null,
   "id": "0feb5ca3",
   "metadata": {},
   "outputs": [],
   "source": []
  },
  {
   "cell_type": "code",
   "execution_count": null,
   "id": "3ab34775",
   "metadata": {},
   "outputs": [],
   "source": []
  },
  {
   "cell_type": "code",
   "execution_count": null,
   "id": "d1253a43",
   "metadata": {},
   "outputs": [],
   "source": []
  }
 ],
 "metadata": {
  "kernelspec": {
   "display_name": "Python 3 (ipykernel)",
   "language": "python",
   "name": "python3"
  },
  "language_info": {
   "codemirror_mode": {
    "name": "ipython",
    "version": 3
   },
   "file_extension": ".py",
   "mimetype": "text/x-python",
   "name": "python",
   "nbconvert_exporter": "python",
   "pygments_lexer": "ipython3",
   "version": "3.9.12"
  }
 },
 "nbformat": 4,
 "nbformat_minor": 5
}
