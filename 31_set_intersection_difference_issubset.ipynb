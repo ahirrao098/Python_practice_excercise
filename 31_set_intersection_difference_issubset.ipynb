{
 "cells": [
  {
   "cell_type": "markdown",
   "id": "f51b7606",
   "metadata": {},
   "source": [
    "9. intersection"
   ]
  },
  {
   "cell_type": "code",
   "execution_count": 2,
   "id": "f444fa1a",
   "metadata": {},
   "outputs": [
    {
     "name": "stdout",
     "output_type": "stream",
     "text": [
      "{2, 3, 20, 40, 10}\n",
      "{1, 10, 20, 'a'}\n",
      "{10, 20}\n"
     ]
    }
   ],
   "source": [
    "s1={2,3,40,20,10}\n",
    "s2={10,20,1,\"a\"}\n",
    "s3=s1.intersection(s2)\n",
    "print(s1)\n",
    "print(s2)\n",
    "print(s3)"
   ]
  },
  {
   "cell_type": "code",
   "execution_count": 4,
   "id": "3195d87c",
   "metadata": {},
   "outputs": [
    {
     "data": {
      "text/plain": [
       "{'Dhule', 'pune'}"
      ]
     },
     "execution_count": 4,
     "metadata": {},
     "output_type": "execute_result"
    }
   ],
   "source": [
    "city1={\"pune\",\"Mumbai\",\"Dhule\",\"Sangli\"}\n",
    "city2={\"Nashik\",\"Nagar\",\"pune\",\"Dhule\"}\n",
    "city3=city1.intersection(city2)\n",
    "city3"
   ]
  },
  {
   "cell_type": "markdown",
   "id": "a5437472",
   "metadata": {},
   "source": [
    "10.intersection_update"
   ]
  },
  {
   "cell_type": "code",
   "execution_count": 6,
   "id": "840da081",
   "metadata": {},
   "outputs": [
    {
     "data": {
      "text/plain": [
       "{10, 20}"
      ]
     },
     "execution_count": 6,
     "metadata": {},
     "output_type": "execute_result"
    }
   ],
   "source": [
    "s1={2,3,40,10,20}\n",
    "s2={10,20,11,\"a\"}\n",
    "s1.intersection_update(s2)\n",
    "s1"
   ]
  },
  {
   "cell_type": "code",
   "execution_count": 7,
   "id": "e9ea0926",
   "metadata": {},
   "outputs": [
    {
     "data": {
      "text/plain": [
       "{'Mumbai', 'Pune'}"
      ]
     },
     "execution_count": 7,
     "metadata": {},
     "output_type": "execute_result"
    }
   ],
   "source": [
    "city1 = {'Pune' ,'Mumbai', \"Nagpur\",'Chennai'}\n",
    "city2 = {'Pune','Kolkata', 'Bangalore','Mumbai'}\n",
    "city1.intersection_update(city2)\n",
    "city1"
   ]
  },
  {
   "cell_type": "markdown",
   "id": "6c721c65",
   "metadata": {},
   "source": [
    "#### 11. difference()"
   ]
  },
  {
   "cell_type": "code",
   "execution_count": 8,
   "id": "8ff15e23",
   "metadata": {},
   "outputs": [
    {
     "data": {
      "text/plain": [
       "{2, 3, 22}"
      ]
     },
     "execution_count": 8,
     "metadata": {},
     "output_type": "execute_result"
    }
   ],
   "source": [
    "s1={2,3,40,12,22}\n",
    "s2={40,10,1,12,\"a\"}\n",
    "s1.difference(s2)"
   ]
  },
  {
   "cell_type": "code",
   "execution_count": 9,
   "id": "3ac38cc8",
   "metadata": {},
   "outputs": [
    {
     "data": {
      "text/plain": [
       "{1, 10, 'a'}"
      ]
     },
     "execution_count": 9,
     "metadata": {},
     "output_type": "execute_result"
    }
   ],
   "source": [
    "s2.difference(s1)"
   ]
  },
  {
   "cell_type": "code",
   "execution_count": 10,
   "id": "67a2bed3",
   "metadata": {},
   "outputs": [
    {
     "name": "stdout",
     "output_type": "stream",
     "text": [
      "{40, 2, 3}\n"
     ]
    }
   ],
   "source": [
    "s1 = {2,3,40,10,20}\n",
    "s2 = {10,20,1,'a'}\n",
    "s3=s1.difference(s2)\n",
    "print(s3)"
   ]
  },
  {
   "cell_type": "markdown",
   "id": "4ffdd401",
   "metadata": {},
   "source": [
    "### 12. difference_update()"
   ]
  },
  {
   "cell_type": "code",
   "execution_count": 11,
   "id": "91df25c1",
   "metadata": {},
   "outputs": [
    {
     "name": "stdout",
     "output_type": "stream",
     "text": [
      "{2, 3, 20, 40, 10}\n",
      "{1, 'a'}\n"
     ]
    }
   ],
   "source": [
    "s1 = {2,3,40,10,20}\n",
    "s2 = {10,20,1,'a'}\n",
    "s2.difference_update(s1)\n",
    "print(s1)\n",
    "print(s2)"
   ]
  },
  {
   "cell_type": "markdown",
   "id": "6e71989d",
   "metadata": {},
   "source": [
    "### 13. symmetric_difference"
   ]
  },
  {
   "cell_type": "code",
   "execution_count": 13,
   "id": "e875dadc",
   "metadata": {},
   "outputs": [
    {
     "data": {
      "text/plain": [
       "{1, 2, 21, 3, 4, 40, 5, 'a'}"
      ]
     },
     "execution_count": 13,
     "metadata": {},
     "output_type": "execute_result"
    }
   ],
   "source": [
    "s1 = {2,3,40,10,20,21,4,5}\n",
    "s2 = {10,20,1,'a'}\n",
    "s2.symmetric_difference(s1)"
   ]
  },
  {
   "cell_type": "code",
   "execution_count": 14,
   "id": "c871218f",
   "metadata": {},
   "outputs": [
    {
     "name": "stdout",
     "output_type": "stream",
     "text": [
      "{2, 3, 20, 40, 10}\n",
      "{1, 10, 20, 'a'}\n",
      "{1, 2, 3, 'a', 40}\n"
     ]
    }
   ],
   "source": [
    "s1 = {2,3,40,10,20}\n",
    "s2 = {10,20,1,'a'}\n",
    "s3 = s2.symmetric_difference(s1)\n",
    "print(s1)\n",
    "print(s2)\n",
    "print(s3)"
   ]
  },
  {
   "cell_type": "code",
   "execution_count": 15,
   "id": "f86ad18a",
   "metadata": {},
   "outputs": [
    {
     "name": "stdout",
     "output_type": "stream",
     "text": [
      "{'Chennai', 'Mumbai', 'Nagpur', 'Pune'}\n",
      "{'Kolkata', 'Bangalore', 'Mumbai', 'Pune'}\n",
      "{'Chennai', 'Nagpur', 'Kolkata', 'Bangalore'}\n"
     ]
    }
   ],
   "source": [
    "city1 = {'Pune' ,'Mumbai', \"Nagpur\",'Chennai'}\n",
    "city2 = {'Pune','Kolkata', 'Bangalore','Mumbai'}\n",
    "city3 = city1.symmetric_difference(city2)\n",
    "print(city1)\n",
    "print(city2)\n",
    "print(city3)"
   ]
  },
  {
   "cell_type": "markdown",
   "id": "b575479d",
   "metadata": {},
   "source": [
    "### 14. symmetric_difference_update"
   ]
  },
  {
   "cell_type": "code",
   "execution_count": 16,
   "id": "ba5ebf48",
   "metadata": {},
   "outputs": [
    {
     "name": "stdout",
     "output_type": "stream",
     "text": [
      "{2, 3, 20, 40, 10}\n",
      "{1, 2, 3, 'a', 40}\n"
     ]
    }
   ],
   "source": [
    "s1 = {2,3,40,10,20}\n",
    "s2 = {10,20,1,'a'}\n",
    "s2.symmetric_difference_update(s1)\n",
    "print(s1)\n",
    "print(s2)"
   ]
  },
  {
   "cell_type": "markdown",
   "id": "5007c9e6",
   "metadata": {},
   "source": [
    "#### 15. issubset()"
   ]
  },
  {
   "cell_type": "code",
   "execution_count": 17,
   "id": "15f96d3e",
   "metadata": {},
   "outputs": [
    {
     "data": {
      "text/plain": [
       "True"
      ]
     },
     "execution_count": 17,
     "metadata": {},
     "output_type": "execute_result"
    }
   ],
   "source": [
    "set1 = {2,3,4,5,6,10,20,'python','data'}\n",
    "set2 = {2,3,4,'python'}\n",
    "set2.issubset(set1)"
   ]
  },
  {
   "cell_type": "code",
   "execution_count": 18,
   "id": "2107239d",
   "metadata": {},
   "outputs": [
    {
     "data": {
      "text/plain": [
       "False"
      ]
     },
     "execution_count": 18,
     "metadata": {},
     "output_type": "execute_result"
    }
   ],
   "source": [
    "set1 = {2,3,4,5,6,10,20,'python','data'}\n",
    "set2 = {2,3,4,'python'}\n",
    "set1.issubset(set2)"
   ]
  },
  {
   "cell_type": "code",
   "execution_count": 19,
   "id": "bed6f24c",
   "metadata": {},
   "outputs": [
    {
     "data": {
      "text/plain": [
       "False"
      ]
     },
     "execution_count": 19,
     "metadata": {},
     "output_type": "execute_result"
    }
   ],
   "source": [
    "set1 = {2,3,4,5,6,10,20,'python','data'}\n",
    "set2 = {2,3,4,'python',100}\n",
    "set2.issubset(set1)"
   ]
  },
  {
   "cell_type": "code",
   "execution_count": 20,
   "id": "a082d726",
   "metadata": {},
   "outputs": [
    {
     "data": {
      "text/plain": [
       "True"
      ]
     },
     "execution_count": 20,
     "metadata": {},
     "output_type": "execute_result"
    }
   ],
   "source": [
    "set1 = {2,3,4}\n",
    "set2 = {2,3,4}\n",
    "set2.issubset(set1)"
   ]
  },
  {
   "cell_type": "markdown",
   "id": "903258f8",
   "metadata": {},
   "source": [
    "#### 16. issuperset()"
   ]
  },
  {
   "cell_type": "code",
   "execution_count": 21,
   "id": "fd7115e7",
   "metadata": {},
   "outputs": [
    {
     "data": {
      "text/plain": [
       "False"
      ]
     },
     "execution_count": 21,
     "metadata": {},
     "output_type": "execute_result"
    }
   ],
   "source": [
    "set1 = {2,3,4,5,6,10,20,'python','data'}\n",
    "set2 = {2,3,4,'python'}\n",
    "set2.issuperset(set1)"
   ]
  },
  {
   "cell_type": "code",
   "execution_count": 22,
   "id": "991a260f",
   "metadata": {},
   "outputs": [
    {
     "data": {
      "text/plain": [
       "True"
      ]
     },
     "execution_count": 22,
     "metadata": {},
     "output_type": "execute_result"
    }
   ],
   "source": [
    "set1 = {2,3,4,5,6,10,20,'python','data'}\n",
    "set2 = {2,3,4,'python'}\n",
    "set1.issuperset(set2)"
   ]
  },
  {
   "cell_type": "markdown",
   "id": "78be8edf",
   "metadata": {},
   "source": [
    "### 17. isdisjoint()"
   ]
  },
  {
   "cell_type": "code",
   "execution_count": null,
   "id": "3209011e",
   "metadata": {},
   "outputs": [],
   "source": [
    "True >> no common items in two sets\n",
    "False >> if two sets have common items"
   ]
  },
  {
   "cell_type": "code",
   "execution_count": 23,
   "id": "2d544747",
   "metadata": {},
   "outputs": [
    {
     "data": {
      "text/plain": [
       "False"
      ]
     },
     "execution_count": 23,
     "metadata": {},
     "output_type": "execute_result"
    }
   ],
   "source": [
    "s1 = {2,3,40,10,20}\n",
    "s2 = {10,20,1,'a'}\n",
    "s2.isdisjoint(s1)"
   ]
  },
  {
   "cell_type": "code",
   "execution_count": 24,
   "id": "10752240",
   "metadata": {},
   "outputs": [
    {
     "data": {
      "text/plain": [
       "False"
      ]
     },
     "execution_count": 24,
     "metadata": {},
     "output_type": "execute_result"
    }
   ],
   "source": [
    "s1 = {2,3,40,10,20}\n",
    "s2 = {10,20,1,'a'}\n",
    "s1.isdisjoint(s2)"
   ]
  },
  {
   "cell_type": "code",
   "execution_count": 25,
   "id": "70c023b9",
   "metadata": {},
   "outputs": [
    {
     "data": {
      "text/plain": [
       "True"
      ]
     },
     "execution_count": 25,
     "metadata": {},
     "output_type": "execute_result"
    }
   ],
   "source": [
    "s1 = {2,3,40,10,20}\n",
    "s2 = {1,'a'}\n",
    "s2.isdisjoint(s1)"
   ]
  },
  {
   "cell_type": "code",
   "execution_count": 27,
   "id": "6d8a552b",
   "metadata": {},
   "outputs": [
    {
     "data": {
      "text/plain": [
       "2"
      ]
     },
     "execution_count": 27,
     "metadata": {},
     "output_type": "execute_result"
    }
   ],
   "source": [
    "s1 = {2,3,4,10,20}\n",
    "min(s1)"
   ]
  },
  {
   "cell_type": "code",
   "execution_count": 28,
   "id": "3776b19c",
   "metadata": {},
   "outputs": [
    {
     "data": {
      "text/plain": [
       "20"
      ]
     },
     "execution_count": 28,
     "metadata": {},
     "output_type": "execute_result"
    }
   ],
   "source": [
    "s1 = {2,3,4,10,20}\n",
    "max(s1)"
   ]
  },
  {
   "cell_type": "code",
   "execution_count": 29,
   "id": "b3e8a113",
   "metadata": {},
   "outputs": [
    {
     "data": {
      "text/plain": [
       "5"
      ]
     },
     "execution_count": 29,
     "metadata": {},
     "output_type": "execute_result"
    }
   ],
   "source": [
    "len(s1)"
   ]
  },
  {
   "cell_type": "code",
   "execution_count": 30,
   "id": "53e68167",
   "metadata": {},
   "outputs": [
    {
     "data": {
      "text/plain": [
       "39"
      ]
     },
     "execution_count": 30,
     "metadata": {},
     "output_type": "execute_result"
    }
   ],
   "source": [
    "sum(s1)"
   ]
  },
  {
   "cell_type": "code",
   "execution_count": null,
   "id": "a9f08ef1",
   "metadata": {},
   "outputs": [],
   "source": []
  },
  {
   "cell_type": "code",
   "execution_count": null,
   "id": "5d00d04c",
   "metadata": {},
   "outputs": [],
   "source": []
  }
 ],
 "metadata": {
  "kernelspec": {
   "display_name": "Python 3 (ipykernel)",
   "language": "python",
   "name": "python3"
  },
  "language_info": {
   "codemirror_mode": {
    "name": "ipython",
    "version": 3
   },
   "file_extension": ".py",
   "mimetype": "text/x-python",
   "name": "python",
   "nbconvert_exporter": "python",
   "pygments_lexer": "ipython3",
   "version": "3.9.12"
  }
 },
 "nbformat": 4,
 "nbformat_minor": 5
}
