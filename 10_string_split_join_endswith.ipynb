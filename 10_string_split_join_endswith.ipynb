{
 "cells": [
  {
   "cell_type": "markdown",
   "id": "8a355ad9",
   "metadata": {},
   "source": [
    "# 13.Split()"
   ]
  },
  {
   "cell_type": "code",
   "execution_count": null,
   "id": "2b0af841",
   "metadata": {},
   "outputs": [],
   "source": [
    "It returns a list of words seperated by white spaces (default)"
   ]
  },
  {
   "cell_type": "code",
   "execution_count": 1,
   "id": "d4b40994",
   "metadata": {},
   "outputs": [
    {
     "name": "stdout",
     "output_type": "stream",
     "text": [
      "<class 'str'>\n"
     ]
    }
   ],
   "source": [
    "string=\"Machine learning is the study of computer algorithm\"\n",
    "print(type(string))"
   ]
  },
  {
   "cell_type": "code",
   "execution_count": 2,
   "id": "024cc70c",
   "metadata": {},
   "outputs": [
    {
     "name": "stdout",
     "output_type": "stream",
     "text": [
      "['Machine', 'learning', 'is', 'the', 'study', 'of', 'computer', 'algorithm']\n"
     ]
    }
   ],
   "source": [
    "string_list = string.split()\n",
    "print(string_list)"
   ]
  },
  {
   "cell_type": "code",
   "execution_count": 4,
   "id": "399ea7bc",
   "metadata": {},
   "outputs": [
    {
     "name": "stdout",
     "output_type": "stream",
     "text": [
      "<class 'list'>\n"
     ]
    }
   ],
   "source": [
    "print(type(string_list))"
   ]
  },
  {
   "cell_type": "code",
   "execution_count": 5,
   "id": "e446d4f9",
   "metadata": {},
   "outputs": [
    {
     "name": "stdout",
     "output_type": "stream",
     "text": [
      "Machine learning is the study of computer algorithm\n"
     ]
    }
   ],
   "source": [
    "print(string)"
   ]
  },
  {
   "cell_type": "code",
   "execution_count": 6,
   "id": "7f1072d8",
   "metadata": {},
   "outputs": [
    {
     "data": {
      "text/plain": [
       "['Machine Learning is ', ' study of computer alogorithms']"
      ]
     },
     "execution_count": 6,
     "metadata": {},
     "output_type": "execute_result"
    }
   ],
   "source": [
    "string='Machine Learning is the study of computer alogorithms'\n",
    "string.split('the')"
   ]
  },
  {
   "cell_type": "code",
   "execution_count": 7,
   "id": "dabcfb7d",
   "metadata": {},
   "outputs": [
    {
     "data": {
      "text/plain": [
       "['Machine ', ' is the study of computer alogorithms']"
      ]
     },
     "execution_count": 7,
     "metadata": {},
     "output_type": "execute_result"
    }
   ],
   "source": [
    "string='Machine Learning is the study of computer alogorithms'\n",
    "string.split('Learning')"
   ]
  },
  {
   "cell_type": "code",
   "execution_count": 8,
   "id": "2904448b",
   "metadata": {},
   "outputs": [
    {
     "data": {
      "text/plain": [
       "'Machine Learnin'"
      ]
     },
     "execution_count": 8,
     "metadata": {},
     "output_type": "execute_result"
    }
   ],
   "source": [
    "string='Machine Learning is the study of computer alogorithms'\n",
    "string[:15]"
   ]
  },
  {
   "cell_type": "code",
   "execution_count": 9,
   "id": "199f3efb",
   "metadata": {},
   "outputs": [
    {
     "data": {
      "text/plain": [
       "['Machine Learnin', ' is the study of computer alogorithms']"
      ]
     },
     "execution_count": 9,
     "metadata": {},
     "output_type": "execute_result"
    }
   ],
   "source": [
    "new=string[:15]+\"_\"+string[16:]\n",
    "new.split(\"_\")"
   ]
  },
  {
   "cell_type": "code",
   "execution_count": 10,
   "id": "b82435b6",
   "metadata": {},
   "outputs": [
    {
     "data": {
      "text/plain": [
       "' is the study of computer alogorithms'"
      ]
     },
     "execution_count": 10,
     "metadata": {},
     "output_type": "execute_result"
    }
   ],
   "source": [
    "string[16:]"
   ]
  },
  {
   "cell_type": "markdown",
   "id": "22eb617a",
   "metadata": {},
   "source": [
    "# 14.Join()"
   ]
  },
  {
   "cell_type": "code",
   "execution_count": null,
   "id": "55cdd9e8",
   "metadata": {},
   "outputs": [],
   "source": [
    "List to string"
   ]
  },
  {
   "cell_type": "code",
   "execution_count": 12,
   "id": "35ef5b85",
   "metadata": {},
   "outputs": [
    {
     "data": {
      "text/plain": [
       "['Machine', 'Learning', 'is', 'the', 'study', 'of', 'computer', 'alogorithms']"
      ]
     },
     "execution_count": 12,
     "metadata": {},
     "output_type": "execute_result"
    }
   ],
   "source": [
    "a='Machine Learning is the study of computer alogorithms'\n",
    "list1=a.split()\n",
    "list1"
   ]
  },
  {
   "cell_type": "code",
   "execution_count": 14,
   "id": "3c00234c",
   "metadata": {},
   "outputs": [
    {
     "data": {
      "text/plain": [
       "'MachineLearningisthestudyofcomputeralogorithms'"
      ]
     },
     "execution_count": 14,
     "metadata": {},
     "output_type": "execute_result"
    }
   ],
   "source": [
    "result=\"\".join(list1)\n",
    "result"
   ]
  },
  {
   "cell_type": "code",
   "execution_count": 15,
   "id": "03241a1a",
   "metadata": {},
   "outputs": [
    {
     "data": {
      "text/plain": [
       "str"
      ]
     },
     "execution_count": 15,
     "metadata": {},
     "output_type": "execute_result"
    }
   ],
   "source": [
    "type(result)"
   ]
  },
  {
   "cell_type": "code",
   "execution_count": 16,
   "id": "309536f0",
   "metadata": {},
   "outputs": [
    {
     "data": {
      "text/plain": [
       "'Machine Learning is the study of computer alogorithms'"
      ]
     },
     "execution_count": 16,
     "metadata": {},
     "output_type": "execute_result"
    }
   ],
   "source": [
    "spaces=\" \".join(list1)\n",
    "spaces"
   ]
  },
  {
   "cell_type": "code",
   "execution_count": 18,
   "id": "def849e8",
   "metadata": {},
   "outputs": [
    {
     "data": {
      "text/plain": [
       "'Machine_Learning_is_the_study_of_computer_alogorithms'"
      ]
     },
     "execution_count": 18,
     "metadata": {},
     "output_type": "execute_result"
    }
   ],
   "source": [
    "under_score=\"_\".join(list1)\n",
    "under_score"
   ]
  },
  {
   "cell_type": "code",
   "execution_count": 19,
   "id": "71d437d7",
   "metadata": {},
   "outputs": [
    {
     "data": {
      "text/plain": [
       "'MachineABCLearningABCisABCtheABCstudyABCofABCcomputerABCalogorithms'"
      ]
     },
     "execution_count": 19,
     "metadata": {},
     "output_type": "execute_result"
    }
   ],
   "source": [
    "ABC=\"ABC\".join(list1)\n",
    "ABC"
   ]
  },
  {
   "cell_type": "code",
   "execution_count": 20,
   "id": "e26b0ee3",
   "metadata": {},
   "outputs": [
    {
     "data": {
      "text/plain": [
       "'Machine+++Learning+++is+++the+++study+++of+++computer+++alogorithms'"
      ]
     },
     "execution_count": 20,
     "metadata": {},
     "output_type": "execute_result"
    }
   ],
   "source": [
    "ABC=\"+++\".join(list1)\n",
    "ABC"
   ]
  },
  {
   "cell_type": "code",
   "execution_count": 21,
   "id": "e4e78f95",
   "metadata": {},
   "outputs": [
    {
     "data": {
      "text/plain": [
       "'nilesh balaji priyanka ashwini'"
      ]
     },
     "execution_count": 21,
     "metadata": {},
     "output_type": "execute_result"
    }
   ],
   "source": [
    "a=[\"nilesh\",\"balaji\",\"priyanka\",\"ashwini\"]\n",
    "\" \".join(a)"
   ]
  },
  {
   "cell_type": "code",
   "execution_count": 22,
   "id": "411ea413",
   "metadata": {},
   "outputs": [
    {
     "name": "stdout",
     "output_type": "stream",
     "text": [
      "nilesh_balaji_priyanka_ashwini\n"
     ]
    }
   ],
   "source": [
    "under_s=\"_\".join(a)\n",
    "print(under_s)"
   ]
  },
  {
   "cell_type": "code",
   "execution_count": 1,
   "id": "ec46d329",
   "metadata": {},
   "outputs": [
    {
     "ename": "TypeError",
     "evalue": "sequence item 1: expected str instance, float found",
     "output_type": "error",
     "traceback": [
      "\u001b[1;31m---------------------------------------------------------------------------\u001b[0m",
      "\u001b[1;31mTypeError\u001b[0m                                 Traceback (most recent call last)",
      "Input \u001b[1;32mIn [1]\u001b[0m, in \u001b[0;36m<cell line: 2>\u001b[1;34m()\u001b[0m\n\u001b[0;32m      1\u001b[0m b\u001b[38;5;241m=\u001b[39m[\u001b[38;5;124m'\u001b[39m\u001b[38;5;124mPython\u001b[39m\u001b[38;5;124m'\u001b[39m, \u001b[38;5;241m2.2\u001b[39m, \u001b[38;5;28;01mTrue\u001b[39;00m]\n\u001b[1;32m----> 2\u001b[0m \u001b[38;5;124;43m\"\u001b[39;49m\u001b[38;5;124;43m \u001b[39;49m\u001b[38;5;124;43m\"\u001b[39;49m\u001b[38;5;241;43m.\u001b[39;49m\u001b[43mjoin\u001b[49m\u001b[43m(\u001b[49m\u001b[43mb\u001b[49m\u001b[43m)\u001b[49m\n",
      "\u001b[1;31mTypeError\u001b[0m: sequence item 1: expected str instance, float found"
     ]
    }
   ],
   "source": [
    "b=['Python', 2.2, True]\n",
    "\" \".join(b)"
   ]
  },
  {
   "cell_type": "code",
   "execution_count": 2,
   "id": "ffec1290",
   "metadata": {},
   "outputs": [
    {
     "ename": "TypeError",
     "evalue": "sequence item 1: expected str instance, float found",
     "output_type": "error",
     "traceback": [
      "\u001b[1;31m---------------------------------------------------------------------------\u001b[0m",
      "\u001b[1;31mTypeError\u001b[0m                                 Traceback (most recent call last)",
      "Input \u001b[1;32mIn [2]\u001b[0m, in \u001b[0;36m<cell line: 2>\u001b[1;34m()\u001b[0m\n\u001b[0;32m      1\u001b[0m b\u001b[38;5;241m=\u001b[39m[\u001b[38;5;124m'\u001b[39m\u001b[38;5;124mPython\u001b[39m\u001b[38;5;124m'\u001b[39m, \u001b[38;5;241m2.2\u001b[39m, \u001b[38;5;28;01mTrue\u001b[39;00m]\n\u001b[1;32m----> 2\u001b[0m \u001b[38;5;124;43m\"\u001b[39;49m\u001b[38;5;124;43m_\u001b[39;49m\u001b[38;5;124;43m\"\u001b[39;49m\u001b[38;5;241;43m.\u001b[39;49m\u001b[43mjoin\u001b[49m\u001b[43m(\u001b[49m\u001b[43mb\u001b[49m\u001b[43m)\u001b[49m\n",
      "\u001b[1;31mTypeError\u001b[0m: sequence item 1: expected str instance, float found"
     ]
    }
   ],
   "source": [
    "b=['Python', 2.2, True]\n",
    "\"_\".join(b)"
   ]
  },
  {
   "cell_type": "code",
   "execution_count": 6,
   "id": "1085edab",
   "metadata": {},
   "outputs": [
    {
     "data": {
      "text/plain": [
       "'10_2.2_True'"
      ]
     },
     "execution_count": 6,
     "metadata": {},
     "output_type": "execute_result"
    }
   ],
   "source": [
    "b=[\"10\", \"2.2\", \"True\"]\n",
    "\"_\".join(b)"
   ]
  },
  {
   "cell_type": "code",
   "execution_count": 19,
   "id": "b7b0505a",
   "metadata": {},
   "outputs": [
    {
     "name": "stdout",
     "output_type": "stream",
     "text": [
      "char 0 is M\n",
      "char 1 is a\n",
      "char 2 is c\n",
      "char 3 is h\n",
      "char 4 is i\n",
      "char 5 is n\n",
      "char 6 is e\n",
      "char 7 is  \n",
      "char 8 is L\n",
      "char 9 is e\n",
      "char 10 is a\n",
      "char 11 is r\n",
      "char 12 is n\n",
      "char 13 is i\n",
      "char 14 is n\n",
      "char 15 is g\n",
      "char 16 is  \n",
      "char 17 is i\n",
      "char 18 is s\n",
      "char 19 is  \n",
      "char 20 is t\n",
      "char 21 is h\n",
      "char 22 is e\n",
      "char 23 is  \n",
      "char 24 is s\n",
      "char 25 is t\n",
      "char 26 is u\n",
      "char 27 is d\n",
      "char 28 is y\n",
      "char 29 is  \n",
      "char 30 is o\n",
      "char 31 is f\n",
      "char 32 is  \n",
      "char 33 is c\n",
      "char 34 is o\n",
      "char 35 is m\n",
      "char 36 is p\n",
      "char 37 is u\n",
      "char 38 is t\n",
      "char 39 is e\n",
      "char 40 is r\n",
      "char 41 is  \n",
      "char 42 is a\n",
      "char 43 is l\n",
      "char 44 is o\n",
      "char 45 is g\n",
      "char 46 is o\n",
      "char 47 is r\n",
      "char 48 is i\n",
      "char 49 is t\n",
      "char 50 is h\n",
      "char 51 is m\n",
      "char 52 is s\n"
     ]
    }
   ],
   "source": [
    "a='Machine Learning is the study of computer alogorithms'\n",
    "count=0\n",
    "for i in a:\n",
    "    print(f'char {count} is {a[count]}')\n",
    "    count=count+1"
   ]
  },
  {
   "cell_type": "code",
   "execution_count": 25,
   "id": "6e837391",
   "metadata": {},
   "outputs": [
    {
     "name": "stdout",
     "output_type": "stream",
     "text": [
      "count of Machine is 2\n",
      "count of learning is 1\n",
      "count of is is 2\n",
      "count of the is 2\n",
      "count of study is 1\n",
      "count of of is 3\n",
      "count of computer is 1\n",
      "count of algorithms is 1\n",
      "count of that is 1\n",
      "count of can is 1\n",
      "count of improve is 1\n",
      "count of automatically is 1\n",
      "count of through is 1\n",
      "count of experience is 1\n",
      "count of and is 1\n",
      "count of by is 1\n",
      "count of the is 2\n",
      "count of use is 1\n",
      "count of of is 3\n",
      "count of data. is 1\n",
      "count of It is 1\n",
      "count of is is 2\n",
      "count of seen is 1\n",
      "count of as is 1\n",
      "count of a is 17\n",
      "count of part is 1\n",
      "count of of is 3\n",
      "count of artificial is 1\n",
      "count of intelligence is 1\n",
      "count of Machine is 2\n"
     ]
    }
   ],
   "source": [
    "a='''Machine learning is the study of computer algorithms that can improve automatically\n",
    "through experience and by the use of data. It is seen as a part of artificial intelligence Machine'''\n",
    "a1=a.split()\n",
    "\n",
    "for char in a1:\n",
    "    count=a.count(char)\n",
    "    print(f'count of {char} is {count}')\n"
   ]
  },
  {
   "cell_type": "code",
   "execution_count": 26,
   "id": "39c9ce38",
   "metadata": {},
   "outputs": [
    {
     "name": "stdout",
     "output_type": "stream",
     "text": [
      "count of Machine is 2\n",
      "count of learning is 1\n",
      "count of is is 2\n",
      "count of the is 2\n",
      "count of study is 1\n",
      "count of of is 3\n",
      "count of computer is 1\n",
      "count of algorithms is 1\n",
      "count of that is 1\n",
      "count of can is 1\n",
      "count of improve is 1\n",
      "count of automatically is 1\n",
      "count of through is 1\n",
      "count of experience is 1\n",
      "count of and is 1\n",
      "count of by is 1\n",
      "count of the is 2\n",
      "count of use is 1\n",
      "count of of is 3\n",
      "count of data. is 1\n",
      "count of It is 1\n",
      "count of is is 2\n",
      "count of seen is 1\n",
      "count of as is 1\n",
      "count of a is 1\n",
      "count of part is 1\n",
      "count of of is 3\n",
      "count of artificial is 1\n",
      "count of intelligence is 1\n",
      "count of Machine is 2\n"
     ]
    }
   ],
   "source": [
    "a='''Machine learning is the study of computer algorithms that can improve automatically\n",
    "through experience and by the use of data. It is seen as a part of artificial intelligence Machine'''\n",
    "a1=a.split()\n",
    "\n",
    "for char in a1:\n",
    "    count=a1.count(char)\n",
    "    print(f'count of {char} is {count}')"
   ]
  },
  {
   "cell_type": "code",
   "execution_count": 28,
   "id": "ad0c9716",
   "metadata": {},
   "outputs": [
    {
     "name": "stdout",
     "output_type": "stream",
     "text": [
      "count of Ram is 2\n",
      "count of 1 is 2\n",
      "count of 2 is 2\n",
      "count of 3.3 is 1\n",
      "count of 4 is 2\n",
      "count of 2 is 2\n",
      "count of True is 2\n",
      "count of 4 is 2\n",
      "count of Ram is 2\n",
      "count of Krishna is 1\n"
     ]
    }
   ],
   "source": [
    "new_lit=[\"Ram\",1,2,3.3,4,2,True,4,\"Ram\",\"Krishna\"]\n",
    "for i in new_lit:\n",
    "    count=new_lit.count(i)\n",
    "    print(f'count of {i} is {count}')"
   ]
  },
  {
   "cell_type": "code",
   "execution_count": 30,
   "id": "c0703a31",
   "metadata": {},
   "outputs": [
    {
     "name": "stdout",
     "output_type": "stream",
     "text": [
      "count of M is 2\n",
      "count of a is 17\n",
      "count of c is 8\n",
      "count of h is 8\n",
      "count of i is 14\n",
      "count of n is 10\n",
      "count of e is 17\n",
      "count of   is 28\n",
      "count of l is 7\n",
      "count of e is 17\n",
      "count of a is 17\n",
      "count of r is 8\n",
      "count of n is 10\n",
      "count of i is 14\n",
      "count of n is 10\n",
      "count of g is 4\n",
      "count of   is 28\n",
      "count of i is 14\n",
      "count of s is 7\n",
      "count of   is 28\n",
      "count of t is 15\n",
      "count of h is 8\n",
      "count of e is 17\n",
      "count of   is 28\n",
      "count of s is 7\n",
      "count of t is 15\n",
      "count of u is 5\n",
      "count of d is 3\n",
      "count of y is 3\n",
      "count of   is 28\n",
      "count of o is 8\n",
      "count of f is 4\n",
      "count of   is 28\n",
      "count of c is 8\n",
      "count of o is 8\n",
      "count of m is 4\n",
      "count of p is 4\n",
      "count of u is 5\n",
      "count of t is 15\n",
      "count of e is 17\n",
      "count of r is 8\n",
      "count of   is 28\n",
      "count of a is 17\n",
      "count of l is 7\n",
      "count of g is 4\n",
      "count of o is 8\n",
      "count of r is 8\n",
      "count of i is 14\n",
      "count of t is 15\n",
      "count of h is 8\n",
      "count of m is 4\n",
      "count of s is 7\n",
      "count of   is 28\n",
      "count of t is 15\n",
      "count of h is 8\n",
      "count of a is 17\n",
      "count of t is 15\n",
      "count of   is 28\n",
      "count of c is 8\n",
      "count of a is 17\n",
      "count of n is 10\n",
      "count of   is 28\n",
      "count of i is 14\n",
      "count of m is 4\n",
      "count of p is 4\n",
      "count of r is 8\n",
      "count of o is 8\n",
      "count of v is 1\n",
      "count of e is 17\n",
      "count of   is 28\n",
      "count of a is 17\n",
      "count of u is 5\n",
      "count of t is 15\n",
      "count of o is 8\n",
      "count of m is 4\n",
      "count of a is 17\n",
      "count of t is 15\n",
      "count of i is 14\n",
      "count of c is 8\n",
      "count of a is 17\n",
      "count of l is 7\n",
      "count of l is 7\n",
      "count of y is 3\n",
      "count of \n",
      " is 1\n",
      "count of t is 15\n",
      "count of h is 8\n",
      "count of r is 8\n",
      "count of o is 8\n",
      "count of u is 5\n",
      "count of g is 4\n",
      "count of h is 8\n",
      "count of   is 28\n",
      "count of e is 17\n",
      "count of x is 1\n",
      "count of p is 4\n",
      "count of e is 17\n",
      "count of r is 8\n",
      "count of i is 14\n",
      "count of e is 17\n",
      "count of n is 10\n",
      "count of c is 8\n",
      "count of e is 17\n",
      "count of   is 28\n",
      "count of a is 17\n",
      "count of n is 10\n",
      "count of d is 3\n",
      "count of   is 28\n",
      "count of b is 1\n",
      "count of y is 3\n",
      "count of   is 28\n",
      "count of t is 15\n",
      "count of h is 8\n",
      "count of e is 17\n",
      "count of   is 28\n",
      "count of u is 5\n",
      "count of s is 7\n",
      "count of e is 17\n",
      "count of   is 28\n",
      "count of o is 8\n",
      "count of f is 4\n",
      "count of   is 28\n",
      "count of d is 3\n",
      "count of a is 17\n",
      "count of t is 15\n",
      "count of a is 17\n",
      "count of . is 1\n",
      "count of   is 28\n",
      "count of I is 1\n",
      "count of t is 15\n",
      "count of   is 28\n",
      "count of i is 14\n",
      "count of s is 7\n",
      "count of   is 28\n",
      "count of s is 7\n",
      "count of e is 17\n",
      "count of e is 17\n",
      "count of n is 10\n",
      "count of   is 28\n",
      "count of a is 17\n",
      "count of s is 7\n",
      "count of   is 28\n",
      "count of a is 17\n",
      "count of   is 28\n",
      "count of p is 4\n",
      "count of a is 17\n",
      "count of r is 8\n",
      "count of t is 15\n",
      "count of   is 28\n",
      "count of o is 8\n",
      "count of f is 4\n",
      "count of   is 28\n",
      "count of a is 17\n",
      "count of r is 8\n",
      "count of t is 15\n",
      "count of i is 14\n",
      "count of f is 4\n",
      "count of i is 14\n",
      "count of c is 8\n",
      "count of i is 14\n",
      "count of a is 17\n",
      "count of l is 7\n",
      "count of   is 28\n",
      "count of i is 14\n",
      "count of n is 10\n",
      "count of t is 15\n",
      "count of e is 17\n",
      "count of l is 7\n",
      "count of l is 7\n",
      "count of i is 14\n",
      "count of g is 4\n",
      "count of e is 17\n",
      "count of n is 10\n",
      "count of c is 8\n",
      "count of e is 17\n",
      "count of   is 28\n",
      "count of M is 2\n",
      "count of a is 17\n",
      "count of c is 8\n",
      "count of h is 8\n",
      "count of i is 14\n",
      "count of n is 10\n",
      "count of e is 17\n"
     ]
    }
   ],
   "source": [
    "string= '''Machine learning is the study of computer algorithms that can improve automatically\n",
    "through experience and by the use of data. It is seen as a part of artificial intelligence Machine'''\n",
    "\n",
    "for char in string:\n",
    "    count=string.count(char)\n",
    "    print(f'count of {char} is {count}')"
   ]
  },
  {
   "cell_type": "code",
   "execution_count": 31,
   "id": "c9096577",
   "metadata": {},
   "outputs": [
    {
     "name": "stdout",
     "output_type": "stream",
     "text": [
      "python\n",
      "class\n",
      "started\n"
     ]
    }
   ],
   "source": [
    "a=['python',\"class\",'started']\n",
    "for i in a:\n",
    "    print(i)"
   ]
  },
  {
   "cell_type": "markdown",
   "id": "932c5c7c",
   "metadata": {},
   "source": [
    "# 15. endswith()"
   ]
  },
  {
   "cell_type": "code",
   "execution_count": null,
   "id": "ed1d8668",
   "metadata": {},
   "outputs": [],
   "source": [
    "It returns boolean values(True/False)\n",
    "Use case: To check extensions"
   ]
  },
  {
   "cell_type": "code",
   "execution_count": 32,
   "id": "2da8acd7",
   "metadata": {},
   "outputs": [
    {
     "data": {
      "text/plain": [
       "True"
      ]
     },
     "execution_count": 32,
     "metadata": {},
     "output_type": "execute_result"
    }
   ],
   "source": [
    "string=\"Data\"\n",
    "string.endswith(\"a\")"
   ]
  },
  {
   "cell_type": "code",
   "execution_count": 33,
   "id": "c3fdbb36",
   "metadata": {},
   "outputs": [
    {
     "data": {
      "text/plain": [
       "True"
      ]
     },
     "execution_count": 33,
     "metadata": {},
     "output_type": "execute_result"
    }
   ],
   "source": [
    "string=\"Python is interpreted Language\"\n",
    "string.endswith(\"Language\")"
   ]
  },
  {
   "cell_type": "code",
   "execution_count": null,
   "id": "0214aa5d",
   "metadata": {},
   "outputs": [],
   "source": [
    ".com\n",
    ".in\n",
    ".ipynb\n",
    ".xlsx\n",
    ".csv\n",
    ".txt\n",
    "r (raw string)>> when we are using raw path\n",
    "if we are not using raw string then use \\\\"
   ]
  },
  {
   "cell_type": "code",
   "execution_count": 34,
   "id": "87b889cb",
   "metadata": {},
   "outputs": [
    {
     "data": {
      "text/plain": [
       "True"
      ]
     },
     "execution_count": 34,
     "metadata": {},
     "output_type": "execute_result"
    }
   ],
   "source": [
    "pdf_path=r'G:\\Velocity Sessions\\TSA and Hypothesis testing.pdf'\n",
    "pdf_path.endswith('.pdf')"
   ]
  },
  {
   "cell_type": "code",
   "execution_count": 35,
   "id": "8d3fbfab",
   "metadata": {},
   "outputs": [
    {
     "data": {
      "text/plain": [
       "str"
      ]
     },
     "execution_count": 35,
     "metadata": {},
     "output_type": "execute_result"
    }
   ],
   "source": [
    "type(pdf_path)"
   ]
  },
  {
   "cell_type": "code",
   "execution_count": 37,
   "id": "438c2ad1",
   "metadata": {},
   "outputs": [
    {
     "data": {
      "text/plain": [
       "'PDF of the file Python is interpreted Language'"
      ]
     },
     "execution_count": 37,
     "metadata": {},
     "output_type": "execute_result"
    }
   ],
   "source": [
    "a=f'PDF of the file {string}'\n",
    "a"
   ]
  },
  {
   "cell_type": "code",
   "execution_count": 38,
   "id": "17f83656",
   "metadata": {},
   "outputs": [
    {
     "name": "stdout",
     "output_type": "stream",
     "text": [
      "Yes,File is pdf\n"
     ]
    }
   ],
   "source": [
    "pdf_path=r'G:\\Velocity Sessions\\TSA and Hypothesis testing.pdf'\n",
    "if pdf_path.endswith(\".pdf\"):\n",
    "    print('Yes,File is pdf')\n",
    "else:\n",
    "    print('file is not a pdf')"
   ]
  },
  {
   "cell_type": "code",
   "execution_count": 40,
   "id": "4873639b",
   "metadata": {},
   "outputs": [
    {
     "name": "stdout",
     "output_type": "stream",
     "text": [
      "file is not a pdf\n"
     ]
    }
   ],
   "source": [
    "pdf_path=r'G:\\Velocity Sessions\\TSA and Hypothesis testing.pdf'\n",
    "if pdf_path.endswith(\".pdf\")==0:\n",
    "    print('Yes,File is pdf')\n",
    "else:\n",
    "    print('file is not a pdf')"
   ]
  },
  {
   "cell_type": "code",
   "execution_count": 41,
   "id": "1a87cb80",
   "metadata": {},
   "outputs": [
    {
     "name": "stdout",
     "output_type": "stream",
     "text": [
      "Yes,File is pdf\n"
     ]
    }
   ],
   "source": [
    "pdf_path=r'G:\\Velocity Sessions\\TSA and Hypothesis testing.pdf'\n",
    "if pdf_path.endswith(\".pdf\")==1:\n",
    "    print('Yes,File is pdf')\n",
    "else:\n",
    "    print('file is not a pdf')"
   ]
  },
  {
   "cell_type": "code",
   "execution_count": 43,
   "id": "53360b8e",
   "metadata": {},
   "outputs": [
    {
     "name": "stdout",
     "output_type": "stream",
     "text": [
      "CSV file >> iris.csv\n"
     ]
    }
   ],
   "source": [
    "import os \n",
    "folder_path = r'C:\\Users\\pune\\Desktop\\Data Science_05_07_22\\28.03.22_Decision tree'\n",
    "files_list = os.listdir(folder_path)\n",
    "\n",
    "for file in files_list:\n",
    "    if file.endswith('.csv'):\n",
    "        print('CSV file >>', file)\n",
    "      \n",
    "    elif file.endswith('.mkv'):\n",
    "        print('MKV file >>', file)"
   ]
  },
  {
   "cell_type": "code",
   "execution_count": 47,
   "id": "e02571e6",
   "metadata": {},
   "outputs": [
    {
     "name": "stdout",
     "output_type": "stream",
     "text": [
      "CSV file >> Movie.csv\n",
      "IPYNB file>>  Recommendation Engine.ipynb\n",
      "IPYNB file>>  Recommendation_movies.ipynb\n"
     ]
    }
   ],
   "source": [
    "import os\n",
    "folder_path=r\"C:\\Users\\pune\\Desktop\\Data Science_05_07_22\\27.03.22_Recommendation system\"\n",
    "files_list=os.listdir(folder_path)\n",
    "\n",
    "for file in files_list:\n",
    "    if file.endswith(\".csv\"):\n",
    "        print(\"CSV file >>\", file)\n",
    "        \n",
    "    elif file.endswith(\".ipynb\"):\n",
    "        print(\"IPYNB file>> \", file)"
   ]
  },
  {
   "cell_type": "code",
   "execution_count": 48,
   "id": "382be261",
   "metadata": {},
   "outputs": [
    {
     "data": {
      "text/plain": [
       "['.ipynb_checkpoints',\n",
       " 'DS_Store',\n",
       " 'Movie.csv',\n",
       " 'Recommendation Engine.ipynb',\n",
       " 'Recommendation_movies.ipynb']"
      ]
     },
     "execution_count": 48,
     "metadata": {},
     "output_type": "execute_result"
    }
   ],
   "source": [
    "files_list"
   ]
  },
  {
   "cell_type": "code",
   "execution_count": null,
   "id": "187acd4b",
   "metadata": {},
   "outputs": [],
   "source": []
  },
  {
   "cell_type": "code",
   "execution_count": null,
   "id": "1c11651e",
   "metadata": {},
   "outputs": [],
   "source": []
  },
  {
   "cell_type": "code",
   "execution_count": null,
   "id": "72b9d42c",
   "metadata": {},
   "outputs": [],
   "source": []
  }
 ],
 "metadata": {
  "kernelspec": {
   "display_name": "Python 3 (ipykernel)",
   "language": "python",
   "name": "python3"
  },
  "language_info": {
   "codemirror_mode": {
    "name": "ipython",
    "version": 3
   },
   "file_extension": ".py",
   "mimetype": "text/x-python",
   "name": "python",
   "nbconvert_exporter": "python",
   "pygments_lexer": "ipython3",
   "version": "3.9.12"
  }
 },
 "nbformat": 4,
 "nbformat_minor": 5
}
