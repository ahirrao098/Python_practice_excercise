{
 "cells": [
  {
   "cell_type": "markdown",
   "id": "de31987f",
   "metadata": {},
   "source": [
    "# 22. islower()"
   ]
  },
  {
   "cell_type": "code",
   "execution_count": null,
   "id": "6d403022",
   "metadata": {},
   "outputs": [],
   "source": [
    "# True >> if all the char of string in lower case\n",
    "# space allowed"
   ]
  },
  {
   "cell_type": "code",
   "execution_count": 1,
   "id": "4a84c089",
   "metadata": {},
   "outputs": [
    {
     "data": {
      "text/plain": [
       "False"
      ]
     },
     "execution_count": 1,
     "metadata": {},
     "output_type": "execute_result"
    }
   ],
   "source": [
    "s=\"Data Science\"\n",
    "s.islower()"
   ]
  },
  {
   "cell_type": "code",
   "execution_count": 2,
   "id": "8b038770",
   "metadata": {},
   "outputs": [
    {
     "data": {
      "text/plain": [
       "True"
      ]
     },
     "execution_count": 2,
     "metadata": {},
     "output_type": "execute_result"
    }
   ],
   "source": [
    "s=\"Data Science\"\n",
    "s=s.lower()\n",
    "s.islower()"
   ]
  },
  {
   "cell_type": "code",
   "execution_count": 3,
   "id": "ec4d3542",
   "metadata": {},
   "outputs": [
    {
     "data": {
      "text/plain": [
       "True"
      ]
     },
     "execution_count": 3,
     "metadata": {},
     "output_type": "execute_result"
    }
   ],
   "source": [
    "s='data science12'\n",
    "s.islower()"
   ]
  },
  {
   "cell_type": "code",
   "execution_count": 4,
   "id": "306d58b9",
   "metadata": {},
   "outputs": [
    {
     "data": {
      "text/plain": [
       "False"
      ]
     },
     "execution_count": 4,
     "metadata": {},
     "output_type": "execute_result"
    }
   ],
   "source": [
    "s='12'\n",
    "s.islower()"
   ]
  },
  {
   "cell_type": "code",
   "execution_count": 5,
   "id": "52d9b41d",
   "metadata": {},
   "outputs": [
    {
     "data": {
      "text/plain": [
       "True"
      ]
     },
     "execution_count": 5,
     "metadata": {},
     "output_type": "execute_result"
    }
   ],
   "source": [
    "s='data science ###'\n",
    "s.islower()"
   ]
  },
  {
   "cell_type": "code",
   "execution_count": 6,
   "id": "d4114a17",
   "metadata": {},
   "outputs": [
    {
     "data": {
      "text/plain": [
       "False"
      ]
     },
     "execution_count": 6,
     "metadata": {},
     "output_type": "execute_result"
    }
   ],
   "source": [
    "s='$$$ Data science'\n",
    "s.islower()"
   ]
  },
  {
   "cell_type": "markdown",
   "id": "f751a182",
   "metadata": {},
   "source": [
    "# 23. isupper()"
   ]
  },
  {
   "cell_type": "code",
   "execution_count": null,
   "id": "717bcd70",
   "metadata": {},
   "outputs": [],
   "source": [
    "# True >> if all the char of string in upper case\n",
    "# space allowed"
   ]
  },
  {
   "cell_type": "code",
   "execution_count": 8,
   "id": "22788980",
   "metadata": {},
   "outputs": [
    {
     "data": {
      "text/plain": [
       "False"
      ]
     },
     "execution_count": 8,
     "metadata": {},
     "output_type": "execute_result"
    }
   ],
   "source": [
    "string='Rohit Ahirrao'\n",
    "string.isupper()"
   ]
  },
  {
   "cell_type": "code",
   "execution_count": 9,
   "id": "1ed4a53b",
   "metadata": {},
   "outputs": [
    {
     "data": {
      "text/plain": [
       "True"
      ]
     },
     "execution_count": 9,
     "metadata": {},
     "output_type": "execute_result"
    }
   ],
   "source": [
    "string='ROHIT'\n",
    "string.isupper()"
   ]
  },
  {
   "cell_type": "code",
   "execution_count": 10,
   "id": "adc023c3",
   "metadata": {},
   "outputs": [
    {
     "name": "stdout",
     "output_type": "stream",
     "text": [
      "ROHIT AHIRRAO\n"
     ]
    },
    {
     "data": {
      "text/plain": [
       "True"
      ]
     },
     "execution_count": 10,
     "metadata": {},
     "output_type": "execute_result"
    }
   ],
   "source": [
    "string='Rohit Ahirrao'\n",
    "string=string.upper()\n",
    "print(string)\n",
    "string.isupper()"
   ]
  },
  {
   "cell_type": "markdown",
   "id": "07ca76f7",
   "metadata": {},
   "source": [
    "# 24. istitle()"
   ]
  },
  {
   "cell_type": "code",
   "execution_count": 11,
   "id": "ea782bc4",
   "metadata": {},
   "outputs": [
    {
     "data": {
      "text/plain": [
       "True"
      ]
     },
     "execution_count": 11,
     "metadata": {},
     "output_type": "execute_result"
    }
   ],
   "source": [
    "string = 'Akshay Kumar'\n",
    "string.istitle()"
   ]
  },
  {
   "cell_type": "code",
   "execution_count": 12,
   "id": "7ebee256",
   "metadata": {},
   "outputs": [
    {
     "data": {
      "text/plain": [
       "False"
      ]
     },
     "execution_count": 12,
     "metadata": {},
     "output_type": "execute_result"
    }
   ],
   "source": [
    "string = 'Akshay kumar'\n",
    "string.istitle()"
   ]
  },
  {
   "cell_type": "code",
   "execution_count": null,
   "id": "b6436f16",
   "metadata": {},
   "outputs": [],
   "source": []
  },
  {
   "cell_type": "code",
   "execution_count": null,
   "id": "96709383",
   "metadata": {},
   "outputs": [],
   "source": []
  },
  {
   "cell_type": "code",
   "execution_count": null,
   "id": "d47c9442",
   "metadata": {},
   "outputs": [],
   "source": []
  },
  {
   "cell_type": "code",
   "execution_count": null,
   "id": "9801cdd9",
   "metadata": {},
   "outputs": [],
   "source": []
  },
  {
   "cell_type": "code",
   "execution_count": null,
   "id": "3ee5142e",
   "metadata": {},
   "outputs": [],
   "source": []
  }
 ],
 "metadata": {
  "kernelspec": {
   "display_name": "Python 3 (ipykernel)",
   "language": "python",
   "name": "python3"
  },
  "language_info": {
   "codemirror_mode": {
    "name": "ipython",
    "version": 3
   },
   "file_extension": ".py",
   "mimetype": "text/x-python",
   "name": "python",
   "nbconvert_exporter": "python",
   "pygments_lexer": "ipython3",
   "version": "3.9.12"
  }
 },
 "nbformat": 4,
 "nbformat_minor": 5
}
