{
 "cells": [
  {
   "cell_type": "markdown",
   "id": "0ab7d188",
   "metadata": {},
   "source": [
    "## str to float"
   ]
  },
  {
   "cell_type": "code",
   "execution_count": 1,
   "id": "4596683b",
   "metadata": {},
   "outputs": [
    {
     "name": "stdout",
     "output_type": "stream",
     "text": [
      " the value of string is45.6 asnd the type is<class 'str'>\n"
     ]
    }
   ],
   "source": [
    "string='45.6'\n",
    "b=type(string)\n",
    "a=float(string)\n",
    "print(f' the value of string is{a} asnd the type is{b}')"
   ]
  },
  {
   "cell_type": "code",
   "execution_count": 2,
   "id": "d1c60698",
   "metadata": {},
   "outputs": [
    {
     "name": "stdout",
     "output_type": "stream",
     "text": [
      " the value is 34.3 and type is <class 'float'>\n"
     ]
    }
   ],
   "source": [
    "s=34.3\n",
    "a=float(s)\n",
    "print(f' the value is {a} and type is {type(s)}')"
   ]
  },
  {
   "cell_type": "markdown",
   "id": "dbfa4225",
   "metadata": {},
   "source": [
    "## int to str"
   ]
  },
  {
   "cell_type": "code",
   "execution_count": 6,
   "id": "bdfb349d",
   "metadata": {},
   "outputs": [
    {
     "name": "stdout",
     "output_type": "stream",
     "text": [
      "<class 'int'>\n",
      "value 90 type is <class 'str'>\n"
     ]
    }
   ],
   "source": [
    "a=90\n",
    "b=print(type(a))\n",
    "a=str(a)\n",
    "print(f'value {a} type is {type(a)}')"
   ]
  },
  {
   "cell_type": "code",
   "execution_count": 8,
   "id": "4f091849",
   "metadata": {},
   "outputs": [
    {
     "name": "stdout",
     "output_type": "stream",
     "text": [
      " value78 and type is <class 'str'>\n"
     ]
    }
   ],
   "source": [
    "b=78\n",
    "b=str(b)\n",
    "print(f' value{b} and type is {type(b)}')"
   ]
  },
  {
   "cell_type": "markdown",
   "id": "9cff7dfd",
   "metadata": {},
   "source": [
    "## float to string"
   ]
  },
  {
   "cell_type": "code",
   "execution_count": 10,
   "id": "0110d1d2",
   "metadata": {},
   "outputs": [
    {
     "name": "stdout",
     "output_type": "stream",
     "text": [
      "the value is 100.89 and type is <class 'str'>\n"
     ]
    }
   ],
   "source": [
    "a=100.89\n",
    "a=str(a)\n",
    "print(f'the value is {a} and type is {type(a)}')"
   ]
  },
  {
   "cell_type": "code",
   "execution_count": 11,
   "id": "f891d5c9",
   "metadata": {},
   "outputs": [
    {
     "name": "stdout",
     "output_type": "stream",
     "text": [
      "enter value of x:10\n",
      "enter value of y:20\n",
      "10 20\n"
     ]
    }
   ],
   "source": [
    "x=input('enter value of x:')\n",
    "y=input('enter value of y:')\n",
    "print(x,y)"
   ]
  },
  {
   "cell_type": "code",
   "execution_count": 13,
   "id": "0418a1f4",
   "metadata": {},
   "outputs": [
    {
     "name": "stdout",
     "output_type": "stream",
     "text": [
      " addition of 10 and 20 is 1020\n"
     ]
    }
   ],
   "source": [
    "add=x+y\n",
    "print(f' addition of {x} and {y} is {add}')#due to the input value are string the values are join not done the addition"
   ]
  },
  {
   "cell_type": "code",
   "execution_count": 19,
   "id": "e59987f2",
   "metadata": {},
   "outputs": [
    {
     "name": "stdout",
     "output_type": "stream",
     "text": [
      "the value of p:45\n",
      "the value of q:65\n",
      "45 65\n",
      "addition of 45 and 65 is 110\n"
     ]
    }
   ],
   "source": [
    "p=int(input('the value of p:'))#adding int\n",
    "q=int(input('the value of q:'))\n",
    "print(p,q)\n",
    "add=p+q\n",
    "print(f'addition of {p} and {q} is {add}')"
   ]
  },
  {
   "cell_type": "code",
   "execution_count": 20,
   "id": "5ea67e7d",
   "metadata": {},
   "outputs": [
    {
     "name": "stdout",
     "output_type": "stream",
     "text": [
      "<class 'tuple'>\n"
     ]
    },
    {
     "data": {
      "text/plain": [
       "list"
      ]
     },
     "execution_count": 20,
     "metadata": {},
     "output_type": "execute_result"
    }
   ],
   "source": [
    "a=(1,2)\n",
    "print(type(a))\n",
    "b=list(a)\n",
    "type(b)"
   ]
  },
  {
   "cell_type": "markdown",
   "id": "935d6510",
   "metadata": {},
   "source": [
    "## Access String items/ characters"
   ]
  },
  {
   "cell_type": "markdown",
   "id": "83b0b2df",
   "metadata": {},
   "source": [
    "indexing # a[1]\n",
    "slicing #a[1:8]\n",
    "for loop"
   ]
  },
  {
   "cell_type": "code",
   "execution_count": 21,
   "id": "09b4a7c4",
   "metadata": {},
   "outputs": [
    {
     "data": {
      "text/plain": [
       "'e'"
      ]
     },
     "execution_count": 21,
     "metadata": {},
     "output_type": "execute_result"
    }
   ],
   "source": [
    "string='velocity'\n",
    "string[1]"
   ]
  },
  {
   "cell_type": "code",
   "execution_count": 22,
   "id": "f9cbb3d5",
   "metadata": {},
   "outputs": [
    {
     "data": {
      "text/plain": [
       "'eloci'"
      ]
     },
     "execution_count": 22,
     "metadata": {},
     "output_type": "execute_result"
    }
   ],
   "source": [
    "string[1:6]"
   ]
  },
  {
   "cell_type": "code",
   "execution_count": 25,
   "id": "2cdccbaa",
   "metadata": {},
   "outputs": [
    {
     "name": "stdout",
     "output_type": "stream",
     "text": [
      "v\n",
      "e\n",
      "l\n",
      "o\n",
      "c\n",
      "i\n",
      "t\n",
      "y\n"
     ]
    }
   ],
   "source": [
    "for x in string:\n",
    "    print(x)\n",
    "    \n",
    "    #or we can write\n",
    "#for char in string:\n",
    "  #  print(char)"
   ]
  },
  {
   "cell_type": "code",
   "execution_count": 26,
   "id": "39acd28f",
   "metadata": {},
   "outputs": [
    {
     "name": "stdout",
     "output_type": "stream",
     "text": [
      "v+e+l+o+c+i+t+y+"
     ]
    }
   ],
   "source": [
    "for x in string:\n",
    "    print(x,end='+')\n",
    "# or    \n",
    "# string = 'Velocity'\n",
    "# for variable_name in string:\n",
    "#     print(variable_name, end='+')"
   ]
  },
  {
   "cell_type": "code",
   "execution_count": 27,
   "id": "9463fc10",
   "metadata": {},
   "outputs": [
    {
     "name": "stdout",
     "output_type": "stream",
     "text": [
      "char is:e\n",
      "char is:l\n",
      "char is:o\n",
      "char is:c\n"
     ]
    }
   ],
   "source": [
    "string='velocity'\n",
    "for variables_name in string[1:5]:\n",
    "    print(f'char is:{variables_name}')"
   ]
  },
  {
   "cell_type": "code",
   "execution_count": 32,
   "id": "ba411b35",
   "metadata": {},
   "outputs": [
    {
     "name": "stdout",
     "output_type": "stream",
     "text": [
      "char is v\n",
      "char is e\n",
      "char is l\n",
      "char is o\n",
      "char is c\n",
      "char is i\n",
      "char is t\n",
      "char is y\n"
     ]
    }
   ],
   "source": [
    "string='velocity'\n",
    "# count=0\n",
    "for i in string:\n",
    "    print(f'char is {i}')"
   ]
  },
  {
   "cell_type": "code",
   "execution_count": 35,
   "id": "a6d9d2b3",
   "metadata": {},
   "outputs": [
    {
     "name": "stdout",
     "output_type": "stream",
     "text": [
      "char 0 is v \n",
      "char 1 is e \n",
      "char 2 is l \n",
      "char 3 is o \n",
      "char 4 is c \n",
      "char 5 is i \n",
      "char 6 is t \n",
      "char 7 is y \n"
     ]
    }
   ],
   "source": [
    "string='velocity'\n",
    "count=0\n",
    "for i in string:\n",
    "    print(f'char {count} is {string[count]} ')\n",
    "    count=count+1"
   ]
  },
  {
   "cell_type": "code",
   "execution_count": 38,
   "id": "a19baf2e",
   "metadata": {},
   "outputs": [
    {
     "name": "stdout",
     "output_type": "stream",
     "text": [
      " char0 and string is i\n",
      " char1 and string is  \n",
      " char2 and string is l\n",
      " char3 and string is o\n",
      " char4 and string is v\n",
      " char5 and string is e\n",
      " char6 and string is  \n",
      " char7 and string is m\n",
      " char8 and string is y\n",
      " char9 and string is  \n",
      " char10 and string is I\n",
      " char11 and string is n\n",
      " char12 and string is d\n",
      " char13 and string is i\n",
      " char14 and string is a\n"
     ]
    }
   ],
   "source": [
    "string='i love my India'\n",
    "count=0\n",
    "for i in string:\n",
    "    print(f' char{count} and string is {string[count]}')\n",
    "    count=count+1"
   ]
  },
  {
   "cell_type": "code",
   "execution_count": 39,
   "id": "8d9ab647",
   "metadata": {},
   "outputs": [
    {
     "name": "stdout",
     "output_type": "stream",
     "text": [
      " char0 and string is i\n",
      " char1 and string is  \n",
      " char1 and string is  \n",
      " char1 and string is  \n",
      " char1 and string is  \n",
      " char1 and string is  \n",
      " char1 and string is  \n",
      " char1 and string is  \n",
      " char1 and string is  \n",
      " char1 and string is  \n",
      " char1 and string is  \n",
      " char1 and string is  \n",
      " char1 and string is  \n",
      " char1 and string is  \n",
      " char1 and string is  \n"
     ]
    }
   ],
   "source": [
    "string='i love my India'\n",
    "count=0\n",
    "for i in string:\n",
    "    print(f' char{count} and string is {string[count]}')\n",
    "    count=+1"
   ]
  },
  {
   "cell_type": "code",
   "execution_count": 40,
   "id": "d9a83696",
   "metadata": {},
   "outputs": [
    {
     "name": "stdout",
     "output_type": "stream",
     "text": [
      " char0 and string is i\n",
      " char1 and string is  \n",
      " char2 and string is l\n",
      " char3 and string is o\n",
      " char4 and string is v\n",
      " char5 and string is e\n",
      " char6 and string is  \n",
      " char7 and string is m\n",
      " char8 and string is y\n",
      " char9 and string is  \n",
      " char10 and string is I\n",
      " char11 and string is n\n",
      " char12 and string is d\n",
      " char13 and string is i\n",
      " char14 and string is a\n"
     ]
    }
   ],
   "source": [
    "string='i love my India'\n",
    "count=0\n",
    "for i in string:\n",
    "    print(f' char{count} and string is {string[count]}')\n",
    "    count+=1 #count=count+1"
   ]
  },
  {
   "cell_type": "code",
   "execution_count": 41,
   "id": "8e75ed43",
   "metadata": {},
   "outputs": [
    {
     "name": "stdout",
     "output_type": "stream",
     "text": [
      "char at index 0 is m\n",
      "char at index 1 is a\n",
      "char at index 2 is c\n",
      "char at index 3 is h\n",
      "char at index 4 is i\n",
      "char at index 5 is n\n",
      "char at index 6 is e\n"
     ]
    }
   ],
   "source": [
    "string='machine'\n",
    "for index,val in enumerate(string):\n",
    "    print(f'char at index {index} is {val}')"
   ]
  },
  {
   "cell_type": "code",
   "execution_count": 42,
   "id": "9849e31f",
   "metadata": {},
   "outputs": [
    {
     "name": "stdout",
     "output_type": "stream",
     "text": [
      "char at index 0 is d\n",
      "char at index 1 is a\n",
      "char at index 2 is t\n",
      "char at index 3 is a\n",
      "char at index 4 is  \n",
      "char at index 5 is s\n",
      "char at index 6 is c\n",
      "char at index 7 is i\n",
      "char at index 8 is e\n",
      "char at index 9 is n\n",
      "char at index 10 is c\n",
      "char at index 11 is e\n"
     ]
    }
   ],
   "source": [
    "string='data science'\n",
    "for index, val in enumerate(string):\n",
    "    print(f'char at index {index} is {val}')"
   ]
  },
  {
   "cell_type": "code",
   "execution_count": 43,
   "id": "737c0466",
   "metadata": {},
   "outputs": [
    {
     "name": "stdout",
     "output_type": "stream",
     "text": [
      "hello d\n",
      "hello a\n",
      "hello t\n",
      "hello a\n"
     ]
    }
   ],
   "source": [
    "string='data'\n",
    "for i in string:\n",
    "    print('hello',i)"
   ]
  },
  {
   "cell_type": "code",
   "execution_count": 44,
   "id": "ebec33cc",
   "metadata": {},
   "outputs": [
    {
     "name": "stdout",
     "output_type": "stream",
     "text": [
      "hello d hello a hello t hello a "
     ]
    }
   ],
   "source": [
    "string='data'\n",
    "for i in string:\n",
    "    print('hello',i,end=' ')"
   ]
  },
  {
   "cell_type": "code",
   "execution_count": 49,
   "id": "c7e00242",
   "metadata": {},
   "outputs": [
    {
     "name": "stdout",
     "output_type": "stream",
     "text": [
      "m+y+ +l+e+a+r+n+i+n+g+"
     ]
    }
   ],
   "source": [
    "string='my learning'\n",
    "for i in string:\n",
    "    print(i,end='+')"
   ]
  },
  {
   "cell_type": "markdown",
   "id": "7533811f",
   "metadata": {},
   "source": [
    "# String Formatting"
   ]
  },
  {
   "cell_type": "code",
   "execution_count": null,
   "id": "68b25bea",
   "metadata": {},
   "outputs": [],
   "source": [
    "1. Formatting using format() string method >> .format()\n",
    "2. Formatting using String literals, f-string >> Leading f-char\n",
    "3. Formatting with % operator"
   ]
  },
  {
   "cell_type": "markdown",
   "id": "252bcd4b",
   "metadata": {},
   "source": [
    "# 1.format()"
   ]
  },
  {
   "cell_type": "code",
   "execution_count": 51,
   "id": "db1f6073",
   "metadata": {},
   "outputs": [
    {
     "name": "stdout",
     "output_type": "stream",
     "text": [
      "char at index 0 is d\n",
      "char at index 1 is a\n",
      "char at index 2 is t\n",
      "char at index 3 is a\n"
     ]
    }
   ],
   "source": [
    "string='data'\n",
    "for index, char in enumerate(string):\n",
    "    print('char at index {} is {}'.format(index,char))"
   ]
  },
  {
   "cell_type": "code",
   "execution_count": 52,
   "id": "45043595",
   "metadata": {},
   "outputs": [
    {
     "name": "stdout",
     "output_type": "stream",
     "text": [
      "addition of 10 and 20 is 30\n"
     ]
    }
   ],
   "source": [
    "a=10\n",
    "b=20\n",
    "print('addition of {} and {} is {}'.format(a,b,a+b))"
   ]
  },
  {
   "cell_type": "markdown",
   "id": "5998dfcd",
   "metadata": {},
   "source": [
    "## 2.f-string"
   ]
  },
  {
   "cell_type": "code",
   "execution_count": 53,
   "id": "87718b6a",
   "metadata": {},
   "outputs": [
    {
     "name": "stdout",
     "output_type": "stream",
     "text": [
      "char at index 0 is D\n",
      "char at index 1 is a\n",
      "char at index 2 is t\n",
      "char at index 3 is a\n"
     ]
    }
   ],
   "source": [
    "string='Data'\n",
    "for index, char in enumerate(string):\n",
    "    print(f'char at index {index} is {char}')"
   ]
  },
  {
   "cell_type": "code",
   "execution_count": 54,
   "id": "a6a73371",
   "metadata": {},
   "outputs": [
    {
     "name": "stdout",
     "output_type": "stream",
     "text": [
      "addition of 10 and 20 is 30\n"
     ]
    }
   ],
   "source": [
    "a= 10\n",
    "b=20\n",
    "print(f'addition of {a} and {b} is {a+b}')"
   ]
  },
  {
   "cell_type": "markdown",
   "id": "b4aafe69",
   "metadata": {},
   "source": [
    "## 3.Percent Operator (%)"
   ]
  },
  {
   "cell_type": "code",
   "execution_count": null,
   "id": "81dbf6b7",
   "metadata": {},
   "outputs": [],
   "source": [
    "%d >> int\n",
    "%f >> float\n",
    "%s >> str"
   ]
  },
  {
   "cell_type": "code",
   "execution_count": 55,
   "id": "f71615c7",
   "metadata": {},
   "outputs": [
    {
     "name": "stdout",
     "output_type": "stream",
     "text": [
      "Addition of 10 and 20 is 30\n"
     ]
    }
   ],
   "source": [
    "a=10\n",
    "b=20\n",
    "res='Addition of %d and %d is %d'%(a,b,a+b)\n",
    "print(res)"
   ]
  },
  {
   "cell_type": "code",
   "execution_count": 56,
   "id": "599f32b0",
   "metadata": {},
   "outputs": [
    {
     "name": "stdout",
     "output_type": "stream",
     "text": [
      "Addition of 1.500000 and 20 is 21\n"
     ]
    }
   ],
   "source": [
    "a=1.5\n",
    "b=20\n",
    "res='Addition of %f and %d is %d'%(a,b,a+b)\n",
    "print(res)"
   ]
  },
  {
   "cell_type": "code",
   "execution_count": 57,
   "id": "ad83d74e",
   "metadata": {},
   "outputs": [
    {
     "name": "stdout",
     "output_type": "stream",
     "text": [
      "Addition of 1.500000 and 20 is 21.500000\n"
     ]
    }
   ],
   "source": [
    "a=1.5\n",
    "b=20\n",
    "res='Addition of %f and %d is %f'%(a,b,a+b)\n",
    "print(res)"
   ]
  },
  {
   "cell_type": "code",
   "execution_count": 58,
   "id": "6c10df5e",
   "metadata": {},
   "outputs": [
    {
     "name": "stdout",
     "output_type": "stream",
     "text": [
      "concat of 1.5 and 20 is 1.520\n"
     ]
    }
   ],
   "source": [
    "a='1.5'\n",
    "b='20'\n",
    "res='concat of %s and %s is %s'%(a,b,a+b)\n",
    "print(res)"
   ]
  },
  {
   "cell_type": "code",
   "execution_count": null,
   "id": "c40eaea8",
   "metadata": {},
   "outputs": [],
   "source": []
  }
 ],
 "metadata": {
  "kernelspec": {
   "display_name": "Python 3 (ipykernel)",
   "language": "python",
   "name": "python3"
  },
  "language_info": {
   "codemirror_mode": {
    "name": "ipython",
    "version": 3
   },
   "file_extension": ".py",
   "mimetype": "text/x-python",
   "name": "python",
   "nbconvert_exporter": "python",
   "pygments_lexer": "ipython3",
   "version": "3.9.12"
  }
 },
 "nbformat": 4,
 "nbformat_minor": 5
}
