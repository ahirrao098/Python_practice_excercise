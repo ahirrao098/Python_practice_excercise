{
 "cells": [
  {
   "cell_type": "markdown",
   "id": "a08a41bc",
   "metadata": {},
   "source": [
    "# 8. swapcase()"
   ]
  },
  {
   "cell_type": "markdown",
   "id": "3909dee1",
   "metadata": {},
   "source": [
    "It inverts case of all our char\n",
    "lower >> upper\n",
    "upper >> lower"
   ]
  },
  {
   "cell_type": "code",
   "execution_count": 1,
   "id": "faf911a4",
   "metadata": {
    "ExecuteTime": {
     "end_time": "2022-08-04T15:44:32.144078Z",
     "start_time": "2022-08-04T15:44:32.126063Z"
    }
   },
   "outputs": [
    {
     "data": {
      "text/plain": [
       "'pYTHON'"
      ]
     },
     "execution_count": 1,
     "metadata": {},
     "output_type": "execute_result"
    }
   ],
   "source": [
    "s= 'Python'\n",
    "s.swapcase()"
   ]
  },
  {
   "cell_type": "code",
   "execution_count": 2,
   "id": "7b34d4fa",
   "metadata": {
    "run_control": {
     "marked": false
    }
   },
   "outputs": [
    {
     "data": {
      "text/plain": [
       "'python'"
      ]
     },
     "execution_count": 2,
     "metadata": {},
     "output_type": "execute_result"
    }
   ],
   "source": [
    "s='PYTHON'\n",
    "s.swapcase()"
   ]
  },
  {
   "cell_type": "code",
   "execution_count": 3,
   "id": "0b0c8929",
   "metadata": {},
   "outputs": [
    {
     "data": {
      "text/plain": [
       "'PYTHON'"
      ]
     },
     "execution_count": 3,
     "metadata": {},
     "output_type": "execute_result"
    }
   ],
   "source": [
    "s='python'\n",
    "s.swapcase()"
   ]
  },
  {
   "cell_type": "markdown",
   "id": "7c549976",
   "metadata": {},
   "source": [
    "# 9. replace()"
   ]
  },
  {
   "cell_type": "markdown",
   "id": "22292b88",
   "metadata": {},
   "source": [
    "string.replace(old_str, new_str, [count]) # count optional"
   ]
  },
  {
   "cell_type": "code",
   "execution_count": 4,
   "id": "cbb6eaa7",
   "metadata": {},
   "outputs": [
    {
     "data": {
      "text/plain": [
       "'data science Class'"
      ]
     },
     "execution_count": 4,
     "metadata": {},
     "output_type": "execute_result"
    }
   ],
   "source": [
    "str1='Python Class'\n",
    "str1.replace('Python', 'data science')"
   ]
  },
  {
   "cell_type": "code",
   "execution_count": 5,
   "id": "9b479f3d",
   "metadata": {},
   "outputs": [
    {
     "data": {
      "text/plain": [
       "'jython class'"
      ]
     },
     "execution_count": 5,
     "metadata": {},
     "output_type": "execute_result"
    }
   ],
   "source": [
    "str1='python class'\n",
    "str1.replace('p','j')"
   ]
  },
  {
   "cell_type": "code",
   "execution_count": 6,
   "id": "b84beeac",
   "metadata": {},
   "outputs": [
    {
     "data": {
      "text/plain": [
       "\"python'S class\""
      ]
     },
     "execution_count": 6,
     "metadata": {},
     "output_type": "execute_result"
    }
   ],
   "source": [
    "str1='python\\'s class'\n",
    "str1.replace('s','S',1)"
   ]
  },
  {
   "cell_type": "code",
   "execution_count": 7,
   "id": "2f6517c8",
   "metadata": {},
   "outputs": [
    {
     "data": {
      "text/plain": [
       "\"python'S claSS\""
      ]
     },
     "execution_count": 7,
     "metadata": {},
     "output_type": "execute_result"
    }
   ],
   "source": [
    "str1='python\\'s class'\n",
    "str1.replace('s','S')"
   ]
  },
  {
   "cell_type": "code",
   "execution_count": 9,
   "id": "992bf57d",
   "metadata": {},
   "outputs": [
    {
     "data": {
      "text/plain": [
       "\"python'S claSs\""
      ]
     },
     "execution_count": 9,
     "metadata": {},
     "output_type": "execute_result"
    }
   ],
   "source": [
    "str1='python\\'s class'\n",
    "str1.replace('s','S',2)"
   ]
  },
  {
   "cell_type": "code",
   "execution_count": 10,
   "id": "0b5c5688",
   "metadata": {},
   "outputs": [
    {
     "data": {
      "text/plain": [
       "'ClaSS'"
      ]
     },
     "execution_count": 10,
     "metadata": {},
     "output_type": "execute_result"
    }
   ],
   "source": [
    "str1='python\\'s Class'\n",
    "str1[-5:].replace('s',\"S\")"
   ]
  },
  {
   "cell_type": "code",
   "execution_count": 11,
   "id": "e594ddde",
   "metadata": {},
   "outputs": [
    {
     "data": {
      "text/plain": [
       "'m@ch!n# l#@rn!ng !s th# study of comput#r @lgor!thms'"
      ]
     },
     "execution_count": 11,
     "metadata": {},
     "output_type": "execute_result"
    }
   ],
   "source": [
    "machine_learning= 'machine learning is the study of computer algorithms'\n",
    "machine_learning.replace('a','@').replace('e','#').replace('i','!')"
   ]
  },
  {
   "cell_type": "code",
   "execution_count": 12,
   "id": "713e6ff2",
   "metadata": {},
   "outputs": [
    {
     "data": {
      "text/plain": [
       "' JAVA and Data Science class, Pune. Python is used for Machine Learning'"
      ]
     },
     "execution_count": 12,
     "metadata": {},
     "output_type": "execute_result"
    }
   ],
   "source": [
    "string=' Python and Data Science class, Pune. Python is used for Machine Learning'\n",
    "string.replace('Python','JAVA',1)"
   ]
  },
  {
   "cell_type": "code",
   "execution_count": 13,
   "id": "faaa9504",
   "metadata": {},
   "outputs": [
    {
     "data": {
      "text/plain": [
       "' python and Data Science class, Pune. JAVA is used for Machine Learning'"
      ]
     },
     "execution_count": 13,
     "metadata": {},
     "output_type": "execute_result"
    }
   ],
   "source": [
    "string =' python and Data Science class, Pune. Python is used for Machine Learning'\n",
    "string.replace('Python', 'JAVA',2)"
   ]
  },
  {
   "cell_type": "code",
   "execution_count": 15,
   "id": "c0664748",
   "metadata": {},
   "outputs": [
    {
     "data": {
      "text/plain": [
       "' python and Data Science class, Pune. JAVA is used for Machine Learning'"
      ]
     },
     "execution_count": 15,
     "metadata": {},
     "output_type": "execute_result"
    }
   ],
   "source": [
    "string =' python and Data Science class, Pune. Python is used for Machine Learning'\n",
    "string.replace('Python', 'JAVA',-1)"
   ]
  },
  {
   "cell_type": "markdown",
   "id": "9dea1384",
   "metadata": {},
   "source": [
    "ctl + z >> undo\n",
    "ctrl + y >> redo\n",
    "ctrl + tab >> change tab in chrome\n",
    "alt + tab >> chnge software/app which was used latest\n",
    "ctrl + backspace >> remove whole word"
   ]
  },
  {
   "cell_type": "markdown",
   "id": "a50eb3f9",
   "metadata": {},
   "source": [
    "# 10. count()"
   ]
  },
  {
   "cell_type": "markdown",
   "id": "4cdea198",
   "metadata": {},
   "source": [
    "string.count(sub_string,start_index,end_index)"
   ]
  },
  {
   "cell_type": "code",
   "execution_count": 16,
   "id": "216ff1e1",
   "metadata": {},
   "outputs": [
    {
     "data": {
      "text/plain": [
       "2"
      ]
     },
     "execution_count": 16,
     "metadata": {},
     "output_type": "execute_result"
    }
   ],
   "source": [
    "string = 'Hello Python '\n",
    "string.count('l')"
   ]
  },
  {
   "cell_type": "code",
   "execution_count": 18,
   "id": "84ae7651",
   "metadata": {},
   "outputs": [
    {
     "data": {
      "text/plain": [
       "2"
      ]
     },
     "execution_count": 18,
     "metadata": {},
     "output_type": "execute_result"
    }
   ],
   "source": [
    "string='Rohit Ahirrao'\n",
    "string.count('hi')"
   ]
  },
  {
   "cell_type": "code",
   "execution_count": 19,
   "id": "8b2e1c13",
   "metadata": {},
   "outputs": [
    {
     "data": {
      "text/plain": [
       "0"
      ]
     },
     "execution_count": 19,
     "metadata": {},
     "output_type": "execute_result"
    }
   ],
   "source": [
    "string = 'Hello Python '\n",
    "string.count('python')"
   ]
  },
  {
   "cell_type": "code",
   "execution_count": 20,
   "id": "295f25e5",
   "metadata": {},
   "outputs": [
    {
     "data": {
      "text/plain": [
       "1"
      ]
     },
     "execution_count": 20,
     "metadata": {},
     "output_type": "execute_result"
    }
   ],
   "source": [
    "string = 'Hello Python '\n",
    "string.count('ython')"
   ]
  },
  {
   "cell_type": "code",
   "execution_count": 23,
   "id": "2f08c95c",
   "metadata": {},
   "outputs": [
    {
     "data": {
      "text/plain": [
       "13"
      ]
     },
     "execution_count": 23,
     "metadata": {},
     "output_type": "execute_result"
    }
   ],
   "source": [
    "string= '''Machine learning is the study of computer algorithms that can improve automatically\n",
    "through experience and by the use of data. It is seen as a part of artificial intelligence'''\n",
    "string.count('i')"
   ]
  },
  {
   "cell_type": "code",
   "execution_count": 26,
   "id": "a9c52452",
   "metadata": {},
   "outputs": [
    {
     "data": {
      "text/plain": [
       "3"
      ]
     },
     "execution_count": 26,
     "metadata": {},
     "output_type": "execute_result"
    }
   ],
   "source": [
    "string= '''Machine learning is the study of computer algorithms that can improve automatically\n",
    "through experience and by the use of data. It is seen as a part of artificial intelligence'''\n",
    "string.count('of')"
   ]
  },
  {
   "cell_type": "code",
   "execution_count": 27,
   "id": "c2ba80b1",
   "metadata": {},
   "outputs": [
    {
     "data": {
      "text/plain": [
       "16"
      ]
     },
     "execution_count": 27,
     "metadata": {},
     "output_type": "execute_result"
    }
   ],
   "source": [
    "string.count('a',1)"
   ]
  },
  {
   "cell_type": "code",
   "execution_count": 28,
   "id": "0ebc8101",
   "metadata": {},
   "outputs": [
    {
     "data": {
      "text/plain": [
       "2"
      ]
     },
     "execution_count": 28,
     "metadata": {},
     "output_type": "execute_result"
    }
   ],
   "source": [
    "string.count('a',1,11)"
   ]
  },
  {
   "cell_type": "code",
   "execution_count": null,
   "id": "e48c396e",
   "metadata": {},
   "outputs": [],
   "source": []
  },
  {
   "cell_type": "code",
   "execution_count": null,
   "id": "e46699b2",
   "metadata": {},
   "outputs": [],
   "source": []
  },
  {
   "cell_type": "code",
   "execution_count": null,
   "id": "cb04494f",
   "metadata": {},
   "outputs": [],
   "source": []
  }
 ],
 "metadata": {
  "kernelspec": {
   "display_name": "Python 3 (ipykernel)",
   "language": "python",
   "name": "python3"
  },
  "language_info": {
   "codemirror_mode": {
    "name": "ipython",
    "version": 3
   },
   "file_extension": ".py",
   "mimetype": "text/x-python",
   "name": "python",
   "nbconvert_exporter": "python",
   "pygments_lexer": "ipython3",
   "version": "3.9.12"
  },
  "toc": {
   "base_numbering": 1,
   "nav_menu": {},
   "number_sections": true,
   "sideBar": true,
   "skip_h1_title": false,
   "title_cell": "Table of Contents",
   "title_sidebar": "Contents",
   "toc_cell": false,
   "toc_position": {},
   "toc_section_display": true,
   "toc_window_display": false
  }
 },
 "nbformat": 4,
 "nbformat_minor": 5
}
