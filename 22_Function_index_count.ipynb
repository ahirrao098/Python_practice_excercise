{
 "cells": [
  {
   "cell_type": "markdown",
   "id": "e6210124",
   "metadata": {},
   "source": [
    "## Functions"
   ]
  },
  {
   "cell_type": "code",
   "execution_count": null,
   "id": "2eca0ce5",
   "metadata": {},
   "outputs": [],
   "source": [
    "1. Built in function\n",
    "2. User defined function"
   ]
  },
  {
   "cell_type": "code",
   "execution_count": null,
   "id": "bdad6d18",
   "metadata": {},
   "outputs": [],
   "source": [
    "print()\n",
    "reversed()\n",
    "sorted()\n",
    "len()\n",
    "max()\n",
    "int()\n",
    "range()\n",
    "list()\n",
    "set()\n",
    "dict()\n",
    "tuple()"
   ]
  },
  {
   "cell_type": "code",
   "execution_count": 1,
   "id": "a6237b55",
   "metadata": {},
   "outputs": [
    {
     "name": "stdout",
     "output_type": "stream",
     "text": [
      "Hello World\n"
     ]
    }
   ],
   "source": [
    "def my_function():# defining a function\n",
    "    print(\"Hello World\")\n",
    "    \n",
    "my_function() # call function"
   ]
  },
  {
   "cell_type": "code",
   "execution_count": 2,
   "id": "84e5e13d",
   "metadata": {},
   "outputs": [
    {
     "name": "stdout",
     "output_type": "stream",
     "text": [
      "26\n"
     ]
    }
   ],
   "source": [
    "def sum_number(l1):\n",
    "    sum1=0\n",
    "    for i in l1:\n",
    "        sum1+=i\n",
    "    return sum1\n",
    "\n",
    "l1=[3,4,5,6,8]\n",
    "\n",
    "s1=sum_number(l1)\n",
    "print(s1)"
   ]
  },
  {
   "cell_type": "code",
   "execution_count": 16,
   "id": "4f2f798a",
   "metadata": {},
   "outputs": [
    {
     "name": "stdout",
     "output_type": "stream",
     "text": [
      "21\n"
     ]
    }
   ],
   "source": [
    "def sum_number(l1):   # User Defined function\n",
    "    sum1=0\n",
    "    for i in l1:\n",
    "        sum1+=i\n",
    "    return sum1\n",
    "l1=[1,2,3,4,5,6]\n",
    "s1=sum_number(l1)     # calling function and storing in a varibale\n",
    "print(s1)\n"
   ]
  },
  {
   "cell_type": "code",
   "execution_count": null,
   "id": "b3967a97",
   "metadata": {},
   "outputs": [],
   "source": [
    "method=function"
   ]
  },
  {
   "cell_type": "code",
   "execution_count": 17,
   "id": "5dc99eaf",
   "metadata": {},
   "outputs": [
    {
     "name": "stdout",
     "output_type": "stream",
     "text": [
      "Hello World\n"
     ]
    }
   ],
   "source": [
    "my_function()"
   ]
  },
  {
   "cell_type": "markdown",
   "id": "4875f9fb",
   "metadata": {},
   "source": [
    "### index()"
   ]
  },
  {
   "cell_type": "code",
   "execution_count": 18,
   "id": "d396daf2",
   "metadata": {},
   "outputs": [
    {
     "data": {
      "text/plain": [
       "1"
      ]
     },
     "execution_count": 18,
     "metadata": {},
     "output_type": "execute_result"
    }
   ],
   "source": [
    "name=[\"Sagar\",\"Rahul\",\"Dadu\",\"Mayur\"]\n",
    "name.index(\"Rahul\")"
   ]
  },
  {
   "cell_type": "code",
   "execution_count": 19,
   "id": "9ce8b67b",
   "metadata": {},
   "outputs": [
    {
     "data": {
      "text/plain": [
       "3"
      ]
     },
     "execution_count": 19,
     "metadata": {},
     "output_type": "execute_result"
    }
   ],
   "source": [
    "name=[\"Sagar\",\"Rahul\",\"Dadu\",\"Mayur\"]\n",
    "name.index(\"Mayur\")"
   ]
  },
  {
   "cell_type": "code",
   "execution_count": 20,
   "id": "b895a9fa",
   "metadata": {},
   "outputs": [
    {
     "name": "stdout",
     "output_type": "stream",
     "text": [
      "2\n"
     ]
    }
   ],
   "source": [
    "name=[\"Sagar\",\"Rahul\",\"Dadu\",\"Mayur\"]\n",
    "if\"Dadu\" in name:\n",
    "    i=name.index(\"Dadu\")\n",
    "print(i)"
   ]
  },
  {
   "cell_type": "markdown",
   "id": "e5f8928f",
   "metadata": {},
   "source": [
    "### count()"
   ]
  },
  {
   "cell_type": "code",
   "execution_count": 21,
   "id": "494ccb18",
   "metadata": {},
   "outputs": [
    {
     "data": {
      "text/plain": [
       "2"
      ]
     },
     "execution_count": 21,
     "metadata": {},
     "output_type": "execute_result"
    }
   ],
   "source": [
    "subjects= ['Phy', 'Chem','Maths', 'Bio','Phy', 'Eng']\n",
    "subjects.count(\"Phy\")"
   ]
  },
  {
   "cell_type": "code",
   "execution_count": 22,
   "id": "fc786baa",
   "metadata": {},
   "outputs": [
    {
     "data": {
      "text/plain": [
       "1"
      ]
     },
     "execution_count": 22,
     "metadata": {},
     "output_type": "execute_result"
    }
   ],
   "source": [
    "subjects.count(\"Maths\")"
   ]
  },
  {
   "cell_type": "code",
   "execution_count": 23,
   "id": "c46ae3db",
   "metadata": {},
   "outputs": [
    {
     "name": "stdout",
     "output_type": "stream",
     "text": [
      "['shubham', 'sagar', 'rahul', 'chetan']\n"
     ]
    }
   ],
   "source": [
    "list2 = ['chetan','rahul','sagar','shubham']\n",
    "list1=[]\n",
    "cnt=len(list2)-1\n",
    "for i in range(len(list2)):\n",
    "    if cnt >= 0:\n",
    "        list1.append(list2[cnt])\n",
    "    cnt=cnt-1\n",
    "print(list1)"
   ]
  },
  {
   "cell_type": "code",
   "execution_count": 24,
   "id": "70c304bd",
   "metadata": {},
   "outputs": [
    {
     "name": "stdout",
     "output_type": "stream",
     "text": [
      "['abhijeet', 'naren', 'shweta', 'arti', 'umesh']\n"
     ]
    }
   ],
   "source": [
    "list1=[\"umesh\",\"arti\",\"shweta\",\"naren\",\"abhijeet\"]\n",
    "list2=[]\n",
    "a=-1\n",
    "for i in range(len(list1)):\n",
    "    list2.append(list1[a])\n",
    "    a-=1\n",
    "print(list2)"
   ]
  },
  {
   "cell_type": "code",
   "execution_count": null,
   "id": "603ab648",
   "metadata": {},
   "outputs": [],
   "source": []
  },
  {
   "cell_type": "code",
   "execution_count": null,
   "id": "39155fba",
   "metadata": {},
   "outputs": [],
   "source": []
  }
 ],
 "metadata": {
  "kernelspec": {
   "display_name": "Python 3 (ipykernel)",
   "language": "python",
   "name": "python3"
  },
  "language_info": {
   "codemirror_mode": {
    "name": "ipython",
    "version": 3
   },
   "file_extension": ".py",
   "mimetype": "text/x-python",
   "name": "python",
   "nbconvert_exporter": "python",
   "pygments_lexer": "ipython3",
   "version": "3.9.12"
  }
 },
 "nbformat": 4,
 "nbformat_minor": 5
}
