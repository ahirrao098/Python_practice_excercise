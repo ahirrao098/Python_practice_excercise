{
 "cells": [
  {
   "cell_type": "markdown",
   "id": "84c11a30",
   "metadata": {},
   "source": [
    "String is immutable data type immutable = we cannot perform any changes Once string is created we can not change it"
   ]
  },
  {
   "cell_type": "markdown",
   "id": "5b6c11b0",
   "metadata": {},
   "source": [
    "##### 1. Positive Indexing  \n",
    "Indexing will start from 0 index"
   ]
  },
  {
   "cell_type": "code",
   "execution_count": 1,
   "id": "1834a514",
   "metadata": {},
   "outputs": [
    {
     "name": "stdout",
     "output_type": "stream",
     "text": [
      "Length of string is : 6\n"
     ]
    }
   ],
   "source": [
    "str1='python'\n",
    "length=len(str1)#lenght measuring start from 1 ,not from 0\n",
    "print('Length of string is :',length)"
   ]
  },
  {
   "cell_type": "code",
   "execution_count": null,
   "id": "3ed52057",
   "metadata": {},
   "outputs": [],
   "source": [
    "str1 = 'Python'\n",
    "P  y  t  h  o  n\n",
    "0  1  2  3  4  5"
   ]
  },
  {
   "cell_type": "code",
   "execution_count": 2,
   "id": "d90e953d",
   "metadata": {},
   "outputs": [
    {
     "data": {
      "text/plain": [
       "'h'"
      ]
     },
     "execution_count": 2,
     "metadata": {},
     "output_type": "execute_result"
    }
   ],
   "source": [
    "str1[3]"
   ]
  },
  {
   "cell_type": "code",
   "execution_count": 3,
   "id": "bb02cd14",
   "metadata": {},
   "outputs": [
    {
     "data": {
      "text/plain": [
       "'n'"
      ]
     },
     "execution_count": 3,
     "metadata": {},
     "output_type": "execute_result"
    }
   ],
   "source": [
    "str1[5]"
   ]
  },
  {
   "cell_type": "code",
   "execution_count": 4,
   "id": "8fcd55ed",
   "metadata": {},
   "outputs": [
    {
     "data": {
      "text/plain": [
       "12"
      ]
     },
     "execution_count": 4,
     "metadata": {},
     "output_type": "execute_result"
    }
   ],
   "source": [
    "str2='python class'\n",
    "len(str2)"
   ]
  },
  {
   "cell_type": "code",
   "execution_count": 5,
   "id": "6ac95387",
   "metadata": {},
   "outputs": [
    {
     "data": {
      "text/plain": [
       "13"
      ]
     },
     "execution_count": 5,
     "metadata": {},
     "output_type": "execute_result"
    }
   ],
   "source": [
    "str2='python  class'#space is considering during measure\n",
    "len(str2)"
   ]
  },
  {
   "cell_type": "code",
   "execution_count": null,
   "id": "c8c36223",
   "metadata": {},
   "outputs": [],
   "source": [
    "'python  class'\n",
    "'0123456789'"
   ]
  },
  {
   "cell_type": "code",
   "execution_count": 6,
   "id": "2e17ec64",
   "metadata": {},
   "outputs": [
    {
     "data": {
      "text/plain": [
       "' '"
      ]
     },
     "execution_count": 6,
     "metadata": {},
     "output_type": "execute_result"
    }
   ],
   "source": [
    "str2[6]"
   ]
  },
  {
   "cell_type": "code",
   "execution_count": 7,
   "id": "7978ace6",
   "metadata": {},
   "outputs": [
    {
     "data": {
      "text/plain": [
       "' '"
      ]
     },
     "execution_count": 7,
     "metadata": {},
     "output_type": "execute_result"
    }
   ],
   "source": [
    "str2[7]"
   ]
  },
  {
   "cell_type": "code",
   "execution_count": 8,
   "id": "30adf9c8",
   "metadata": {},
   "outputs": [
    {
     "data": {
      "text/plain": [
       "'c'"
      ]
     },
     "execution_count": 8,
     "metadata": {},
     "output_type": "execute_result"
    }
   ],
   "source": [
    "str2[8]"
   ]
  },
  {
   "cell_type": "code",
   "execution_count": 9,
   "id": "d3dc2af1",
   "metadata": {},
   "outputs": [
    {
     "data": {
      "text/plain": [
       "'o'"
      ]
     },
     "execution_count": 9,
     "metadata": {},
     "output_type": "execute_result"
    }
   ],
   "source": [
    "str2[7-3]"
   ]
  },
  {
   "cell_type": "markdown",
   "id": "25c650c2",
   "metadata": {},
   "source": [
    "2. Negative Indexing"
   ]
  },
  {
   "cell_type": "code",
   "execution_count": 10,
   "id": "fe96c7b0",
   "metadata": {},
   "outputs": [
    {
     "data": {
      "text/plain": [
       "8"
      ]
     },
     "execution_count": 10,
     "metadata": {},
     "output_type": "execute_result"
    }
   ],
   "source": [
    "str1='Velocity'\n",
    "len(str1)"
   ]
  },
  {
   "cell_type": "code",
   "execution_count": null,
   "id": "2a477860",
   "metadata": {},
   "outputs": [],
   "source": [
    " V  e  l  o  c  i  t   y\n",
    "-8 -7 -6 -5 -4 -3 -2  -1\n",
    " 0  1  2  3  4  5  6   7   "
   ]
  },
  {
   "cell_type": "code",
   "execution_count": 11,
   "id": "0e1da186",
   "metadata": {
    "run_control": {
     "marked": false
    }
   },
   "outputs": [
    {
     "data": {
      "text/plain": [
       "'i'"
      ]
     },
     "execution_count": 11,
     "metadata": {},
     "output_type": "execute_result"
    }
   ],
   "source": [
    "str1[-3]"
   ]
  },
  {
   "cell_type": "code",
   "execution_count": 12,
   "id": "84916848",
   "metadata": {},
   "outputs": [
    {
     "data": {
      "text/plain": [
       "'i'"
      ]
     },
     "execution_count": 12,
     "metadata": {},
     "output_type": "execute_result"
    }
   ],
   "source": [
    "str1[5]"
   ]
  },
  {
   "cell_type": "code",
   "execution_count": 13,
   "id": "adf85812",
   "metadata": {},
   "outputs": [
    {
     "data": {
      "text/plain": [
       "'y'"
      ]
     },
     "execution_count": 13,
     "metadata": {},
     "output_type": "execute_result"
    }
   ],
   "source": [
    "str1[len(str1)-1]"
   ]
  },
  {
   "cell_type": "code",
   "execution_count": 14,
   "id": "0d9a2760",
   "metadata": {},
   "outputs": [
    {
     "data": {
      "text/plain": [
       "'t'"
      ]
     },
     "execution_count": 14,
     "metadata": {},
     "output_type": "execute_result"
    }
   ],
   "source": [
    "str1[len(str1)-2]"
   ]
  },
  {
   "cell_type": "code",
   "execution_count": 15,
   "id": "50508418",
   "metadata": {},
   "outputs": [
    {
     "data": {
      "text/plain": [
       "8"
      ]
     },
     "execution_count": 15,
     "metadata": {},
     "output_type": "execute_result"
    }
   ],
   "source": [
    "len(str1)"
   ]
  },
  {
   "cell_type": "code",
   "execution_count": 16,
   "id": "bd4a1794",
   "metadata": {},
   "outputs": [
    {
     "data": {
      "text/plain": [
       "'o'"
      ]
     },
     "execution_count": 16,
     "metadata": {},
     "output_type": "execute_result"
    }
   ],
   "source": [
    "str1[8-5]"
   ]
  },
  {
   "cell_type": "code",
   "execution_count": 17,
   "id": "67800a2e",
   "metadata": {},
   "outputs": [
    {
     "data": {
      "text/plain": [
       "'c'"
      ]
     },
     "execution_count": 17,
     "metadata": {},
     "output_type": "execute_result"
    }
   ],
   "source": [
    "str1[4]"
   ]
  },
  {
   "cell_type": "code",
   "execution_count": null,
   "id": "98037ab1",
   "metadata": {},
   "outputs": [],
   "source": []
  },
  {
   "cell_type": "code",
   "execution_count": null,
   "id": "40cc8008",
   "metadata": {},
   "outputs": [],
   "source": []
  },
  {
   "cell_type": "code",
   "execution_count": null,
   "id": "1971626d",
   "metadata": {},
   "outputs": [],
   "source": []
  },
  {
   "cell_type": "code",
   "execution_count": null,
   "id": "26beab52",
   "metadata": {},
   "outputs": [],
   "source": []
  },
  {
   "cell_type": "code",
   "execution_count": null,
   "id": "5fa6ba05",
   "metadata": {},
   "outputs": [],
   "source": []
  }
 ],
 "metadata": {
  "kernelspec": {
   "display_name": "Python 3 (ipykernel)",
   "language": "python",
   "name": "python3"
  },
  "language_info": {
   "codemirror_mode": {
    "name": "ipython",
    "version": 3
   },
   "file_extension": ".py",
   "mimetype": "text/x-python",
   "name": "python",
   "nbconvert_exporter": "python",
   "pygments_lexer": "ipython3",
   "version": "3.9.12"
  }
 },
 "nbformat": 4,
 "nbformat_minor": 5
}
