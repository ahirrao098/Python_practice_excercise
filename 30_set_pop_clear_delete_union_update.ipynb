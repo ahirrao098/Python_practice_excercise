{
 "cells": [
  {
   "cell_type": "markdown",
   "id": "68c562b8",
   "metadata": {},
   "source": [
    "### 3. pop()\n",
    "It will delete random item from set"
   ]
  },
  {
   "cell_type": "code",
   "execution_count": 2,
   "id": "8e9c7df6",
   "metadata": {},
   "outputs": [
    {
     "name": "stdout",
     "output_type": "stream",
     "text": [
      "{3, 4, 6, 7, 'python', 'data', 600, 'science'}\n"
     ]
    }
   ],
   "source": [
    "set1 ={2,3,'python', 'data', 'science', 4,600,6,7} # len=9\n",
    "set1.pop()\n",
    "print(set1)"
   ]
  },
  {
   "cell_type": "code",
   "execution_count": 3,
   "id": "fd708dbe",
   "metadata": {},
   "outputs": [
    {
     "name": "stdout",
     "output_type": "stream",
     "text": [
      "{4, 6, 7, 'python', 'data', 600, 'science'}\n"
     ]
    }
   ],
   "source": [
    "set1.pop()\n",
    "print(set1)"
   ]
  },
  {
   "cell_type": "code",
   "execution_count": 4,
   "id": "3186cf52",
   "metadata": {},
   "outputs": [
    {
     "name": "stdout",
     "output_type": "stream",
     "text": [
      "{6, 7, 'python', 'data', 600, 'science'}\n"
     ]
    }
   ],
   "source": [
    "set1.pop()\n",
    "print(set1)"
   ]
  },
  {
   "cell_type": "markdown",
   "id": "8c62e2a5",
   "metadata": {},
   "source": [
    "### 4. clear()"
   ]
  },
  {
   "cell_type": "code",
   "execution_count": 5,
   "id": "be031778",
   "metadata": {},
   "outputs": [
    {
     "name": "stdout",
     "output_type": "stream",
     "text": [
      "set()\n"
     ]
    }
   ],
   "source": [
    "set1 ={2,3,'python', 'data', 'science', 4,600,6,7} # len=9\n",
    "set1.clear()\n",
    "print(set1)"
   ]
  },
  {
   "cell_type": "markdown",
   "id": "7fb854d8",
   "metadata": {},
   "source": [
    "### 5. del"
   ]
  },
  {
   "cell_type": "code",
   "execution_count": 6,
   "id": "7cd6aea7",
   "metadata": {},
   "outputs": [],
   "source": [
    "set1 ={2,3,'python', 'data', 'science', 4,600,6,7} # len=9\n",
    "del set1"
   ]
  },
  {
   "cell_type": "code",
   "execution_count": 7,
   "id": "a7baa94c",
   "metadata": {},
   "outputs": [
    {
     "ename": "NameError",
     "evalue": "name 'set1' is not defined",
     "output_type": "error",
     "traceback": [
      "\u001b[1;31m---------------------------------------------------------------------------\u001b[0m",
      "\u001b[1;31mNameError\u001b[0m                                 Traceback (most recent call last)",
      "Input \u001b[1;32mIn [7]\u001b[0m, in \u001b[0;36m<cell line: 1>\u001b[1;34m()\u001b[0m\n\u001b[1;32m----> 1\u001b[0m \u001b[43mset1\u001b[49m\n",
      "\u001b[1;31mNameError\u001b[0m: name 'set1' is not defined"
     ]
    }
   ],
   "source": [
    "set1"
   ]
  },
  {
   "cell_type": "markdown",
   "id": "9f29c166",
   "metadata": {},
   "source": [
    "### Add items"
   ]
  },
  {
   "cell_type": "markdown",
   "id": "e15a9315",
   "metadata": {},
   "source": [
    "#### 6. add()"
   ]
  },
  {
   "cell_type": "code",
   "execution_count": 9,
   "id": "37ac0330",
   "metadata": {},
   "outputs": [
    {
     "data": {
      "text/plain": [
       "{100, 2, 3, 4, 6, 600, 7, 'data', 'python', 'science'}"
      ]
     },
     "execution_count": 9,
     "metadata": {},
     "output_type": "execute_result"
    }
   ],
   "source": [
    "set1 ={2,3,'python', 'data', 'science', 4,600,6,7} # len=9\n",
    "set1.add(100)\n",
    "set1"
   ]
  },
  {
   "cell_type": "code",
   "execution_count": 10,
   "id": "a2e636b2",
   "metadata": {},
   "outputs": [
    {
     "name": "stdout",
     "output_type": "stream",
     "text": [
      "{2, 3, 4, 6, 7, (10, 30), 'python', 'data', 600, 'science'}\n"
     ]
    }
   ],
   "source": [
    "set1 ={2,3,'python', 'data', 'science', 4,600,6,7} # len=9\n",
    "set1.add((10,30))\n",
    "print(set1)"
   ]
  },
  {
   "cell_type": "markdown",
   "id": "08318e03",
   "metadata": {},
   "source": [
    "#### 7. update()"
   ]
  },
  {
   "cell_type": "code",
   "execution_count": 11,
   "id": "6db36f15",
   "metadata": {},
   "outputs": [
    {
     "name": "stdout",
     "output_type": "stream",
     "text": [
      "{1, 2, 3, 4, 5, 6, 7, 10, 'python', 'data', 'a', 600, 'science', 30} 14\n"
     ]
    }
   ],
   "source": [
    "s1 = {2,3,'python', 'data', 'science', 4,600,6,7} # len=9\n",
    "s2={1,2,30,10,4,5,\"a\"}\n",
    "s1.update(s2)\n",
    "print(s1,len(s1))"
   ]
  },
  {
   "cell_type": "code",
   "execution_count": 13,
   "id": "f5d89d39",
   "metadata": {},
   "outputs": [
    {
     "name": "stdout",
     "output_type": "stream",
     "text": [
      "{2, 3, 4, 5, 6, 7, 8, 10, 'python', 12, 'data', 'a', 600, 'science'} 14\n"
     ]
    }
   ],
   "source": [
    "s1 = {2,3,'python', 'data', 'science', 4,600,6,7} # len=9\n",
    "l1=[12,10,4,5,8,\"a\"]\n",
    "s1.update(l1)\n",
    "print(s1,len(s1))"
   ]
  },
  {
   "cell_type": "code",
   "execution_count": 16,
   "id": "13c0ab2b",
   "metadata": {},
   "outputs": [
    {
     "ename": "AttributeError",
     "evalue": "'list' object has no attribute 'update'",
     "output_type": "error",
     "traceback": [
      "\u001b[1;31m---------------------------------------------------------------------------\u001b[0m",
      "\u001b[1;31mAttributeError\u001b[0m                            Traceback (most recent call last)",
      "Input \u001b[1;32mIn [16]\u001b[0m, in \u001b[0;36m<cell line: 3>\u001b[1;34m()\u001b[0m\n\u001b[0;32m      1\u001b[0m s1 \u001b[38;5;241m=\u001b[39m {\u001b[38;5;241m2\u001b[39m,\u001b[38;5;241m3\u001b[39m,\u001b[38;5;124m'\u001b[39m\u001b[38;5;124mpython\u001b[39m\u001b[38;5;124m'\u001b[39m, \u001b[38;5;124m'\u001b[39m\u001b[38;5;124mdata\u001b[39m\u001b[38;5;124m'\u001b[39m, \u001b[38;5;124m'\u001b[39m\u001b[38;5;124mscience\u001b[39m\u001b[38;5;124m'\u001b[39m, \u001b[38;5;241m4\u001b[39m,\u001b[38;5;241m600\u001b[39m,\u001b[38;5;241m6\u001b[39m,\u001b[38;5;241m7\u001b[39m} \u001b[38;5;66;03m# len=9\u001b[39;00m\n\u001b[0;32m      2\u001b[0m l1\u001b[38;5;241m=\u001b[39m[\u001b[38;5;241m12\u001b[39m,\u001b[38;5;241m10\u001b[39m,\u001b[38;5;241m4\u001b[39m,\u001b[38;5;241m5\u001b[39m,\u001b[38;5;241m8\u001b[39m,\u001b[38;5;124m\"\u001b[39m\u001b[38;5;124ma\u001b[39m\u001b[38;5;124m\"\u001b[39m]\n\u001b[1;32m----> 3\u001b[0m \u001b[43ml1\u001b[49m\u001b[38;5;241;43m.\u001b[39;49m\u001b[43mupdate\u001b[49m(s1)\n\u001b[0;32m      4\u001b[0m \u001b[38;5;28mprint\u001b[39m(s1,\u001b[38;5;28mlen\u001b[39m(s1))\n",
      "\u001b[1;31mAttributeError\u001b[0m: 'list' object has no attribute 'update'"
     ]
    }
   ],
   "source": [
    "s1 = {2,3,'python', 'data', 'science', 4,600,6,7} # len=9\n",
    "l1=[12,10,4,5,8,\"a\"]\n",
    "l1.update(s1)\n",
    "print(s1,len(s1))"
   ]
  },
  {
   "cell_type": "code",
   "execution_count": 18,
   "id": "23300888",
   "metadata": {},
   "outputs": [
    {
     "name": "stdout",
     "output_type": "stream",
     "text": [
      "{1, 2, 3, 4, 33, 6, 7, 10, 'python', 11, 44, 'data', 20, 'a', 22, 600, 'science', 30} 18\n"
     ]
    }
   ],
   "source": [
    "s1 = {2,3,'python', 'data', 'science', 4,600,6,7} # len=9\n",
    "s2 = {1,10,20,30,'a'}\n",
    "s3 = {11,22,33,44}\n",
    "s1.update(s2,s3)\n",
    "print(s1,len(s1))"
   ]
  },
  {
   "cell_type": "markdown",
   "id": "814d007e",
   "metadata": {},
   "source": [
    "### 8. union"
   ]
  },
  {
   "cell_type": "code",
   "execution_count": 19,
   "id": "2745cde6",
   "metadata": {},
   "outputs": [
    {
     "data": {
      "text/plain": [
       "{1, 10, 2, 20, 3, 30, 4, 6, 600, 7, 'a', 'data', 'python', 'science'}"
      ]
     },
     "execution_count": 19,
     "metadata": {},
     "output_type": "execute_result"
    }
   ],
   "source": [
    "s1 = {2,3,'python', 'data', 'science', 4,600,6,7} # len=9\n",
    "s2 = {1,10,20,30,'a'}\n",
    "s1.union(s2)"
   ]
  },
  {
   "cell_type": "code",
   "execution_count": 23,
   "id": "faf85c0c",
   "metadata": {},
   "outputs": [
    {
     "name": "stdout",
     "output_type": "stream",
     "text": [
      "{2, 3, 4, 6, 7, 'python', 'data', 600, 'science'} 9\n",
      "{1, 3, 'a', 56, 9, 10} 6\n",
      "{1, 2, 3, 4, 6, 7, 9, 10, 'python', 'data', 'a', 600, 56, 'science'} 14\n"
     ]
    }
   ],
   "source": [
    "s1 = {2,3,'python', 'data', 'science', 4,600,6,7} # len=9\n",
    "s2={1,10,3,56,\"a\",9}\n",
    "s3=s1.union(s2)\n",
    "print(s1,len(s1))\n",
    "print(s2,len(s2))\n",
    "print(s3,len(s3))"
   ]
  },
  {
   "cell_type": "code",
   "execution_count": 26,
   "id": "57ef5543",
   "metadata": {},
   "outputs": [
    {
     "name": "stdout",
     "output_type": "stream",
     "text": [
      "{1, 2, 3, 40, 10, 20, 'a'}\n",
      "{1, 10, 20, 'a'}\n"
     ]
    }
   ],
   "source": [
    "s1 = {2,3,40,10,20}\n",
    "s2 = {10,20,1,'a'}\n",
    "s1.update(s2)\n",
    "print(s1)\n",
    "print(s2)"
   ]
  },
  {
   "cell_type": "code",
   "execution_count": 32,
   "id": "bbbb652d",
   "metadata": {},
   "outputs": [
    {
     "name": "stdout",
     "output_type": "stream",
     "text": [
      "{2, 3, 20, 40, 10}\n",
      "{1, 2, 3, 40, 10, 20, 'a'}\n"
     ]
    }
   ],
   "source": [
    "s1 = {2,3,40,10,20}\n",
    "s2 = {10,20,1,'a'}\n",
    "s2.update(s1)\n",
    "print(s1)\n",
    "print(s2)"
   ]
  },
  {
   "cell_type": "code",
   "execution_count": 34,
   "id": "9f523d17",
   "metadata": {},
   "outputs": [
    {
     "name": "stdout",
     "output_type": "stream",
     "text": [
      "{2, 3, 20, 40, 10}\n",
      "{1, 2, 20, 'a', 10}\n",
      "{1, 2, 3, 40, 10, 20, 'a'}\n"
     ]
    }
   ],
   "source": [
    "s1 = {2,3,40,10,20}\n",
    "s2 = {10,20,1,2,'a'}\n",
    "s3 = s2.union(s1)\n",
    "print(s1)\n",
    "print(s2)\n",
    "print(s3)"
   ]
  },
  {
   "cell_type": "code",
   "execution_count": 35,
   "id": "18fcadbf",
   "metadata": {},
   "outputs": [
    {
     "data": {
      "text/plain": [
       "{1, 10, 2, 20, 3, 40, 'a'}"
      ]
     },
     "execution_count": 35,
     "metadata": {},
     "output_type": "execute_result"
    }
   ],
   "source": [
    "s1 = {2,3,40,10,20}\n",
    "l2 = [10,20,1,'a']\n",
    "s1.union(l2)"
   ]
  },
  {
   "cell_type": "code",
   "execution_count": 36,
   "id": "eeba852f",
   "metadata": {},
   "outputs": [
    {
     "name": "stdout",
     "output_type": "stream",
     "text": [
      "{1, 2, 3, 20, 'a', 40, 10}\n",
      "[10, 20, 1, 'a']\n"
     ]
    }
   ],
   "source": [
    "s1 = {2,3,40,10,20}\n",
    "l2 = [10,20,1,'a']\n",
    "s1.update(l2)\n",
    "print(s1)\n",
    "print(l2)"
   ]
  },
  {
   "cell_type": "code",
   "execution_count": 37,
   "id": "191e94af",
   "metadata": {},
   "outputs": [
    {
     "name": "stdout",
     "output_type": "stream",
     "text": [
      "{1, 2, 3, 20, 'a', 40, 10}\n",
      "(10, 20, 1, 'a')\n"
     ]
    }
   ],
   "source": [
    "s1 = {2,3,40,10,20}\n",
    "l2 = (10,20,1,'a')\n",
    "s1.update(l2)\n",
    "print(s1)\n",
    "print(l2)"
   ]
  },
  {
   "cell_type": "code",
   "execution_count": null,
   "id": "927f078f",
   "metadata": {},
   "outputs": [],
   "source": []
  },
  {
   "cell_type": "code",
   "execution_count": null,
   "id": "b1254378",
   "metadata": {},
   "outputs": [],
   "source": []
  },
  {
   "cell_type": "code",
   "execution_count": null,
   "id": "db93fa63",
   "metadata": {},
   "outputs": [],
   "source": []
  },
  {
   "cell_type": "code",
   "execution_count": null,
   "id": "4f1a9f11",
   "metadata": {},
   "outputs": [],
   "source": []
  }
 ],
 "metadata": {
  "kernelspec": {
   "display_name": "Python 3 (ipykernel)",
   "language": "python",
   "name": "python3"
  },
  "language_info": {
   "codemirror_mode": {
    "name": "ipython",
    "version": 3
   },
   "file_extension": ".py",
   "mimetype": "text/x-python",
   "name": "python",
   "nbconvert_exporter": "python",
   "pygments_lexer": "ipython3",
   "version": "3.9.12"
  }
 },
 "nbformat": 4,
 "nbformat_minor": 5
}
