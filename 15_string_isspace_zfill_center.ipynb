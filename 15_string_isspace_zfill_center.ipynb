{
 "cells": [
  {
   "cell_type": "markdown",
   "id": "5cab32c7",
   "metadata": {},
   "source": [
    "# 25. isspace()"
   ]
  },
  {
   "cell_type": "markdown",
   "id": "83e7b5ab",
   "metadata": {},
   "source": [
    "True >> if all char in string are space"
   ]
  },
  {
   "cell_type": "code",
   "execution_count": 1,
   "id": "69fabf9e",
   "metadata": {},
   "outputs": [
    {
     "data": {
      "text/plain": [
       "True"
      ]
     },
     "execution_count": 1,
     "metadata": {},
     "output_type": "execute_result"
    }
   ],
   "source": [
    "string=\"     \"\n",
    "string.isspace()"
   ]
  },
  {
   "cell_type": "code",
   "execution_count": 2,
   "id": "9813881d",
   "metadata": {},
   "outputs": [
    {
     "data": {
      "text/plain": [
       "False"
      ]
     },
     "execution_count": 2,
     "metadata": {},
     "output_type": "execute_result"
    }
   ],
   "source": [
    "string=\"    ,    \"\n",
    "string.isspace()"
   ]
  },
  {
   "cell_type": "code",
   "execution_count": 3,
   "id": "84e8b83e",
   "metadata": {},
   "outputs": [
    {
     "data": {
      "text/plain": [
       "False"
      ]
     },
     "execution_count": 3,
     "metadata": {},
     "output_type": "execute_result"
    }
   ],
   "source": [
    "string=\"    1 \"\n",
    "string.isspace()"
   ]
  },
  {
   "cell_type": "code",
   "execution_count": 4,
   "id": "d00332b9",
   "metadata": {},
   "outputs": [
    {
     "data": {
      "text/plain": [
       "False"
      ]
     },
     "execution_count": 4,
     "metadata": {},
     "output_type": "execute_result"
    }
   ],
   "source": [
    "string=\"  python   \"\n",
    "string.isspace()"
   ]
  },
  {
   "cell_type": "code",
   "execution_count": 5,
   "id": "97627f1e",
   "metadata": {},
   "outputs": [
    {
     "name": "stdout",
     "output_type": "stream",
     "text": [
      "Deep learning is part of a broader family of machine learning methods\n",
      "    \n",
      "based on artificial neural networks with representation learning. \n",
      "Learning can be supervised,semi-supervised or unsupervised\n"
     ]
    }
   ],
   "source": [
    "deep_learning ='''Deep learning is part of a broader family of machine learning methods\n",
    "    \n",
    "based on artificial neural networks with representation learning. \n",
    "Learning can be supervised,semi-supervised or unsupervised'''\n",
    "print(deep_learning)"
   ]
  },
  {
   "cell_type": "code",
   "execution_count": 6,
   "id": "8637b031",
   "metadata": {},
   "outputs": [
    {
     "data": {
      "text/plain": [
       "['Deep learning is part of a broader family of machine learning methods',\n",
       " '    ',\n",
       " 'based on artificial neural networks with representation learning. ',\n",
       " 'Learning can be supervised,semi-supervised or unsupervised']"
      ]
     },
     "execution_count": 6,
     "metadata": {},
     "output_type": "execute_result"
    }
   ],
   "source": [
    "list1=deep_learning.split('\\n')\n",
    "list1"
   ]
  },
  {
   "cell_type": "code",
   "execution_count": 7,
   "id": "ee28bd9c",
   "metadata": {},
   "outputs": [
    {
     "name": "stdout",
     "output_type": "stream",
     "text": [
      "Deep learning is part of a broader family of machine learning methods\n",
      "based on artificial neural networks with representation learning. \n",
      "Learning can be supervised,semi-supervised or unsupervised\n"
     ]
    }
   ],
   "source": [
    "list2=[]\n",
    "for line in list1:\n",
    "    #     print('Line Text >>',line)\n",
    "    if line.isspace():\n",
    "        #         print('Blank line found', line)\n",
    "        continue # It will stop current iteration\n",
    "    list2.append(line)\n",
    "\n",
    "deep_learning='\\n'.join(list2)\n",
    "print(deep_learning)\n",
    "        "
   ]
  },
  {
   "cell_type": "markdown",
   "id": "a4fc6357",
   "metadata": {},
   "source": [
    "# 26. zfill()"
   ]
  },
  {
   "cell_type": "code",
   "execution_count": null,
   "id": "4bda99b8",
   "metadata": {},
   "outputs": [],
   "source": [
    "It adds zeros at beginning of string"
   ]
  },
  {
   "cell_type": "code",
   "execution_count": 11,
   "id": "4d99e194",
   "metadata": {},
   "outputs": [
    {
     "data": {
      "text/plain": [
       "'0000001234'"
      ]
     },
     "execution_count": 11,
     "metadata": {},
     "output_type": "execute_result"
    }
   ],
   "source": [
    "str1='1234'# len =4\n",
    "str1.zfill(10)# adds 0's =6"
   ]
  },
  {
   "cell_type": "code",
   "execution_count": 12,
   "id": "59ca4794",
   "metadata": {},
   "outputs": [
    {
     "data": {
      "text/plain": [
       "'0000python'"
      ]
     },
     "execution_count": 12,
     "metadata": {},
     "output_type": "execute_result"
    }
   ],
   "source": [
    "str1='python'\n",
    "str1.zfill(10)"
   ]
  },
  {
   "cell_type": "code",
   "execution_count": 14,
   "id": "ddd387e2",
   "metadata": {},
   "outputs": [
    {
     "data": {
      "text/plain": [
       "'00  python'"
      ]
     },
     "execution_count": 14,
     "metadata": {},
     "output_type": "execute_result"
    }
   ],
   "source": [
    "str1='  python'\n",
    "str1.zfill(10)"
   ]
  },
  {
   "cell_type": "markdown",
   "id": "113501ba",
   "metadata": {},
   "source": [
    "# 27 . center()"
   ]
  },
  {
   "cell_type": "code",
   "execution_count": 15,
   "id": "52bc0e2a",
   "metadata": {},
   "outputs": [
    {
     "data": {
      "text/plain": [
       "'  Python  '"
      ]
     },
     "execution_count": 15,
     "metadata": {},
     "output_type": "execute_result"
    }
   ],
   "source": [
    "str1='Python' # len = 6\n",
    "str1.center(10) # adds spaces equally to both side and get string in center"
   ]
  },
  {
   "cell_type": "code",
   "execution_count": 16,
   "id": "7ecebf79",
   "metadata": {},
   "outputs": [
    {
     "data": {
      "text/plain": [
       "'  pythons  '"
      ]
     },
     "execution_count": 16,
     "metadata": {},
     "output_type": "execute_result"
    }
   ],
   "source": [
    "str1 ='pythons'\n",
    "str1.center(11)"
   ]
  },
  {
   "cell_type": "code",
   "execution_count": 17,
   "id": "25ecb7f9",
   "metadata": {},
   "outputs": [
    {
     "data": {
      "text/plain": [
       "'   python  '"
      ]
     },
     "execution_count": 17,
     "metadata": {},
     "output_type": "execute_result"
    }
   ],
   "source": [
    "str1 ='python' # Even string spaces \n",
    "str1.center(11) # odd range extra 1 space will be added on leading side"
   ]
  },
  {
   "cell_type": "code",
   "execution_count": 18,
   "id": "7ba29061",
   "metadata": {},
   "outputs": [
    {
     "data": {
      "text/plain": [
       "'++python++'"
      ]
     },
     "execution_count": 18,
     "metadata": {},
     "output_type": "execute_result"
    }
   ],
   "source": [
    "string='python'\n",
    "string.center(10,\"+\")"
   ]
  },
  {
   "cell_type": "code",
   "execution_count": 19,
   "id": "23284dc3",
   "metadata": {},
   "outputs": [
    {
     "data": {
      "text/plain": [
       "'  python  '"
      ]
     },
     "execution_count": 19,
     "metadata": {},
     "output_type": "execute_result"
    }
   ],
   "source": [
    "string='python'\n",
    "string.center(10,\" \")"
   ]
  },
  {
   "cell_type": "code",
   "execution_count": null,
   "id": "45e38753",
   "metadata": {},
   "outputs": [],
   "source": []
  },
  {
   "cell_type": "code",
   "execution_count": null,
   "id": "352a4c4b",
   "metadata": {},
   "outputs": [],
   "source": []
  },
  {
   "cell_type": "code",
   "execution_count": null,
   "id": "78fa7a83",
   "metadata": {},
   "outputs": [],
   "source": []
  },
  {
   "cell_type": "code",
   "execution_count": null,
   "id": "5e869c38",
   "metadata": {},
   "outputs": [],
   "source": []
  },
  {
   "cell_type": "code",
   "execution_count": null,
   "id": "b75d25fb",
   "metadata": {},
   "outputs": [],
   "source": []
  },
  {
   "cell_type": "code",
   "execution_count": null,
   "id": "7b54fb96",
   "metadata": {},
   "outputs": [],
   "source": []
  },
  {
   "cell_type": "code",
   "execution_count": null,
   "id": "52931115",
   "metadata": {},
   "outputs": [],
   "source": []
  },
  {
   "cell_type": "code",
   "execution_count": null,
   "id": "88bc7c7e",
   "metadata": {},
   "outputs": [],
   "source": []
  },
  {
   "cell_type": "code",
   "execution_count": null,
   "id": "48e522fc",
   "metadata": {},
   "outputs": [],
   "source": []
  }
 ],
 "metadata": {
  "kernelspec": {
   "display_name": "Python 3 (ipykernel)",
   "language": "python",
   "name": "python3"
  },
  "language_info": {
   "codemirror_mode": {
    "name": "ipython",
    "version": 3
   },
   "file_extension": ".py",
   "mimetype": "text/x-python",
   "name": "python",
   "nbconvert_exporter": "python",
   "pygments_lexer": "ipython3",
   "version": "3.9.12"
  }
 },
 "nbformat": 4,
 "nbformat_minor": 5
}
